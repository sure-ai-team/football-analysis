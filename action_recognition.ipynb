{
 "cells": [
  {
   "cell_type": "code",
   "execution_count": 1,
   "id": "24cbf6b8",
   "metadata": {},
   "outputs": [
    {
     "name": "stdout",
     "output_type": "stream",
     "text": [
      "Tue Apr 22 11:59:22 2025       \n",
      "+-----------------------------------------------------------------------------------------+\n",
      "| NVIDIA-SMI 550.120                Driver Version: 550.120        CUDA Version: 12.4     |\n",
      "|-----------------------------------------+------------------------+----------------------+\n",
      "| GPU  Name                 Persistence-M | Bus-Id          Disp.A | Volatile Uncorr. ECC |\n",
      "| Fan  Temp   Perf          Pwr:Usage/Cap |           Memory-Usage | GPU-Util  Compute M. |\n",
      "|                                         |                        |               MIG M. |\n",
      "|=========================================+========================+======================|\n",
      "|   0  NVIDIA L4                      Off |   00000000:31:00.0 Off |                    0 |\n",
      "| N/A   50C    P0             27W /   72W |    1839MiB /  23034MiB |      0%      Default |\n",
      "|                                         |                        |                  N/A |\n",
      "+-----------------------------------------+------------------------+----------------------+\n",
      "                                                                                         \n",
      "+-----------------------------------------------------------------------------------------+\n",
      "| Processes:                                                                              |\n",
      "|  GPU   GI   CI        PID   Type   Process name                              GPU Memory |\n",
      "|        ID   ID                                                               Usage      |\n",
      "|=========================================================================================|\n",
      "|    0   N/A  N/A      3529      C   ...miniconda3/envs/football/bin/python       1830MiB |\n",
      "+-----------------------------------------------------------------------------------------+\n"
     ]
    }
   ],
   "source": [
    "!nvidia-smi"
   ]
  },
  {
   "cell_type": "code",
   "execution_count": 2,
   "id": "f9f927e3",
   "metadata": {},
   "outputs": [
    {
     "name": "stdout",
     "output_type": "stream",
     "text": [
      "/home/ubuntu/projects/sure-football-analysis\n"
     ]
    }
   ],
   "source": [
    "import os\n",
    "HOME = os.getcwd()\n",
    "print(HOME)"
   ]
  },
  {
   "cell_type": "code",
   "execution_count": 3,
   "id": "1b16fd46",
   "metadata": {},
   "outputs": [],
   "source": [
    "from roboflow import Roboflow\n",
    "# from google.colab import userdata\n",
    "from IPython.display import Image\n",
    "from dotenv import load_dotenv\n",
    "\n",
    "env_path = f\"{HOME}/.env\"\n",
    "load_dotenv(dotenv_path=env_path)\n",
    "ROBOFLOW_API_KEY = os.environ.get(\"ROBOFLOW_API_KEY\")\n",
    "GROQ_API_KEY = os.environ.get(\"GROQ_API_KEY\")\n",
    "\n",
    "# from inference import get_model\n",
    "from ultralytics import YOLO\n",
    "\n",
    "# ROBOFLOW_API_KEY = os.environ.get(\"ROBOFLOW_API_KEY\")\n",
    "# PLAYER_DETECTION_MODEL_ID = \"football-players-detection-3zvbc/12\"\n",
    "# PLAYER_DETECTION_MODEL = get_model(PLAYER_DETECTION_MODEL_ID, api_key=ROBOFLOW_API_KEY)\n",
    "PLAYER_DETECTION_MODEL = YOLO(\"app/models/yolo11_football_v2/weights/best.pt\")\n",
    "import torch\n",
    "from transformers import AutoProcessor, SiglipVisionModel\n",
    "\n",
    "SIGLIP_MODEL_PATH = 'google/siglip-base-patch16-224'\n",
    "\n",
    "DEVICE = 'cuda' if torch.cuda.is_available() else 'cpu'\n",
    "EMBEDDINGS_MODEL = SiglipVisionModel.from_pretrained(SIGLIP_MODEL_PATH).to(DEVICE)\n",
    "EMBEDDINGS_PROCESSOR = AutoProcessor.from_pretrained(SIGLIP_MODEL_PATH)\n",
    "\n"
   ]
  },
  {
   "cell_type": "code",
   "execution_count": 4,
   "id": "74d8b96b",
   "metadata": {},
   "outputs": [
    {
     "name": "stderr",
     "output_type": "stream",
     "text": [
      "collecting crops: 0it [00:00, ?it/s]"
     ]
    },
    {
     "name": "stdout",
     "output_type": "stream",
     "text": [
      "\n",
      "0: 736x1280 1 ball, 2 goalkeepers, 20 players, 2 referees, 53.2ms\n",
      "Speed: 9.3ms preprocess, 53.2ms inference, 116.3ms postprocess per image at shape (1, 3, 736, 1280)\n"
     ]
    },
    {
     "name": "stderr",
     "output_type": "stream",
     "text": [
      "collecting crops: 1it [00:00,  1.05it/s]"
     ]
    },
    {
     "name": "stdout",
     "output_type": "stream",
     "text": [
      "\n",
      "0: 736x1280 1 goalkeeper, 20 players, 2 referees, 33.0ms\n",
      "Speed: 9.8ms preprocess, 33.0ms inference, 1.0ms postprocess per image at shape (1, 3, 736, 1280)\n"
     ]
    },
    {
     "name": "stderr",
     "output_type": "stream",
     "text": [
      "collecting crops: 2it [00:01,  2.12it/s]"
     ]
    },
    {
     "name": "stdout",
     "output_type": "stream",
     "text": [
      "\n",
      "0: 736x1280 1 goalkeeper, 21 players, 2 referees, 33.4ms\n",
      "Speed: 6.9ms preprocess, 33.4ms inference, 1.0ms postprocess per image at shape (1, 3, 736, 1280)\n"
     ]
    },
    {
     "name": "stderr",
     "output_type": "stream",
     "text": [
      "collecting crops: 3it [00:01,  3.15it/s]"
     ]
    },
    {
     "name": "stdout",
     "output_type": "stream",
     "text": [
      "\n",
      "0: 736x1280 20 players, 2 referees, 33.0ms\n",
      "Speed: 11.0ms preprocess, 33.0ms inference, 1.1ms postprocess per image at shape (1, 3, 736, 1280)\n"
     ]
    },
    {
     "name": "stderr",
     "output_type": "stream",
     "text": [
      "collecting crops: 4it [00:01,  4.14it/s]"
     ]
    },
    {
     "name": "stdout",
     "output_type": "stream",
     "text": [
      "\n",
      "0: 736x1280 1 ball, 20 players, 2 referees, 33.3ms\n",
      "Speed: 6.9ms preprocess, 33.3ms inference, 1.0ms postprocess per image at shape (1, 3, 736, 1280)\n"
     ]
    },
    {
     "name": "stderr",
     "output_type": "stream",
     "text": [
      "collecting crops: 5it [00:01,  4.93it/s]"
     ]
    },
    {
     "name": "stdout",
     "output_type": "stream",
     "text": [
      "\n",
      "0: 736x1280 1 ball, 20 players, 2 referees, 33.0ms\n",
      "Speed: 10.2ms preprocess, 33.0ms inference, 1.0ms postprocess per image at shape (1, 3, 736, 1280)\n"
     ]
    },
    {
     "name": "stderr",
     "output_type": "stream",
     "text": [
      "collecting crops: 6it [00:01,  5.65it/s]"
     ]
    },
    {
     "name": "stdout",
     "output_type": "stream",
     "text": [
      "\n",
      "0: 736x1280 20 players, 2 referees, 33.2ms\n",
      "Speed: 7.8ms preprocess, 33.2ms inference, 1.0ms postprocess per image at shape (1, 3, 736, 1280)\n"
     ]
    },
    {
     "name": "stderr",
     "output_type": "stream",
     "text": [
      "collecting crops: 7it [00:01,  6.13it/s]"
     ]
    },
    {
     "name": "stdout",
     "output_type": "stream",
     "text": [
      "\n",
      "0: 736x1280 1 ball, 19 players, 2 referees, 33.0ms\n",
      "Speed: 9.8ms preprocess, 33.0ms inference, 1.0ms postprocess per image at shape (1, 3, 736, 1280)\n"
     ]
    },
    {
     "name": "stderr",
     "output_type": "stream",
     "text": [
      "collecting crops: 8it [00:01,  6.61it/s]"
     ]
    },
    {
     "name": "stdout",
     "output_type": "stream",
     "text": [
      "\n",
      "0: 736x1280 1 ball, 1 goalkeeper, 20 players, 2 referees, 33.1ms\n",
      "Speed: 11.1ms preprocess, 33.1ms inference, 1.0ms postprocess per image at shape (1, 3, 736, 1280)\n"
     ]
    },
    {
     "name": "stderr",
     "output_type": "stream",
     "text": [
      "collecting crops: 9it [00:02,  6.83it/s]"
     ]
    },
    {
     "name": "stdout",
     "output_type": "stream",
     "text": [
      "\n",
      "0: 736x1280 1 ball, 21 players, 2 referees, 33.3ms\n",
      "Speed: 10.9ms preprocess, 33.3ms inference, 1.0ms postprocess per image at shape (1, 3, 736, 1280)\n"
     ]
    },
    {
     "name": "stderr",
     "output_type": "stream",
     "text": [
      "collecting crops: 10it [00:02,  6.79it/s]"
     ]
    },
    {
     "name": "stdout",
     "output_type": "stream",
     "text": [
      "\n",
      "0: 736x1280 1 ball, 22 players, 2 referees, 33.0ms\n",
      "Speed: 9.7ms preprocess, 33.0ms inference, 1.0ms postprocess per image at shape (1, 3, 736, 1280)\n"
     ]
    },
    {
     "name": "stderr",
     "output_type": "stream",
     "text": [
      "collecting crops: 11it [00:02,  6.98it/s]"
     ]
    },
    {
     "name": "stdout",
     "output_type": "stream",
     "text": [
      "\n",
      "0: 736x1280 1 ball, 1 goalkeeper, 20 players, 2 referees, 33.1ms\n",
      "Speed: 7.0ms preprocess, 33.1ms inference, 1.0ms postprocess per image at shape (1, 3, 736, 1280)\n"
     ]
    },
    {
     "name": "stderr",
     "output_type": "stream",
     "text": [
      "collecting crops: 12it [00:02,  7.08it/s]"
     ]
    },
    {
     "name": "stdout",
     "output_type": "stream",
     "text": [
      "\n",
      "0: 736x1280 1 goalkeeper, 21 players, 2 referees, 33.2ms\n",
      "Speed: 10.2ms preprocess, 33.2ms inference, 1.0ms postprocess per image at shape (1, 3, 736, 1280)\n"
     ]
    },
    {
     "name": "stderr",
     "output_type": "stream",
     "text": [
      "collecting crops: 13it [00:02,  7.29it/s]"
     ]
    },
    {
     "name": "stdout",
     "output_type": "stream",
     "text": [
      "\n",
      "0: 736x1280 1 ball, 1 goalkeeper, 20 players, 2 referees, 33.0ms\n",
      "Speed: 7.0ms preprocess, 33.0ms inference, 1.0ms postprocess per image at shape (1, 3, 736, 1280)\n"
     ]
    },
    {
     "name": "stderr",
     "output_type": "stream",
     "text": [
      "collecting crops: 14it [00:02,  7.31it/s]"
     ]
    },
    {
     "name": "stdout",
     "output_type": "stream",
     "text": [
      "\n",
      "0: 736x1280 1 goalkeeper, 21 players, 2 referees, 33.6ms\n",
      "Speed: 10.5ms preprocess, 33.6ms inference, 1.0ms postprocess per image at shape (1, 3, 736, 1280)\n"
     ]
    },
    {
     "name": "stderr",
     "output_type": "stream",
     "text": [
      "collecting crops: 15it [00:02,  7.43it/s]"
     ]
    },
    {
     "name": "stdout",
     "output_type": "stream",
     "text": [
      "\n",
      "0: 736x1280 1 goalkeeper, 21 players, 2 referees, 33.3ms\n",
      "Speed: 11.6ms preprocess, 33.3ms inference, 0.9ms postprocess per image at shape (1, 3, 736, 1280)\n"
     ]
    },
    {
     "name": "stderr",
     "output_type": "stream",
     "text": [
      "collecting crops: 16it [00:02,  7.28it/s]"
     ]
    },
    {
     "name": "stdout",
     "output_type": "stream",
     "text": [
      "\n",
      "0: 736x1280 20 players, 3 referees, 33.2ms\n",
      "Speed: 10.1ms preprocess, 33.2ms inference, 1.2ms postprocess per image at shape (1, 3, 736, 1280)\n"
     ]
    },
    {
     "name": "stderr",
     "output_type": "stream",
     "text": [
      "collecting crops: 17it [00:03,  7.38it/s]"
     ]
    },
    {
     "name": "stdout",
     "output_type": "stream",
     "text": [
      "\n",
      "0: 736x1280 22 players, 1 referee, 33.0ms\n",
      "Speed: 10.8ms preprocess, 33.0ms inference, 1.0ms postprocess per image at shape (1, 3, 736, 1280)\n"
     ]
    },
    {
     "name": "stderr",
     "output_type": "stream",
     "text": [
      "collecting crops: 18it [00:03,  7.37it/s]"
     ]
    },
    {
     "name": "stdout",
     "output_type": "stream",
     "text": [
      "\n",
      "0: 736x1280 22 players, 2 referees, 33.0ms\n",
      "Speed: 10.9ms preprocess, 33.0ms inference, 1.0ms postprocess per image at shape (1, 3, 736, 1280)\n"
     ]
    },
    {
     "name": "stderr",
     "output_type": "stream",
     "text": [
      "collecting crops: 19it [00:03,  7.28it/s]"
     ]
    },
    {
     "name": "stdout",
     "output_type": "stream",
     "text": [
      "\n",
      "0: 736x1280 23 players, 2 referees, 33.3ms\n",
      "Speed: 10.1ms preprocess, 33.3ms inference, 1.0ms postprocess per image at shape (1, 3, 736, 1280)\n"
     ]
    },
    {
     "name": "stderr",
     "output_type": "stream",
     "text": [
      "collecting crops: 20it [00:03,  7.38it/s]"
     ]
    },
    {
     "name": "stdout",
     "output_type": "stream",
     "text": [
      "\n",
      "0: 736x1280 1 ball, 1 goalkeeper, 19 players, 2 referees, 33.2ms\n",
      "Speed: 10.9ms preprocess, 33.2ms inference, 1.0ms postprocess per image at shape (1, 3, 736, 1280)\n"
     ]
    },
    {
     "name": "stderr",
     "output_type": "stream",
     "text": [
      "collecting crops: 21it [00:03,  7.28it/s]"
     ]
    },
    {
     "name": "stdout",
     "output_type": "stream",
     "text": [
      "\n",
      "0: 736x1280 1 goalkeeper, 21 players, 2 referees, 33.0ms\n",
      "Speed: 9.3ms preprocess, 33.0ms inference, 1.0ms postprocess per image at shape (1, 3, 736, 1280)\n"
     ]
    },
    {
     "name": "stderr",
     "output_type": "stream",
     "text": [
      "collecting crops: 22it [00:03,  7.49it/s]"
     ]
    },
    {
     "name": "stdout",
     "output_type": "stream",
     "text": [
      "\n",
      "0: 736x1280 1 ball, 1 goalkeeper, 21 players, 2 referees, 33.0ms\n",
      "Speed: 10.4ms preprocess, 33.0ms inference, 1.0ms postprocess per image at shape (1, 3, 736, 1280)\n"
     ]
    },
    {
     "name": "stderr",
     "output_type": "stream",
     "text": [
      "collecting crops: 23it [00:03,  7.34it/s]"
     ]
    },
    {
     "name": "stdout",
     "output_type": "stream",
     "text": [
      "\n",
      "0: 736x1280 1 goalkeeper, 22 players, 1 referee, 33.2ms\n",
      "Speed: 7.5ms preprocess, 33.2ms inference, 1.0ms postprocess per image at shape (1, 3, 736, 1280)\n"
     ]
    },
    {
     "name": "stderr",
     "output_type": "stream",
     "text": [
      "collecting crops: 24it [00:04,  7.54it/s]"
     ]
    },
    {
     "name": "stdout",
     "output_type": "stream",
     "text": [
      "\n",
      "0: 736x1280 1 goalkeeper, 22 players, 2 referees, 33.2ms\n",
      "Speed: 6.9ms preprocess, 33.2ms inference, 1.0ms postprocess per image at shape (1, 3, 736, 1280)\n"
     ]
    },
    {
     "name": "stderr",
     "output_type": "stream",
     "text": [
      "collecting crops: 25it [00:04,  5.90it/s]\n",
      "embedding extraction: 8it [00:03,  2.51it/s]\n"
     ]
    }
   ],
   "source": [
    "import supervision as sv\n",
    "import numpy as np\n",
    "from more_itertools import chunked\n",
    "from tqdm import tqdm\n",
    "import warnings\n",
    "import torch\n",
    "\n",
    "# Suppress FutureWarnings from sklearn\n",
    "warnings.filterwarnings(\"ignore\", category=FutureWarning, module=\"sklearn\")\n",
    "\n",
    "# Configuration\n",
    "SOURCE_VIDEO_PATH = \"app/test_data/raw/121364_0.mp4\"\n",
    "BATCH_SIZE = 64\n",
    "PLAYER_ID = 2\n",
    "STRIDE = 30\n",
    "\n",
    "# Frame generator\n",
    "frame_generator = sv.get_video_frames_generator(\n",
    "    source_path=SOURCE_VIDEO_PATH, stride=STRIDE\n",
    ")\n",
    "\n",
    "# Collect crops\n",
    "crops = []\n",
    "for frame in tqdm(frame_generator, desc=\"collecting crops\"):\n",
    "    result = PLAYER_DETECTION_MODEL.predict(frame, conf=0.3)[0]\n",
    "    detections = sv.Detections.from_ultralytics(result)\n",
    "    detections = detections.with_nms(threshold=0.5, class_agnostic=True)\n",
    "    detections = detections[detections.class_id == PLAYER_ID]\n",
    "    players_crops = [sv.crop_image(frame, xyxy) for xyxy in detections.xyxy]\n",
    "    crops += players_crops\n",
    "\n",
    "# Convert crops to pillow format\n",
    "crops = [sv.cv2_to_pillow(crop) for crop in crops]\n",
    "\n",
    "# Process crops in batches\n",
    "batches = chunked(crops, BATCH_SIZE)\n",
    "data = []\n",
    "with torch.no_grad():\n",
    "    for batch in tqdm(batches, desc=\"embedding extraction\"):\n",
    "        inputs = EMBEDDINGS_PROCESSOR(images=batch, return_tensors=\"pt\").to(DEVICE)\n",
    "        outputs = EMBEDDINGS_MODEL(**inputs)\n",
    "        embeddings = torch.mean(outputs.last_hidden_state, dim=1).cpu().numpy()\n",
    "        data.append(embeddings)\n",
    "\n",
    "# Concatenate all embeddings\n",
    "data = np.concatenate(data)"
   ]
  },
  {
   "cell_type": "code",
   "execution_count": 5,
   "id": "8076c995",
   "metadata": {},
   "outputs": [
    {
     "name": "stderr",
     "output_type": "stream",
     "text": [
      "collecting crops: 0it [00:00, ?it/s]"
     ]
    },
    {
     "name": "stdout",
     "output_type": "stream",
     "text": [
      "\n",
      "0: 736x1280 1 ball, 2 goalkeepers, 20 players, 2 referees, 32.9ms\n",
      "Speed: 12.4ms preprocess, 32.9ms inference, 1.0ms postprocess per image at shape (1, 3, 736, 1280)\n",
      "\n",
      "0: 736x1280 1 goalkeeper, 20 players, 2 referees, 33.1ms\n",
      "Speed: 7.9ms preprocess, 33.1ms inference, 1.0ms postprocess per image at shape (1, 3, 736, 1280)\n"
     ]
    },
    {
     "name": "stderr",
     "output_type": "stream",
     "text": [
      "collecting crops: 2it [00:00,  8.80it/s]"
     ]
    },
    {
     "name": "stdout",
     "output_type": "stream",
     "text": [
      "\n",
      "0: 736x1280 1 goalkeeper, 21 players, 2 referees, 32.9ms\n",
      "Speed: 7.1ms preprocess, 32.9ms inference, 1.1ms postprocess per image at shape (1, 3, 736, 1280)\n"
     ]
    },
    {
     "name": "stderr",
     "output_type": "stream",
     "text": [
      "collecting crops: 3it [00:00,  8.24it/s]"
     ]
    },
    {
     "name": "stdout",
     "output_type": "stream",
     "text": [
      "\n",
      "0: 736x1280 20 players, 2 referees, 32.9ms\n",
      "Speed: 10.2ms preprocess, 32.9ms inference, 1.0ms postprocess per image at shape (1, 3, 736, 1280)\n"
     ]
    },
    {
     "name": "stderr",
     "output_type": "stream",
     "text": [
      "collecting crops: 4it [00:00,  8.13it/s]"
     ]
    },
    {
     "name": "stdout",
     "output_type": "stream",
     "text": [
      "\n",
      "0: 736x1280 1 ball, 20 players, 2 referees, 32.9ms\n",
      "Speed: 6.9ms preprocess, 32.9ms inference, 1.0ms postprocess per image at shape (1, 3, 736, 1280)\n"
     ]
    },
    {
     "name": "stderr",
     "output_type": "stream",
     "text": [
      "collecting crops: 5it [00:00,  7.88it/s]"
     ]
    },
    {
     "name": "stdout",
     "output_type": "stream",
     "text": [
      "\n",
      "0: 736x1280 1 ball, 20 players, 2 referees, 33.1ms\n",
      "Speed: 10.9ms preprocess, 33.1ms inference, 1.1ms postprocess per image at shape (1, 3, 736, 1280)\n"
     ]
    },
    {
     "name": "stderr",
     "output_type": "stream",
     "text": [
      "collecting crops: 6it [00:00,  7.84it/s]"
     ]
    },
    {
     "name": "stdout",
     "output_type": "stream",
     "text": [
      "\n",
      "0: 736x1280 20 players, 2 referees, 33.5ms\n",
      "Speed: 11.4ms preprocess, 33.5ms inference, 1.0ms postprocess per image at shape (1, 3, 736, 1280)\n"
     ]
    },
    {
     "name": "stderr",
     "output_type": "stream",
     "text": [
      "collecting crops: 7it [00:00,  7.19it/s]"
     ]
    },
    {
     "name": "stdout",
     "output_type": "stream",
     "text": [
      "\n",
      "0: 736x1280 1 ball, 19 players, 2 referees, 33.1ms\n",
      "Speed: 10.1ms preprocess, 33.1ms inference, 1.0ms postprocess per image at shape (1, 3, 736, 1280)\n"
     ]
    },
    {
     "name": "stderr",
     "output_type": "stream",
     "text": [
      "collecting crops: 8it [00:01,  7.41it/s]"
     ]
    },
    {
     "name": "stdout",
     "output_type": "stream",
     "text": [
      "\n",
      "0: 736x1280 1 ball, 1 goalkeeper, 20 players, 2 referees, 33.3ms\n",
      "Speed: 6.8ms preprocess, 33.3ms inference, 1.0ms postprocess per image at shape (1, 3, 736, 1280)\n"
     ]
    },
    {
     "name": "stderr",
     "output_type": "stream",
     "text": [
      "collecting crops: 9it [00:01,  7.47it/s]"
     ]
    },
    {
     "name": "stdout",
     "output_type": "stream",
     "text": [
      "\n",
      "0: 736x1280 1 ball, 21 players, 2 referees, 33.5ms\n",
      "Speed: 7.0ms preprocess, 33.5ms inference, 1.0ms postprocess per image at shape (1, 3, 736, 1280)\n"
     ]
    },
    {
     "name": "stderr",
     "output_type": "stream",
     "text": [
      "collecting crops: 10it [00:01,  7.34it/s]"
     ]
    },
    {
     "name": "stdout",
     "output_type": "stream",
     "text": [
      "\n",
      "0: 736x1280 1 ball, 22 players, 2 referees, 33.0ms\n",
      "Speed: 10.2ms preprocess, 33.0ms inference, 1.0ms postprocess per image at shape (1, 3, 736, 1280)\n"
     ]
    },
    {
     "name": "stderr",
     "output_type": "stream",
     "text": [
      "collecting crops: 11it [00:01,  7.35it/s]"
     ]
    },
    {
     "name": "stdout",
     "output_type": "stream",
     "text": [
      "\n",
      "0: 736x1280 1 ball, 1 goalkeeper, 20 players, 2 referees, 33.1ms\n",
      "Speed: 6.9ms preprocess, 33.1ms inference, 1.0ms postprocess per image at shape (1, 3, 736, 1280)\n"
     ]
    },
    {
     "name": "stderr",
     "output_type": "stream",
     "text": [
      "collecting crops: 12it [00:01,  7.27it/s]"
     ]
    },
    {
     "name": "stdout",
     "output_type": "stream",
     "text": [
      "\n",
      "0: 736x1280 1 goalkeeper, 21 players, 2 referees, 33.2ms\n",
      "Speed: 9.8ms preprocess, 33.2ms inference, 1.3ms postprocess per image at shape (1, 3, 736, 1280)\n"
     ]
    },
    {
     "name": "stderr",
     "output_type": "stream",
     "text": [
      "collecting crops: 13it [00:01,  7.41it/s]"
     ]
    },
    {
     "name": "stdout",
     "output_type": "stream",
     "text": [
      "\n",
      "0: 736x1280 1 ball, 1 goalkeeper, 20 players, 2 referees, 33.2ms\n",
      "Speed: 6.8ms preprocess, 33.2ms inference, 1.4ms postprocess per image at shape (1, 3, 736, 1280)\n"
     ]
    },
    {
     "name": "stderr",
     "output_type": "stream",
     "text": [
      "collecting crops: 14it [00:01,  7.31it/s]"
     ]
    },
    {
     "name": "stdout",
     "output_type": "stream",
     "text": [
      "\n",
      "0: 736x1280 1 goalkeeper, 21 players, 2 referees, 33.4ms\n",
      "Speed: 11.0ms preprocess, 33.4ms inference, 1.0ms postprocess per image at shape (1, 3, 736, 1280)\n"
     ]
    },
    {
     "name": "stderr",
     "output_type": "stream",
     "text": [
      "collecting crops: 15it [00:01,  7.35it/s]"
     ]
    },
    {
     "name": "stdout",
     "output_type": "stream",
     "text": [
      "\n",
      "0: 736x1280 1 goalkeeper, 21 players, 2 referees, 33.4ms\n",
      "Speed: 7.7ms preprocess, 33.4ms inference, 1.0ms postprocess per image at shape (1, 3, 736, 1280)\n"
     ]
    },
    {
     "name": "stderr",
     "output_type": "stream",
     "text": [
      "collecting crops: 16it [00:02,  7.27it/s]"
     ]
    },
    {
     "name": "stdout",
     "output_type": "stream",
     "text": [
      "\n",
      "0: 736x1280 20 players, 3 referees, 32.8ms\n",
      "Speed: 8.7ms preprocess, 32.8ms inference, 1.0ms postprocess per image at shape (1, 3, 736, 1280)\n"
     ]
    },
    {
     "name": "stderr",
     "output_type": "stream",
     "text": [
      "collecting crops: 17it [00:02,  7.42it/s]"
     ]
    },
    {
     "name": "stdout",
     "output_type": "stream",
     "text": [
      "\n",
      "0: 736x1280 22 players, 1 referee, 33.1ms\n",
      "Speed: 10.2ms preprocess, 33.1ms inference, 1.0ms postprocess per image at shape (1, 3, 736, 1280)\n"
     ]
    },
    {
     "name": "stderr",
     "output_type": "stream",
     "text": [
      "collecting crops: 18it [00:02,  7.42it/s]"
     ]
    },
    {
     "name": "stdout",
     "output_type": "stream",
     "text": [
      "\n",
      "0: 736x1280 22 players, 2 referees, 33.4ms\n",
      "Speed: 6.8ms preprocess, 33.4ms inference, 1.0ms postprocess per image at shape (1, 3, 736, 1280)\n"
     ]
    },
    {
     "name": "stderr",
     "output_type": "stream",
     "text": [
      "collecting crops: 19it [00:02,  7.37it/s]"
     ]
    },
    {
     "name": "stdout",
     "output_type": "stream",
     "text": [
      "\n",
      "0: 736x1280 23 players, 2 referees, 32.8ms\n",
      "Speed: 9.3ms preprocess, 32.8ms inference, 1.0ms postprocess per image at shape (1, 3, 736, 1280)\n"
     ]
    },
    {
     "name": "stderr",
     "output_type": "stream",
     "text": [
      "collecting crops: 20it [00:02,  7.50it/s]"
     ]
    },
    {
     "name": "stdout",
     "output_type": "stream",
     "text": [
      "\n",
      "0: 736x1280 1 ball, 1 goalkeeper, 19 players, 2 referees, 32.9ms\n",
      "Speed: 10.9ms preprocess, 32.9ms inference, 1.0ms postprocess per image at shape (1, 3, 736, 1280)\n"
     ]
    },
    {
     "name": "stderr",
     "output_type": "stream",
     "text": [
      "collecting crops: 21it [00:02,  7.10it/s]"
     ]
    },
    {
     "name": "stdout",
     "output_type": "stream",
     "text": [
      "\n",
      "0: 736x1280 1 goalkeeper, 21 players, 2 referees, 32.9ms\n",
      "Speed: 12.2ms preprocess, 32.9ms inference, 1.1ms postprocess per image at shape (1, 3, 736, 1280)\n"
     ]
    },
    {
     "name": "stderr",
     "output_type": "stream",
     "text": [
      "collecting crops: 22it [00:02,  7.10it/s]"
     ]
    },
    {
     "name": "stdout",
     "output_type": "stream",
     "text": [
      "\n",
      "0: 736x1280 1 ball, 1 goalkeeper, 21 players, 2 referees, 33.5ms\n",
      "Speed: 11.0ms preprocess, 33.5ms inference, 1.2ms postprocess per image at shape (1, 3, 736, 1280)\n"
     ]
    },
    {
     "name": "stderr",
     "output_type": "stream",
     "text": [
      "collecting crops: 23it [00:03,  6.92it/s]"
     ]
    },
    {
     "name": "stdout",
     "output_type": "stream",
     "text": [
      "\n",
      "0: 736x1280 1 goalkeeper, 22 players, 1 referee, 32.9ms\n",
      "Speed: 12.6ms preprocess, 32.9ms inference, 1.0ms postprocess per image at shape (1, 3, 736, 1280)\n"
     ]
    },
    {
     "name": "stderr",
     "output_type": "stream",
     "text": [
      "collecting crops: 24it [00:03,  6.89it/s]"
     ]
    },
    {
     "name": "stdout",
     "output_type": "stream",
     "text": [
      "\n",
      "0: 736x1280 1 goalkeeper, 22 players, 2 referees, 32.9ms\n",
      "Speed: 10.9ms preprocess, 32.9ms inference, 1.0ms postprocess per image at shape (1, 3, 736, 1280)\n"
     ]
    },
    {
     "name": "stderr",
     "output_type": "stream",
     "text": [
      "collecting crops: 25it [00:03,  7.14it/s]\n",
      "Embedding extraction: 19it [00:04,  4.67it/s]\n"
     ]
    }
   ],
   "source": [
    "import umap\n",
    "from sklearn.cluster import KMeans\n",
    "from sports.common.team import TeamClassifier\n",
    "\n",
    "\n",
    "REDUCER = umap.UMAP(n_components=3)\n",
    "CLUSTERING_MODEL = KMeans(n_clusters=2)\n",
    "\n",
    "projections = REDUCER.fit_transform(data)\n",
    "clusters = CLUSTERING_MODEL.fit_predict(projections)\n",
    "\n",
    "frame_generator = sv.get_video_frames_generator(\n",
    "    source_path=SOURCE_VIDEO_PATH, stride=STRIDE)\n",
    "\n",
    "crops = []\n",
    "for frame in tqdm(frame_generator, desc='collecting crops'):\n",
    "    # result = PLAYER_DETECTION_MODEL.infer(frame, confidence=0.3)[0]\n",
    "    result = PLAYER_DETECTION_MODEL.predict(frame, conf=0.3)[0]\n",
    "    # detections = sv.Detections.from_inference(result)\n",
    "    detections = sv.Detections.from_ultralytics(result)\n",
    "    players_detections = detections[detections.class_id == PLAYER_ID]\n",
    "    players_crops = [sv.crop_image(frame, xyxy) for xyxy in detections.xyxy]\n",
    "    crops += players_crops\n",
    "\n",
    "team_classifier = TeamClassifier(device=\"cuda\")\n",
    "team_classifier.fit(crops)"
   ]
  },
  {
   "cell_type": "code",
   "execution_count": null,
   "id": "12281a7b",
   "metadata": {},
   "outputs": [],
   "source": [
    "import supervision as sv\n",
    "from tqdm import tqdm\n",
    "import numpy as np\n",
    "import cv2\n",
    "import os\n",
    "from collections import defaultdict\n",
    "\n",
    "# ----- Class IDs -----\n",
    "BALL_ID = 0\n",
    "GOALKEEPER_ID = 1\n",
    "PLAYER_ID = 2\n",
    "REFEREE_ID = 3\n",
    "\n",
    "# ----- Configuration -----\n",
    "IOU_THRESHOLD = 0.05\n",
    "MIN_INTERACTION_FRAMES = 5  # ~0.33 seconds at 30 FPS\n",
    "CLIP_PADDING_SECONDS = 2\n",
    "ACTIONS_DIR = \"app/test_data/predicted/actions\"\n",
    "os.makedirs(ACTIONS_DIR, exist_ok=True)"
   ]
  },
  {
   "cell_type": "code",
   "execution_count": 36,
   "id": "3366d0d5",
   "metadata": {},
   "outputs": [],
   "source": [
    "# ----- Interaction Tracking Class -----\n",
    "class InteractionTracker:\n",
    "    def __init__(self, fps):\n",
    "        self.fps = fps\n",
    "        self.active_interactions = defaultdict(lambda: {\n",
    "            'start_frame': None,\n",
    "            'end_frame': None,\n",
    "            'ball_id': None,\n",
    "            'player_id': None,\n",
    "            'active': False\n",
    "        })\n",
    "        self.confirmed_interactions = []\n",
    "        self.frame_buffer = []\n",
    "\n",
    "    def update(self, frame_number, current_frame, interactions):\n",
    "        # Store frame in rolling buffer\n",
    "        self.frame_buffer.append((frame_number, current_frame))\n",
    "        max_buffer_size = int((CLIP_PADDING_SECONDS * 2) * self.fps) + 10\n",
    "        if len(self.frame_buffer) > max_buffer_size:\n",
    "            self.frame_buffer.pop(0)\n",
    "\n",
    "        # Update active interactions\n",
    "        current_keys = set()\n",
    "        for ball_id, player_id in interactions:\n",
    "            key = (ball_id, player_id)\n",
    "            current_keys.add(key)\n",
    "            if not self.active_interactions[key]['active']:\n",
    "                self.active_interactions[key] = {\n",
    "                    'start_frame': frame_number,\n",
    "                    'end_frame': frame_number,\n",
    "                    'ball_id': ball_id,\n",
    "                    'player_id': player_id,\n",
    "                    'active': True\n",
    "                }\n",
    "            else:\n",
    "                self.active_interactions[key]['end_frame'] = frame_number\n",
    "\n",
    "        # Check for ended interactions\n",
    "        ended_keys = [k for k in self.active_interactions \n",
    "                     if k not in current_keys and self.active_interactions[k]['active']]\n",
    "        for key in ended_keys:\n",
    "            duration = (self.active_interactions[key]['end_frame'] - \n",
    "                       self.active_interactions[key]['start_frame'])\n",
    "            if duration >= MIN_INTERACTION_FRAMES:\n",
    "                self.confirmed_interactions.append(self.active_interactions[key])\n",
    "            self.active_interactions[key]['active'] = False\n",
    "\n",
    "    def get_clip_frames(self, interaction):\n",
    "        padding_frames = int(CLIP_PADDING_SECONDS * self.fps)\n",
    "        start_frame = max(0, interaction['start_frame'] - padding_frames)\n",
    "        end_frame = interaction['end_frame'] + padding_frames\n",
    "        \n",
    "        return [frame for (f_num, frame) in self.frame_buffer \n",
    "                if start_frame <= f_num <= end_frame]\n"
   ]
  },
  {
   "cell_type": "code",
   "execution_count": 37,
   "id": "3bc0b832",
   "metadata": {},
   "outputs": [],
   "source": [
    "# ----- Detection and Tracking Setup -----\n",
    "tracker = sv.ByteTrack()\n",
    "ellipse_annotator = sv.EllipseAnnotator(\n",
    "    color=sv.ColorPalette.from_hex(['#00BFFF', '#FF1493', '#FFD700']),\n",
    "    thickness=2\n",
    ")\n",
    "label_annotator = sv.LabelAnnotator(\n",
    "    color=sv.ColorPalette.from_hex(['#00BFFF', '#FF1493', '#FFD700']),\n",
    "    text_color=sv.Color.from_hex('#000000'),\n",
    "    text_position=sv.Position.BOTTOM_CENTER\n",
    ")\n",
    "triangle_annotator = sv.TriangleAnnotator(\n",
    "    color=sv.Color.from_hex('#FFD700'),\n",
    "    base=25,\n",
    "    height=21,\n",
    "    outline_thickness=1\n",
    ")\n",
    "\n",
    "def process_frame(frame, frame_number, tracker, interaction_tracker):\n",
    "    # Run detection\n",
    "    result = PLAYER_DETECTION_MODEL.predict(frame, conf=0.3)[0]\n",
    "    detections = sv.Detections.from_ultralytics(result)\n",
    "\n",
    "    # Process ball separately\n",
    "    ball_detections = detections[detections.class_id == BALL_ID]\n",
    "    ball_detections.xyxy = sv.pad_boxes(ball_detections.xyxy, px=10)\n",
    "\n",
    "    # Process other detections\n",
    "    other_detections = detections[detections.class_id != BALL_ID]\n",
    "    other_detections = other_detections.with_nms(threshold=0.5, class_agnostic=True)\n",
    "\n",
    "    # Merge ALL detections for tracking (including ball)\n",
    "    all_detections = sv.Detections.merge([ball_detections, other_detections])\n",
    "    tracked_detections = tracker.update_with_detections(all_detections)\n",
    "\n",
    "    # Separate tracked entities\n",
    "    ball_mask = tracked_detections.class_id == BALL_ID\n",
    "    player_mask = np.isin(tracked_detections.class_id, [PLAYER_ID, GOALKEEPER_ID])\n",
    "    \n",
    "    balls = tracked_detections[ball_mask]\n",
    "    players = tracked_detections[player_mask]\n",
    "\n",
    "    # Detect interactions\n",
    "    current_interactions = []\n",
    "    if len(balls) > 0 and len(players) > 0:\n",
    "        iou_matrix = sv.box_iou_batch(balls.xyxy, players.xyxy)  # Fixed IoU calculation\n",
    "        interacting_pairs = np.argwhere(iou_matrix > IOU_THRESHOLD)\n",
    "        \n",
    "        for ball_idx, player_idx in interacting_pairs:\n",
    "            if ball_idx < len(balls.tracker_id) and player_idx < len(players.tracker_id):\n",
    "                current_interactions.append(\n",
    "                    (balls.tracker_id[ball_idx], players.tracker_id[player_idx])\n",
    "                )\n",
    "\n",
    "    # Update interaction tracker\n",
    "    interaction_tracker.update(frame_number, frame, current_interactions)\n",
    "\n",
    "    # Annotate frame\n",
    "    labels = [f\"#{tid}\" for tid in tracked_detections.tracker_id]\n",
    "    annotated_frame = ellipse_annotator.annotate(frame.copy(), tracked_detections)\n",
    "    annotated_frame = label_annotator.annotate(annotated_frame, tracked_detections, labels)\n",
    "    annotated_frame = triangle_annotator.annotate(annotated_frame, balls)\n",
    "    \n",
    "    return annotated_frame\n"
   ]
  },
  {
   "cell_type": "code",
   "execution_count": 31,
   "id": "e1545089",
   "metadata": {},
   "outputs": [],
   "source": [
    "# ----- Clip Saving Function -----\n",
    "def save_interaction_clips(interaction_tracker):\n",
    "    for idx, interaction in enumerate(interaction_tracker.confirmed_interactions):\n",
    "        clip_frames = interaction_tracker.get_clip_frames(interaction)\n",
    "        if not clip_frames:\n",
    "            continue\n",
    "\n",
    "        clip_path = os.path.join(ACTIONS_DIR, \n",
    "                               f\"action_{idx}_b{interaction['ball_id']}_p{interaction['player_id']}.mp4\")\n",
    "        \n",
    "        # Get video properties from first frame\n",
    "        height, width = clip_frames[0].shape[:2]\n",
    "        \n",
    "        writer = cv2.VideoWriter(clip_path, cv2.VideoWriter_fourcc(*'mp4v'), \n",
    "                               interaction_tracker.fps, (width, height))\n",
    "        for frame in clip_frames:\n",
    "            writer.write(frame)\n",
    "        writer.release()\n"
   ]
  },
  {
   "cell_type": "code",
   "execution_count": null,
   "id": "54252ea9",
   "metadata": {},
   "outputs": [],
   "source": [
    "# ----- Main Execution -----\n",
    "SOURCE_VIDEO_PATH = \"app/test_data/raw/08fd33_0.mp4\"\n",
    "OUTPUT_VIDEO_PATH = \"08fd33_0-result2.mp4\"\n",
    "\n",
    "video_info = sv.VideoInfo.from_video_path(SOURCE_VIDEO_PATH)\n",
    "interaction_tracker = InteractionTracker(fps=video_info.fps)\n",
    "\n",
    "with sv.VideoSink(OUTPUT_VIDEO_PATH, video_info) as sink:\n",
    "    for frame_number, frame in enumerate(tqdm(sv.get_video_frames_generator(SOURCE_VIDEO_PATH), \n",
    "                                           desc=\"Processing video\")):\n",
    "        annotated_frame = process_frame(frame, frame_number, tracker, interaction_tracker)\n",
    "        sink.write_frame(annotated_frame)\n",
    "\n",
    "# Save confirmed interactions\n",
    "print(f\"Found {len(interaction_tracker.confirmed_interactions)} interactions\")\n",
    "for idx, interaction in enumerate(interaction_tracker.confirmed_interactions):\n",
    "    clip_frames = interaction_tracker.get_clip_frames(interaction)\n",
    "    if not clip_frames:\n",
    "        continue\n",
    "\n",
    "    clip_path = os.path.join(ACTIONS_DIR, \n",
    "                           f\"action_{idx}_b{interaction['ball_id']}_p{interaction['player_id']}.mp4\")\n",
    "    \n",
    "    height, width = clip_frames[0].shape[:2]\n",
    "    writer = cv2.VideoWriter(clip_path, cv2.VideoWriter_fourcc(*'mp4v'), \n",
    "                           video_info.fps, (width, height))\n",
    "    for frame in clip_frames:\n",
    "        writer.write(frame)\n",
    "    writer.release()\n",
    "\n",
    "print(f\"Saved {len(interaction_tracker.confirmed_interactions)} action clips\")"
   ]
  },
  {
   "cell_type": "code",
   "execution_count": 40,
   "id": "63f854c7",
   "metadata": {},
   "outputs": [
    {
     "name": "stdout",
     "output_type": "stream",
     "text": [
      "Saved 1 action clips\n"
     ]
    }
   ],
   "source": [
    "# Save interaction clips\n",
    "save_interaction_clips(interaction_tracker)\n",
    "print(f\"Saved {len(interaction_tracker.confirmed_interactions)} action clips\")"
   ]
  },
  {
   "cell_type": "code",
   "execution_count": 7,
   "id": "81ee8264",
   "metadata": {},
   "outputs": [
    {
     "name": "stdout",
     "output_type": "stream",
     "text": [
      "\n",
      "0: 1280x1280 20 players, 3 referees, 66.6ms\n",
      "Speed: 11.6ms preprocess, 66.6ms inference, 1.0ms postprocess per image at shape (1, 3, 1280, 1280)\n"
     ]
    },
    {
     "name": "stderr",
     "output_type": "stream",
     "text": [
      "Embedding extraction: 0it [00:00, ?it/s]"
     ]
    },
    {
     "name": "stderr",
     "output_type": "stream",
     "text": [
      "Embedding extraction: 1it [00:00,  8.25it/s]\n",
      "FutureWarning: 'force_all_finite' was renamed to 'ensure_all_finite' in 1.6 and will be removed in 1.8.\n",
      "Processing frames:   0%|          | 0/599 [00:00<?, ?it/s]"
     ]
    },
    {
     "name": "stdout",
     "output_type": "stream",
     "text": [
      "\n",
      "0: 1280x1280 20 players, 3 referees, 66.5ms\n",
      "Speed: 10.4ms preprocess, 66.5ms inference, 1.0ms postprocess per image at shape (1, 3, 1280, 1280)\n"
     ]
    },
    {
     "name": "stderr",
     "output_type": "stream",
     "text": [
      "Embedding extraction: 1it [00:00,  8.10it/s]\n",
      "FutureWarning: 'force_all_finite' was renamed to 'ensure_all_finite' in 1.6 and will be removed in 1.8.\n",
      "Processing frames:   0%|          | 1/599 [00:00<02:32,  3.92it/s]"
     ]
    },
    {
     "name": "stdout",
     "output_type": "stream",
     "text": [
      "\n",
      "0: 1280x1280 20 players, 3 referees, 67.3ms\n",
      "Speed: 9.8ms preprocess, 67.3ms inference, 1.0ms postprocess per image at shape (1, 3, 1280, 1280)\n"
     ]
    },
    {
     "name": "stderr",
     "output_type": "stream",
     "text": [
      "Embedding extraction: 1it [00:00,  7.93it/s]\n",
      "FutureWarning: 'force_all_finite' was renamed to 'ensure_all_finite' in 1.6 and will be removed in 1.8.\n",
      "Processing frames:   0%|          | 2/599 [00:00<02:29,  3.98it/s]"
     ]
    },
    {
     "name": "stdout",
     "output_type": "stream",
     "text": [
      "\n",
      "0: 1280x1280 21 players, 3 referees, 67.4ms\n",
      "Speed: 8.7ms preprocess, 67.4ms inference, 1.0ms postprocess per image at shape (1, 3, 1280, 1280)\n"
     ]
    },
    {
     "name": "stderr",
     "output_type": "stream",
     "text": [
      "Embedding extraction: 1it [00:00,  8.23it/s]\n",
      "FutureWarning: 'force_all_finite' was renamed to 'ensure_all_finite' in 1.6 and will be removed in 1.8.\n",
      "Processing frames:   1%|          | 3/599 [00:00<02:26,  4.06it/s]"
     ]
    },
    {
     "name": "stdout",
     "output_type": "stream",
     "text": [
      "\n",
      "0: 1280x1280 20 players, 3 referees, 67.6ms\n",
      "Speed: 6.2ms preprocess, 67.6ms inference, 1.0ms postprocess per image at shape (1, 3, 1280, 1280)\n"
     ]
    },
    {
     "name": "stderr",
     "output_type": "stream",
     "text": [
      "Embedding extraction: 1it [00:00,  8.20it/s]\n",
      "FutureWarning: 'force_all_finite' was renamed to 'ensure_all_finite' in 1.6 and will be removed in 1.8.\n",
      "Processing frames:   1%|          | 4/599 [00:00<02:24,  4.11it/s]"
     ]
    },
    {
     "name": "stdout",
     "output_type": "stream",
     "text": [
      "\n",
      "0: 1280x1280 1 ball, 20 players, 3 referees, 67.8ms\n",
      "Speed: 6.0ms preprocess, 67.8ms inference, 1.0ms postprocess per image at shape (1, 3, 1280, 1280)\n"
     ]
    },
    {
     "name": "stderr",
     "output_type": "stream",
     "text": [
      "Embedding extraction: 1it [00:00,  8.21it/s]\n",
      "FutureWarning: 'force_all_finite' was renamed to 'ensure_all_finite' in 1.6 and will be removed in 1.8.\n",
      "Processing frames:   1%|          | 5/599 [00:01<02:24,  4.11it/s]"
     ]
    },
    {
     "name": "stdout",
     "output_type": "stream",
     "text": [
      "\n",
      "0: 1280x1280 20 players, 3 referees, 67.4ms\n",
      "Speed: 6.1ms preprocess, 67.4ms inference, 1.0ms postprocess per image at shape (1, 3, 1280, 1280)\n"
     ]
    },
    {
     "name": "stderr",
     "output_type": "stream",
     "text": [
      "Embedding extraction: 1it [00:00,  8.42it/s]\n",
      "FutureWarning: 'force_all_finite' was renamed to 'ensure_all_finite' in 1.6 and will be removed in 1.8.\n",
      "Processing frames:   1%|          | 6/599 [00:01<02:22,  4.15it/s]"
     ]
    },
    {
     "name": "stdout",
     "output_type": "stream",
     "text": [
      "\n",
      "0: 1280x1280 22 players, 3 referees, 67.7ms\n",
      "Speed: 7.2ms preprocess, 67.7ms inference, 1.0ms postprocess per image at shape (1, 3, 1280, 1280)\n"
     ]
    },
    {
     "name": "stderr",
     "output_type": "stream",
     "text": [
      "Embedding extraction: 1it [00:00,  8.35it/s]\n",
      "FutureWarning: 'force_all_finite' was renamed to 'ensure_all_finite' in 1.6 and will be removed in 1.8.\n",
      "Processing frames:   1%|          | 7/599 [00:01<02:21,  4.17it/s]"
     ]
    },
    {
     "name": "stdout",
     "output_type": "stream",
     "text": [
      "\n",
      "0: 1280x1280 20 players, 3 referees, 67.3ms\n",
      "Speed: 10.8ms preprocess, 67.3ms inference, 1.4ms postprocess per image at shape (1, 3, 1280, 1280)\n"
     ]
    },
    {
     "name": "stderr",
     "output_type": "stream",
     "text": [
      "Embedding extraction: 1it [00:00,  8.37it/s]\n",
      "FutureWarning: 'force_all_finite' was renamed to 'ensure_all_finite' in 1.6 and will be removed in 1.8.\n",
      "Processing frames:   1%|▏         | 8/599 [00:01<02:22,  4.16it/s]"
     ]
    },
    {
     "name": "stdout",
     "output_type": "stream",
     "text": [
      "\n",
      "0: 1280x1280 19 players, 3 referees, 67.2ms\n",
      "Speed: 9.0ms preprocess, 67.2ms inference, 1.0ms postprocess per image at shape (1, 3, 1280, 1280)\n"
     ]
    },
    {
     "name": "stderr",
     "output_type": "stream",
     "text": [
      "Embedding extraction: 1it [00:00,  8.34it/s]\n",
      "FutureWarning: 'force_all_finite' was renamed to 'ensure_all_finite' in 1.6 and will be removed in 1.8.\n",
      "Processing frames:   2%|▏         | 9/599 [00:02<02:21,  4.17it/s]"
     ]
    },
    {
     "name": "stdout",
     "output_type": "stream",
     "text": [
      "\n",
      "0: 1280x1280 18 players, 4 referees, 68.0ms\n",
      "Speed: 8.3ms preprocess, 68.0ms inference, 1.6ms postprocess per image at shape (1, 3, 1280, 1280)\n"
     ]
    },
    {
     "name": "stderr",
     "output_type": "stream",
     "text": [
      "Embedding extraction: 1it [00:00,  9.22it/s]\n",
      "FutureWarning: 'force_all_finite' was renamed to 'ensure_all_finite' in 1.6 and will be removed in 1.8.\n",
      "Processing frames:   2%|▏         | 10/599 [00:02<02:19,  4.24it/s]"
     ]
    },
    {
     "name": "stdout",
     "output_type": "stream",
     "text": [
      "\n",
      "0: 1280x1280 18 players, 3 referees, 67.7ms\n",
      "Speed: 7.7ms preprocess, 67.7ms inference, 1.0ms postprocess per image at shape (1, 3, 1280, 1280)\n"
     ]
    },
    {
     "name": "stderr",
     "output_type": "stream",
     "text": [
      "Embedding extraction: 1it [00:00,  9.18it/s]\n",
      "FutureWarning: 'force_all_finite' was renamed to 'ensure_all_finite' in 1.6 and will be removed in 1.8.\n",
      "Processing frames:   2%|▏         | 11/599 [00:02<02:17,  4.27it/s]"
     ]
    },
    {
     "name": "stdout",
     "output_type": "stream",
     "text": [
      "\n",
      "0: 1280x1280 18 players, 3 referees, 67.7ms\n",
      "Speed: 10.8ms preprocess, 67.7ms inference, 1.0ms postprocess per image at shape (1, 3, 1280, 1280)\n"
     ]
    },
    {
     "name": "stderr",
     "output_type": "stream",
     "text": [
      "Embedding extraction: 1it [00:00,  9.17it/s]\n",
      "FutureWarning: 'force_all_finite' was renamed to 'ensure_all_finite' in 1.6 and will be removed in 1.8.\n",
      "Processing frames:   2%|▏         | 12/599 [00:02<02:16,  4.29it/s]"
     ]
    },
    {
     "name": "stdout",
     "output_type": "stream",
     "text": [
      "\n",
      "0: 1280x1280 19 players, 3 referees, 67.5ms\n",
      "Speed: 6.0ms preprocess, 67.5ms inference, 1.0ms postprocess per image at shape (1, 3, 1280, 1280)\n"
     ]
    },
    {
     "name": "stderr",
     "output_type": "stream",
     "text": [
      "Embedding extraction: 1it [00:00,  8.37it/s]\n",
      "FutureWarning: 'force_all_finite' was renamed to 'ensure_all_finite' in 1.6 and will be removed in 1.8.\n",
      "Processing frames:   2%|▏         | 13/599 [00:03<02:17,  4.28it/s]"
     ]
    },
    {
     "name": "stdout",
     "output_type": "stream",
     "text": [
      "\n",
      "0: 1280x1280 20 players, 3 referees, 67.7ms\n",
      "Speed: 6.2ms preprocess, 67.7ms inference, 1.0ms postprocess per image at shape (1, 3, 1280, 1280)\n"
     ]
    },
    {
     "name": "stderr",
     "output_type": "stream",
     "text": [
      "Embedding extraction: 1it [00:00,  8.40it/s]\n",
      "FutureWarning: 'force_all_finite' was renamed to 'ensure_all_finite' in 1.6 and will be removed in 1.8.\n",
      "Processing frames:   2%|▏         | 14/599 [00:03<02:17,  4.27it/s]"
     ]
    },
    {
     "name": "stdout",
     "output_type": "stream",
     "text": [
      "\n",
      "0: 1280x1280 1 ball, 20 players, 3 referees, 68.1ms\n",
      "Speed: 6.1ms preprocess, 68.1ms inference, 1.0ms postprocess per image at shape (1, 3, 1280, 1280)\n"
     ]
    },
    {
     "name": "stderr",
     "output_type": "stream",
     "text": [
      "Embedding extraction: 1it [00:00,  8.45it/s]\n",
      "FutureWarning: 'force_all_finite' was renamed to 'ensure_all_finite' in 1.6 and will be removed in 1.8.\n",
      "Processing frames:   3%|▎         | 15/599 [00:03<02:17,  4.26it/s]"
     ]
    },
    {
     "name": "stdout",
     "output_type": "stream",
     "text": [
      "\n",
      "0: 1280x1280 1 ball, 20 players, 3 referees, 67.9ms\n",
      "Speed: 9.9ms preprocess, 67.9ms inference, 1.0ms postprocess per image at shape (1, 3, 1280, 1280)\n"
     ]
    },
    {
     "name": "stderr",
     "output_type": "stream",
     "text": [
      "Embedding extraction: 1it [00:00,  8.33it/s]\n",
      "FutureWarning: 'force_all_finite' was renamed to 'ensure_all_finite' in 1.6 and will be removed in 1.8.\n",
      "Processing frames:   3%|▎         | 16/599 [00:03<02:17,  4.23it/s]"
     ]
    },
    {
     "name": "stdout",
     "output_type": "stream",
     "text": [
      "\n",
      "0: 1280x1280 1 ball, 20 players, 3 referees, 67.2ms\n",
      "Speed: 6.8ms preprocess, 67.2ms inference, 1.0ms postprocess per image at shape (1, 3, 1280, 1280)\n"
     ]
    },
    {
     "name": "stderr",
     "output_type": "stream",
     "text": [
      "Embedding extraction: 1it [00:00,  8.37it/s]\n",
      "FutureWarning: 'force_all_finite' was renamed to 'ensure_all_finite' in 1.6 and will be removed in 1.8.\n",
      "Processing frames:   3%|▎         | 17/599 [00:04<02:17,  4.23it/s]"
     ]
    },
    {
     "name": "stdout",
     "output_type": "stream",
     "text": [
      "\n",
      "0: 1280x1280 20 players, 3 referees, 67.6ms\n",
      "Speed: 6.1ms preprocess, 67.6ms inference, 1.0ms postprocess per image at shape (1, 3, 1280, 1280)\n"
     ]
    },
    {
     "name": "stderr",
     "output_type": "stream",
     "text": [
      "Embedding extraction: 1it [00:00,  8.35it/s]\n",
      "FutureWarning: 'force_all_finite' was renamed to 'ensure_all_finite' in 1.6 and will be removed in 1.8.\n",
      "Processing frames:   3%|▎         | 18/599 [00:04<02:17,  4.23it/s]"
     ]
    },
    {
     "name": "stdout",
     "output_type": "stream",
     "text": [
      "\n",
      "0: 1280x1280 1 ball, 20 players, 3 referees, 67.9ms\n",
      "Speed: 6.1ms preprocess, 67.9ms inference, 1.3ms postprocess per image at shape (1, 3, 1280, 1280)\n"
     ]
    },
    {
     "name": "stderr",
     "output_type": "stream",
     "text": [
      "Embedding extraction: 1it [00:00,  8.31it/s]\n",
      "FutureWarning: 'force_all_finite' was renamed to 'ensure_all_finite' in 1.6 and will be removed in 1.8.\n",
      "Processing frames:   3%|▎         | 19/599 [00:04<02:17,  4.22it/s]"
     ]
    },
    {
     "name": "stdout",
     "output_type": "stream",
     "text": [
      "\n",
      "0: 1280x1280 1 ball, 20 players, 3 referees, 67.8ms\n",
      "Speed: 10.9ms preprocess, 67.8ms inference, 1.0ms postprocess per image at shape (1, 3, 1280, 1280)\n"
     ]
    },
    {
     "name": "stderr",
     "output_type": "stream",
     "text": [
      "Embedding extraction: 1it [00:00,  8.40it/s]\n",
      "FutureWarning: 'force_all_finite' was renamed to 'ensure_all_finite' in 1.6 and will be removed in 1.8.\n",
      "Processing frames:   3%|▎         | 20/599 [00:04<02:17,  4.20it/s]"
     ]
    },
    {
     "name": "stdout",
     "output_type": "stream",
     "text": [
      "\n",
      "0: 1280x1280 1 ball, 20 players, 3 referees, 67.8ms\n",
      "Speed: 8.7ms preprocess, 67.8ms inference, 1.0ms postprocess per image at shape (1, 3, 1280, 1280)\n"
     ]
    },
    {
     "name": "stderr",
     "output_type": "stream",
     "text": [
      "Embedding extraction: 1it [00:00,  8.24it/s]\n",
      "FutureWarning: 'force_all_finite' was renamed to 'ensure_all_finite' in 1.6 and will be removed in 1.8.\n",
      "Processing frames:   4%|▎         | 21/599 [00:05<02:17,  4.19it/s]"
     ]
    },
    {
     "name": "stdout",
     "output_type": "stream",
     "text": [
      "\n",
      "0: 1280x1280 1 ball, 20 players, 3 referees, 67.5ms\n",
      "Speed: 6.8ms preprocess, 67.5ms inference, 1.0ms postprocess per image at shape (1, 3, 1280, 1280)\n"
     ]
    },
    {
     "name": "stderr",
     "output_type": "stream",
     "text": [
      "Embedding extraction: 1it [00:00,  8.32it/s]\n",
      "FutureWarning: 'force_all_finite' was renamed to 'ensure_all_finite' in 1.6 and will be removed in 1.8.\n",
      "Processing frames:   4%|▎         | 22/599 [00:05<02:17,  4.20it/s]"
     ]
    },
    {
     "name": "stdout",
     "output_type": "stream",
     "text": [
      "\n",
      "0: 1280x1280 1 ball, 20 players, 3 referees, 67.5ms\n",
      "Speed: 6.0ms preprocess, 67.5ms inference, 1.0ms postprocess per image at shape (1, 3, 1280, 1280)\n"
     ]
    },
    {
     "name": "stderr",
     "output_type": "stream",
     "text": [
      "Embedding extraction: 1it [00:00,  8.33it/s]\n",
      "FutureWarning: 'force_all_finite' was renamed to 'ensure_all_finite' in 1.6 and will be removed in 1.8.\n",
      "Processing frames:   4%|▍         | 23/599 [00:05<02:16,  4.22it/s]"
     ]
    },
    {
     "name": "stdout",
     "output_type": "stream",
     "text": [
      "\n",
      "0: 1280x1280 1 ball, 20 players, 3 referees, 68.0ms\n",
      "Speed: 6.0ms preprocess, 68.0ms inference, 1.0ms postprocess per image at shape (1, 3, 1280, 1280)\n"
     ]
    },
    {
     "name": "stderr",
     "output_type": "stream",
     "text": [
      "Embedding extraction: 1it [00:00,  8.37it/s]\n",
      "FutureWarning: 'force_all_finite' was renamed to 'ensure_all_finite' in 1.6 and will be removed in 1.8.\n",
      "Processing frames:   4%|▍         | 24/599 [00:05<02:16,  4.21it/s]"
     ]
    },
    {
     "name": "stdout",
     "output_type": "stream",
     "text": [
      "\n",
      "0: 1280x1280 1 ball, 20 players, 3 referees, 68.0ms\n",
      "Speed: 9.1ms preprocess, 68.0ms inference, 1.1ms postprocess per image at shape (1, 3, 1280, 1280)\n"
     ]
    },
    {
     "name": "stderr",
     "output_type": "stream",
     "text": [
      "Embedding extraction: 1it [00:00,  8.40it/s]\n",
      "FutureWarning: 'force_all_finite' was renamed to 'ensure_all_finite' in 1.6 and will be removed in 1.8.\n",
      "Processing frames:   4%|▍         | 25/599 [00:05<02:16,  4.20it/s]"
     ]
    },
    {
     "name": "stdout",
     "output_type": "stream",
     "text": [
      "\n",
      "0: 1280x1280 1 ball, 20 players, 3 referees, 67.5ms\n",
      "Speed: 6.1ms preprocess, 67.5ms inference, 1.0ms postprocess per image at shape (1, 3, 1280, 1280)\n"
     ]
    },
    {
     "name": "stderr",
     "output_type": "stream",
     "text": [
      "Embedding extraction: 1it [00:00,  8.28it/s]\n",
      "FutureWarning: 'force_all_finite' was renamed to 'ensure_all_finite' in 1.6 and will be removed in 1.8.\n",
      "Processing frames:   4%|▍         | 26/599 [00:06<02:16,  4.20it/s]"
     ]
    },
    {
     "name": "stdout",
     "output_type": "stream",
     "text": [
      "\n",
      "0: 1280x1280 1 ball, 20 players, 3 referees, 67.1ms\n",
      "Speed: 6.1ms preprocess, 67.1ms inference, 1.0ms postprocess per image at shape (1, 3, 1280, 1280)\n"
     ]
    },
    {
     "name": "stderr",
     "output_type": "stream",
     "text": [
      "Embedding extraction: 1it [00:00,  8.36it/s]\n",
      "FutureWarning: 'force_all_finite' was renamed to 'ensure_all_finite' in 1.6 and will be removed in 1.8.\n",
      "Processing frames:   5%|▍         | 27/599 [00:06<02:16,  4.20it/s]"
     ]
    },
    {
     "name": "stdout",
     "output_type": "stream",
     "text": [
      "\n",
      "0: 1280x1280 1 ball, 20 players, 3 referees, 67.6ms\n",
      "Speed: 10.8ms preprocess, 67.6ms inference, 1.0ms postprocess per image at shape (1, 3, 1280, 1280)\n"
     ]
    },
    {
     "name": "stderr",
     "output_type": "stream",
     "text": [
      "Embedding extraction: 1it [00:00,  8.37it/s]\n",
      "FutureWarning: 'force_all_finite' was renamed to 'ensure_all_finite' in 1.6 and will be removed in 1.8.\n",
      "Processing frames:   5%|▍         | 28/599 [00:06<02:16,  4.19it/s]"
     ]
    },
    {
     "name": "stdout",
     "output_type": "stream",
     "text": [
      "\n",
      "0: 1280x1280 1 ball, 20 players, 3 referees, 67.4ms\n",
      "Speed: 9.1ms preprocess, 67.4ms inference, 1.0ms postprocess per image at shape (1, 3, 1280, 1280)\n"
     ]
    },
    {
     "name": "stderr",
     "output_type": "stream",
     "text": [
      "Embedding extraction: 1it [00:00,  8.26it/s]\n",
      "FutureWarning: 'force_all_finite' was renamed to 'ensure_all_finite' in 1.6 and will be removed in 1.8.\n",
      "Processing frames:   5%|▍         | 29/599 [00:06<02:16,  4.17it/s]"
     ]
    },
    {
     "name": "stdout",
     "output_type": "stream",
     "text": [
      "\n",
      "0: 1280x1280 20 players, 3 referees, 67.1ms\n",
      "Speed: 6.1ms preprocess, 67.1ms inference, 0.9ms postprocess per image at shape (1, 3, 1280, 1280)\n"
     ]
    },
    {
     "name": "stderr",
     "output_type": "stream",
     "text": [
      "Embedding extraction: 1it [00:00,  8.21it/s]\n",
      "FutureWarning: 'force_all_finite' was renamed to 'ensure_all_finite' in 1.6 and will be removed in 1.8.\n",
      "Processing frames:   5%|▌         | 30/599 [00:07<02:16,  4.18it/s]"
     ]
    },
    {
     "name": "stdout",
     "output_type": "stream",
     "text": [
      "\n",
      "0: 1280x1280 1 ball, 20 players, 3 referees, 67.2ms\n",
      "Speed: 8.1ms preprocess, 67.2ms inference, 1.0ms postprocess per image at shape (1, 3, 1280, 1280)\n"
     ]
    },
    {
     "name": "stderr",
     "output_type": "stream",
     "text": [
      "Embedding extraction: 1it [00:00,  8.08it/s]\n",
      "FutureWarning: 'force_all_finite' was renamed to 'ensure_all_finite' in 1.6 and will be removed in 1.8.\n",
      "Processing frames:   5%|▌         | 31/599 [00:07<02:16,  4.16it/s]"
     ]
    },
    {
     "name": "stdout",
     "output_type": "stream",
     "text": [
      "\n",
      "0: 1280x1280 1 ball, 20 players, 3 referees, 67.7ms\n",
      "Speed: 10.9ms preprocess, 67.7ms inference, 1.0ms postprocess per image at shape (1, 3, 1280, 1280)\n"
     ]
    },
    {
     "name": "stderr",
     "output_type": "stream",
     "text": [
      "Embedding extraction: 1it [00:00,  8.19it/s]\n",
      "FutureWarning: 'force_all_finite' was renamed to 'ensure_all_finite' in 1.6 and will be removed in 1.8.\n",
      "Processing frames:   5%|▌         | 32/599 [00:07<02:16,  4.15it/s]"
     ]
    },
    {
     "name": "stdout",
     "output_type": "stream",
     "text": [
      "\n",
      "0: 1280x1280 1 ball, 20 players, 3 referees, 67.9ms\n",
      "Speed: 6.4ms preprocess, 67.9ms inference, 1.0ms postprocess per image at shape (1, 3, 1280, 1280)\n"
     ]
    },
    {
     "name": "stderr",
     "output_type": "stream",
     "text": [
      "Embedding extraction: 1it [00:00,  8.12it/s]\n",
      "FutureWarning: 'force_all_finite' was renamed to 'ensure_all_finite' in 1.6 and will be removed in 1.8.\n",
      "Processing frames:   6%|▌         | 33/599 [00:07<02:16,  4.15it/s]"
     ]
    },
    {
     "name": "stdout",
     "output_type": "stream",
     "text": [
      "\n",
      "0: 1280x1280 2 balls, 20 players, 3 referees, 68.2ms\n",
      "Speed: 6.0ms preprocess, 68.2ms inference, 1.0ms postprocess per image at shape (1, 3, 1280, 1280)\n"
     ]
    },
    {
     "name": "stderr",
     "output_type": "stream",
     "text": [
      "Embedding extraction: 1it [00:00,  8.20it/s]\n",
      "FutureWarning: 'force_all_finite' was renamed to 'ensure_all_finite' in 1.6 and will be removed in 1.8.\n",
      "Processing frames:   6%|▌         | 34/599 [00:08<02:15,  4.16it/s]"
     ]
    },
    {
     "name": "stdout",
     "output_type": "stream",
     "text": [
      "\n",
      "0: 1280x1280 1 ball, 20 players, 3 referees, 68.0ms\n",
      "Speed: 8.7ms preprocess, 68.0ms inference, 1.0ms postprocess per image at shape (1, 3, 1280, 1280)\n"
     ]
    },
    {
     "name": "stderr",
     "output_type": "stream",
     "text": [
      "Embedding extraction: 1it [00:00,  8.18it/s]\n",
      "FutureWarning: 'force_all_finite' was renamed to 'ensure_all_finite' in 1.6 and will be removed in 1.8.\n",
      "Processing frames:   6%|▌         | 35/599 [00:08<02:15,  4.15it/s]"
     ]
    },
    {
     "name": "stdout",
     "output_type": "stream",
     "text": [
      "\n",
      "0: 1280x1280 21 players, 3 referees, 67.8ms\n",
      "Speed: 6.7ms preprocess, 67.8ms inference, 1.0ms postprocess per image at shape (1, 3, 1280, 1280)\n"
     ]
    },
    {
     "name": "stderr",
     "output_type": "stream",
     "text": [
      "Embedding extraction: 1it [00:00,  8.09it/s]\n",
      "FutureWarning: 'force_all_finite' was renamed to 'ensure_all_finite' in 1.6 and will be removed in 1.8.\n",
      "Processing frames:   6%|▌         | 36/599 [00:08<02:15,  4.14it/s]"
     ]
    },
    {
     "name": "stdout",
     "output_type": "stream",
     "text": [
      "\n",
      "0: 1280x1280 1 ball, 20 players, 3 referees, 67.5ms\n",
      "Speed: 10.0ms preprocess, 67.5ms inference, 1.0ms postprocess per image at shape (1, 3, 1280, 1280)\n"
     ]
    },
    {
     "name": "stderr",
     "output_type": "stream",
     "text": [
      "Embedding extraction: 1it [00:00,  8.18it/s]\n",
      "FutureWarning: 'force_all_finite' was renamed to 'ensure_all_finite' in 1.6 and will be removed in 1.8.\n",
      "Processing frames:   6%|▌         | 37/599 [00:08<02:16,  4.12it/s]"
     ]
    },
    {
     "name": "stdout",
     "output_type": "stream",
     "text": [
      "\n",
      "0: 1280x1280 20 players, 3 referees, 67.5ms\n",
      "Speed: 8.6ms preprocess, 67.5ms inference, 1.0ms postprocess per image at shape (1, 3, 1280, 1280)\n"
     ]
    },
    {
     "name": "stderr",
     "output_type": "stream",
     "text": [
      "Embedding extraction: 1it [00:00,  8.18it/s]\n",
      "FutureWarning: 'force_all_finite' was renamed to 'ensure_all_finite' in 1.6 and will be removed in 1.8.\n",
      "Processing frames:   6%|▋         | 38/599 [00:09<02:16,  4.12it/s]"
     ]
    },
    {
     "name": "stdout",
     "output_type": "stream",
     "text": [
      "\n",
      "0: 1280x1280 21 players, 4 referees, 67.1ms\n",
      "Speed: 8.3ms preprocess, 67.1ms inference, 1.0ms postprocess per image at shape (1, 3, 1280, 1280)\n"
     ]
    },
    {
     "name": "stderr",
     "output_type": "stream",
     "text": [
      "Embedding extraction: 1it [00:00,  8.25it/s]\n",
      "FutureWarning: 'force_all_finite' was renamed to 'ensure_all_finite' in 1.6 and will be removed in 1.8.\n",
      "Processing frames:   7%|▋         | 39/599 [00:09<02:15,  4.14it/s]"
     ]
    },
    {
     "name": "stdout",
     "output_type": "stream",
     "text": [
      "\n",
      "0: 1280x1280 21 players, 3 referees, 67.7ms\n",
      "Speed: 7.3ms preprocess, 67.7ms inference, 1.0ms postprocess per image at shape (1, 3, 1280, 1280)\n"
     ]
    },
    {
     "name": "stderr",
     "output_type": "stream",
     "text": [
      "Embedding extraction: 1it [00:00,  8.17it/s]\n",
      "FutureWarning: 'force_all_finite' was renamed to 'ensure_all_finite' in 1.6 and will be removed in 1.8.\n",
      "Processing frames:   7%|▋         | 40/599 [00:09<02:14,  4.14it/s]"
     ]
    },
    {
     "name": "stdout",
     "output_type": "stream",
     "text": [
      "\n",
      "0: 1280x1280 21 players, 3 referees, 67.6ms\n",
      "Speed: 6.6ms preprocess, 67.6ms inference, 1.1ms postprocess per image at shape (1, 3, 1280, 1280)\n"
     ]
    },
    {
     "name": "stderr",
     "output_type": "stream",
     "text": [
      "Embedding extraction: 1it [00:00,  8.42it/s]\n",
      "FutureWarning: 'force_all_finite' was renamed to 'ensure_all_finite' in 1.6 and will be removed in 1.8.\n",
      "Processing frames:   7%|▋         | 41/599 [00:09<02:13,  4.17it/s]"
     ]
    },
    {
     "name": "stdout",
     "output_type": "stream",
     "text": [
      "\n",
      "0: 1280x1280 21 players, 3 referees, 67.8ms\n",
      "Speed: 6.1ms preprocess, 67.8ms inference, 0.9ms postprocess per image at shape (1, 3, 1280, 1280)\n"
     ]
    },
    {
     "name": "stderr",
     "output_type": "stream",
     "text": [
      "Embedding extraction: 1it [00:00,  7.54it/s]\n",
      "FutureWarning: 'force_all_finite' was renamed to 'ensure_all_finite' in 1.6 and will be removed in 1.8.\n",
      "Processing frames:   7%|▋         | 42/599 [00:10<02:15,  4.12it/s]"
     ]
    },
    {
     "name": "stdout",
     "output_type": "stream",
     "text": [
      "\n",
      "0: 1280x1280 1 ball, 21 players, 3 referees, 68.2ms\n",
      "Speed: 6.0ms preprocess, 68.2ms inference, 1.0ms postprocess per image at shape (1, 3, 1280, 1280)\n"
     ]
    },
    {
     "name": "stderr",
     "output_type": "stream",
     "text": [
      "Embedding extraction: 1it [00:00,  7.53it/s]\n",
      "FutureWarning: 'force_all_finite' was renamed to 'ensure_all_finite' in 1.6 and will be removed in 1.8.\n",
      "Processing frames:   7%|▋         | 43/599 [00:10<02:16,  4.08it/s]"
     ]
    },
    {
     "name": "stdout",
     "output_type": "stream",
     "text": [
      "\n",
      "0: 1280x1280 1 ball, 21 players, 2 referees, 67.9ms\n",
      "Speed: 6.2ms preprocess, 67.9ms inference, 1.0ms postprocess per image at shape (1, 3, 1280, 1280)\n"
     ]
    },
    {
     "name": "stderr",
     "output_type": "stream",
     "text": [
      "Embedding extraction: 1it [00:00,  7.62it/s]\n",
      "FutureWarning: 'force_all_finite' was renamed to 'ensure_all_finite' in 1.6 and will be removed in 1.8.\n",
      "Processing frames:   7%|▋         | 44/599 [00:10<02:17,  4.05it/s]"
     ]
    },
    {
     "name": "stdout",
     "output_type": "stream",
     "text": [
      "\n",
      "0: 1280x1280 1 ball, 21 players, 3 referees, 68.0ms\n",
      "Speed: 6.2ms preprocess, 68.0ms inference, 1.0ms postprocess per image at shape (1, 3, 1280, 1280)\n"
     ]
    },
    {
     "name": "stderr",
     "output_type": "stream",
     "text": [
      "Embedding extraction: 1it [00:00,  8.21it/s]\n",
      "FutureWarning: 'force_all_finite' was renamed to 'ensure_all_finite' in 1.6 and will be removed in 1.8.\n",
      "Processing frames:   8%|▊         | 45/599 [00:10<02:15,  4.09it/s]"
     ]
    },
    {
     "name": "stdout",
     "output_type": "stream",
     "text": [
      "\n",
      "0: 1280x1280 1 ball, 20 players, 3 referees, 68.2ms\n",
      "Speed: 6.4ms preprocess, 68.2ms inference, 1.1ms postprocess per image at shape (1, 3, 1280, 1280)\n"
     ]
    },
    {
     "name": "stderr",
     "output_type": "stream",
     "text": [
      "Embedding extraction: 1it [00:00,  8.24it/s]\n",
      "FutureWarning: 'force_all_finite' was renamed to 'ensure_all_finite' in 1.6 and will be removed in 1.8.\n",
      "Processing frames:   8%|▊         | 46/599 [00:11<02:14,  4.11it/s]"
     ]
    },
    {
     "name": "stdout",
     "output_type": "stream",
     "text": [
      "\n",
      "0: 1280x1280 1 ball, 20 players, 3 referees, 68.0ms\n",
      "Speed: 6.2ms preprocess, 68.0ms inference, 1.0ms postprocess per image at shape (1, 3, 1280, 1280)\n"
     ]
    },
    {
     "name": "stderr",
     "output_type": "stream",
     "text": [
      "Embedding extraction: 1it [00:00,  8.28it/s]\n",
      "FutureWarning: 'force_all_finite' was renamed to 'ensure_all_finite' in 1.6 and will be removed in 1.8.\n",
      "Processing frames:   8%|▊         | 47/599 [00:11<02:13,  4.14it/s]"
     ]
    },
    {
     "name": "stdout",
     "output_type": "stream",
     "text": [
      "\n",
      "0: 1280x1280 1 ball, 20 players, 3 referees, 67.5ms\n",
      "Speed: 11.0ms preprocess, 67.5ms inference, 1.0ms postprocess per image at shape (1, 3, 1280, 1280)\n"
     ]
    },
    {
     "name": "stderr",
     "output_type": "stream",
     "text": [
      "Embedding extraction: 1it [00:00,  8.25it/s]\n",
      "FutureWarning: 'force_all_finite' was renamed to 'ensure_all_finite' in 1.6 and will be removed in 1.8.\n",
      "Processing frames:   8%|▊         | 48/599 [00:11<02:13,  4.13it/s]"
     ]
    },
    {
     "name": "stdout",
     "output_type": "stream",
     "text": [
      "\n",
      "0: 1280x1280 21 players, 4 referees, 67.9ms\n",
      "Speed: 6.1ms preprocess, 67.9ms inference, 1.0ms postprocess per image at shape (1, 3, 1280, 1280)\n"
     ]
    },
    {
     "name": "stderr",
     "output_type": "stream",
     "text": [
      "Embedding extraction: 1it [00:00,  8.43it/s]\n",
      "FutureWarning: 'force_all_finite' was renamed to 'ensure_all_finite' in 1.6 and will be removed in 1.8.\n",
      "Processing frames:   8%|▊         | 49/599 [00:11<02:11,  4.17it/s]"
     ]
    },
    {
     "name": "stdout",
     "output_type": "stream",
     "text": [
      "\n",
      "0: 1280x1280 20 players, 4 referees, 67.6ms\n",
      "Speed: 6.1ms preprocess, 67.6ms inference, 1.0ms postprocess per image at shape (1, 3, 1280, 1280)\n"
     ]
    },
    {
     "name": "stderr",
     "output_type": "stream",
     "text": [
      "Embedding extraction: 1it [00:00,  8.26it/s]\n",
      "FutureWarning: 'force_all_finite' was renamed to 'ensure_all_finite' in 1.6 and will be removed in 1.8.\n",
      "Processing frames:   8%|▊         | 50/599 [00:11<02:11,  4.18it/s]"
     ]
    },
    {
     "name": "stdout",
     "output_type": "stream",
     "text": [
      "\n",
      "0: 1280x1280 20 players, 4 referees, 67.8ms\n",
      "Speed: 6.1ms preprocess, 67.8ms inference, 0.9ms postprocess per image at shape (1, 3, 1280, 1280)\n"
     ]
    },
    {
     "name": "stderr",
     "output_type": "stream",
     "text": [
      "Embedding extraction: 1it [00:00,  9.05it/s]\n",
      "FutureWarning: 'force_all_finite' was renamed to 'ensure_all_finite' in 1.6 and will be removed in 1.8.\n",
      "Processing frames:   9%|▊         | 51/599 [00:12<02:08,  4.25it/s]"
     ]
    },
    {
     "name": "stdout",
     "output_type": "stream",
     "text": [
      "\n",
      "0: 1280x1280 20 players, 3 referees, 67.3ms\n",
      "Speed: 9.2ms preprocess, 67.3ms inference, 1.0ms postprocess per image at shape (1, 3, 1280, 1280)\n"
     ]
    },
    {
     "name": "stderr",
     "output_type": "stream",
     "text": [
      "Embedding extraction: 1it [00:00,  8.06it/s]\n",
      "FutureWarning: 'force_all_finite' was renamed to 'ensure_all_finite' in 1.6 and will be removed in 1.8.\n",
      "Processing frames:   9%|▊         | 52/599 [00:12<02:10,  4.20it/s]"
     ]
    },
    {
     "name": "stdout",
     "output_type": "stream",
     "text": [
      "\n",
      "0: 1280x1280 20 players, 3 referees, 67.9ms\n",
      "Speed: 9.9ms preprocess, 67.9ms inference, 1.0ms postprocess per image at shape (1, 3, 1280, 1280)\n"
     ]
    },
    {
     "name": "stderr",
     "output_type": "stream",
     "text": [
      "Embedding extraction: 1it [00:00,  8.17it/s]\n",
      "FutureWarning: 'force_all_finite' was renamed to 'ensure_all_finite' in 1.6 and will be removed in 1.8.\n",
      "Processing frames:   9%|▉         | 53/599 [00:12<02:10,  4.17it/s]"
     ]
    },
    {
     "name": "stdout",
     "output_type": "stream",
     "text": [
      "\n",
      "0: 1280x1280 20 players, 3 referees, 68.1ms\n",
      "Speed: 6.1ms preprocess, 68.1ms inference, 1.0ms postprocess per image at shape (1, 3, 1280, 1280)\n"
     ]
    },
    {
     "name": "stderr",
     "output_type": "stream",
     "text": [
      "Embedding extraction: 1it [00:00,  8.19it/s]\n",
      "FutureWarning: 'force_all_finite' was renamed to 'ensure_all_finite' in 1.6 and will be removed in 1.8.\n",
      "Processing frames:   9%|▉         | 54/599 [00:12<02:10,  4.17it/s]"
     ]
    },
    {
     "name": "stdout",
     "output_type": "stream",
     "text": [
      "\n",
      "0: 1280x1280 1 ball, 20 players, 3 referees, 67.9ms\n",
      "Speed: 6.0ms preprocess, 67.9ms inference, 1.0ms postprocess per image at shape (1, 3, 1280, 1280)\n"
     ]
    },
    {
     "name": "stderr",
     "output_type": "stream",
     "text": [
      "Embedding extraction: 1it [00:00,  8.35it/s]\n",
      "FutureWarning: 'force_all_finite' was renamed to 'ensure_all_finite' in 1.6 and will be removed in 1.8.\n",
      "Processing frames:   9%|▉         | 55/599 [00:13<02:09,  4.19it/s]"
     ]
    },
    {
     "name": "stdout",
     "output_type": "stream",
     "text": [
      "\n",
      "0: 1280x1280 1 ball, 20 players, 3 referees, 67.6ms\n",
      "Speed: 7.0ms preprocess, 67.6ms inference, 1.0ms postprocess per image at shape (1, 3, 1280, 1280)\n"
     ]
    },
    {
     "name": "stderr",
     "output_type": "stream",
     "text": [
      "Embedding extraction: 1it [00:00,  8.09it/s]\n",
      "FutureWarning: 'force_all_finite' was renamed to 'ensure_all_finite' in 1.6 and will be removed in 1.8.\n",
      "Processing frames:   9%|▉         | 56/599 [00:13<02:10,  4.17it/s]"
     ]
    },
    {
     "name": "stdout",
     "output_type": "stream",
     "text": [
      "\n",
      "0: 1280x1280 19 players, 4 referees, 67.6ms\n",
      "Speed: 6.2ms preprocess, 67.6ms inference, 0.9ms postprocess per image at shape (1, 3, 1280, 1280)\n"
     ]
    },
    {
     "name": "stderr",
     "output_type": "stream",
     "text": [
      "Embedding extraction: 1it [00:00,  8.27it/s]\n",
      "FutureWarning: 'force_all_finite' was renamed to 'ensure_all_finite' in 1.6 and will be removed in 1.8.\n",
      "Processing frames:  10%|▉         | 57/599 [00:13<02:09,  4.18it/s]"
     ]
    },
    {
     "name": "stdout",
     "output_type": "stream",
     "text": [
      "\n",
      "0: 1280x1280 20 players, 3 referees, 67.6ms\n",
      "Speed: 8.3ms preprocess, 67.6ms inference, 1.0ms postprocess per image at shape (1, 3, 1280, 1280)\n"
     ]
    },
    {
     "name": "stderr",
     "output_type": "stream",
     "text": [
      "Embedding extraction: 1it [00:00,  8.32it/s]\n",
      "FutureWarning: 'force_all_finite' was renamed to 'ensure_all_finite' in 1.6 and will be removed in 1.8.\n",
      "Processing frames:  10%|▉         | 58/599 [00:13<02:09,  4.17it/s]"
     ]
    },
    {
     "name": "stdout",
     "output_type": "stream",
     "text": [
      "\n",
      "0: 1280x1280 1 ball, 20 players, 3 referees, 67.3ms\n",
      "Speed: 6.0ms preprocess, 67.3ms inference, 1.1ms postprocess per image at shape (1, 3, 1280, 1280)\n"
     ]
    },
    {
     "name": "stderr",
     "output_type": "stream",
     "text": [
      "Embedding extraction: 1it [00:00,  8.19it/s]\n",
      "FutureWarning: 'force_all_finite' was renamed to 'ensure_all_finite' in 1.6 and will be removed in 1.8.\n",
      "Processing frames:  10%|▉         | 59/599 [00:14<02:09,  4.18it/s]"
     ]
    },
    {
     "name": "stdout",
     "output_type": "stream",
     "text": [
      "\n",
      "0: 1280x1280 1 ball, 20 players, 3 referees, 67.5ms\n",
      "Speed: 6.0ms preprocess, 67.5ms inference, 1.0ms postprocess per image at shape (1, 3, 1280, 1280)\n"
     ]
    },
    {
     "name": "stderr",
     "output_type": "stream",
     "text": [
      "Embedding extraction: 1it [00:00,  8.26it/s]\n",
      "FutureWarning: 'force_all_finite' was renamed to 'ensure_all_finite' in 1.6 and will be removed in 1.8.\n",
      "Processing frames:  10%|█         | 60/599 [00:14<02:08,  4.19it/s]"
     ]
    },
    {
     "name": "stdout",
     "output_type": "stream",
     "text": [
      "\n",
      "0: 1280x1280 1 ball, 20 players, 3 referees, 67.9ms\n",
      "Speed: 6.0ms preprocess, 67.9ms inference, 1.0ms postprocess per image at shape (1, 3, 1280, 1280)\n"
     ]
    },
    {
     "name": "stderr",
     "output_type": "stream",
     "text": [
      "Embedding extraction: 1it [00:00,  8.31it/s]\n",
      "FutureWarning: 'force_all_finite' was renamed to 'ensure_all_finite' in 1.6 and will be removed in 1.8.\n",
      "Processing frames:  10%|█         | 61/599 [00:14<02:08,  4.20it/s]"
     ]
    },
    {
     "name": "stdout",
     "output_type": "stream",
     "text": [
      "\n",
      "0: 1280x1280 1 ball, 20 players, 3 referees, 67.9ms\n",
      "Speed: 6.2ms preprocess, 67.9ms inference, 1.0ms postprocess per image at shape (1, 3, 1280, 1280)\n"
     ]
    },
    {
     "name": "stderr",
     "output_type": "stream",
     "text": [
      "Embedding extraction: 1it [00:00,  8.38it/s]\n",
      "FutureWarning: 'force_all_finite' was renamed to 'ensure_all_finite' in 1.6 and will be removed in 1.8.\n",
      "Processing frames:  10%|█         | 62/599 [00:14<02:07,  4.20it/s]"
     ]
    },
    {
     "name": "stdout",
     "output_type": "stream",
     "text": [
      "\n",
      "0: 1280x1280 1 ball, 20 players, 3 referees, 68.0ms\n",
      "Speed: 8.5ms preprocess, 68.0ms inference, 1.0ms postprocess per image at shape (1, 3, 1280, 1280)\n"
     ]
    },
    {
     "name": "stderr",
     "output_type": "stream",
     "text": [
      "Embedding extraction: 1it [00:00,  8.23it/s]\n",
      "FutureWarning: 'force_all_finite' was renamed to 'ensure_all_finite' in 1.6 and will be removed in 1.8.\n",
      "Processing frames:  11%|█         | 63/599 [00:15<02:08,  4.16it/s]"
     ]
    },
    {
     "name": "stdout",
     "output_type": "stream",
     "text": [
      "\n",
      "0: 1280x1280 1 ball, 21 players, 3 referees, 67.7ms\n",
      "Speed: 6.1ms preprocess, 67.7ms inference, 1.0ms postprocess per image at shape (1, 3, 1280, 1280)\n"
     ]
    },
    {
     "name": "stderr",
     "output_type": "stream",
     "text": [
      "Embedding extraction: 1it [00:00,  8.37it/s]\n",
      "FutureWarning: 'force_all_finite' was renamed to 'ensure_all_finite' in 1.6 and will be removed in 1.8.\n",
      "Processing frames:  11%|█         | 64/599 [00:15<02:08,  4.18it/s]"
     ]
    },
    {
     "name": "stdout",
     "output_type": "stream",
     "text": [
      "\n",
      "0: 1280x1280 1 ball, 20 players, 3 referees, 67.9ms\n",
      "Speed: 6.1ms preprocess, 67.9ms inference, 1.0ms postprocess per image at shape (1, 3, 1280, 1280)\n"
     ]
    },
    {
     "name": "stderr",
     "output_type": "stream",
     "text": [
      "Embedding extraction: 1it [00:00,  8.33it/s]\n",
      "FutureWarning: 'force_all_finite' was renamed to 'ensure_all_finite' in 1.6 and will be removed in 1.8.\n",
      "Processing frames:  11%|█         | 65/599 [00:15<02:07,  4.19it/s]"
     ]
    },
    {
     "name": "stdout",
     "output_type": "stream",
     "text": [
      "\n",
      "0: 1280x1280 1 ball, 20 players, 3 referees, 67.6ms\n",
      "Speed: 6.2ms preprocess, 67.6ms inference, 1.0ms postprocess per image at shape (1, 3, 1280, 1280)\n"
     ]
    },
    {
     "name": "stderr",
     "output_type": "stream",
     "text": [
      "Embedding extraction: 1it [00:00,  8.32it/s]\n",
      "FutureWarning: 'force_all_finite' was renamed to 'ensure_all_finite' in 1.6 and will be removed in 1.8.\n",
      "Processing frames:  11%|█         | 66/599 [00:15<02:07,  4.19it/s]"
     ]
    },
    {
     "name": "stdout",
     "output_type": "stream",
     "text": [
      "\n",
      "0: 1280x1280 1 ball, 20 players, 3 referees, 67.4ms\n",
      "Speed: 6.2ms preprocess, 67.4ms inference, 1.0ms postprocess per image at shape (1, 3, 1280, 1280)\n"
     ]
    },
    {
     "name": "stderr",
     "output_type": "stream",
     "text": [
      "Embedding extraction: 1it [00:00,  8.37it/s]\n",
      "FutureWarning: 'force_all_finite' was renamed to 'ensure_all_finite' in 1.6 and will be removed in 1.8.\n",
      "Processing frames:  11%|█         | 67/599 [00:16<02:06,  4.19it/s]"
     ]
    },
    {
     "name": "stdout",
     "output_type": "stream",
     "text": [
      "\n",
      "0: 1280x1280 1 ball, 20 players, 3 referees, 67.7ms\n",
      "Speed: 6.1ms preprocess, 67.7ms inference, 1.0ms postprocess per image at shape (1, 3, 1280, 1280)\n"
     ]
    },
    {
     "name": "stderr",
     "output_type": "stream",
     "text": [
      "Embedding extraction: 1it [00:00,  9.07it/s]\n",
      "FutureWarning: 'force_all_finite' was renamed to 'ensure_all_finite' in 1.6 and will be removed in 1.8.\n",
      "Processing frames:  11%|█▏        | 68/599 [00:16<02:04,  4.26it/s]"
     ]
    },
    {
     "name": "stdout",
     "output_type": "stream",
     "text": [
      "\n",
      "0: 1280x1280 1 ball, 20 players, 3 referees, 68.0ms\n",
      "Speed: 6.1ms preprocess, 68.0ms inference, 1.0ms postprocess per image at shape (1, 3, 1280, 1280)\n"
     ]
    },
    {
     "name": "stderr",
     "output_type": "stream",
     "text": [
      "Embedding extraction: 1it [00:00,  8.31it/s]\n",
      "FutureWarning: 'force_all_finite' was renamed to 'ensure_all_finite' in 1.6 and will be removed in 1.8.\n",
      "Processing frames:  12%|█▏        | 69/599 [00:16<02:05,  4.24it/s]"
     ]
    },
    {
     "name": "stdout",
     "output_type": "stream",
     "text": [
      "\n",
      "0: 1280x1280 1 ball, 20 players, 3 referees, 68.1ms\n",
      "Speed: 8.2ms preprocess, 68.1ms inference, 1.0ms postprocess per image at shape (1, 3, 1280, 1280)\n"
     ]
    },
    {
     "name": "stderr",
     "output_type": "stream",
     "text": [
      "Embedding extraction: 1it [00:00,  8.30it/s]\n",
      "FutureWarning: 'force_all_finite' was renamed to 'ensure_all_finite' in 1.6 and will be removed in 1.8.\n",
      "Processing frames:  12%|█▏        | 70/599 [00:16<02:05,  4.21it/s]"
     ]
    },
    {
     "name": "stdout",
     "output_type": "stream",
     "text": [
      "\n",
      "0: 1280x1280 1 ball, 20 players, 3 referees, 68.4ms\n",
      "Speed: 6.2ms preprocess, 68.4ms inference, 1.0ms postprocess per image at shape (1, 3, 1280, 1280)\n"
     ]
    },
    {
     "name": "stderr",
     "output_type": "stream",
     "text": [
      "Embedding extraction: 1it [00:00,  8.42it/s]\n",
      "FutureWarning: 'force_all_finite' was renamed to 'ensure_all_finite' in 1.6 and will be removed in 1.8.\n",
      "Processing frames:  12%|█▏        | 71/599 [00:17<02:07,  4.13it/s]"
     ]
    },
    {
     "name": "stdout",
     "output_type": "stream",
     "text": [
      "\n",
      "0: 1280x1280 1 ball, 21 players, 3 referees, 67.7ms\n",
      "Speed: 6.0ms preprocess, 67.7ms inference, 1.1ms postprocess per image at shape (1, 3, 1280, 1280)\n"
     ]
    },
    {
     "name": "stderr",
     "output_type": "stream",
     "text": [
      "Embedding extraction: 1it [00:00,  8.29it/s]\n",
      "FutureWarning: 'force_all_finite' was renamed to 'ensure_all_finite' in 1.6 and will be removed in 1.8.\n",
      "Processing frames:  12%|█▏        | 72/599 [00:17<02:06,  4.16it/s]"
     ]
    },
    {
     "name": "stdout",
     "output_type": "stream",
     "text": [
      "\n",
      "0: 1280x1280 1 ball, 20 players, 3 referees, 68.3ms\n",
      "Speed: 6.2ms preprocess, 68.3ms inference, 1.0ms postprocess per image at shape (1, 3, 1280, 1280)\n"
     ]
    },
    {
     "name": "stderr",
     "output_type": "stream",
     "text": [
      "Embedding extraction: 1it [00:00,  8.34it/s]\n",
      "FutureWarning: 'force_all_finite' was renamed to 'ensure_all_finite' in 1.6 and will be removed in 1.8.\n",
      "Processing frames:  12%|█▏        | 73/599 [00:17<02:06,  4.17it/s]"
     ]
    },
    {
     "name": "stdout",
     "output_type": "stream",
     "text": [
      "\n",
      "0: 1280x1280 1 ball, 20 players, 4 referees, 67.7ms\n",
      "Speed: 6.1ms preprocess, 67.7ms inference, 1.0ms postprocess per image at shape (1, 3, 1280, 1280)\n"
     ]
    },
    {
     "name": "stderr",
     "output_type": "stream",
     "text": [
      "Embedding extraction: 1it [00:00,  8.25it/s]\n",
      "FutureWarning: 'force_all_finite' was renamed to 'ensure_all_finite' in 1.6 and will be removed in 1.8.\n",
      "Processing frames:  12%|█▏        | 74/599 [00:17<02:05,  4.18it/s]"
     ]
    },
    {
     "name": "stdout",
     "output_type": "stream",
     "text": [
      "\n",
      "0: 1280x1280 1 ball, 20 players, 4 referees, 67.8ms\n",
      "Speed: 7.6ms preprocess, 67.8ms inference, 1.0ms postprocess per image at shape (1, 3, 1280, 1280)\n"
     ]
    },
    {
     "name": "stderr",
     "output_type": "stream",
     "text": [
      "Embedding extraction: 1it [00:00,  8.24it/s]\n",
      "FutureWarning: 'force_all_finite' was renamed to 'ensure_all_finite' in 1.6 and will be removed in 1.8.\n",
      "Processing frames:  13%|█▎        | 75/599 [00:17<02:05,  4.17it/s]"
     ]
    },
    {
     "name": "stdout",
     "output_type": "stream",
     "text": [
      "\n",
      "0: 1280x1280 1 ball, 20 players, 4 referees, 67.8ms\n",
      "Speed: 10.8ms preprocess, 67.8ms inference, 1.0ms postprocess per image at shape (1, 3, 1280, 1280)\n"
     ]
    },
    {
     "name": "stderr",
     "output_type": "stream",
     "text": [
      "Embedding extraction: 1it [00:00,  8.19it/s]\n",
      "FutureWarning: 'force_all_finite' was renamed to 'ensure_all_finite' in 1.6 and will be removed in 1.8.\n",
      "Processing frames:  13%|█▎        | 76/599 [00:18<02:05,  4.15it/s]"
     ]
    },
    {
     "name": "stdout",
     "output_type": "stream",
     "text": [
      "\n",
      "0: 1280x1280 1 ball, 20 players, 3 referees, 67.4ms\n",
      "Speed: 9.9ms preprocess, 67.4ms inference, 1.1ms postprocess per image at shape (1, 3, 1280, 1280)\n"
     ]
    },
    {
     "name": "stderr",
     "output_type": "stream",
     "text": [
      "Embedding extraction: 1it [00:00,  8.30it/s]\n",
      "FutureWarning: 'force_all_finite' was renamed to 'ensure_all_finite' in 1.6 and will be removed in 1.8.\n",
      "Processing frames:  13%|█▎        | 77/599 [00:18<02:05,  4.15it/s]"
     ]
    },
    {
     "name": "stdout",
     "output_type": "stream",
     "text": [
      "\n",
      "0: 1280x1280 1 ball, 20 players, 3 referees, 68.0ms\n",
      "Speed: 6.2ms preprocess, 68.0ms inference, 1.0ms postprocess per image at shape (1, 3, 1280, 1280)\n"
     ]
    },
    {
     "name": "stderr",
     "output_type": "stream",
     "text": [
      "Embedding extraction: 1it [00:00,  8.32it/s]\n",
      "FutureWarning: 'force_all_finite' was renamed to 'ensure_all_finite' in 1.6 and will be removed in 1.8.\n",
      "Processing frames:  13%|█▎        | 78/599 [00:18<02:04,  4.17it/s]"
     ]
    },
    {
     "name": "stdout",
     "output_type": "stream",
     "text": [
      "\n",
      "0: 1280x1280 1 ball, 20 players, 3 referees, 67.9ms\n",
      "Speed: 9.2ms preprocess, 67.9ms inference, 1.0ms postprocess per image at shape (1, 3, 1280, 1280)\n"
     ]
    },
    {
     "name": "stderr",
     "output_type": "stream",
     "text": [
      "Embedding extraction: 1it [00:00,  8.30it/s]\n",
      "FutureWarning: 'force_all_finite' was renamed to 'ensure_all_finite' in 1.6 and will be removed in 1.8.\n",
      "Processing frames:  13%|█▎        | 79/599 [00:18<02:04,  4.16it/s]"
     ]
    },
    {
     "name": "stdout",
     "output_type": "stream",
     "text": [
      "\n",
      "0: 1280x1280 1 ball, 20 players, 3 referees, 68.3ms\n",
      "Speed: 6.2ms preprocess, 68.3ms inference, 1.0ms postprocess per image at shape (1, 3, 1280, 1280)\n"
     ]
    },
    {
     "name": "stderr",
     "output_type": "stream",
     "text": [
      "Embedding extraction: 1it [00:00,  8.22it/s]\n",
      "FutureWarning: 'force_all_finite' was renamed to 'ensure_all_finite' in 1.6 and will be removed in 1.8.\n",
      "Processing frames:  13%|█▎        | 80/599 [00:19<02:04,  4.16it/s]"
     ]
    },
    {
     "name": "stdout",
     "output_type": "stream",
     "text": [
      "\n",
      "0: 1280x1280 1 ball, 20 players, 3 referees, 68.0ms\n",
      "Speed: 6.0ms preprocess, 68.0ms inference, 1.0ms postprocess per image at shape (1, 3, 1280, 1280)\n"
     ]
    },
    {
     "name": "stderr",
     "output_type": "stream",
     "text": [
      "Embedding extraction: 1it [00:00,  8.31it/s]\n",
      "FutureWarning: 'force_all_finite' was renamed to 'ensure_all_finite' in 1.6 and will be removed in 1.8.\n",
      "Processing frames:  14%|█▎        | 81/599 [00:19<02:04,  4.16it/s]"
     ]
    },
    {
     "name": "stdout",
     "output_type": "stream",
     "text": [
      "\n",
      "0: 1280x1280 1 ball, 20 players, 3 referees, 67.9ms\n",
      "Speed: 6.6ms preprocess, 67.9ms inference, 1.0ms postprocess per image at shape (1, 3, 1280, 1280)\n"
     ]
    },
    {
     "name": "stderr",
     "output_type": "stream",
     "text": [
      "Embedding extraction: 1it [00:00,  8.20it/s]\n",
      "FutureWarning: 'force_all_finite' was renamed to 'ensure_all_finite' in 1.6 and will be removed in 1.8.\n",
      "Processing frames:  14%|█▎        | 82/599 [00:19<02:04,  4.16it/s]"
     ]
    },
    {
     "name": "stdout",
     "output_type": "stream",
     "text": [
      "\n",
      "0: 1280x1280 1 ball, 20 players, 3 referees, 67.9ms\n",
      "Speed: 6.2ms preprocess, 67.9ms inference, 1.0ms postprocess per image at shape (1, 3, 1280, 1280)\n"
     ]
    },
    {
     "name": "stderr",
     "output_type": "stream",
     "text": [
      "Embedding extraction: 1it [00:00,  8.31it/s]\n",
      "FutureWarning: 'force_all_finite' was renamed to 'ensure_all_finite' in 1.6 and will be removed in 1.8.\n",
      "Processing frames:  14%|█▍        | 83/599 [00:19<02:03,  4.17it/s]"
     ]
    },
    {
     "name": "stdout",
     "output_type": "stream",
     "text": [
      "\n",
      "0: 1280x1280 1 ball, 20 players, 3 referees, 68.0ms\n",
      "Speed: 6.2ms preprocess, 68.0ms inference, 1.0ms postprocess per image at shape (1, 3, 1280, 1280)\n"
     ]
    },
    {
     "name": "stderr",
     "output_type": "stream",
     "text": [
      "Embedding extraction: 1it [00:00,  8.28it/s]\n",
      "FutureWarning: 'force_all_finite' was renamed to 'ensure_all_finite' in 1.6 and will be removed in 1.8.\n",
      "Processing frames:  14%|█▍        | 84/599 [00:20<02:03,  4.18it/s]"
     ]
    },
    {
     "name": "stdout",
     "output_type": "stream",
     "text": [
      "\n",
      "0: 1280x1280 1 ball, 20 players, 3 referees, 67.5ms\n",
      "Speed: 10.3ms preprocess, 67.5ms inference, 1.1ms postprocess per image at shape (1, 3, 1280, 1280)\n"
     ]
    },
    {
     "name": "stderr",
     "output_type": "stream",
     "text": [
      "Embedding extraction: 1it [00:00,  8.39it/s]\n",
      "FutureWarning: 'force_all_finite' was renamed to 'ensure_all_finite' in 1.6 and will be removed in 1.8.\n",
      "Processing frames:  14%|█▍        | 85/599 [00:20<02:03,  4.17it/s]"
     ]
    },
    {
     "name": "stdout",
     "output_type": "stream",
     "text": [
      "\n",
      "0: 1280x1280 1 ball, 20 players, 3 referees, 67.7ms\n",
      "Speed: 9.2ms preprocess, 67.7ms inference, 1.1ms postprocess per image at shape (1, 3, 1280, 1280)\n"
     ]
    },
    {
     "name": "stderr",
     "output_type": "stream",
     "text": [
      "Embedding extraction: 1it [00:00,  8.27it/s]\n",
      "FutureWarning: 'force_all_finite' was renamed to 'ensure_all_finite' in 1.6 and will be removed in 1.8.\n",
      "Processing frames:  14%|█▍        | 86/599 [00:20<02:03,  4.16it/s]"
     ]
    },
    {
     "name": "stdout",
     "output_type": "stream",
     "text": [
      "\n",
      "0: 1280x1280 1 ball, 20 players, 3 referees, 67.5ms\n",
      "Speed: 6.1ms preprocess, 67.5ms inference, 1.0ms postprocess per image at shape (1, 3, 1280, 1280)\n"
     ]
    },
    {
     "name": "stderr",
     "output_type": "stream",
     "text": [
      "Embedding extraction: 1it [00:00,  8.31it/s]\n",
      "FutureWarning: 'force_all_finite' was renamed to 'ensure_all_finite' in 1.6 and will be removed in 1.8.\n",
      "Processing frames:  15%|█▍        | 87/599 [00:20<02:02,  4.17it/s]"
     ]
    },
    {
     "name": "stdout",
     "output_type": "stream",
     "text": [
      "\n",
      "0: 1280x1280 1 ball, 20 players, 3 referees, 67.2ms\n",
      "Speed: 10.9ms preprocess, 67.2ms inference, 1.0ms postprocess per image at shape (1, 3, 1280, 1280)\n"
     ]
    },
    {
     "name": "stderr",
     "output_type": "stream",
     "text": [
      "Embedding extraction: 1it [00:00,  8.40it/s]\n",
      "FutureWarning: 'force_all_finite' was renamed to 'ensure_all_finite' in 1.6 and will be removed in 1.8.\n",
      "Processing frames:  15%|█▍        | 88/599 [00:21<02:02,  4.17it/s]"
     ]
    },
    {
     "name": "stdout",
     "output_type": "stream",
     "text": [
      "\n",
      "0: 1280x1280 1 ball, 20 players, 3 referees, 68.1ms\n",
      "Speed: 6.1ms preprocess, 68.1ms inference, 1.0ms postprocess per image at shape (1, 3, 1280, 1280)\n"
     ]
    },
    {
     "name": "stderr",
     "output_type": "stream",
     "text": [
      "Embedding extraction: 1it [00:00,  8.25it/s]\n",
      "FutureWarning: 'force_all_finite' was renamed to 'ensure_all_finite' in 1.6 and will be removed in 1.8.\n",
      "Processing frames:  15%|█▍        | 89/599 [00:21<02:02,  4.17it/s]"
     ]
    },
    {
     "name": "stdout",
     "output_type": "stream",
     "text": [
      "\n",
      "0: 1280x1280 1 ball, 20 players, 3 referees, 67.2ms\n",
      "Speed: 9.5ms preprocess, 67.2ms inference, 1.0ms postprocess per image at shape (1, 3, 1280, 1280)\n"
     ]
    },
    {
     "name": "stderr",
     "output_type": "stream",
     "text": [
      "Embedding extraction: 1it [00:00,  8.29it/s]\n",
      "FutureWarning: 'force_all_finite' was renamed to 'ensure_all_finite' in 1.6 and will be removed in 1.8.\n",
      "Processing frames:  15%|█▌        | 90/599 [00:21<02:02,  4.16it/s]"
     ]
    },
    {
     "name": "stdout",
     "output_type": "stream",
     "text": [
      "\n",
      "0: 1280x1280 1 ball, 20 players, 3 referees, 67.7ms\n",
      "Speed: 6.7ms preprocess, 67.7ms inference, 1.0ms postprocess per image at shape (1, 3, 1280, 1280)\n"
     ]
    },
    {
     "name": "stderr",
     "output_type": "stream",
     "text": [
      "Embedding extraction: 1it [00:00,  8.33it/s]\n",
      "FutureWarning: 'force_all_finite' was renamed to 'ensure_all_finite' in 1.6 and will be removed in 1.8.\n",
      "Processing frames:  15%|█▌        | 91/599 [00:21<02:01,  4.18it/s]"
     ]
    },
    {
     "name": "stdout",
     "output_type": "stream",
     "text": [
      "\n",
      "0: 1280x1280 20 players, 3 referees, 67.7ms\n",
      "Speed: 6.2ms preprocess, 67.7ms inference, 1.0ms postprocess per image at shape (1, 3, 1280, 1280)\n"
     ]
    },
    {
     "name": "stderr",
     "output_type": "stream",
     "text": [
      "Embedding extraction: 1it [00:00,  8.25it/s]\n",
      "FutureWarning: 'force_all_finite' was renamed to 'ensure_all_finite' in 1.6 and will be removed in 1.8.\n",
      "Processing frames:  15%|█▌        | 92/599 [00:22<02:01,  4.18it/s]"
     ]
    },
    {
     "name": "stdout",
     "output_type": "stream",
     "text": [
      "\n",
      "0: 1280x1280 20 players, 3 referees, 67.8ms\n",
      "Speed: 6.3ms preprocess, 67.8ms inference, 1.0ms postprocess per image at shape (1, 3, 1280, 1280)\n"
     ]
    },
    {
     "name": "stderr",
     "output_type": "stream",
     "text": [
      "Embedding extraction: 1it [00:00,  8.17it/s]\n",
      "FutureWarning: 'force_all_finite' was renamed to 'ensure_all_finite' in 1.6 and will be removed in 1.8.\n",
      "Processing frames:  16%|█▌        | 93/599 [00:22<02:01,  4.18it/s]"
     ]
    },
    {
     "name": "stdout",
     "output_type": "stream",
     "text": [
      "\n",
      "0: 1280x1280 21 players, 3 referees, 68.2ms\n",
      "Speed: 9.4ms preprocess, 68.2ms inference, 1.0ms postprocess per image at shape (1, 3, 1280, 1280)\n"
     ]
    },
    {
     "name": "stderr",
     "output_type": "stream",
     "text": [
      "Embedding extraction: 1it [00:00,  8.32it/s]\n",
      "FutureWarning: 'force_all_finite' was renamed to 'ensure_all_finite' in 1.6 and will be removed in 1.8.\n",
      "Processing frames:  16%|█▌        | 94/599 [00:22<02:01,  4.17it/s]"
     ]
    },
    {
     "name": "stdout",
     "output_type": "stream",
     "text": [
      "\n",
      "0: 1280x1280 20 players, 3 referees, 67.9ms\n",
      "Speed: 6.1ms preprocess, 67.9ms inference, 1.1ms postprocess per image at shape (1, 3, 1280, 1280)\n"
     ]
    },
    {
     "name": "stderr",
     "output_type": "stream",
     "text": [
      "Embedding extraction: 1it [00:00,  8.27it/s]\n",
      "FutureWarning: 'force_all_finite' was renamed to 'ensure_all_finite' in 1.6 and will be removed in 1.8.\n",
      "Processing frames:  16%|█▌        | 95/599 [00:22<02:01,  4.16it/s]"
     ]
    },
    {
     "name": "stdout",
     "output_type": "stream",
     "text": [
      "\n",
      "0: 1280x1280 20 players, 3 referees, 68.0ms\n",
      "Speed: 6.4ms preprocess, 68.0ms inference, 1.3ms postprocess per image at shape (1, 3, 1280, 1280)\n"
     ]
    },
    {
     "name": "stderr",
     "output_type": "stream",
     "text": [
      "Embedding extraction: 1it [00:00,  8.24it/s]\n",
      "FutureWarning: 'force_all_finite' was renamed to 'ensure_all_finite' in 1.6 and will be removed in 1.8.\n",
      "Processing frames:  16%|█▌        | 96/599 [00:23<02:01,  4.14it/s]"
     ]
    },
    {
     "name": "stdout",
     "output_type": "stream",
     "text": [
      "\n",
      "0: 1280x1280 20 players, 3 referees, 67.4ms\n",
      "Speed: 6.2ms preprocess, 67.4ms inference, 1.0ms postprocess per image at shape (1, 3, 1280, 1280)\n"
     ]
    },
    {
     "name": "stderr",
     "output_type": "stream",
     "text": [
      "Embedding extraction: 1it [00:00,  8.36it/s]\n",
      "FutureWarning: 'force_all_finite' was renamed to 'ensure_all_finite' in 1.6 and will be removed in 1.8.\n",
      "Processing frames:  16%|█▌        | 97/599 [00:23<02:00,  4.17it/s]"
     ]
    },
    {
     "name": "stdout",
     "output_type": "stream",
     "text": [
      "\n",
      "0: 1280x1280 20 players, 3 referees, 68.2ms\n",
      "Speed: 6.1ms preprocess, 68.2ms inference, 1.0ms postprocess per image at shape (1, 3, 1280, 1280)\n"
     ]
    },
    {
     "name": "stderr",
     "output_type": "stream",
     "text": [
      "Embedding extraction: 1it [00:00,  8.35it/s]\n",
      "FutureWarning: 'force_all_finite' was renamed to 'ensure_all_finite' in 1.6 and will be removed in 1.8.\n",
      "Processing frames:  16%|█▋        | 98/599 [00:23<02:00,  4.17it/s]"
     ]
    },
    {
     "name": "stdout",
     "output_type": "stream",
     "text": [
      "\n",
      "0: 1280x1280 1 ball, 20 players, 3 referees, 68.0ms\n",
      "Speed: 6.2ms preprocess, 68.0ms inference, 1.0ms postprocess per image at shape (1, 3, 1280, 1280)\n"
     ]
    },
    {
     "name": "stderr",
     "output_type": "stream",
     "text": [
      "Embedding extraction: 1it [00:00,  8.28it/s]\n",
      "FutureWarning: 'force_all_finite' was renamed to 'ensure_all_finite' in 1.6 and will be removed in 1.8.\n",
      "Processing frames:  17%|█▋        | 99/599 [00:23<01:59,  4.18it/s]"
     ]
    },
    {
     "name": "stdout",
     "output_type": "stream",
     "text": [
      "\n",
      "0: 1280x1280 1 ball, 20 players, 3 referees, 67.6ms\n",
      "Speed: 10.8ms preprocess, 67.6ms inference, 1.0ms postprocess per image at shape (1, 3, 1280, 1280)\n"
     ]
    },
    {
     "name": "stderr",
     "output_type": "stream",
     "text": [
      "Embedding extraction: 1it [00:00,  8.27it/s]\n",
      "FutureWarning: 'force_all_finite' was renamed to 'ensure_all_finite' in 1.6 and will be removed in 1.8.\n",
      "Processing frames:  17%|█▋        | 100/599 [00:23<02:00,  4.16it/s]"
     ]
    },
    {
     "name": "stdout",
     "output_type": "stream",
     "text": [
      "\n",
      "0: 1280x1280 1 ball, 20 players, 3 referees, 67.9ms\n",
      "Speed: 6.2ms preprocess, 67.9ms inference, 1.0ms postprocess per image at shape (1, 3, 1280, 1280)\n"
     ]
    },
    {
     "name": "stderr",
     "output_type": "stream",
     "text": [
      "Embedding extraction: 1it [00:00,  8.31it/s]\n",
      "FutureWarning: 'force_all_finite' was renamed to 'ensure_all_finite' in 1.6 and will be removed in 1.8.\n",
      "Processing frames:  17%|█▋        | 101/599 [00:24<01:59,  4.17it/s]"
     ]
    },
    {
     "name": "stdout",
     "output_type": "stream",
     "text": [
      "\n",
      "0: 1280x1280 1 ball, 20 players, 3 referees, 67.6ms\n",
      "Speed: 9.5ms preprocess, 67.6ms inference, 1.0ms postprocess per image at shape (1, 3, 1280, 1280)\n"
     ]
    },
    {
     "name": "stderr",
     "output_type": "stream",
     "text": [
      "Embedding extraction: 1it [00:00,  8.29it/s]\n",
      "FutureWarning: 'force_all_finite' was renamed to 'ensure_all_finite' in 1.6 and will be removed in 1.8.\n",
      "Processing frames:  17%|█▋        | 102/599 [00:24<01:59,  4.16it/s]"
     ]
    },
    {
     "name": "stdout",
     "output_type": "stream",
     "text": [
      "\n",
      "0: 1280x1280 1 ball, 20 players, 3 referees, 68.0ms\n",
      "Speed: 6.1ms preprocess, 68.0ms inference, 1.0ms postprocess per image at shape (1, 3, 1280, 1280)\n"
     ]
    },
    {
     "name": "stderr",
     "output_type": "stream",
     "text": [
      "Embedding extraction: 1it [00:00,  8.28it/s]\n",
      "FutureWarning: 'force_all_finite' was renamed to 'ensure_all_finite' in 1.6 and will be removed in 1.8.\n",
      "Processing frames:  17%|█▋        | 103/599 [00:24<01:58,  4.17it/s]"
     ]
    },
    {
     "name": "stdout",
     "output_type": "stream",
     "text": [
      "\n",
      "0: 1280x1280 1 ball, 20 players, 4 referees, 68.3ms\n",
      "Speed: 6.1ms preprocess, 68.3ms inference, 1.1ms postprocess per image at shape (1, 3, 1280, 1280)\n"
     ]
    },
    {
     "name": "stderr",
     "output_type": "stream",
     "text": [
      "Embedding extraction: 1it [00:00,  8.13it/s]\n",
      "FutureWarning: 'force_all_finite' was renamed to 'ensure_all_finite' in 1.6 and will be removed in 1.8.\n",
      "Processing frames:  17%|█▋        | 104/599 [00:24<01:58,  4.17it/s]"
     ]
    },
    {
     "name": "stdout",
     "output_type": "stream",
     "text": [
      "\n",
      "0: 1280x1280 1 ball, 20 players, 3 referees, 68.1ms\n",
      "Speed: 6.1ms preprocess, 68.1ms inference, 1.0ms postprocess per image at shape (1, 3, 1280, 1280)\n"
     ]
    },
    {
     "name": "stderr",
     "output_type": "stream",
     "text": [
      "Embedding extraction: 1it [00:00,  8.28it/s]\n",
      "FutureWarning: 'force_all_finite' was renamed to 'ensure_all_finite' in 1.6 and will be removed in 1.8.\n",
      "Processing frames:  18%|█▊        | 105/599 [00:25<01:58,  4.17it/s]"
     ]
    },
    {
     "name": "stdout",
     "output_type": "stream",
     "text": [
      "\n",
      "0: 1280x1280 1 ball, 20 players, 3 referees, 68.1ms\n",
      "Speed: 6.2ms preprocess, 68.1ms inference, 1.0ms postprocess per image at shape (1, 3, 1280, 1280)\n"
     ]
    },
    {
     "name": "stderr",
     "output_type": "stream",
     "text": [
      "Embedding extraction: 1it [00:00,  8.22it/s]\n",
      "FutureWarning: 'force_all_finite' was renamed to 'ensure_all_finite' in 1.6 and will be removed in 1.8.\n",
      "Processing frames:  18%|█▊        | 106/599 [00:25<01:58,  4.18it/s]"
     ]
    },
    {
     "name": "stdout",
     "output_type": "stream",
     "text": [
      "\n",
      "0: 1280x1280 1 ball, 21 players, 3 referees, 67.7ms\n",
      "Speed: 6.1ms preprocess, 67.7ms inference, 1.0ms postprocess per image at shape (1, 3, 1280, 1280)\n"
     ]
    },
    {
     "name": "stderr",
     "output_type": "stream",
     "text": [
      "Embedding extraction: 1it [00:00,  7.66it/s]\n",
      "FutureWarning: 'force_all_finite' was renamed to 'ensure_all_finite' in 1.6 and will be removed in 1.8.\n",
      "Processing frames:  18%|█▊        | 107/599 [00:25<01:59,  4.11it/s]"
     ]
    },
    {
     "name": "stdout",
     "output_type": "stream",
     "text": [
      "\n",
      "0: 1280x1280 1 ball, 21 players, 2 referees, 67.5ms\n",
      "Speed: 10.8ms preprocess, 67.5ms inference, 1.0ms postprocess per image at shape (1, 3, 1280, 1280)\n"
     ]
    },
    {
     "name": "stderr",
     "output_type": "stream",
     "text": [
      "Embedding extraction: 1it [00:00,  7.64it/s]\n",
      "FutureWarning: 'force_all_finite' was renamed to 'ensure_all_finite' in 1.6 and will be removed in 1.8.\n",
      "Processing frames:  18%|█▊        | 108/599 [00:25<02:00,  4.06it/s]"
     ]
    },
    {
     "name": "stdout",
     "output_type": "stream",
     "text": [
      "\n",
      "0: 1280x1280 1 ball, 21 players, 2 referees, 67.8ms\n",
      "Speed: 6.2ms preprocess, 67.8ms inference, 1.0ms postprocess per image at shape (1, 3, 1280, 1280)\n"
     ]
    },
    {
     "name": "stderr",
     "output_type": "stream",
     "text": [
      "Embedding extraction: 1it [00:00,  7.71it/s]\n",
      "FutureWarning: 'force_all_finite' was renamed to 'ensure_all_finite' in 1.6 and will be removed in 1.8.\n",
      "Processing frames:  18%|█▊        | 109/599 [00:26<02:00,  4.05it/s]"
     ]
    },
    {
     "name": "stdout",
     "output_type": "stream",
     "text": [
      "\n",
      "0: 1280x1280 1 ball, 20 players, 3 referees, 68.2ms\n",
      "Speed: 6.1ms preprocess, 68.2ms inference, 1.0ms postprocess per image at shape (1, 3, 1280, 1280)\n"
     ]
    },
    {
     "name": "stderr",
     "output_type": "stream",
     "text": [
      "Embedding extraction: 1it [00:00,  8.26it/s]\n",
      "FutureWarning: 'force_all_finite' was renamed to 'ensure_all_finite' in 1.6 and will be removed in 1.8.\n",
      "Processing frames:  18%|█▊        | 110/599 [00:26<01:59,  4.10it/s]"
     ]
    },
    {
     "name": "stdout",
     "output_type": "stream",
     "text": [
      "\n",
      "0: 1280x1280 1 ball, 20 players, 3 referees, 68.4ms\n",
      "Speed: 6.0ms preprocess, 68.4ms inference, 1.1ms postprocess per image at shape (1, 3, 1280, 1280)\n"
     ]
    },
    {
     "name": "stderr",
     "output_type": "stream",
     "text": [
      "Embedding extraction: 1it [00:00,  8.28it/s]\n",
      "FutureWarning: 'force_all_finite' was renamed to 'ensure_all_finite' in 1.6 and will be removed in 1.8.\n",
      "Processing frames:  19%|█▊        | 111/599 [00:26<01:58,  4.12it/s]"
     ]
    },
    {
     "name": "stdout",
     "output_type": "stream",
     "text": [
      "\n",
      "0: 1280x1280 1 ball, 21 players, 3 referees, 68.5ms\n",
      "Speed: 6.1ms preprocess, 68.5ms inference, 1.0ms postprocess per image at shape (1, 3, 1280, 1280)\n"
     ]
    },
    {
     "name": "stderr",
     "output_type": "stream",
     "text": [
      "Embedding extraction: 1it [00:00,  7.63it/s]\n",
      "FutureWarning: 'force_all_finite' was renamed to 'ensure_all_finite' in 1.6 and will be removed in 1.8.\n",
      "Processing frames:  19%|█▊        | 112/599 [00:26<01:59,  4.09it/s]"
     ]
    },
    {
     "name": "stdout",
     "output_type": "stream",
     "text": [
      "\n",
      "0: 1280x1280 2 balls, 21 players, 2 referees, 68.1ms\n",
      "Speed: 6.1ms preprocess, 68.1ms inference, 1.0ms postprocess per image at shape (1, 3, 1280, 1280)\n"
     ]
    },
    {
     "name": "stderr",
     "output_type": "stream",
     "text": [
      "Embedding extraction: 1it [00:00,  7.68it/s]\n",
      "FutureWarning: 'force_all_finite' was renamed to 'ensure_all_finite' in 1.6 and will be removed in 1.8.\n",
      "Processing frames:  19%|█▉        | 113/599 [00:27<01:59,  4.06it/s]"
     ]
    },
    {
     "name": "stdout",
     "output_type": "stream",
     "text": [
      "\n",
      "0: 1280x1280 1 ball, 20 players, 3 referees, 68.7ms\n",
      "Speed: 6.3ms preprocess, 68.7ms inference, 1.0ms postprocess per image at shape (1, 3, 1280, 1280)\n"
     ]
    },
    {
     "name": "stderr",
     "output_type": "stream",
     "text": [
      "Embedding extraction: 1it [00:00,  8.23it/s]\n",
      "FutureWarning: 'force_all_finite' was renamed to 'ensure_all_finite' in 1.6 and will be removed in 1.8.\n",
      "Processing frames:  19%|█▉        | 114/599 [00:27<01:58,  4.09it/s]"
     ]
    },
    {
     "name": "stdout",
     "output_type": "stream",
     "text": [
      "\n",
      "0: 1280x1280 1 ball, 20 players, 3 referees, 68.1ms\n",
      "Speed: 8.3ms preprocess, 68.1ms inference, 1.0ms postprocess per image at shape (1, 3, 1280, 1280)\n"
     ]
    },
    {
     "name": "stderr",
     "output_type": "stream",
     "text": [
      "Embedding extraction: 1it [00:00,  8.25it/s]\n",
      "FutureWarning: 'force_all_finite' was renamed to 'ensure_all_finite' in 1.6 and will be removed in 1.8.\n",
      "Processing frames:  19%|█▉        | 115/599 [00:27<01:57,  4.11it/s]"
     ]
    },
    {
     "name": "stdout",
     "output_type": "stream",
     "text": [
      "\n",
      "0: 1280x1280 1 ball, 20 players, 3 referees, 67.6ms\n",
      "Speed: 10.8ms preprocess, 67.6ms inference, 1.1ms postprocess per image at shape (1, 3, 1280, 1280)\n"
     ]
    },
    {
     "name": "stderr",
     "output_type": "stream",
     "text": [
      "Embedding extraction: 1it [00:00,  8.24it/s]\n",
      "FutureWarning: 'force_all_finite' was renamed to 'ensure_all_finite' in 1.6 and will be removed in 1.8.\n",
      "Processing frames:  19%|█▉        | 116/599 [00:27<01:57,  4.10it/s]"
     ]
    },
    {
     "name": "stdout",
     "output_type": "stream",
     "text": [
      "\n",
      "0: 1280x1280 1 ball, 20 players, 3 referees, 67.7ms\n",
      "Speed: 6.4ms preprocess, 67.7ms inference, 1.3ms postprocess per image at shape (1, 3, 1280, 1280)\n"
     ]
    },
    {
     "name": "stderr",
     "output_type": "stream",
     "text": [
      "Embedding extraction: 1it [00:00,  8.21it/s]\n",
      "FutureWarning: 'force_all_finite' was renamed to 'ensure_all_finite' in 1.6 and will be removed in 1.8.\n",
      "Processing frames:  20%|█▉        | 117/599 [00:29<04:44,  1.70it/s]"
     ]
    },
    {
     "name": "stdout",
     "output_type": "stream",
     "text": [
      "Saved mini clip: app/test_data/predicted/actions/clip_001.mp4\n",
      "\n",
      "0: 1280x1280 1 ball, 20 players, 3 referees, 67.5ms\n",
      "Speed: 6.2ms preprocess, 67.5ms inference, 1.0ms postprocess per image at shape (1, 3, 1280, 1280)\n"
     ]
    },
    {
     "name": "stderr",
     "output_type": "stream",
     "text": [
      "Embedding extraction: 1it [00:00,  8.40it/s]\n",
      "FutureWarning: 'force_all_finite' was renamed to 'ensure_all_finite' in 1.6 and will be removed in 1.8.\n",
      "Processing frames:  20%|█▉        | 118/599 [00:29<03:52,  2.07it/s]"
     ]
    },
    {
     "name": "stdout",
     "output_type": "stream",
     "text": [
      "\n",
      "0: 1280x1280 1 ball, 20 players, 3 referees, 68.1ms\n",
      "Speed: 6.2ms preprocess, 68.1ms inference, 1.0ms postprocess per image at shape (1, 3, 1280, 1280)\n"
     ]
    },
    {
     "name": "stderr",
     "output_type": "stream",
     "text": [
      "Embedding extraction: 1it [00:00,  8.38it/s]\n",
      "FutureWarning: 'force_all_finite' was renamed to 'ensure_all_finite' in 1.6 and will be removed in 1.8.\n",
      "Processing frames:  20%|█▉        | 119/599 [00:29<03:16,  2.44it/s]"
     ]
    },
    {
     "name": "stdout",
     "output_type": "stream",
     "text": [
      "\n",
      "0: 1280x1280 20 players, 3 referees, 68.0ms\n",
      "Speed: 6.0ms preprocess, 68.0ms inference, 1.0ms postprocess per image at shape (1, 3, 1280, 1280)\n"
     ]
    },
    {
     "name": "stderr",
     "output_type": "stream",
     "text": [
      "Embedding extraction: 1it [00:00,  8.41it/s]\n",
      "FutureWarning: 'force_all_finite' was renamed to 'ensure_all_finite' in 1.6 and will be removed in 1.8.\n",
      "Processing frames:  20%|██        | 120/599 [00:29<02:51,  2.79it/s]"
     ]
    },
    {
     "name": "stdout",
     "output_type": "stream",
     "text": [
      "\n",
      "0: 1280x1280 1 ball, 20 players, 3 referees, 67.7ms\n",
      "Speed: 10.0ms preprocess, 67.7ms inference, 1.0ms postprocess per image at shape (1, 3, 1280, 1280)\n"
     ]
    },
    {
     "name": "stderr",
     "output_type": "stream",
     "text": [
      "Embedding extraction: 1it [00:00,  8.37it/s]\n",
      "FutureWarning: 'force_all_finite' was renamed to 'ensure_all_finite' in 1.6 and will be removed in 1.8.\n",
      "Processing frames:  20%|██        | 121/599 [00:30<02:34,  3.10it/s]"
     ]
    },
    {
     "name": "stdout",
     "output_type": "stream",
     "text": [
      "\n",
      "0: 1280x1280 1 ball, 20 players, 3 referees, 67.5ms\n",
      "Speed: 6.0ms preprocess, 67.5ms inference, 1.0ms postprocess per image at shape (1, 3, 1280, 1280)\n"
     ]
    },
    {
     "name": "stderr",
     "output_type": "stream",
     "text": [
      "Embedding extraction: 1it [00:00,  8.47it/s]\n",
      "FutureWarning: 'force_all_finite' was renamed to 'ensure_all_finite' in 1.6 and will be removed in 1.8.\n",
      "Processing frames:  20%|██        | 122/599 [00:30<02:21,  3.38it/s]"
     ]
    },
    {
     "name": "stdout",
     "output_type": "stream",
     "text": [
      "\n",
      "0: 1280x1280 1 ball, 20 players, 3 referees, 68.2ms\n",
      "Speed: 8.8ms preprocess, 68.2ms inference, 1.0ms postprocess per image at shape (1, 3, 1280, 1280)\n"
     ]
    },
    {
     "name": "stderr",
     "output_type": "stream",
     "text": [
      "Embedding extraction: 1it [00:00,  8.29it/s]\n",
      "FutureWarning: 'force_all_finite' was renamed to 'ensure_all_finite' in 1.6 and will be removed in 1.8.\n",
      "Processing frames:  21%|██        | 123/599 [00:30<02:13,  3.57it/s]"
     ]
    },
    {
     "name": "stdout",
     "output_type": "stream",
     "text": [
      "\n",
      "0: 1280x1280 1 ball, 20 players, 3 referees, 68.2ms\n",
      "Speed: 6.1ms preprocess, 68.2ms inference, 1.0ms postprocess per image at shape (1, 3, 1280, 1280)\n"
     ]
    },
    {
     "name": "stderr",
     "output_type": "stream",
     "text": [
      "Embedding extraction: 1it [00:00,  8.44it/s]\n",
      "FutureWarning: 'force_all_finite' was renamed to 'ensure_all_finite' in 1.6 and will be removed in 1.8.\n",
      "Processing frames:  21%|██        | 124/599 [00:30<02:06,  3.75it/s]"
     ]
    },
    {
     "name": "stdout",
     "output_type": "stream",
     "text": [
      "\n",
      "0: 1280x1280 1 ball, 21 players, 3 referees, 67.9ms\n",
      "Speed: 6.1ms preprocess, 67.9ms inference, 1.0ms postprocess per image at shape (1, 3, 1280, 1280)\n"
     ]
    },
    {
     "name": "stderr",
     "output_type": "stream",
     "text": [
      "Embedding extraction: 1it [00:00,  8.36it/s]\n",
      "FutureWarning: 'force_all_finite' was renamed to 'ensure_all_finite' in 1.6 and will be removed in 1.8.\n",
      "Processing frames:  21%|██        | 125/599 [00:31<02:02,  3.87it/s]"
     ]
    },
    {
     "name": "stdout",
     "output_type": "stream",
     "text": [
      "\n",
      "0: 1280x1280 1 ball, 20 players, 3 referees, 68.0ms\n",
      "Speed: 8.8ms preprocess, 68.0ms inference, 1.0ms postprocess per image at shape (1, 3, 1280, 1280)\n"
     ]
    },
    {
     "name": "stderr",
     "output_type": "stream",
     "text": [
      "Embedding extraction: 1it [00:00,  8.29it/s]\n",
      "FutureWarning: 'force_all_finite' was renamed to 'ensure_all_finite' in 1.6 and will be removed in 1.8.\n",
      "Processing frames:  21%|██        | 126/599 [00:31<01:59,  3.95it/s]"
     ]
    },
    {
     "name": "stdout",
     "output_type": "stream",
     "text": [
      "\n",
      "0: 1280x1280 20 players, 3 referees, 67.8ms\n",
      "Speed: 8.7ms preprocess, 67.8ms inference, 1.0ms postprocess per image at shape (1, 3, 1280, 1280)\n"
     ]
    },
    {
     "name": "stderr",
     "output_type": "stream",
     "text": [
      "Embedding extraction: 1it [00:00,  8.40it/s]\n",
      "FutureWarning: 'force_all_finite' was renamed to 'ensure_all_finite' in 1.6 and will be removed in 1.8.\n",
      "Processing frames:  21%|██        | 127/599 [00:31<01:57,  4.01it/s]"
     ]
    },
    {
     "name": "stdout",
     "output_type": "stream",
     "text": [
      "\n",
      "0: 1280x1280 20 players, 3 referees, 68.2ms\n",
      "Speed: 6.3ms preprocess, 68.2ms inference, 1.0ms postprocess per image at shape (1, 3, 1280, 1280)\n"
     ]
    },
    {
     "name": "stderr",
     "output_type": "stream",
     "text": [
      "Embedding extraction: 1it [00:00,  8.27it/s]\n",
      "FutureWarning: 'force_all_finite' was renamed to 'ensure_all_finite' in 1.6 and will be removed in 1.8.\n",
      "Processing frames:  21%|██▏       | 128/599 [00:31<01:55,  4.06it/s]"
     ]
    },
    {
     "name": "stdout",
     "output_type": "stream",
     "text": [
      "\n",
      "0: 1280x1280 20 players, 3 referees, 67.9ms\n",
      "Speed: 6.4ms preprocess, 67.9ms inference, 0.9ms postprocess per image at shape (1, 3, 1280, 1280)\n"
     ]
    },
    {
     "name": "stderr",
     "output_type": "stream",
     "text": [
      "Embedding extraction: 1it [00:00,  8.38it/s]\n",
      "FutureWarning: 'force_all_finite' was renamed to 'ensure_all_finite' in 1.6 and will be removed in 1.8.\n",
      "Processing frames:  22%|██▏       | 129/599 [00:32<01:54,  4.11it/s]"
     ]
    },
    {
     "name": "stdout",
     "output_type": "stream",
     "text": [
      "\n",
      "0: 1280x1280 1 ball, 20 players, 3 referees, 67.8ms\n",
      "Speed: 6.1ms preprocess, 67.8ms inference, 1.1ms postprocess per image at shape (1, 3, 1280, 1280)\n"
     ]
    },
    {
     "name": "stderr",
     "output_type": "stream",
     "text": [
      "Embedding extraction: 1it [00:00,  8.33it/s]\n",
      "FutureWarning: 'force_all_finite' was renamed to 'ensure_all_finite' in 1.6 and will be removed in 1.8.\n",
      "Processing frames:  22%|██▏       | 130/599 [00:32<01:53,  4.14it/s]"
     ]
    },
    {
     "name": "stdout",
     "output_type": "stream",
     "text": [
      "\n",
      "0: 1280x1280 1 ball, 21 players, 3 referees, 68.4ms\n",
      "Speed: 6.0ms preprocess, 68.4ms inference, 0.9ms postprocess per image at shape (1, 3, 1280, 1280)\n"
     ]
    },
    {
     "name": "stderr",
     "output_type": "stream",
     "text": [
      "Embedding extraction: 1it [00:00,  8.32it/s]\n",
      "FutureWarning: 'force_all_finite' was renamed to 'ensure_all_finite' in 1.6 and will be removed in 1.8.\n",
      "Processing frames:  22%|██▏       | 131/599 [00:32<01:52,  4.15it/s]"
     ]
    },
    {
     "name": "stdout",
     "output_type": "stream",
     "text": [
      "\n",
      "0: 1280x1280 1 ball, 20 players, 3 referees, 68.7ms\n",
      "Speed: 6.1ms preprocess, 68.7ms inference, 1.0ms postprocess per image at shape (1, 3, 1280, 1280)\n"
     ]
    },
    {
     "name": "stderr",
     "output_type": "stream",
     "text": [
      "Embedding extraction: 1it [00:00,  8.40it/s]\n",
      "FutureWarning: 'force_all_finite' was renamed to 'ensure_all_finite' in 1.6 and will be removed in 1.8.\n",
      "Processing frames:  22%|██▏       | 132/599 [00:32<01:51,  4.17it/s]"
     ]
    },
    {
     "name": "stdout",
     "output_type": "stream",
     "text": [
      "\n",
      "0: 1280x1280 20 players, 3 referees, 68.2ms\n",
      "Speed: 6.2ms preprocess, 68.2ms inference, 1.0ms postprocess per image at shape (1, 3, 1280, 1280)\n"
     ]
    },
    {
     "name": "stderr",
     "output_type": "stream",
     "text": [
      "Embedding extraction: 1it [00:00,  8.43it/s]\n",
      "FutureWarning: 'force_all_finite' was renamed to 'ensure_all_finite' in 1.6 and will be removed in 1.8.\n",
      "Processing frames:  22%|██▏       | 133/599 [00:33<01:51,  4.18it/s]"
     ]
    },
    {
     "name": "stdout",
     "output_type": "stream",
     "text": [
      "\n",
      "0: 1280x1280 1 ball, 20 players, 3 referees, 67.7ms\n",
      "Speed: 6.1ms preprocess, 67.7ms inference, 1.1ms postprocess per image at shape (1, 3, 1280, 1280)\n"
     ]
    },
    {
     "name": "stderr",
     "output_type": "stream",
     "text": [
      "Embedding extraction: 1it [00:00,  8.45it/s]\n",
      "FutureWarning: 'force_all_finite' was renamed to 'ensure_all_finite' in 1.6 and will be removed in 1.8.\n",
      "Processing frames:  22%|██▏       | 134/599 [00:33<01:50,  4.19it/s]"
     ]
    },
    {
     "name": "stdout",
     "output_type": "stream",
     "text": [
      "\n",
      "0: 1280x1280 1 ball, 20 players, 3 referees, 67.4ms\n",
      "Speed: 8.6ms preprocess, 67.4ms inference, 1.0ms postprocess per image at shape (1, 3, 1280, 1280)\n"
     ]
    },
    {
     "name": "stderr",
     "output_type": "stream",
     "text": [
      "Embedding extraction: 1it [00:00,  8.47it/s]\n",
      "FutureWarning: 'force_all_finite' was renamed to 'ensure_all_finite' in 1.6 and will be removed in 1.8.\n",
      "Processing frames:  23%|██▎       | 135/599 [00:33<01:50,  4.19it/s]"
     ]
    },
    {
     "name": "stdout",
     "output_type": "stream",
     "text": [
      "\n",
      "0: 1280x1280 1 ball, 21 players, 3 referees, 67.5ms\n",
      "Speed: 10.8ms preprocess, 67.5ms inference, 1.0ms postprocess per image at shape (1, 3, 1280, 1280)\n"
     ]
    },
    {
     "name": "stderr",
     "output_type": "stream",
     "text": [
      "Embedding extraction: 1it [00:00,  7.69it/s]\n",
      "FutureWarning: 'force_all_finite' was renamed to 'ensure_all_finite' in 1.6 and will be removed in 1.8.\n",
      "Processing frames:  23%|██▎       | 136/599 [00:33<01:53,  4.10it/s]"
     ]
    },
    {
     "name": "stdout",
     "output_type": "stream",
     "text": [
      "\n",
      "0: 1280x1280 1 ball, 20 players, 3 referees, 68.1ms\n",
      "Speed: 6.3ms preprocess, 68.1ms inference, 1.0ms postprocess per image at shape (1, 3, 1280, 1280)\n"
     ]
    },
    {
     "name": "stderr",
     "output_type": "stream",
     "text": [
      "Embedding extraction: 1it [00:00,  8.31it/s]\n",
      "FutureWarning: 'force_all_finite' was renamed to 'ensure_all_finite' in 1.6 and will be removed in 1.8.\n",
      "Processing frames:  23%|██▎       | 137/599 [00:34<01:52,  4.12it/s]"
     ]
    },
    {
     "name": "stdout",
     "output_type": "stream",
     "text": [
      "\n",
      "0: 1280x1280 1 ball, 20 players, 3 referees, 68.1ms\n",
      "Speed: 6.1ms preprocess, 68.1ms inference, 1.0ms postprocess per image at shape (1, 3, 1280, 1280)\n"
     ]
    },
    {
     "name": "stderr",
     "output_type": "stream",
     "text": [
      "Embedding extraction: 1it [00:00,  8.30it/s]\n",
      "FutureWarning: 'force_all_finite' was renamed to 'ensure_all_finite' in 1.6 and will be removed in 1.8.\n",
      "Processing frames:  23%|██▎       | 138/599 [00:34<01:51,  4.14it/s]"
     ]
    },
    {
     "name": "stdout",
     "output_type": "stream",
     "text": [
      "\n",
      "0: 1280x1280 1 ball, 20 players, 3 referees, 68.0ms\n",
      "Speed: 6.3ms preprocess, 68.0ms inference, 1.0ms postprocess per image at shape (1, 3, 1280, 1280)\n"
     ]
    },
    {
     "name": "stderr",
     "output_type": "stream",
     "text": [
      "Embedding extraction: 1it [00:00,  8.33it/s]\n",
      "FutureWarning: 'force_all_finite' was renamed to 'ensure_all_finite' in 1.6 and will be removed in 1.8.\n",
      "Processing frames:  23%|██▎       | 139/599 [00:34<01:50,  4.15it/s]"
     ]
    },
    {
     "name": "stdout",
     "output_type": "stream",
     "text": [
      "\n",
      "0: 1280x1280 20 players, 3 referees, 68.1ms\n",
      "Speed: 10.9ms preprocess, 68.1ms inference, 1.0ms postprocess per image at shape (1, 3, 1280, 1280)\n"
     ]
    },
    {
     "name": "stderr",
     "output_type": "stream",
     "text": [
      "Embedding extraction: 1it [00:00,  8.31it/s]\n",
      "FutureWarning: 'force_all_finite' was renamed to 'ensure_all_finite' in 1.6 and will be removed in 1.8.\n",
      "Processing frames:  23%|██▎       | 140/599 [00:34<01:50,  4.14it/s]"
     ]
    },
    {
     "name": "stdout",
     "output_type": "stream",
     "text": [
      "\n",
      "0: 1280x1280 1 ball, 20 players, 3 referees, 68.0ms\n",
      "Speed: 9.6ms preprocess, 68.0ms inference, 1.0ms postprocess per image at shape (1, 3, 1280, 1280)\n"
     ]
    },
    {
     "name": "stderr",
     "output_type": "stream",
     "text": [
      "Embedding extraction: 1it [00:00,  8.35it/s]\n",
      "FutureWarning: 'force_all_finite' was renamed to 'ensure_all_finite' in 1.6 and will be removed in 1.8.\n",
      "Processing frames:  24%|██▎       | 141/599 [00:35<01:51,  4.10it/s]"
     ]
    },
    {
     "name": "stdout",
     "output_type": "stream",
     "text": [
      "\n",
      "0: 1280x1280 20 players, 4 referees, 67.7ms\n",
      "Speed: 6.2ms preprocess, 67.7ms inference, 1.2ms postprocess per image at shape (1, 3, 1280, 1280)\n"
     ]
    },
    {
     "name": "stderr",
     "output_type": "stream",
     "text": [
      "Embedding extraction: 1it [00:00,  8.56it/s]\n",
      "FutureWarning: 'force_all_finite' was renamed to 'ensure_all_finite' in 1.6 and will be removed in 1.8.\n",
      "Processing frames:  24%|██▎       | 142/599 [00:35<01:50,  4.15it/s]"
     ]
    },
    {
     "name": "stdout",
     "output_type": "stream",
     "text": [
      "\n",
      "0: 1280x1280 1 ball, 21 players, 3 referees, 67.9ms\n",
      "Speed: 6.2ms preprocess, 67.9ms inference, 1.0ms postprocess per image at shape (1, 3, 1280, 1280)\n"
     ]
    },
    {
     "name": "stderr",
     "output_type": "stream",
     "text": [
      "Embedding extraction: 1it [00:00,  7.65it/s]\n",
      "FutureWarning: 'force_all_finite' was renamed to 'ensure_all_finite' in 1.6 and will be removed in 1.8.\n",
      "Processing frames:  24%|██▍       | 143/599 [00:35<01:51,  4.10it/s]"
     ]
    },
    {
     "name": "stdout",
     "output_type": "stream",
     "text": [
      "\n",
      "0: 1280x1280 1 ball, 21 players, 3 referees, 68.1ms\n",
      "Speed: 7.2ms preprocess, 68.1ms inference, 1.0ms postprocess per image at shape (1, 3, 1280, 1280)\n"
     ]
    },
    {
     "name": "stderr",
     "output_type": "stream",
     "text": [
      "Embedding extraction: 1it [00:00,  7.62it/s]\n",
      "FutureWarning: 'force_all_finite' was renamed to 'ensure_all_finite' in 1.6 and will be removed in 1.8.\n",
      "Processing frames:  24%|██▍       | 144/599 [00:35<01:52,  4.06it/s]"
     ]
    },
    {
     "name": "stdout",
     "output_type": "stream",
     "text": [
      "\n",
      "0: 1280x1280 21 players, 3 referees, 67.6ms\n",
      "Speed: 6.2ms preprocess, 67.6ms inference, 1.2ms postprocess per image at shape (1, 3, 1280, 1280)\n"
     ]
    },
    {
     "name": "stderr",
     "output_type": "stream",
     "text": [
      "Embedding extraction: 1it [00:00,  8.36it/s]\n",
      "FutureWarning: 'force_all_finite' was renamed to 'ensure_all_finite' in 1.6 and will be removed in 1.8.\n",
      "Processing frames:  24%|██▍       | 145/599 [00:35<01:50,  4.10it/s]"
     ]
    },
    {
     "name": "stdout",
     "output_type": "stream",
     "text": [
      "\n",
      "0: 1280x1280 20 players, 3 referees, 67.5ms\n",
      "Speed: 8.4ms preprocess, 67.5ms inference, 1.0ms postprocess per image at shape (1, 3, 1280, 1280)\n"
     ]
    },
    {
     "name": "stderr",
     "output_type": "stream",
     "text": [
      "Embedding extraction: 1it [00:00,  8.31it/s]\n",
      "FutureWarning: 'force_all_finite' was renamed to 'ensure_all_finite' in 1.6 and will be removed in 1.8.\n",
      "Processing frames:  24%|██▍       | 146/599 [00:36<01:50,  4.12it/s]"
     ]
    },
    {
     "name": "stdout",
     "output_type": "stream",
     "text": [
      "\n",
      "0: 1280x1280 22 players, 3 referees, 68.0ms\n",
      "Speed: 6.1ms preprocess, 68.0ms inference, 1.0ms postprocess per image at shape (1, 3, 1280, 1280)\n"
     ]
    },
    {
     "name": "stderr",
     "output_type": "stream",
     "text": [
      "Embedding extraction: 1it [00:00,  7.66it/s]\n",
      "FutureWarning: 'force_all_finite' was renamed to 'ensure_all_finite' in 1.6 and will be removed in 1.8.\n",
      "Processing frames:  25%|██▍       | 147/599 [00:36<01:50,  4.09it/s]"
     ]
    },
    {
     "name": "stdout",
     "output_type": "stream",
     "text": [
      "\n",
      "0: 1280x1280 22 players, 4 referees, 68.2ms\n",
      "Speed: 7.4ms preprocess, 68.2ms inference, 1.0ms postprocess per image at shape (1, 3, 1280, 1280)\n"
     ]
    },
    {
     "name": "stderr",
     "output_type": "stream",
     "text": [
      "Embedding extraction: 1it [00:00,  7.62it/s]\n",
      "FutureWarning: 'force_all_finite' was renamed to 'ensure_all_finite' in 1.6 and will be removed in 1.8.\n",
      "Processing frames:  25%|██▍       | 148/599 [00:36<01:51,  4.06it/s]"
     ]
    },
    {
     "name": "stdout",
     "output_type": "stream",
     "text": [
      "\n",
      "0: 1280x1280 1 ball, 22 players, 3 referees, 67.8ms\n",
      "Speed: 8.8ms preprocess, 67.8ms inference, 1.0ms postprocess per image at shape (1, 3, 1280, 1280)\n"
     ]
    },
    {
     "name": "stderr",
     "output_type": "stream",
     "text": [
      "Embedding extraction: 1it [00:00,  7.68it/s]\n",
      "FutureWarning: 'force_all_finite' was renamed to 'ensure_all_finite' in 1.6 and will be removed in 1.8.\n",
      "Processing frames:  25%|██▍       | 149/599 [00:36<01:51,  4.04it/s]"
     ]
    },
    {
     "name": "stdout",
     "output_type": "stream",
     "text": [
      "\n",
      "0: 1280x1280 22 players, 3 referees, 67.9ms\n",
      "Speed: 6.0ms preprocess, 67.9ms inference, 1.1ms postprocess per image at shape (1, 3, 1280, 1280)\n"
     ]
    },
    {
     "name": "stderr",
     "output_type": "stream",
     "text": [
      "Embedding extraction: 1it [00:00,  7.58it/s]\n",
      "FutureWarning: 'force_all_finite' was renamed to 'ensure_all_finite' in 1.6 and will be removed in 1.8.\n",
      "Processing frames:  25%|██▌       | 150/599 [00:37<01:51,  4.03it/s]"
     ]
    },
    {
     "name": "stdout",
     "output_type": "stream",
     "text": [
      "\n",
      "0: 1280x1280 22 players, 3 referees, 68.1ms\n",
      "Speed: 6.2ms preprocess, 68.1ms inference, 0.9ms postprocess per image at shape (1, 3, 1280, 1280)\n"
     ]
    },
    {
     "name": "stderr",
     "output_type": "stream",
     "text": [
      "Embedding extraction: 1it [00:00,  7.68it/s]\n",
      "FutureWarning: 'force_all_finite' was renamed to 'ensure_all_finite' in 1.6 and will be removed in 1.8.\n",
      "Processing frames:  25%|██▌       | 151/599 [00:37<01:51,  4.03it/s]"
     ]
    },
    {
     "name": "stdout",
     "output_type": "stream",
     "text": [
      "\n",
      "0: 1280x1280 22 players, 3 referees, 68.5ms\n",
      "Speed: 7.0ms preprocess, 68.5ms inference, 1.0ms postprocess per image at shape (1, 3, 1280, 1280)\n"
     ]
    },
    {
     "name": "stderr",
     "output_type": "stream",
     "text": [
      "Embedding extraction: 1it [00:00,  7.19it/s]\n",
      "FutureWarning: 'force_all_finite' was renamed to 'ensure_all_finite' in 1.6 and will be removed in 1.8.\n",
      "Processing frames:  25%|██▌       | 152/599 [00:37<01:52,  3.96it/s]"
     ]
    },
    {
     "name": "stdout",
     "output_type": "stream",
     "text": [
      "\n",
      "0: 1280x1280 22 players, 3 referees, 67.9ms\n",
      "Speed: 9.0ms preprocess, 67.9ms inference, 1.0ms postprocess per image at shape (1, 3, 1280, 1280)\n"
     ]
    },
    {
     "name": "stderr",
     "output_type": "stream",
     "text": [
      "Embedding extraction: 1it [00:00,  7.17it/s]\n",
      "FutureWarning: 'force_all_finite' was renamed to 'ensure_all_finite' in 1.6 and will be removed in 1.8.\n",
      "Processing frames:  26%|██▌       | 153/599 [00:37<01:53,  3.92it/s]"
     ]
    },
    {
     "name": "stdout",
     "output_type": "stream",
     "text": [
      "\n",
      "0: 1280x1280 22 players, 3 referees, 67.9ms\n",
      "Speed: 8.3ms preprocess, 67.9ms inference, 1.0ms postprocess per image at shape (1, 3, 1280, 1280)\n"
     ]
    },
    {
     "name": "stderr",
     "output_type": "stream",
     "text": [
      "Embedding extraction: 1it [00:00,  7.21it/s]\n",
      "FutureWarning: 'force_all_finite' was renamed to 'ensure_all_finite' in 1.6 and will be removed in 1.8.\n",
      "Processing frames:  26%|██▌       | 154/599 [00:38<01:54,  3.90it/s]"
     ]
    },
    {
     "name": "stdout",
     "output_type": "stream",
     "text": [
      "\n",
      "0: 1280x1280 22 players, 3 referees, 68.2ms\n",
      "Speed: 6.1ms preprocess, 68.2ms inference, 1.0ms postprocess per image at shape (1, 3, 1280, 1280)\n"
     ]
    },
    {
     "name": "stderr",
     "output_type": "stream",
     "text": [
      "Embedding extraction: 1it [00:00,  7.59it/s]\n",
      "FutureWarning: 'force_all_finite' was renamed to 'ensure_all_finite' in 1.6 and will be removed in 1.8.\n",
      "Processing frames:  26%|██▌       | 155/599 [00:38<01:52,  3.93it/s]"
     ]
    },
    {
     "name": "stdout",
     "output_type": "stream",
     "text": [
      "\n",
      "0: 1280x1280 22 players, 2 referees, 67.8ms\n",
      "Speed: 6.8ms preprocess, 67.8ms inference, 1.0ms postprocess per image at shape (1, 3, 1280, 1280)\n"
     ]
    },
    {
     "name": "stderr",
     "output_type": "stream",
     "text": [
      "Embedding extraction: 1it [00:00,  7.67it/s]\n",
      "FutureWarning: 'force_all_finite' was renamed to 'ensure_all_finite' in 1.6 and will be removed in 1.8.\n",
      "Processing frames:  26%|██▌       | 156/599 [00:38<01:52,  3.95it/s]"
     ]
    },
    {
     "name": "stdout",
     "output_type": "stream",
     "text": [
      "\n",
      "0: 1280x1280 21 players, 4 referees, 68.3ms\n",
      "Speed: 6.1ms preprocess, 68.3ms inference, 1.0ms postprocess per image at shape (1, 3, 1280, 1280)\n"
     ]
    },
    {
     "name": "stderr",
     "output_type": "stream",
     "text": [
      "Embedding extraction: 1it [00:00,  7.59it/s]\n",
      "FutureWarning: 'force_all_finite' was renamed to 'ensure_all_finite' in 1.6 and will be removed in 1.8.\n",
      "Processing frames:  26%|██▌       | 157/599 [00:39<01:51,  3.96it/s]"
     ]
    },
    {
     "name": "stdout",
     "output_type": "stream",
     "text": [
      "\n",
      "0: 1280x1280 1 ball, 21 players, 4 referees, 68.0ms\n",
      "Speed: 8.3ms preprocess, 68.0ms inference, 1.0ms postprocess per image at shape (1, 3, 1280, 1280)\n"
     ]
    },
    {
     "name": "stderr",
     "output_type": "stream",
     "text": [
      "Embedding extraction: 1it [00:00,  8.42it/s]\n",
      "FutureWarning: 'force_all_finite' was renamed to 'ensure_all_finite' in 1.6 and will be removed in 1.8.\n",
      "Processing frames:  26%|██▋       | 158/599 [00:39<01:49,  4.02it/s]"
     ]
    },
    {
     "name": "stdout",
     "output_type": "stream",
     "text": [
      "\n",
      "0: 1280x1280 1 ball, 21 players, 4 referees, 68.3ms\n",
      "Speed: 8.2ms preprocess, 68.3ms inference, 1.1ms postprocess per image at shape (1, 3, 1280, 1280)\n"
     ]
    },
    {
     "name": "stderr",
     "output_type": "stream",
     "text": [
      "Embedding extraction: 1it [00:00,  7.64it/s]\n",
      "FutureWarning: 'force_all_finite' was renamed to 'ensure_all_finite' in 1.6 and will be removed in 1.8.\n",
      "Processing frames:  27%|██▋       | 159/599 [00:39<01:49,  4.01it/s]"
     ]
    },
    {
     "name": "stdout",
     "output_type": "stream",
     "text": [
      "\n",
      "0: 1280x1280 1 ball, 21 players, 4 referees, 68.1ms\n",
      "Speed: 10.9ms preprocess, 68.1ms inference, 1.0ms postprocess per image at shape (1, 3, 1280, 1280)\n"
     ]
    },
    {
     "name": "stderr",
     "output_type": "stream",
     "text": [
      "Embedding extraction: 1it [00:00,  7.73it/s]\n",
      "FutureWarning: 'force_all_finite' was renamed to 'ensure_all_finite' in 1.6 and will be removed in 1.8.\n",
      "Processing frames:  27%|██▋       | 160/599 [00:39<01:50,  3.98it/s]"
     ]
    },
    {
     "name": "stdout",
     "output_type": "stream",
     "text": [
      "\n",
      "0: 1280x1280 1 ball, 21 players, 4 referees, 68.5ms\n",
      "Speed: 6.3ms preprocess, 68.5ms inference, 0.9ms postprocess per image at shape (1, 3, 1280, 1280)\n"
     ]
    },
    {
     "name": "stderr",
     "output_type": "stream",
     "text": [
      "Embedding extraction: 1it [00:00,  7.62it/s]\n",
      "FutureWarning: 'force_all_finite' was renamed to 'ensure_all_finite' in 1.6 and will be removed in 1.8.\n",
      "Processing frames:  27%|██▋       | 161/599 [00:40<01:50,  3.97it/s]"
     ]
    },
    {
     "name": "stdout",
     "output_type": "stream",
     "text": [
      "\n",
      "0: 1280x1280 1 ball, 21 players, 3 referees, 68.2ms\n",
      "Speed: 8.5ms preprocess, 68.2ms inference, 1.0ms postprocess per image at shape (1, 3, 1280, 1280)\n"
     ]
    },
    {
     "name": "stderr",
     "output_type": "stream",
     "text": [
      "Embedding extraction: 1it [00:00,  7.73it/s]\n",
      "FutureWarning: 'force_all_finite' was renamed to 'ensure_all_finite' in 1.6 and will be removed in 1.8.\n",
      "Processing frames:  27%|██▋       | 162/599 [00:40<01:49,  3.98it/s]"
     ]
    },
    {
     "name": "stdout",
     "output_type": "stream",
     "text": [
      "\n",
      "0: 1280x1280 1 ball, 21 players, 3 referees, 68.0ms\n",
      "Speed: 8.5ms preprocess, 68.0ms inference, 0.9ms postprocess per image at shape (1, 3, 1280, 1280)\n"
     ]
    },
    {
     "name": "stderr",
     "output_type": "stream",
     "text": [
      "Embedding extraction: 1it [00:00,  7.68it/s]\n",
      "FutureWarning: 'force_all_finite' was renamed to 'ensure_all_finite' in 1.6 and will be removed in 1.8.\n",
      "Processing frames:  27%|██▋       | 163/599 [00:40<01:49,  3.98it/s]"
     ]
    },
    {
     "name": "stdout",
     "output_type": "stream",
     "text": [
      "\n",
      "0: 1280x1280 1 ball, 21 players, 3 referees, 68.3ms\n",
      "Speed: 7.9ms preprocess, 68.3ms inference, 1.0ms postprocess per image at shape (1, 3, 1280, 1280)\n"
     ]
    },
    {
     "name": "stderr",
     "output_type": "stream",
     "text": [
      "Embedding extraction: 1it [00:00,  7.63it/s]\n",
      "FutureWarning: 'force_all_finite' was renamed to 'ensure_all_finite' in 1.6 and will be removed in 1.8.\n",
      "Processing frames:  27%|██▋       | 164/599 [00:40<01:49,  3.97it/s]"
     ]
    },
    {
     "name": "stdout",
     "output_type": "stream",
     "text": [
      "\n",
      "0: 1280x1280 21 players, 4 referees, 68.0ms\n",
      "Speed: 8.4ms preprocess, 68.0ms inference, 1.0ms postprocess per image at shape (1, 3, 1280, 1280)\n"
     ]
    },
    {
     "name": "stderr",
     "output_type": "stream",
     "text": [
      "Embedding extraction: 1it [00:00,  7.64it/s]\n",
      "FutureWarning: 'force_all_finite' was renamed to 'ensure_all_finite' in 1.6 and will be removed in 1.8.\n",
      "Processing frames:  28%|██▊       | 165/599 [00:41<01:49,  3.98it/s]"
     ]
    },
    {
     "name": "stdout",
     "output_type": "stream",
     "text": [
      "\n",
      "0: 1280x1280 21 players, 3 referees, 68.6ms\n",
      "Speed: 6.2ms preprocess, 68.6ms inference, 1.0ms postprocess per image at shape (1, 3, 1280, 1280)\n"
     ]
    },
    {
     "name": "stderr",
     "output_type": "stream",
     "text": [
      "Embedding extraction: 1it [00:00,  7.62it/s]\n",
      "FutureWarning: 'force_all_finite' was renamed to 'ensure_all_finite' in 1.6 and will be removed in 1.8.\n",
      "Processing frames:  28%|██▊       | 166/599 [00:41<01:48,  3.98it/s]"
     ]
    },
    {
     "name": "stdout",
     "output_type": "stream",
     "text": [
      "\n",
      "0: 1280x1280 21 players, 3 referees, 68.1ms\n",
      "Speed: 7.9ms preprocess, 68.1ms inference, 1.0ms postprocess per image at shape (1, 3, 1280, 1280)\n"
     ]
    },
    {
     "name": "stderr",
     "output_type": "stream",
     "text": [
      "Embedding extraction: 1it [00:00,  7.67it/s]\n",
      "FutureWarning: 'force_all_finite' was renamed to 'ensure_all_finite' in 1.6 and will be removed in 1.8.\n",
      "Processing frames:  28%|██▊       | 167/599 [00:41<01:48,  3.98it/s]"
     ]
    },
    {
     "name": "stdout",
     "output_type": "stream",
     "text": [
      "\n",
      "0: 1280x1280 1 ball, 21 players, 3 referees, 68.6ms\n",
      "Speed: 6.2ms preprocess, 68.6ms inference, 1.0ms postprocess per image at shape (1, 3, 1280, 1280)\n"
     ]
    },
    {
     "name": "stderr",
     "output_type": "stream",
     "text": [
      "Embedding extraction: 1it [00:00,  7.57it/s]\n",
      "FutureWarning: 'force_all_finite' was renamed to 'ensure_all_finite' in 1.6 and will be removed in 1.8.\n",
      "Processing frames:  28%|██▊       | 168/599 [00:41<01:48,  3.98it/s]"
     ]
    },
    {
     "name": "stdout",
     "output_type": "stream",
     "text": [
      "\n",
      "0: 1280x1280 1 ball, 21 players, 3 referees, 67.9ms\n",
      "Speed: 6.1ms preprocess, 67.9ms inference, 1.0ms postprocess per image at shape (1, 3, 1280, 1280)\n"
     ]
    },
    {
     "name": "stderr",
     "output_type": "stream",
     "text": [
      "Embedding extraction: 1it [00:00,  7.74it/s]\n",
      "FutureWarning: 'force_all_finite' was renamed to 'ensure_all_finite' in 1.6 and will be removed in 1.8.\n",
      "Processing frames:  28%|██▊       | 169/599 [00:42<01:47,  4.00it/s]"
     ]
    },
    {
     "name": "stdout",
     "output_type": "stream",
     "text": [
      "\n",
      "0: 1280x1280 21 players, 4 referees, 68.7ms\n",
      "Speed: 6.1ms preprocess, 68.7ms inference, 1.0ms postprocess per image at shape (1, 3, 1280, 1280)\n"
     ]
    },
    {
     "name": "stderr",
     "output_type": "stream",
     "text": [
      "Embedding extraction: 1it [00:00,  7.57it/s]\n",
      "FutureWarning: 'force_all_finite' was renamed to 'ensure_all_finite' in 1.6 and will be removed in 1.8.\n",
      "Processing frames:  28%|██▊       | 170/599 [00:42<01:47,  3.99it/s]"
     ]
    },
    {
     "name": "stdout",
     "output_type": "stream",
     "text": [
      "\n",
      "0: 1280x1280 21 players, 4 referees, 67.5ms\n",
      "Speed: 7.7ms preprocess, 67.5ms inference, 1.0ms postprocess per image at shape (1, 3, 1280, 1280)\n"
     ]
    },
    {
     "name": "stderr",
     "output_type": "stream",
     "text": [
      "Embedding extraction: 1it [00:00,  7.69it/s]\n",
      "FutureWarning: 'force_all_finite' was renamed to 'ensure_all_finite' in 1.6 and will be removed in 1.8.\n",
      "Processing frames:  29%|██▊       | 171/599 [00:42<01:47,  4.00it/s]"
     ]
    },
    {
     "name": "stdout",
     "output_type": "stream",
     "text": [
      "\n",
      "0: 1280x1280 21 players, 3 referees, 68.0ms\n",
      "Speed: 10.9ms preprocess, 68.0ms inference, 1.0ms postprocess per image at shape (1, 3, 1280, 1280)\n"
     ]
    },
    {
     "name": "stderr",
     "output_type": "stream",
     "text": [
      "Embedding extraction: 1it [00:00,  7.58it/s]\n",
      "FutureWarning: 'force_all_finite' was renamed to 'ensure_all_finite' in 1.6 and will be removed in 1.8.\n",
      "Processing frames:  29%|██▊       | 172/599 [00:42<01:47,  3.98it/s]"
     ]
    },
    {
     "name": "stdout",
     "output_type": "stream",
     "text": [
      "\n",
      "0: 1280x1280 1 ball, 21 players, 3 referees, 68.3ms\n",
      "Speed: 7.8ms preprocess, 68.3ms inference, 1.0ms postprocess per image at shape (1, 3, 1280, 1280)\n"
     ]
    },
    {
     "name": "stderr",
     "output_type": "stream",
     "text": [
      "Embedding extraction: 1it [00:00,  7.53it/s]\n",
      "FutureWarning: 'force_all_finite' was renamed to 'ensure_all_finite' in 1.6 and will be removed in 1.8.\n",
      "Processing frames:  29%|██▉       | 173/599 [00:43<01:47,  3.97it/s]"
     ]
    },
    {
     "name": "stdout",
     "output_type": "stream",
     "text": [
      "\n",
      "0: 1280x1280 1 ball, 21 players, 3 referees, 68.3ms\n",
      "Speed: 6.3ms preprocess, 68.3ms inference, 1.0ms postprocess per image at shape (1, 3, 1280, 1280)\n"
     ]
    },
    {
     "name": "stderr",
     "output_type": "stream",
     "text": [
      "Embedding extraction: 1it [00:00,  7.58it/s]\n",
      "FutureWarning: 'force_all_finite' was renamed to 'ensure_all_finite' in 1.6 and will be removed in 1.8.\n",
      "Processing frames:  29%|██▉       | 174/599 [00:43<01:46,  3.98it/s]"
     ]
    },
    {
     "name": "stdout",
     "output_type": "stream",
     "text": [
      "\n",
      "0: 1280x1280 1 ball, 21 players, 3 referees, 68.6ms\n",
      "Speed: 6.1ms preprocess, 68.6ms inference, 1.0ms postprocess per image at shape (1, 3, 1280, 1280)\n"
     ]
    },
    {
     "name": "stderr",
     "output_type": "stream",
     "text": [
      "Embedding extraction: 1it [00:00,  7.64it/s]\n",
      "FutureWarning: 'force_all_finite' was renamed to 'ensure_all_finite' in 1.6 and will be removed in 1.8.\n",
      "Processing frames:  29%|██▉       | 175/599 [00:43<01:46,  3.99it/s]"
     ]
    },
    {
     "name": "stdout",
     "output_type": "stream",
     "text": [
      "\n",
      "0: 1280x1280 21 players, 3 referees, 68.1ms\n",
      "Speed: 8.0ms preprocess, 68.1ms inference, 1.0ms postprocess per image at shape (1, 3, 1280, 1280)\n"
     ]
    },
    {
     "name": "stderr",
     "output_type": "stream",
     "text": [
      "Embedding extraction: 1it [00:00,  7.59it/s]\n",
      "FutureWarning: 'force_all_finite' was renamed to 'ensure_all_finite' in 1.6 and will be removed in 1.8.\n",
      "Processing frames:  29%|██▉       | 176/599 [00:43<01:46,  3.98it/s]"
     ]
    },
    {
     "name": "stdout",
     "output_type": "stream",
     "text": [
      "\n",
      "0: 1280x1280 21 players, 3 referees, 67.9ms\n",
      "Speed: 7.7ms preprocess, 67.9ms inference, 1.0ms postprocess per image at shape (1, 3, 1280, 1280)\n"
     ]
    },
    {
     "name": "stderr",
     "output_type": "stream",
     "text": [
      "Embedding extraction: 1it [00:00,  7.61it/s]\n",
      "FutureWarning: 'force_all_finite' was renamed to 'ensure_all_finite' in 1.6 and will be removed in 1.8.\n",
      "Processing frames:  30%|██▉       | 177/599 [00:44<01:45,  3.98it/s]"
     ]
    },
    {
     "name": "stdout",
     "output_type": "stream",
     "text": [
      "\n",
      "0: 1280x1280 21 players, 3 referees, 68.2ms\n",
      "Speed: 7.2ms preprocess, 68.2ms inference, 1.0ms postprocess per image at shape (1, 3, 1280, 1280)\n"
     ]
    },
    {
     "name": "stderr",
     "output_type": "stream",
     "text": [
      "Embedding extraction: 1it [00:00,  7.71it/s]\n",
      "FutureWarning: 'force_all_finite' was renamed to 'ensure_all_finite' in 1.6 and will be removed in 1.8.\n",
      "Processing frames:  30%|██▉       | 178/599 [00:44<01:45,  3.99it/s]"
     ]
    },
    {
     "name": "stdout",
     "output_type": "stream",
     "text": [
      "\n",
      "0: 1280x1280 1 ball, 21 players, 3 referees, 68.0ms\n",
      "Speed: 7.2ms preprocess, 68.0ms inference, 1.0ms postprocess per image at shape (1, 3, 1280, 1280)\n"
     ]
    },
    {
     "name": "stderr",
     "output_type": "stream",
     "text": [
      "Embedding extraction: 1it [00:00,  7.60it/s]\n",
      "FutureWarning: 'force_all_finite' was renamed to 'ensure_all_finite' in 1.6 and will be removed in 1.8.\n",
      "Processing frames:  30%|██▉       | 179/599 [00:44<01:45,  3.99it/s]"
     ]
    },
    {
     "name": "stdout",
     "output_type": "stream",
     "text": [
      "\n",
      "0: 1280x1280 21 players, 4 referees, 67.9ms\n",
      "Speed: 6.0ms preprocess, 67.9ms inference, 1.1ms postprocess per image at shape (1, 3, 1280, 1280)\n"
     ]
    },
    {
     "name": "stderr",
     "output_type": "stream",
     "text": [
      "Embedding extraction: 1it [00:00,  7.69it/s]\n",
      "FutureWarning: 'force_all_finite' was renamed to 'ensure_all_finite' in 1.6 and will be removed in 1.8.\n",
      "Processing frames:  30%|███       | 180/599 [00:44<01:44,  4.00it/s]"
     ]
    },
    {
     "name": "stdout",
     "output_type": "stream",
     "text": [
      "\n",
      "0: 1280x1280 21 players, 4 referees, 68.2ms\n",
      "Speed: 8.1ms preprocess, 68.2ms inference, 1.0ms postprocess per image at shape (1, 3, 1280, 1280)\n"
     ]
    },
    {
     "name": "stderr",
     "output_type": "stream",
     "text": [
      "Embedding extraction: 1it [00:00,  7.56it/s]\n",
      "FutureWarning: 'force_all_finite' was renamed to 'ensure_all_finite' in 1.6 and will be removed in 1.8.\n",
      "Processing frames:  30%|███       | 181/599 [00:45<01:44,  3.99it/s]"
     ]
    },
    {
     "name": "stdout",
     "output_type": "stream",
     "text": [
      "\n",
      "0: 1280x1280 22 players, 4 referees, 68.0ms\n",
      "Speed: 6.6ms preprocess, 68.0ms inference, 1.0ms postprocess per image at shape (1, 3, 1280, 1280)\n"
     ]
    },
    {
     "name": "stderr",
     "output_type": "stream",
     "text": [
      "Embedding extraction: 1it [00:00,  7.64it/s]\n",
      "FutureWarning: 'force_all_finite' was renamed to 'ensure_all_finite' in 1.6 and will be removed in 1.8.\n",
      "Processing frames:  30%|███       | 182/599 [00:45<01:44,  4.00it/s]"
     ]
    },
    {
     "name": "stdout",
     "output_type": "stream",
     "text": [
      "\n",
      "0: 1280x1280 22 players, 5 referees, 68.2ms\n",
      "Speed: 6.2ms preprocess, 68.2ms inference, 1.0ms postprocess per image at shape (1, 3, 1280, 1280)\n"
     ]
    },
    {
     "name": "stderr",
     "output_type": "stream",
     "text": [
      "Embedding extraction: 1it [00:00,  7.54it/s]\n",
      "FutureWarning: 'force_all_finite' was renamed to 'ensure_all_finite' in 1.6 and will be removed in 1.8.\n",
      "Processing frames:  31%|███       | 183/599 [00:46<04:06,  1.69it/s]"
     ]
    },
    {
     "name": "stdout",
     "output_type": "stream",
     "text": [
      "Saved mini clip: app/test_data/predicted/actions/clip_002.mp4\n",
      "\n",
      "0: 1280x1280 22 players, 4 referees, 67.5ms\n",
      "Speed: 6.1ms preprocess, 67.5ms inference, 1.0ms postprocess per image at shape (1, 3, 1280, 1280)\n"
     ]
    },
    {
     "name": "stderr",
     "output_type": "stream",
     "text": [
      "Embedding extraction: 1it [00:00,  7.69it/s]\n",
      "FutureWarning: 'force_all_finite' was renamed to 'ensure_all_finite' in 1.6 and will be removed in 1.8.\n",
      "Processing frames:  31%|███       | 184/599 [00:46<03:22,  2.05it/s]"
     ]
    },
    {
     "name": "stdout",
     "output_type": "stream",
     "text": [
      "\n",
      "0: 1280x1280 22 players, 4 referees, 68.4ms\n",
      "Speed: 8.8ms preprocess, 68.4ms inference, 1.1ms postprocess per image at shape (1, 3, 1280, 1280)\n"
     ]
    },
    {
     "name": "stderr",
     "output_type": "stream",
     "text": [
      "Embedding extraction: 1it [00:00,  7.38it/s]\n",
      "FutureWarning: 'force_all_finite' was renamed to 'ensure_all_finite' in 1.6 and will be removed in 1.8.\n",
      "Processing frames:  31%|███       | 185/599 [00:47<02:53,  2.39it/s]"
     ]
    },
    {
     "name": "stdout",
     "output_type": "stream",
     "text": [
      "\n",
      "0: 1280x1280 22 players, 3 referees, 68.6ms\n",
      "Speed: 7.4ms preprocess, 68.6ms inference, 1.0ms postprocess per image at shape (1, 3, 1280, 1280)\n"
     ]
    },
    {
     "name": "stderr",
     "output_type": "stream",
     "text": [
      "Embedding extraction: 1it [00:00,  7.60it/s]\n",
      "FutureWarning: 'force_all_finite' was renamed to 'ensure_all_finite' in 1.6 and will be removed in 1.8.\n",
      "Processing frames:  31%|███       | 186/599 [00:47<02:32,  2.71it/s]"
     ]
    },
    {
     "name": "stdout",
     "output_type": "stream",
     "text": [
      "\n",
      "0: 1280x1280 22 players, 4 referees, 68.6ms\n",
      "Speed: 6.2ms preprocess, 68.6ms inference, 1.0ms postprocess per image at shape (1, 3, 1280, 1280)\n"
     ]
    },
    {
     "name": "stderr",
     "output_type": "stream",
     "text": [
      "Embedding extraction: 1it [00:00,  7.54it/s]\n",
      "FutureWarning: 'force_all_finite' was renamed to 'ensure_all_finite' in 1.6 and will be removed in 1.8.\n",
      "Processing frames:  31%|███       | 187/599 [00:47<02:17,  3.01it/s]"
     ]
    },
    {
     "name": "stdout",
     "output_type": "stream",
     "text": [
      "\n",
      "0: 1280x1280 21 players, 4 referees, 68.4ms\n",
      "Speed: 10.8ms preprocess, 68.4ms inference, 1.0ms postprocess per image at shape (1, 3, 1280, 1280)\n"
     ]
    },
    {
     "name": "stderr",
     "output_type": "stream",
     "text": [
      "Embedding extraction: 1it [00:00,  7.61it/s]\n",
      "FutureWarning: 'force_all_finite' was renamed to 'ensure_all_finite' in 1.6 and will be removed in 1.8.\n",
      "Processing frames:  31%|███▏      | 188/599 [00:47<02:07,  3.22it/s]"
     ]
    },
    {
     "name": "stdout",
     "output_type": "stream",
     "text": [
      "\n",
      "0: 1280x1280 21 players, 4 referees, 68.2ms\n",
      "Speed: 6.0ms preprocess, 68.2ms inference, 1.0ms postprocess per image at shape (1, 3, 1280, 1280)\n"
     ]
    },
    {
     "name": "stderr",
     "output_type": "stream",
     "text": [
      "Embedding extraction: 1it [00:00,  7.68it/s]\n",
      "FutureWarning: 'force_all_finite' was renamed to 'ensure_all_finite' in 1.6 and will be removed in 1.8.\n",
      "Processing frames:  32%|███▏      | 189/599 [00:48<01:59,  3.43it/s]"
     ]
    },
    {
     "name": "stdout",
     "output_type": "stream",
     "text": [
      "\n",
      "0: 1280x1280 22 players, 4 referees, 68.1ms\n",
      "Speed: 6.2ms preprocess, 68.1ms inference, 1.0ms postprocess per image at shape (1, 3, 1280, 1280)\n"
     ]
    },
    {
     "name": "stderr",
     "output_type": "stream",
     "text": [
      "Embedding extraction: 1it [00:00,  7.54it/s]\n",
      "FutureWarning: 'force_all_finite' was renamed to 'ensure_all_finite' in 1.6 and will be removed in 1.8.\n",
      "Processing frames:  32%|███▏      | 190/599 [00:48<01:54,  3.58it/s]"
     ]
    },
    {
     "name": "stdout",
     "output_type": "stream",
     "text": [
      "\n",
      "0: 1280x1280 22 players, 5 referees, 68.1ms\n",
      "Speed: 6.2ms preprocess, 68.1ms inference, 1.0ms postprocess per image at shape (1, 3, 1280, 1280)\n"
     ]
    },
    {
     "name": "stderr",
     "output_type": "stream",
     "text": [
      "Embedding extraction: 1it [00:00,  7.59it/s]\n",
      "FutureWarning: 'force_all_finite' was renamed to 'ensure_all_finite' in 1.6 and will be removed in 1.8.\n",
      "Processing frames:  32%|███▏      | 191/599 [00:48<01:50,  3.68it/s]"
     ]
    },
    {
     "name": "stdout",
     "output_type": "stream",
     "text": [
      "\n",
      "0: 1280x1280 1 ball, 22 players, 4 referees, 68.6ms\n",
      "Speed: 6.7ms preprocess, 68.6ms inference, 1.0ms postprocess per image at shape (1, 3, 1280, 1280)\n"
     ]
    },
    {
     "name": "stderr",
     "output_type": "stream",
     "text": [
      "Embedding extraction: 1it [00:00,  8.35it/s]\n",
      "FutureWarning: 'force_all_finite' was renamed to 'ensure_all_finite' in 1.6 and will be removed in 1.8.\n",
      "Processing frames:  32%|███▏      | 192/599 [00:48<01:46,  3.81it/s]"
     ]
    },
    {
     "name": "stdout",
     "output_type": "stream",
     "text": [
      "\n",
      "0: 1280x1280 22 players, 3 referees, 68.4ms\n",
      "Speed: 6.0ms preprocess, 68.4ms inference, 1.0ms postprocess per image at shape (1, 3, 1280, 1280)\n"
     ]
    },
    {
     "name": "stderr",
     "output_type": "stream",
     "text": [
      "Embedding extraction: 1it [00:00,  7.60it/s]\n",
      "FutureWarning: 'force_all_finite' was renamed to 'ensure_all_finite' in 1.6 and will be removed in 1.8.\n",
      "Processing frames:  32%|███▏      | 193/599 [00:49<01:44,  3.87it/s]"
     ]
    },
    {
     "name": "stdout",
     "output_type": "stream",
     "text": [
      "\n",
      "0: 1280x1280 22 players, 3 referees, 68.5ms\n",
      "Speed: 8.2ms preprocess, 68.5ms inference, 1.0ms postprocess per image at shape (1, 3, 1280, 1280)\n"
     ]
    },
    {
     "name": "stderr",
     "output_type": "stream",
     "text": [
      "Embedding extraction: 1it [00:00,  7.63it/s]\n",
      "FutureWarning: 'force_all_finite' was renamed to 'ensure_all_finite' in 1.6 and will be removed in 1.8.\n",
      "Processing frames:  32%|███▏      | 194/599 [00:49<01:43,  3.90it/s]"
     ]
    },
    {
     "name": "stdout",
     "output_type": "stream",
     "text": [
      "\n",
      "0: 1280x1280 22 players, 4 referees, 68.2ms\n",
      "Speed: 6.2ms preprocess, 68.2ms inference, 1.0ms postprocess per image at shape (1, 3, 1280, 1280)\n"
     ]
    },
    {
     "name": "stderr",
     "output_type": "stream",
     "text": [
      "Embedding extraction: 1it [00:00,  7.63it/s]\n",
      "FutureWarning: 'force_all_finite' was renamed to 'ensure_all_finite' in 1.6 and will be removed in 1.8.\n",
      "Processing frames:  33%|███▎      | 195/599 [00:49<01:42,  3.94it/s]"
     ]
    },
    {
     "name": "stdout",
     "output_type": "stream",
     "text": [
      "\n",
      "0: 1280x1280 22 players, 4 referees, 68.6ms\n",
      "Speed: 6.0ms preprocess, 68.6ms inference, 1.0ms postprocess per image at shape (1, 3, 1280, 1280)\n"
     ]
    },
    {
     "name": "stderr",
     "output_type": "stream",
     "text": [
      "Embedding extraction: 1it [00:00,  7.64it/s]\n",
      "FutureWarning: 'force_all_finite' was renamed to 'ensure_all_finite' in 1.6 and will be removed in 1.8.\n",
      "Processing frames:  33%|███▎      | 196/599 [00:49<01:42,  3.95it/s]"
     ]
    },
    {
     "name": "stdout",
     "output_type": "stream",
     "text": [
      "\n",
      "0: 1280x1280 22 players, 4 referees, 68.4ms\n",
      "Speed: 6.1ms preprocess, 68.4ms inference, 1.0ms postprocess per image at shape (1, 3, 1280, 1280)\n"
     ]
    },
    {
     "name": "stderr",
     "output_type": "stream",
     "text": [
      "Embedding extraction: 1it [00:00,  7.27it/s]\n",
      "FutureWarning: 'force_all_finite' was renamed to 'ensure_all_finite' in 1.6 and will be removed in 1.8.\n",
      "Processing frames:  33%|███▎      | 197/599 [00:50<01:42,  3.93it/s]"
     ]
    },
    {
     "name": "stdout",
     "output_type": "stream",
     "text": [
      "\n",
      "0: 1280x1280 22 players, 4 referees, 68.1ms\n",
      "Speed: 6.2ms preprocess, 68.1ms inference, 1.0ms postprocess per image at shape (1, 3, 1280, 1280)\n"
     ]
    },
    {
     "name": "stderr",
     "output_type": "stream",
     "text": [
      "Embedding extraction: 1it [00:00,  7.57it/s]\n",
      "FutureWarning: 'force_all_finite' was renamed to 'ensure_all_finite' in 1.6 and will be removed in 1.8.\n",
      "Processing frames:  33%|███▎      | 198/599 [00:50<01:41,  3.95it/s]"
     ]
    },
    {
     "name": "stdout",
     "output_type": "stream",
     "text": [
      "\n",
      "0: 1280x1280 1 ball, 21 players, 5 referees, 68.6ms\n",
      "Speed: 6.3ms preprocess, 68.6ms inference, 1.0ms postprocess per image at shape (1, 3, 1280, 1280)\n"
     ]
    },
    {
     "name": "stderr",
     "output_type": "stream",
     "text": [
      "Embedding extraction: 1it [00:00,  8.25it/s]\n",
      "FutureWarning: 'force_all_finite' was renamed to 'ensure_all_finite' in 1.6 and will be removed in 1.8.\n",
      "Processing frames:  33%|███▎      | 199/599 [00:50<01:39,  4.01it/s]"
     ]
    },
    {
     "name": "stdout",
     "output_type": "stream",
     "text": [
      "\n",
      "0: 1280x1280 1 ball, 21 players, 4 referees, 68.5ms\n",
      "Speed: 6.0ms preprocess, 68.5ms inference, 1.0ms postprocess per image at shape (1, 3, 1280, 1280)\n"
     ]
    },
    {
     "name": "stderr",
     "output_type": "stream",
     "text": [
      "Embedding extraction: 1it [00:00,  8.27it/s]\n",
      "FutureWarning: 'force_all_finite' was renamed to 'ensure_all_finite' in 1.6 and will be removed in 1.8.\n",
      "Processing frames:  33%|███▎      | 200/599 [00:50<01:38,  4.06it/s]"
     ]
    },
    {
     "name": "stdout",
     "output_type": "stream",
     "text": [
      "\n",
      "0: 1280x1280 1 ball, 21 players, 3 referees, 68.8ms\n",
      "Speed: 6.0ms preprocess, 68.8ms inference, 1.0ms postprocess per image at shape (1, 3, 1280, 1280)\n"
     ]
    },
    {
     "name": "stderr",
     "output_type": "stream",
     "text": [
      "Embedding extraction: 1it [00:00,  8.30it/s]\n",
      "FutureWarning: 'force_all_finite' was renamed to 'ensure_all_finite' in 1.6 and will be removed in 1.8.\n",
      "Processing frames:  34%|███▎      | 201/599 [00:51<01:37,  4.10it/s]"
     ]
    },
    {
     "name": "stdout",
     "output_type": "stream",
     "text": [
      "\n",
      "0: 1280x1280 1 ball, 21 players, 3 referees, 68.8ms\n",
      "Speed: 6.2ms preprocess, 68.8ms inference, 1.0ms postprocess per image at shape (1, 3, 1280, 1280)\n"
     ]
    },
    {
     "name": "stderr",
     "output_type": "stream",
     "text": [
      "Embedding extraction: 1it [00:00,  8.29it/s]\n",
      "FutureWarning: 'force_all_finite' was renamed to 'ensure_all_finite' in 1.6 and will be removed in 1.8.\n",
      "Processing frames:  34%|███▎      | 202/599 [00:51<01:36,  4.12it/s]"
     ]
    },
    {
     "name": "stdout",
     "output_type": "stream",
     "text": [
      "\n",
      "0: 1280x1280 1 ball, 21 players, 3 referees, 68.6ms\n",
      "Speed: 8.2ms preprocess, 68.6ms inference, 1.0ms postprocess per image at shape (1, 3, 1280, 1280)\n"
     ]
    },
    {
     "name": "stderr",
     "output_type": "stream",
     "text": [
      "Embedding extraction: 1it [00:00,  8.22it/s]\n",
      "FutureWarning: 'force_all_finite' was renamed to 'ensure_all_finite' in 1.6 and will be removed in 1.8.\n",
      "Processing frames:  34%|███▍      | 203/599 [00:51<01:36,  4.12it/s]"
     ]
    },
    {
     "name": "stdout",
     "output_type": "stream",
     "text": [
      "\n",
      "0: 1280x1280 1 ball, 21 players, 3 referees, 68.7ms\n",
      "Speed: 6.1ms preprocess, 68.7ms inference, 1.0ms postprocess per image at shape (1, 3, 1280, 1280)\n"
     ]
    },
    {
     "name": "stderr",
     "output_type": "stream",
     "text": [
      "Embedding extraction: 1it [00:00,  8.26it/s]\n",
      "FutureWarning: 'force_all_finite' was renamed to 'ensure_all_finite' in 1.6 and will be removed in 1.8.\n",
      "Processing frames:  34%|███▍      | 204/599 [00:51<01:35,  4.13it/s]"
     ]
    },
    {
     "name": "stdout",
     "output_type": "stream",
     "text": [
      "\n",
      "0: 1280x1280 22 players, 3 referees, 68.2ms\n",
      "Speed: 8.9ms preprocess, 68.2ms inference, 1.0ms postprocess per image at shape (1, 3, 1280, 1280)\n"
     ]
    },
    {
     "name": "stderr",
     "output_type": "stream",
     "text": [
      "Embedding extraction: 1it [00:00,  8.26it/s]\n",
      "FutureWarning: 'force_all_finite' was renamed to 'ensure_all_finite' in 1.6 and will be removed in 1.8.\n",
      "Processing frames:  34%|███▍      | 205/599 [00:52<01:35,  4.14it/s]"
     ]
    },
    {
     "name": "stdout",
     "output_type": "stream",
     "text": [
      "\n",
      "0: 1280x1280 22 players, 3 referees, 68.1ms\n",
      "Speed: 8.5ms preprocess, 68.1ms inference, 1.0ms postprocess per image at shape (1, 3, 1280, 1280)\n"
     ]
    },
    {
     "name": "stderr",
     "output_type": "stream",
     "text": [
      "Embedding extraction: 1it [00:00,  8.33it/s]\n",
      "FutureWarning: 'force_all_finite' was renamed to 'ensure_all_finite' in 1.6 and will be removed in 1.8.\n",
      "Processing frames:  34%|███▍      | 206/599 [00:52<01:35,  4.13it/s]"
     ]
    },
    {
     "name": "stdout",
     "output_type": "stream",
     "text": [
      "\n",
      "0: 1280x1280 21 players, 3 referees, 68.4ms\n",
      "Speed: 8.5ms preprocess, 68.4ms inference, 1.0ms postprocess per image at shape (1, 3, 1280, 1280)\n"
     ]
    },
    {
     "name": "stderr",
     "output_type": "stream",
     "text": [
      "Embedding extraction: 1it [00:00,  8.26it/s]\n",
      "FutureWarning: 'force_all_finite' was renamed to 'ensure_all_finite' in 1.6 and will be removed in 1.8.\n",
      "Processing frames:  35%|███▍      | 207/599 [00:52<01:34,  4.13it/s]"
     ]
    },
    {
     "name": "stdout",
     "output_type": "stream",
     "text": [
      "\n",
      "0: 1280x1280 20 players, 3 referees, 68.0ms\n",
      "Speed: 6.2ms preprocess, 68.0ms inference, 1.0ms postprocess per image at shape (1, 3, 1280, 1280)\n"
     ]
    },
    {
     "name": "stderr",
     "output_type": "stream",
     "text": [
      "Embedding extraction: 1it [00:00,  8.27it/s]\n",
      "FutureWarning: 'force_all_finite' was renamed to 'ensure_all_finite' in 1.6 and will be removed in 1.8.\n",
      "Processing frames:  35%|███▍      | 208/599 [00:52<01:34,  4.15it/s]"
     ]
    },
    {
     "name": "stdout",
     "output_type": "stream",
     "text": [
      "\n",
      "0: 1280x1280 21 players, 3 referees, 68.3ms\n",
      "Speed: 8.9ms preprocess, 68.3ms inference, 1.1ms postprocess per image at shape (1, 3, 1280, 1280)\n"
     ]
    },
    {
     "name": "stderr",
     "output_type": "stream",
     "text": [
      "Embedding extraction: 1it [00:00,  8.23it/s]\n",
      "FutureWarning: 'force_all_finite' was renamed to 'ensure_all_finite' in 1.6 and will be removed in 1.8.\n",
      "Processing frames:  35%|███▍      | 209/599 [00:53<01:34,  4.14it/s]"
     ]
    },
    {
     "name": "stdout",
     "output_type": "stream",
     "text": [
      "\n",
      "0: 1280x1280 21 players, 3 referees, 68.6ms\n",
      "Speed: 6.2ms preprocess, 68.6ms inference, 1.0ms postprocess per image at shape (1, 3, 1280, 1280)\n"
     ]
    },
    {
     "name": "stderr",
     "output_type": "stream",
     "text": [
      "Embedding extraction: 1it [00:00,  8.23it/s]\n",
      "FutureWarning: 'force_all_finite' was renamed to 'ensure_all_finite' in 1.6 and will be removed in 1.8.\n",
      "Processing frames:  35%|███▌      | 210/599 [00:53<01:33,  4.16it/s]"
     ]
    },
    {
     "name": "stdout",
     "output_type": "stream",
     "text": [
      "\n",
      "0: 1280x1280 21 players, 3 referees, 68.2ms\n",
      "Speed: 6.1ms preprocess, 68.2ms inference, 1.0ms postprocess per image at shape (1, 3, 1280, 1280)\n"
     ]
    },
    {
     "name": "stderr",
     "output_type": "stream",
     "text": [
      "Embedding extraction: 1it [00:00,  8.23it/s]\n",
      "FutureWarning: 'force_all_finite' was renamed to 'ensure_all_finite' in 1.6 and will be removed in 1.8.\n",
      "Processing frames:  35%|███▌      | 211/599 [00:53<01:33,  4.17it/s]"
     ]
    },
    {
     "name": "stdout",
     "output_type": "stream",
     "text": [
      "\n",
      "0: 1280x1280 21 players, 3 referees, 68.4ms\n",
      "Speed: 6.2ms preprocess, 68.4ms inference, 1.1ms postprocess per image at shape (1, 3, 1280, 1280)\n"
     ]
    },
    {
     "name": "stderr",
     "output_type": "stream",
     "text": [
      "Embedding extraction: 1it [00:00,  8.26it/s]\n",
      "FutureWarning: 'force_all_finite' was renamed to 'ensure_all_finite' in 1.6 and will be removed in 1.8.\n",
      "Processing frames:  35%|███▌      | 212/599 [00:53<01:32,  4.17it/s]"
     ]
    },
    {
     "name": "stdout",
     "output_type": "stream",
     "text": [
      "\n",
      "0: 1280x1280 1 ball, 21 players, 3 referees, 68.3ms\n",
      "Speed: 8.6ms preprocess, 68.3ms inference, 1.0ms postprocess per image at shape (1, 3, 1280, 1280)\n"
     ]
    },
    {
     "name": "stderr",
     "output_type": "stream",
     "text": [
      "Embedding extraction: 1it [00:00,  8.23it/s]\n",
      "FutureWarning: 'force_all_finite' was renamed to 'ensure_all_finite' in 1.6 and will be removed in 1.8.\n",
      "Processing frames:  36%|███▌      | 213/599 [00:54<01:32,  4.16it/s]"
     ]
    },
    {
     "name": "stdout",
     "output_type": "stream",
     "text": [
      "\n",
      "0: 1280x1280 1 ball, 21 players, 3 referees, 68.6ms\n",
      "Speed: 6.2ms preprocess, 68.6ms inference, 1.0ms postprocess per image at shape (1, 3, 1280, 1280)\n"
     ]
    },
    {
     "name": "stderr",
     "output_type": "stream",
     "text": [
      "Embedding extraction: 1it [00:00,  8.25it/s]\n",
      "FutureWarning: 'force_all_finite' was renamed to 'ensure_all_finite' in 1.6 and will be removed in 1.8.\n",
      "Processing frames:  36%|███▌      | 214/599 [00:54<01:32,  4.15it/s]"
     ]
    },
    {
     "name": "stdout",
     "output_type": "stream",
     "text": [
      "\n",
      "0: 1280x1280 1 ball, 20 players, 4 referees, 68.4ms\n",
      "Speed: 7.5ms preprocess, 68.4ms inference, 0.9ms postprocess per image at shape (1, 3, 1280, 1280)\n"
     ]
    },
    {
     "name": "stderr",
     "output_type": "stream",
     "text": [
      "Embedding extraction: 1it [00:00,  8.32it/s]\n",
      "FutureWarning: 'force_all_finite' was renamed to 'ensure_all_finite' in 1.6 and will be removed in 1.8.\n",
      "Processing frames:  36%|███▌      | 215/599 [00:54<01:32,  4.15it/s]"
     ]
    },
    {
     "name": "stdout",
     "output_type": "stream",
     "text": [
      "\n",
      "0: 1280x1280 1 ball, 20 players, 3 referees, 68.6ms\n",
      "Speed: 6.5ms preprocess, 68.6ms inference, 1.0ms postprocess per image at shape (1, 3, 1280, 1280)\n"
     ]
    },
    {
     "name": "stderr",
     "output_type": "stream",
     "text": [
      "Embedding extraction: 1it [00:00,  8.24it/s]\n",
      "FutureWarning: 'force_all_finite' was renamed to 'ensure_all_finite' in 1.6 and will be removed in 1.8.\n",
      "Processing frames:  36%|███▌      | 216/599 [00:54<01:32,  4.15it/s]"
     ]
    },
    {
     "name": "stdout",
     "output_type": "stream",
     "text": [
      "\n",
      "0: 1280x1280 1 ball, 20 players, 3 referees, 68.5ms\n",
      "Speed: 6.1ms preprocess, 68.5ms inference, 1.0ms postprocess per image at shape (1, 3, 1280, 1280)\n"
     ]
    },
    {
     "name": "stderr",
     "output_type": "stream",
     "text": [
      "Embedding extraction: 1it [00:00,  8.28it/s]\n",
      "FutureWarning: 'force_all_finite' was renamed to 'ensure_all_finite' in 1.6 and will be removed in 1.8.\n",
      "Processing frames:  36%|███▌      | 217/599 [00:54<01:32,  4.15it/s]"
     ]
    },
    {
     "name": "stdout",
     "output_type": "stream",
     "text": [
      "\n",
      "0: 1280x1280 1 ball, 20 players, 3 referees, 68.2ms\n",
      "Speed: 6.3ms preprocess, 68.2ms inference, 1.0ms postprocess per image at shape (1, 3, 1280, 1280)\n"
     ]
    },
    {
     "name": "stderr",
     "output_type": "stream",
     "text": [
      "Embedding extraction: 1it [00:00,  8.22it/s]\n",
      "FutureWarning: 'force_all_finite' was renamed to 'ensure_all_finite' in 1.6 and will be removed in 1.8.\n",
      "Processing frames:  36%|███▋      | 218/599 [00:55<01:31,  4.16it/s]"
     ]
    },
    {
     "name": "stdout",
     "output_type": "stream",
     "text": [
      "\n",
      "0: 1280x1280 20 players, 3 referees, 68.5ms\n",
      "Speed: 7.3ms preprocess, 68.5ms inference, 1.0ms postprocess per image at shape (1, 3, 1280, 1280)\n"
     ]
    },
    {
     "name": "stderr",
     "output_type": "stream",
     "text": [
      "Embedding extraction: 1it [00:00,  8.32it/s]\n",
      "FutureWarning: 'force_all_finite' was renamed to 'ensure_all_finite' in 1.6 and will be removed in 1.8.\n",
      "Processing frames:  37%|███▋      | 219/599 [00:55<01:30,  4.18it/s]"
     ]
    },
    {
     "name": "stdout",
     "output_type": "stream",
     "text": [
      "\n",
      "0: 1280x1280 20 players, 3 referees, 68.4ms\n",
      "Speed: 7.5ms preprocess, 68.4ms inference, 1.0ms postprocess per image at shape (1, 3, 1280, 1280)\n"
     ]
    },
    {
     "name": "stderr",
     "output_type": "stream",
     "text": [
      "Embedding extraction: 1it [00:00,  8.19it/s]\n",
      "FutureWarning: 'force_all_finite' was renamed to 'ensure_all_finite' in 1.6 and will be removed in 1.8.\n",
      "Processing frames:  37%|███▋      | 220/599 [00:55<01:30,  4.17it/s]"
     ]
    },
    {
     "name": "stdout",
     "output_type": "stream",
     "text": [
      "\n",
      "0: 1280x1280 20 players, 3 referees, 68.6ms\n",
      "Speed: 6.0ms preprocess, 68.6ms inference, 1.0ms postprocess per image at shape (1, 3, 1280, 1280)\n"
     ]
    },
    {
     "name": "stderr",
     "output_type": "stream",
     "text": [
      "Embedding extraction: 1it [00:00,  8.23it/s]\n",
      "FutureWarning: 'force_all_finite' was renamed to 'ensure_all_finite' in 1.6 and will be removed in 1.8.\n",
      "Processing frames:  37%|███▋      | 221/599 [00:55<01:30,  4.18it/s]"
     ]
    },
    {
     "name": "stdout",
     "output_type": "stream",
     "text": [
      "\n",
      "0: 1280x1280 1 ball, 20 players, 3 referees, 68.6ms\n",
      "Speed: 6.1ms preprocess, 68.6ms inference, 1.0ms postprocess per image at shape (1, 3, 1280, 1280)\n"
     ]
    },
    {
     "name": "stderr",
     "output_type": "stream",
     "text": [
      "Embedding extraction: 1it [00:00,  8.25it/s]\n",
      "FutureWarning: 'force_all_finite' was renamed to 'ensure_all_finite' in 1.6 and will be removed in 1.8.\n",
      "Processing frames:  37%|███▋      | 222/599 [00:56<01:30,  4.18it/s]"
     ]
    },
    {
     "name": "stdout",
     "output_type": "stream",
     "text": [
      "\n",
      "0: 1280x1280 1 ball, 20 players, 3 referees, 68.4ms\n",
      "Speed: 7.2ms preprocess, 68.4ms inference, 0.9ms postprocess per image at shape (1, 3, 1280, 1280)\n"
     ]
    },
    {
     "name": "stderr",
     "output_type": "stream",
     "text": [
      "Embedding extraction: 1it [00:00,  8.27it/s]\n",
      "FutureWarning: 'force_all_finite' was renamed to 'ensure_all_finite' in 1.6 and will be removed in 1.8.\n",
      "Processing frames:  37%|███▋      | 223/599 [00:56<01:29,  4.18it/s]"
     ]
    },
    {
     "name": "stdout",
     "output_type": "stream",
     "text": [
      "\n",
      "0: 1280x1280 20 players, 3 referees, 68.4ms\n",
      "Speed: 6.1ms preprocess, 68.4ms inference, 1.0ms postprocess per image at shape (1, 3, 1280, 1280)\n"
     ]
    },
    {
     "name": "stderr",
     "output_type": "stream",
     "text": [
      "Embedding extraction: 1it [00:00,  8.24it/s]\n",
      "FutureWarning: 'force_all_finite' was renamed to 'ensure_all_finite' in 1.6 and will be removed in 1.8.\n",
      "Processing frames:  37%|███▋      | 224/599 [00:56<01:29,  4.17it/s]"
     ]
    },
    {
     "name": "stdout",
     "output_type": "stream",
     "text": [
      "\n",
      "0: 1280x1280 1 ball, 21 players, 3 referees, 68.6ms\n",
      "Speed: 6.2ms preprocess, 68.6ms inference, 1.0ms postprocess per image at shape (1, 3, 1280, 1280)\n"
     ]
    },
    {
     "name": "stderr",
     "output_type": "stream",
     "text": [
      "Embedding extraction: 1it [00:00,  8.22it/s]\n",
      "FutureWarning: 'force_all_finite' was renamed to 'ensure_all_finite' in 1.6 and will be removed in 1.8.\n",
      "Processing frames:  38%|███▊      | 225/599 [00:56<01:29,  4.18it/s]"
     ]
    },
    {
     "name": "stdout",
     "output_type": "stream",
     "text": [
      "\n",
      "0: 1280x1280 1 ball, 21 players, 3 referees, 68.2ms\n",
      "Speed: 7.2ms preprocess, 68.2ms inference, 1.0ms postprocess per image at shape (1, 3, 1280, 1280)\n"
     ]
    },
    {
     "name": "stderr",
     "output_type": "stream",
     "text": [
      "Embedding extraction: 1it [00:00,  8.17it/s]\n",
      "FutureWarning: 'force_all_finite' was renamed to 'ensure_all_finite' in 1.6 and will be removed in 1.8.\n",
      "Processing frames:  38%|███▊      | 226/599 [00:57<01:29,  4.17it/s]"
     ]
    },
    {
     "name": "stdout",
     "output_type": "stream",
     "text": [
      "\n",
      "0: 1280x1280 21 players, 3 referees, 68.5ms\n",
      "Speed: 6.1ms preprocess, 68.5ms inference, 1.0ms postprocess per image at shape (1, 3, 1280, 1280)\n"
     ]
    },
    {
     "name": "stderr",
     "output_type": "stream",
     "text": [
      "Embedding extraction: 1it [00:00,  8.21it/s]\n",
      "FutureWarning: 'force_all_finite' was renamed to 'ensure_all_finite' in 1.6 and will be removed in 1.8.\n",
      "Processing frames:  38%|███▊      | 227/599 [00:57<01:29,  4.17it/s]"
     ]
    },
    {
     "name": "stdout",
     "output_type": "stream",
     "text": [
      "\n",
      "0: 1280x1280 1 ball, 21 players, 3 referees, 68.2ms\n",
      "Speed: 10.9ms preprocess, 68.2ms inference, 1.3ms postprocess per image at shape (1, 3, 1280, 1280)\n"
     ]
    },
    {
     "name": "stderr",
     "output_type": "stream",
     "text": [
      "Embedding extraction: 1it [00:00,  8.31it/s]\n",
      "FutureWarning: 'force_all_finite' was renamed to 'ensure_all_finite' in 1.6 and will be removed in 1.8.\n",
      "Processing frames:  38%|███▊      | 228/599 [00:57<01:29,  4.13it/s]"
     ]
    },
    {
     "name": "stdout",
     "output_type": "stream",
     "text": [
      "\n",
      "0: 1280x1280 1 ball, 20 players, 3 referees, 67.9ms\n",
      "Speed: 8.1ms preprocess, 67.9ms inference, 1.0ms postprocess per image at shape (1, 3, 1280, 1280)\n"
     ]
    },
    {
     "name": "stderr",
     "output_type": "stream",
     "text": [
      "Embedding extraction: 1it [00:00,  8.34it/s]\n",
      "FutureWarning: 'force_all_finite' was renamed to 'ensure_all_finite' in 1.6 and will be removed in 1.8.\n",
      "Processing frames:  38%|███▊      | 229/599 [00:57<01:29,  4.13it/s]"
     ]
    },
    {
     "name": "stdout",
     "output_type": "stream",
     "text": [
      "\n",
      "0: 1280x1280 1 ball, 20 players, 3 referees, 67.8ms\n",
      "Speed: 6.1ms preprocess, 67.8ms inference, 1.0ms postprocess per image at shape (1, 3, 1280, 1280)\n"
     ]
    },
    {
     "name": "stderr",
     "output_type": "stream",
     "text": [
      "Embedding extraction: 1it [00:00,  8.45it/s]\n",
      "FutureWarning: 'force_all_finite' was renamed to 'ensure_all_finite' in 1.6 and will be removed in 1.8.\n",
      "Processing frames:  38%|███▊      | 230/599 [00:58<01:28,  4.17it/s]"
     ]
    },
    {
     "name": "stdout",
     "output_type": "stream",
     "text": [
      "\n",
      "0: 1280x1280 1 ball, 21 players, 3 referees, 68.7ms\n",
      "Speed: 6.1ms preprocess, 68.7ms inference, 1.0ms postprocess per image at shape (1, 3, 1280, 1280)\n"
     ]
    },
    {
     "name": "stderr",
     "output_type": "stream",
     "text": [
      "Embedding extraction: 1it [00:00,  7.56it/s]\n",
      "FutureWarning: 'force_all_finite' was renamed to 'ensure_all_finite' in 1.6 and will be removed in 1.8.\n",
      "Processing frames:  39%|███▊      | 231/599 [00:58<01:29,  4.12it/s]"
     ]
    },
    {
     "name": "stdout",
     "output_type": "stream",
     "text": [
      "\n",
      "0: 1280x1280 1 ball, 20 players, 3 referees, 68.6ms\n",
      "Speed: 6.1ms preprocess, 68.6ms inference, 1.0ms postprocess per image at shape (1, 3, 1280, 1280)\n"
     ]
    },
    {
     "name": "stderr",
     "output_type": "stream",
     "text": [
      "Embedding extraction: 1it [00:00,  8.29it/s]\n",
      "FutureWarning: 'force_all_finite' was renamed to 'ensure_all_finite' in 1.6 and will be removed in 1.8.\n",
      "Processing frames:  39%|███▊      | 232/599 [00:58<01:28,  4.13it/s]"
     ]
    },
    {
     "name": "stdout",
     "output_type": "stream",
     "text": [
      "\n",
      "0: 1280x1280 1 ball, 20 players, 3 referees, 68.8ms\n",
      "Speed: 6.2ms preprocess, 68.8ms inference, 1.0ms postprocess per image at shape (1, 3, 1280, 1280)\n"
     ]
    },
    {
     "name": "stderr",
     "output_type": "stream",
     "text": [
      "Embedding extraction: 1it [00:00,  9.24it/s]\n",
      "FutureWarning: 'force_all_finite' was renamed to 'ensure_all_finite' in 1.6 and will be removed in 1.8.\n",
      "Processing frames:  39%|███▉      | 233/599 [00:58<01:26,  4.21it/s]"
     ]
    },
    {
     "name": "stdout",
     "output_type": "stream",
     "text": [
      "\n",
      "0: 1280x1280 21 players, 3 referees, 68.9ms\n",
      "Speed: 7.0ms preprocess, 68.9ms inference, 1.0ms postprocess per image at shape (1, 3, 1280, 1280)\n"
     ]
    },
    {
     "name": "stderr",
     "output_type": "stream",
     "text": [
      "Embedding extraction: 1it [00:00,  8.21it/s]\n",
      "FutureWarning: 'force_all_finite' was renamed to 'ensure_all_finite' in 1.6 and will be removed in 1.8.\n",
      "Processing frames:  39%|███▉      | 234/599 [00:59<01:27,  4.19it/s]"
     ]
    },
    {
     "name": "stdout",
     "output_type": "stream",
     "text": [
      "\n",
      "0: 1280x1280 1 ball, 21 players, 3 referees, 68.7ms\n",
      "Speed: 7.4ms preprocess, 68.7ms inference, 1.0ms postprocess per image at shape (1, 3, 1280, 1280)\n"
     ]
    },
    {
     "name": "stderr",
     "output_type": "stream",
     "text": [
      "Embedding extraction: 1it [00:00,  8.32it/s]\n",
      "FutureWarning: 'force_all_finite' was renamed to 'ensure_all_finite' in 1.6 and will be removed in 1.8.\n",
      "Processing frames:  39%|███▉      | 235/599 [00:59<01:27,  4.17it/s]"
     ]
    },
    {
     "name": "stdout",
     "output_type": "stream",
     "text": [
      "\n",
      "0: 1280x1280 21 players, 3 referees, 68.4ms\n",
      "Speed: 10.9ms preprocess, 68.4ms inference, 1.0ms postprocess per image at shape (1, 3, 1280, 1280)\n"
     ]
    },
    {
     "name": "stderr",
     "output_type": "stream",
     "text": [
      "Embedding extraction: 1it [00:00,  8.26it/s]\n",
      "FutureWarning: 'force_all_finite' was renamed to 'ensure_all_finite' in 1.6 and will be removed in 1.8.\n",
      "Processing frames:  39%|███▉      | 236/599 [00:59<01:27,  4.15it/s]"
     ]
    },
    {
     "name": "stdout",
     "output_type": "stream",
     "text": [
      "\n",
      "0: 1280x1280 21 players, 3 referees, 68.3ms\n",
      "Speed: 6.1ms preprocess, 68.3ms inference, 1.1ms postprocess per image at shape (1, 3, 1280, 1280)\n"
     ]
    },
    {
     "name": "stderr",
     "output_type": "stream",
     "text": [
      "Embedding extraction: 1it [00:00,  8.26it/s]\n",
      "FutureWarning: 'force_all_finite' was renamed to 'ensure_all_finite' in 1.6 and will be removed in 1.8.\n",
      "Processing frames:  40%|███▉      | 237/599 [00:59<01:26,  4.17it/s]"
     ]
    },
    {
     "name": "stdout",
     "output_type": "stream",
     "text": [
      "\n",
      "0: 1280x1280 21 players, 3 referees, 67.6ms\n",
      "Speed: 7.6ms preprocess, 67.6ms inference, 1.0ms postprocess per image at shape (1, 3, 1280, 1280)\n"
     ]
    },
    {
     "name": "stderr",
     "output_type": "stream",
     "text": [
      "Embedding extraction: 1it [00:00,  7.57it/s]\n",
      "FutureWarning: 'force_all_finite' was renamed to 'ensure_all_finite' in 1.6 and will be removed in 1.8.\n",
      "Processing frames:  40%|███▉      | 238/599 [01:00<01:27,  4.11it/s]"
     ]
    },
    {
     "name": "stdout",
     "output_type": "stream",
     "text": [
      "\n",
      "0: 1280x1280 21 players, 3 referees, 68.4ms\n",
      "Speed: 6.3ms preprocess, 68.4ms inference, 1.0ms postprocess per image at shape (1, 3, 1280, 1280)\n"
     ]
    },
    {
     "name": "stderr",
     "output_type": "stream",
     "text": [
      "Embedding extraction: 1it [00:00,  7.50it/s]\n",
      "FutureWarning: 'force_all_finite' was renamed to 'ensure_all_finite' in 1.6 and will be removed in 1.8.\n",
      "Processing frames:  40%|███▉      | 239/599 [01:00<01:28,  4.06it/s]"
     ]
    },
    {
     "name": "stdout",
     "output_type": "stream",
     "text": [
      "\n",
      "0: 1280x1280 1 ball, 21 players, 3 referees, 68.6ms\n",
      "Speed: 10.8ms preprocess, 68.6ms inference, 1.0ms postprocess per image at shape (1, 3, 1280, 1280)\n"
     ]
    },
    {
     "name": "stderr",
     "output_type": "stream",
     "text": [
      "Embedding extraction: 1it [00:00,  7.57it/s]\n",
      "FutureWarning: 'force_all_finite' was renamed to 'ensure_all_finite' in 1.6 and will be removed in 1.8.\n",
      "Processing frames:  40%|████      | 240/599 [01:00<01:29,  4.01it/s]"
     ]
    },
    {
     "name": "stdout",
     "output_type": "stream",
     "text": [
      "\n",
      "0: 1280x1280 1 ball, 21 players, 3 referees, 68.5ms\n",
      "Speed: 6.0ms preprocess, 68.5ms inference, 1.0ms postprocess per image at shape (1, 3, 1280, 1280)\n"
     ]
    },
    {
     "name": "stderr",
     "output_type": "stream",
     "text": [
      "Embedding extraction: 1it [00:00,  8.30it/s]\n",
      "FutureWarning: 'force_all_finite' was renamed to 'ensure_all_finite' in 1.6 and will be removed in 1.8.\n",
      "Processing frames:  40%|████      | 241/599 [01:00<01:28,  4.04it/s]"
     ]
    },
    {
     "name": "stdout",
     "output_type": "stream",
     "text": [
      "\n",
      "0: 1280x1280 1 ball, 21 players, 3 referees, 67.9ms\n",
      "Speed: 6.1ms preprocess, 67.9ms inference, 1.0ms postprocess per image at shape (1, 3, 1280, 1280)\n"
     ]
    },
    {
     "name": "stderr",
     "output_type": "stream",
     "text": [
      "Embedding extraction: 1it [00:00,  8.34it/s]\n",
      "FutureWarning: 'force_all_finite' was renamed to 'ensure_all_finite' in 1.6 and will be removed in 1.8.\n",
      "Processing frames:  40%|████      | 242/599 [01:01<01:27,  4.07it/s]"
     ]
    },
    {
     "name": "stdout",
     "output_type": "stream",
     "text": [
      "\n",
      "0: 1280x1280 1 ball, 21 players, 3 referees, 68.5ms\n",
      "Speed: 6.2ms preprocess, 68.5ms inference, 1.0ms postprocess per image at shape (1, 3, 1280, 1280)\n"
     ]
    },
    {
     "name": "stderr",
     "output_type": "stream",
     "text": [
      "Embedding extraction: 1it [00:00,  8.31it/s]\n",
      "FutureWarning: 'force_all_finite' was renamed to 'ensure_all_finite' in 1.6 and will be removed in 1.8.\n",
      "Processing frames:  41%|████      | 243/599 [01:01<01:26,  4.10it/s]"
     ]
    },
    {
     "name": "stdout",
     "output_type": "stream",
     "text": [
      "\n",
      "0: 1280x1280 1 ball, 22 players, 3 referees, 68.9ms\n",
      "Speed: 6.0ms preprocess, 68.9ms inference, 1.0ms postprocess per image at shape (1, 3, 1280, 1280)\n"
     ]
    },
    {
     "name": "stderr",
     "output_type": "stream",
     "text": [
      "Embedding extraction: 1it [00:00,  7.67it/s]\n",
      "FutureWarning: 'force_all_finite' was renamed to 'ensure_all_finite' in 1.6 and will be removed in 1.8.\n",
      "Processing frames:  41%|████      | 244/599 [01:01<01:27,  4.07it/s]"
     ]
    },
    {
     "name": "stdout",
     "output_type": "stream",
     "text": [
      "\n",
      "0: 1280x1280 1 ball, 21 players, 3 referees, 68.7ms\n",
      "Speed: 6.2ms preprocess, 68.7ms inference, 1.0ms postprocess per image at shape (1, 3, 1280, 1280)\n"
     ]
    },
    {
     "name": "stderr",
     "output_type": "stream",
     "text": [
      "Embedding extraction: 1it [00:00,  7.55it/s]\n",
      "FutureWarning: 'force_all_finite' was renamed to 'ensure_all_finite' in 1.6 and will be removed in 1.8.\n",
      "Processing frames:  41%|████      | 245/599 [01:01<01:27,  4.04it/s]"
     ]
    },
    {
     "name": "stdout",
     "output_type": "stream",
     "text": [
      "\n",
      "0: 1280x1280 1 ball, 21 players, 3 referees, 68.4ms\n",
      "Speed: 6.0ms preprocess, 68.4ms inference, 1.0ms postprocess per image at shape (1, 3, 1280, 1280)\n"
     ]
    },
    {
     "name": "stderr",
     "output_type": "stream",
     "text": [
      "Embedding extraction: 1it [00:00,  7.56it/s]\n",
      "FutureWarning: 'force_all_finite' was renamed to 'ensure_all_finite' in 1.6 and will be removed in 1.8.\n",
      "Processing frames:  41%|████      | 246/599 [01:02<01:27,  4.03it/s]"
     ]
    },
    {
     "name": "stdout",
     "output_type": "stream",
     "text": [
      "\n",
      "0: 1280x1280 1 ball, 21 players, 3 referees, 68.9ms\n",
      "Speed: 6.4ms preprocess, 68.9ms inference, 1.0ms postprocess per image at shape (1, 3, 1280, 1280)\n"
     ]
    },
    {
     "name": "stderr",
     "output_type": "stream",
     "text": [
      "Embedding extraction: 1it [00:00,  7.54it/s]\n",
      "FutureWarning: 'force_all_finite' was renamed to 'ensure_all_finite' in 1.6 and will be removed in 1.8.\n",
      "Processing frames:  41%|████      | 247/599 [01:02<01:27,  4.01it/s]"
     ]
    },
    {
     "name": "stdout",
     "output_type": "stream",
     "text": [
      "\n",
      "0: 1280x1280 1 ball, 21 players, 3 referees, 68.4ms\n",
      "Speed: 8.7ms preprocess, 68.4ms inference, 1.0ms postprocess per image at shape (1, 3, 1280, 1280)\n"
     ]
    },
    {
     "name": "stderr",
     "output_type": "stream",
     "text": [
      "Embedding extraction: 1it [00:00,  7.58it/s]\n",
      "FutureWarning: 'force_all_finite' was renamed to 'ensure_all_finite' in 1.6 and will be removed in 1.8.\n",
      "Processing frames:  41%|████▏     | 248/599 [01:02<01:27,  3.99it/s]"
     ]
    },
    {
     "name": "stdout",
     "output_type": "stream",
     "text": [
      "\n",
      "0: 1280x1280 1 ball, 21 players, 3 referees, 68.2ms\n",
      "Speed: 6.2ms preprocess, 68.2ms inference, 1.0ms postprocess per image at shape (1, 3, 1280, 1280)\n"
     ]
    },
    {
     "name": "stderr",
     "output_type": "stream",
     "text": [
      "Embedding extraction: 1it [00:00,  7.65it/s]\n",
      "FutureWarning: 'force_all_finite' was renamed to 'ensure_all_finite' in 1.6 and will be removed in 1.8.\n",
      "Processing frames:  42%|████▏     | 249/599 [01:02<01:27,  3.99it/s]"
     ]
    },
    {
     "name": "stdout",
     "output_type": "stream",
     "text": [
      "\n",
      "0: 1280x1280 21 players, 3 referees, 68.2ms\n",
      "Speed: 6.1ms preprocess, 68.2ms inference, 1.0ms postprocess per image at shape (1, 3, 1280, 1280)\n"
     ]
    },
    {
     "name": "stderr",
     "output_type": "stream",
     "text": [
      "Embedding extraction: 1it [00:00,  7.54it/s]\n",
      "FutureWarning: 'force_all_finite' was renamed to 'ensure_all_finite' in 1.6 and will be removed in 1.8.\n",
      "Processing frames:  42%|████▏     | 250/599 [01:03<01:27,  3.98it/s]"
     ]
    },
    {
     "name": "stdout",
     "output_type": "stream",
     "text": [
      "\n",
      "0: 1280x1280 1 ball, 21 players, 3 referees, 68.7ms\n",
      "Speed: 9.4ms preprocess, 68.7ms inference, 1.0ms postprocess per image at shape (1, 3, 1280, 1280)\n"
     ]
    },
    {
     "name": "stderr",
     "output_type": "stream",
     "text": [
      "Embedding extraction: 1it [00:00,  7.34it/s]\n",
      "FutureWarning: 'force_all_finite' was renamed to 'ensure_all_finite' in 1.6 and will be removed in 1.8.\n",
      "Processing frames:  42%|████▏     | 251/599 [01:03<01:28,  3.94it/s]"
     ]
    },
    {
     "name": "stdout",
     "output_type": "stream",
     "text": [
      "\n",
      "0: 1280x1280 1 ball, 21 players, 3 referees, 69.0ms\n",
      "Speed: 6.4ms preprocess, 69.0ms inference, 0.9ms postprocess per image at shape (1, 3, 1280, 1280)\n"
     ]
    },
    {
     "name": "stderr",
     "output_type": "stream",
     "text": [
      "Embedding extraction: 1it [00:00,  7.54it/s]\n",
      "FutureWarning: 'force_all_finite' was renamed to 'ensure_all_finite' in 1.6 and will be removed in 1.8.\n",
      "Processing frames:  42%|████▏     | 252/599 [01:03<01:27,  3.95it/s]"
     ]
    },
    {
     "name": "stdout",
     "output_type": "stream",
     "text": [
      "\n",
      "0: 1280x1280 1 ball, 21 players, 3 referees, 68.7ms\n",
      "Speed: 6.1ms preprocess, 68.7ms inference, 1.0ms postprocess per image at shape (1, 3, 1280, 1280)\n"
     ]
    },
    {
     "name": "stderr",
     "output_type": "stream",
     "text": [
      "Embedding extraction: 1it [00:00,  7.64it/s]\n",
      "FutureWarning: 'force_all_finite' was renamed to 'ensure_all_finite' in 1.6 and will be removed in 1.8.\n",
      "Processing frames:  42%|████▏     | 253/599 [01:03<01:27,  3.96it/s]"
     ]
    },
    {
     "name": "stdout",
     "output_type": "stream",
     "text": [
      "\n",
      "0: 1280x1280 1 ball, 21 players, 3 referees, 68.5ms\n",
      "Speed: 6.1ms preprocess, 68.5ms inference, 1.0ms postprocess per image at shape (1, 3, 1280, 1280)\n"
     ]
    },
    {
     "name": "stderr",
     "output_type": "stream",
     "text": [
      "Embedding extraction: 1it [00:00,  7.56it/s]\n",
      "FutureWarning: 'force_all_finite' was renamed to 'ensure_all_finite' in 1.6 and will be removed in 1.8.\n",
      "Processing frames:  42%|████▏     | 254/599 [01:04<01:26,  3.97it/s]"
     ]
    },
    {
     "name": "stdout",
     "output_type": "stream",
     "text": [
      "\n",
      "0: 1280x1280 1 ball, 21 players, 3 referees, 67.9ms\n",
      "Speed: 9.0ms preprocess, 67.9ms inference, 1.0ms postprocess per image at shape (1, 3, 1280, 1280)\n"
     ]
    },
    {
     "name": "stderr",
     "output_type": "stream",
     "text": [
      "Embedding extraction: 1it [00:00,  8.32it/s]\n",
      "FutureWarning: 'force_all_finite' was renamed to 'ensure_all_finite' in 1.6 and will be removed in 1.8.\n",
      "Processing frames:  43%|████▎     | 255/599 [01:04<01:25,  4.00it/s]"
     ]
    },
    {
     "name": "stdout",
     "output_type": "stream",
     "text": [
      "\n",
      "0: 1280x1280 1 ball, 21 players, 4 referees, 68.2ms\n",
      "Speed: 6.3ms preprocess, 68.2ms inference, 1.0ms postprocess per image at shape (1, 3, 1280, 1280)\n"
     ]
    },
    {
     "name": "stderr",
     "output_type": "stream",
     "text": [
      "Embedding extraction: 1it [00:00,  8.32it/s]\n",
      "FutureWarning: 'force_all_finite' was renamed to 'ensure_all_finite' in 1.6 and will be removed in 1.8.\n",
      "Processing frames:  43%|████▎     | 256/599 [01:04<01:24,  4.06it/s]"
     ]
    },
    {
     "name": "stdout",
     "output_type": "stream",
     "text": [
      "\n",
      "0: 1280x1280 1 ball, 21 players, 3 referees, 68.0ms\n",
      "Speed: 6.1ms preprocess, 68.0ms inference, 0.9ms postprocess per image at shape (1, 3, 1280, 1280)\n"
     ]
    },
    {
     "name": "stderr",
     "output_type": "stream",
     "text": [
      "Embedding extraction: 1it [00:00,  8.26it/s]\n",
      "FutureWarning: 'force_all_finite' was renamed to 'ensure_all_finite' in 1.6 and will be removed in 1.8.\n",
      "Processing frames:  43%|████▎     | 257/599 [01:04<01:23,  4.10it/s]"
     ]
    },
    {
     "name": "stdout",
     "output_type": "stream",
     "text": [
      "\n",
      "0: 1280x1280 1 ball, 21 players, 3 referees, 68.2ms\n",
      "Speed: 6.0ms preprocess, 68.2ms inference, 1.0ms postprocess per image at shape (1, 3, 1280, 1280)\n"
     ]
    },
    {
     "name": "stderr",
     "output_type": "stream",
     "text": [
      "Embedding extraction: 1it [00:00,  8.26it/s]\n",
      "FutureWarning: 'force_all_finite' was renamed to 'ensure_all_finite' in 1.6 and will be removed in 1.8.\n",
      "Processing frames:  43%|████▎     | 258/599 [01:05<01:22,  4.12it/s]"
     ]
    },
    {
     "name": "stdout",
     "output_type": "stream",
     "text": [
      "\n",
      "0: 1280x1280 1 ball, 21 players, 3 referees, 68.2ms\n",
      "Speed: 6.2ms preprocess, 68.2ms inference, 1.0ms postprocess per image at shape (1, 3, 1280, 1280)\n"
     ]
    },
    {
     "name": "stderr",
     "output_type": "stream",
     "text": [
      "Embedding extraction: 1it [00:00,  8.28it/s]\n",
      "FutureWarning: 'force_all_finite' was renamed to 'ensure_all_finite' in 1.6 and will be removed in 1.8.\n",
      "Processing frames:  43%|████▎     | 259/599 [01:05<01:22,  4.14it/s]"
     ]
    },
    {
     "name": "stdout",
     "output_type": "stream",
     "text": [
      "\n",
      "0: 1280x1280 1 ball, 21 players, 3 referees, 68.4ms\n",
      "Speed: 6.2ms preprocess, 68.4ms inference, 1.0ms postprocess per image at shape (1, 3, 1280, 1280)\n"
     ]
    },
    {
     "name": "stderr",
     "output_type": "stream",
     "text": [
      "Embedding extraction: 1it [00:00,  8.35it/s]\n",
      "FutureWarning: 'force_all_finite' was renamed to 'ensure_all_finite' in 1.6 and will be removed in 1.8.\n",
      "Processing frames:  43%|████▎     | 260/599 [01:05<01:21,  4.16it/s]"
     ]
    },
    {
     "name": "stdout",
     "output_type": "stream",
     "text": [
      "\n",
      "0: 1280x1280 1 ball, 21 players, 3 referees, 68.5ms\n",
      "Speed: 6.1ms preprocess, 68.5ms inference, 1.0ms postprocess per image at shape (1, 3, 1280, 1280)\n"
     ]
    },
    {
     "name": "stderr",
     "output_type": "stream",
     "text": [
      "Embedding extraction: 1it [00:00,  8.30it/s]\n",
      "FutureWarning: 'force_all_finite' was renamed to 'ensure_all_finite' in 1.6 and will be removed in 1.8.\n",
      "Processing frames:  44%|████▎     | 261/599 [01:05<01:21,  4.16it/s]"
     ]
    },
    {
     "name": "stdout",
     "output_type": "stream",
     "text": [
      "\n",
      "0: 1280x1280 1 ball, 21 players, 3 referees, 68.0ms\n",
      "Speed: 10.9ms preprocess, 68.0ms inference, 1.0ms postprocess per image at shape (1, 3, 1280, 1280)\n"
     ]
    },
    {
     "name": "stderr",
     "output_type": "stream",
     "text": [
      "Embedding extraction: 1it [00:00,  8.31it/s]\n",
      "FutureWarning: 'force_all_finite' was renamed to 'ensure_all_finite' in 1.6 and will be removed in 1.8.\n",
      "Processing frames:  44%|████▎     | 262/599 [01:05<01:21,  4.15it/s]"
     ]
    },
    {
     "name": "stdout",
     "output_type": "stream",
     "text": [
      "\n",
      "0: 1280x1280 22 players, 3 referees, 68.1ms\n",
      "Speed: 6.3ms preprocess, 68.1ms inference, 1.0ms postprocess per image at shape (1, 3, 1280, 1280)\n"
     ]
    },
    {
     "name": "stderr",
     "output_type": "stream",
     "text": [
      "Embedding extraction: 1it [00:00,  8.30it/s]\n",
      "FutureWarning: 'force_all_finite' was renamed to 'ensure_all_finite' in 1.6 and will be removed in 1.8.\n",
      "Processing frames:  44%|████▍     | 263/599 [01:06<01:20,  4.17it/s]"
     ]
    },
    {
     "name": "stdout",
     "output_type": "stream",
     "text": [
      "\n",
      "0: 1280x1280 1 ball, 21 players, 3 referees, 68.4ms\n",
      "Speed: 8.0ms preprocess, 68.4ms inference, 1.0ms postprocess per image at shape (1, 3, 1280, 1280)\n"
     ]
    },
    {
     "name": "stderr",
     "output_type": "stream",
     "text": [
      "Embedding extraction: 1it [00:00,  7.63it/s]\n",
      "FutureWarning: 'force_all_finite' was renamed to 'ensure_all_finite' in 1.6 and will be removed in 1.8.\n",
      "Processing frames:  44%|████▍     | 264/599 [01:06<01:21,  4.10it/s]"
     ]
    },
    {
     "name": "stdout",
     "output_type": "stream",
     "text": [
      "\n",
      "0: 1280x1280 1 ball, 22 players, 3 referees, 68.2ms\n",
      "Speed: 6.2ms preprocess, 68.2ms inference, 1.0ms postprocess per image at shape (1, 3, 1280, 1280)\n"
     ]
    },
    {
     "name": "stderr",
     "output_type": "stream",
     "text": [
      "Embedding extraction: 1it [00:00,  7.11it/s]\n",
      "FutureWarning: 'force_all_finite' was renamed to 'ensure_all_finite' in 1.6 and will be removed in 1.8.\n",
      "Processing frames:  44%|████▍     | 265/599 [01:06<01:23,  4.01it/s]"
     ]
    },
    {
     "name": "stdout",
     "output_type": "stream",
     "text": [
      "\n",
      "0: 1280x1280 1 ball, 21 players, 3 referees, 68.5ms\n",
      "Speed: 10.8ms preprocess, 68.5ms inference, 1.0ms postprocess per image at shape (1, 3, 1280, 1280)\n"
     ]
    },
    {
     "name": "stderr",
     "output_type": "stream",
     "text": [
      "Embedding extraction: 1it [00:00,  7.63it/s]\n",
      "FutureWarning: 'force_all_finite' was renamed to 'ensure_all_finite' in 1.6 and will be removed in 1.8.\n",
      "Processing frames:  44%|████▍     | 266/599 [01:06<01:23,  3.99it/s]"
     ]
    },
    {
     "name": "stdout",
     "output_type": "stream",
     "text": [
      "\n",
      "0: 1280x1280 1 ball, 21 players, 3 referees, 68.5ms\n",
      "Speed: 6.2ms preprocess, 68.5ms inference, 1.0ms postprocess per image at shape (1, 3, 1280, 1280)\n"
     ]
    },
    {
     "name": "stderr",
     "output_type": "stream",
     "text": [
      "Embedding extraction: 1it [00:00,  7.57it/s]\n",
      "FutureWarning: 'force_all_finite' was renamed to 'ensure_all_finite' in 1.6 and will be removed in 1.8.\n",
      "Processing frames:  45%|████▍     | 267/599 [01:07<01:23,  3.98it/s]"
     ]
    },
    {
     "name": "stdout",
     "output_type": "stream",
     "text": [
      "\n",
      "0: 1280x1280 1 ball, 21 players, 3 referees, 68.4ms\n",
      "Speed: 8.1ms preprocess, 68.4ms inference, 1.0ms postprocess per image at shape (1, 3, 1280, 1280)\n"
     ]
    },
    {
     "name": "stderr",
     "output_type": "stream",
     "text": [
      "Embedding extraction: 1it [00:00,  7.69it/s]\n",
      "FutureWarning: 'force_all_finite' was renamed to 'ensure_all_finite' in 1.6 and will be removed in 1.8.\n",
      "Processing frames:  45%|████▍     | 268/599 [01:07<01:23,  3.99it/s]"
     ]
    },
    {
     "name": "stdout",
     "output_type": "stream",
     "text": [
      "\n",
      "0: 1280x1280 21 players, 3 referees, 68.6ms\n",
      "Speed: 6.3ms preprocess, 68.6ms inference, 1.0ms postprocess per image at shape (1, 3, 1280, 1280)\n"
     ]
    },
    {
     "name": "stderr",
     "output_type": "stream",
     "text": [
      "Embedding extraction: 1it [00:00,  7.59it/s]\n",
      "FutureWarning: 'force_all_finite' was renamed to 'ensure_all_finite' in 1.6 and will be removed in 1.8.\n",
      "Processing frames:  45%|████▍     | 269/599 [01:07<01:22,  3.98it/s]"
     ]
    },
    {
     "name": "stdout",
     "output_type": "stream",
     "text": [
      "\n",
      "0: 1280x1280 21 players, 3 referees, 68.6ms\n",
      "Speed: 11.0ms preprocess, 68.6ms inference, 1.0ms postprocess per image at shape (1, 3, 1280, 1280)\n"
     ]
    },
    {
     "name": "stderr",
     "output_type": "stream",
     "text": [
      "Embedding extraction: 1it [00:00,  7.63it/s]\n",
      "FutureWarning: 'force_all_finite' was renamed to 'ensure_all_finite' in 1.6 and will be removed in 1.8.\n",
      "Processing frames:  45%|████▌     | 270/599 [01:07<01:22,  3.97it/s]"
     ]
    },
    {
     "name": "stdout",
     "output_type": "stream",
     "text": [
      "\n",
      "0: 1280x1280 21 players, 3 referees, 68.3ms\n",
      "Speed: 9.5ms preprocess, 68.3ms inference, 1.0ms postprocess per image at shape (1, 3, 1280, 1280)\n"
     ]
    },
    {
     "name": "stderr",
     "output_type": "stream",
     "text": [
      "Embedding extraction: 1it [00:00,  7.56it/s]\n",
      "FutureWarning: 'force_all_finite' was renamed to 'ensure_all_finite' in 1.6 and will be removed in 1.8.\n",
      "Processing frames:  45%|████▌     | 271/599 [01:09<03:10,  1.72it/s]"
     ]
    },
    {
     "name": "stdout",
     "output_type": "stream",
     "text": [
      "Saved mini clip: app/test_data/predicted/actions/clip_003.mp4\n",
      "\n",
      "0: 1280x1280 21 players, 3 referees, 67.9ms\n",
      "Speed: 6.0ms preprocess, 67.9ms inference, 2.4ms postprocess per image at shape (1, 3, 1280, 1280)\n"
     ]
    },
    {
     "name": "stderr",
     "output_type": "stream",
     "text": [
      "Embedding extraction: 1it [00:00,  7.57it/s]\n",
      "FutureWarning: 'force_all_finite' was renamed to 'ensure_all_finite' in 1.6 and will be removed in 1.8.\n",
      "Processing frames:  45%|████▌     | 272/599 [01:09<02:37,  2.07it/s]"
     ]
    },
    {
     "name": "stdout",
     "output_type": "stream",
     "text": [
      "\n",
      "0: 1280x1280 21 players, 3 referees, 68.7ms\n",
      "Speed: 6.2ms preprocess, 68.7ms inference, 1.0ms postprocess per image at shape (1, 3, 1280, 1280)\n"
     ]
    },
    {
     "name": "stderr",
     "output_type": "stream",
     "text": [
      "Embedding extraction: 1it [00:00,  7.56it/s]\n",
      "FutureWarning: 'force_all_finite' was renamed to 'ensure_all_finite' in 1.6 and will be removed in 1.8.\n",
      "Processing frames:  46%|████▌     | 273/599 [01:09<02:15,  2.41it/s]"
     ]
    },
    {
     "name": "stdout",
     "output_type": "stream",
     "text": [
      "\n",
      "0: 1280x1280 21 players, 3 referees, 68.2ms\n",
      "Speed: 10.8ms preprocess, 68.2ms inference, 0.9ms postprocess per image at shape (1, 3, 1280, 1280)\n"
     ]
    },
    {
     "name": "stderr",
     "output_type": "stream",
     "text": [
      "Embedding extraction: 1it [00:00,  7.58it/s]\n",
      "FutureWarning: 'force_all_finite' was renamed to 'ensure_all_finite' in 1.6 and will be removed in 1.8.\n",
      "Processing frames:  46%|████▌     | 274/599 [01:10<01:59,  2.73it/s]"
     ]
    },
    {
     "name": "stdout",
     "output_type": "stream",
     "text": [
      "\n",
      "0: 1280x1280 21 players, 3 referees, 69.0ms\n",
      "Speed: 6.0ms preprocess, 69.0ms inference, 1.0ms postprocess per image at shape (1, 3, 1280, 1280)\n"
     ]
    },
    {
     "name": "stderr",
     "output_type": "stream",
     "text": [
      "Embedding extraction: 1it [00:00,  7.58it/s]\n",
      "FutureWarning: 'force_all_finite' was renamed to 'ensure_all_finite' in 1.6 and will be removed in 1.8.\n",
      "Processing frames:  46%|████▌     | 275/599 [01:10<01:47,  3.02it/s]"
     ]
    },
    {
     "name": "stdout",
     "output_type": "stream",
     "text": [
      "\n",
      "0: 1280x1280 21 players, 3 referees, 68.6ms\n",
      "Speed: 6.0ms preprocess, 68.6ms inference, 1.0ms postprocess per image at shape (1, 3, 1280, 1280)\n"
     ]
    },
    {
     "name": "stderr",
     "output_type": "stream",
     "text": [
      "Embedding extraction: 1it [00:00,  7.56it/s]\n",
      "FutureWarning: 'force_all_finite' was renamed to 'ensure_all_finite' in 1.6 and will be removed in 1.8.\n",
      "Processing frames:  46%|████▌     | 276/599 [01:10<01:39,  3.24it/s]"
     ]
    },
    {
     "name": "stdout",
     "output_type": "stream",
     "text": [
      "\n",
      "0: 1280x1280 21 players, 3 referees, 68.1ms\n",
      "Speed: 6.1ms preprocess, 68.1ms inference, 1.1ms postprocess per image at shape (1, 3, 1280, 1280)\n"
     ]
    },
    {
     "name": "stderr",
     "output_type": "stream",
     "text": [
      "Embedding extraction: 1it [00:00,  7.56it/s]\n",
      "FutureWarning: 'force_all_finite' was renamed to 'ensure_all_finite' in 1.6 and will be removed in 1.8.\n",
      "Processing frames:  46%|████▌     | 277/599 [01:10<01:33,  3.44it/s]"
     ]
    },
    {
     "name": "stdout",
     "output_type": "stream",
     "text": [
      "\n",
      "0: 1280x1280 21 players, 3 referees, 69.0ms\n",
      "Speed: 10.8ms preprocess, 69.0ms inference, 1.0ms postprocess per image at shape (1, 3, 1280, 1280)\n"
     ]
    },
    {
     "name": "stderr",
     "output_type": "stream",
     "text": [
      "Embedding extraction: 1it [00:00,  5.84it/s]\n",
      "FutureWarning: 'force_all_finite' was renamed to 'ensure_all_finite' in 1.6 and will be removed in 1.8.\n",
      "Processing frames:  46%|████▋     | 278/599 [01:11<01:34,  3.40it/s]"
     ]
    },
    {
     "name": "stdout",
     "output_type": "stream",
     "text": [
      "\n",
      "0: 1280x1280 21 players, 3 referees, 68.1ms\n",
      "Speed: 6.0ms preprocess, 68.1ms inference, 1.0ms postprocess per image at shape (1, 3, 1280, 1280)\n"
     ]
    },
    {
     "name": "stderr",
     "output_type": "stream",
     "text": [
      "Embedding extraction: 1it [00:00,  7.61it/s]\n",
      "FutureWarning: 'force_all_finite' was renamed to 'ensure_all_finite' in 1.6 and will be removed in 1.8.\n",
      "Processing frames:  47%|████▋     | 279/599 [01:11<01:29,  3.56it/s]"
     ]
    },
    {
     "name": "stdout",
     "output_type": "stream",
     "text": [
      "\n",
      "0: 1280x1280 21 players, 3 referees, 68.3ms\n",
      "Speed: 6.0ms preprocess, 68.3ms inference, 1.0ms postprocess per image at shape (1, 3, 1280, 1280)\n"
     ]
    },
    {
     "name": "stderr",
     "output_type": "stream",
     "text": [
      "Embedding extraction: 1it [00:00,  7.53it/s]\n",
      "FutureWarning: 'force_all_finite' was renamed to 'ensure_all_finite' in 1.6 and will be removed in 1.8.\n",
      "Processing frames:  47%|████▋     | 280/599 [01:11<01:26,  3.67it/s]"
     ]
    },
    {
     "name": "stdout",
     "output_type": "stream",
     "text": [
      "\n",
      "0: 1280x1280 21 players, 3 referees, 68.9ms\n",
      "Speed: 6.1ms preprocess, 68.9ms inference, 1.0ms postprocess per image at shape (1, 3, 1280, 1280)\n"
     ]
    },
    {
     "name": "stderr",
     "output_type": "stream",
     "text": [
      "Embedding extraction: 1it [00:00,  7.65it/s]\n",
      "FutureWarning: 'force_all_finite' was renamed to 'ensure_all_finite' in 1.6 and will be removed in 1.8.\n",
      "Processing frames:  47%|████▋     | 281/599 [01:11<01:24,  3.77it/s]"
     ]
    },
    {
     "name": "stdout",
     "output_type": "stream",
     "text": [
      "\n",
      "0: 1280x1280 21 players, 3 referees, 68.2ms\n",
      "Speed: 10.9ms preprocess, 68.2ms inference, 1.0ms postprocess per image at shape (1, 3, 1280, 1280)\n"
     ]
    },
    {
     "name": "stderr",
     "output_type": "stream",
     "text": [
      "Embedding extraction: 1it [00:00,  7.60it/s]\n",
      "FutureWarning: 'force_all_finite' was renamed to 'ensure_all_finite' in 1.6 and will be removed in 1.8.\n",
      "Processing frames:  47%|████▋     | 282/599 [01:12<01:23,  3.82it/s]"
     ]
    },
    {
     "name": "stdout",
     "output_type": "stream",
     "text": [
      "\n",
      "0: 1280x1280 21 players, 3 referees, 68.8ms\n",
      "Speed: 6.1ms preprocess, 68.8ms inference, 1.0ms postprocess per image at shape (1, 3, 1280, 1280)\n"
     ]
    },
    {
     "name": "stderr",
     "output_type": "stream",
     "text": [
      "Embedding extraction: 1it [00:00,  7.59it/s]\n",
      "FutureWarning: 'force_all_finite' was renamed to 'ensure_all_finite' in 1.6 and will be removed in 1.8.\n",
      "Processing frames:  47%|████▋     | 283/599 [01:12<01:21,  3.87it/s]"
     ]
    },
    {
     "name": "stdout",
     "output_type": "stream",
     "text": [
      "\n",
      "0: 1280x1280 21 players, 3 referees, 68.3ms\n",
      "Speed: 6.1ms preprocess, 68.3ms inference, 0.9ms postprocess per image at shape (1, 3, 1280, 1280)\n"
     ]
    },
    {
     "name": "stderr",
     "output_type": "stream",
     "text": [
      "Embedding extraction: 1it [00:00,  7.61it/s]\n",
      "FutureWarning: 'force_all_finite' was renamed to 'ensure_all_finite' in 1.6 and will be removed in 1.8.\n",
      "Processing frames:  47%|████▋     | 284/599 [01:12<01:20,  3.92it/s]"
     ]
    },
    {
     "name": "stdout",
     "output_type": "stream",
     "text": [
      "\n",
      "0: 1280x1280 21 players, 3 referees, 68.7ms\n",
      "Speed: 8.1ms preprocess, 68.7ms inference, 1.0ms postprocess per image at shape (1, 3, 1280, 1280)\n"
     ]
    },
    {
     "name": "stderr",
     "output_type": "stream",
     "text": [
      "Embedding extraction: 1it [00:00,  7.55it/s]\n",
      "FutureWarning: 'force_all_finite' was renamed to 'ensure_all_finite' in 1.6 and will be removed in 1.8.\n",
      "Processing frames:  48%|████▊     | 285/599 [01:12<01:19,  3.93it/s]"
     ]
    },
    {
     "name": "stdout",
     "output_type": "stream",
     "text": [
      "\n",
      "0: 1280x1280 22 players, 3 referees, 68.6ms\n",
      "Speed: 10.9ms preprocess, 68.6ms inference, 1.0ms postprocess per image at shape (1, 3, 1280, 1280)\n"
     ]
    },
    {
     "name": "stderr",
     "output_type": "stream",
     "text": [
      "Embedding extraction: 1it [00:00,  7.57it/s]\n",
      "FutureWarning: 'force_all_finite' was renamed to 'ensure_all_finite' in 1.6 and will be removed in 1.8.\n",
      "Processing frames:  48%|████▊     | 286/599 [01:13<01:19,  3.91it/s]"
     ]
    },
    {
     "name": "stdout",
     "output_type": "stream",
     "text": [
      "\n",
      "0: 1280x1280 21 players, 3 referees, 68.0ms\n",
      "Speed: 9.2ms preprocess, 68.0ms inference, 1.0ms postprocess per image at shape (1, 3, 1280, 1280)\n"
     ]
    },
    {
     "name": "stderr",
     "output_type": "stream",
     "text": [
      "Embedding extraction: 1it [00:00,  7.66it/s]\n",
      "FutureWarning: 'force_all_finite' was renamed to 'ensure_all_finite' in 1.6 and will be removed in 1.8.\n",
      "Processing frames:  48%|████▊     | 287/599 [01:13<01:19,  3.93it/s]"
     ]
    },
    {
     "name": "stdout",
     "output_type": "stream",
     "text": [
      "\n",
      "0: 1280x1280 21 players, 3 referees, 68.4ms\n",
      "Speed: 6.1ms preprocess, 68.4ms inference, 1.0ms postprocess per image at shape (1, 3, 1280, 1280)\n"
     ]
    },
    {
     "name": "stderr",
     "output_type": "stream",
     "text": [
      "Embedding extraction: 1it [00:00,  7.62it/s]\n",
      "FutureWarning: 'force_all_finite' was renamed to 'ensure_all_finite' in 1.6 and will be removed in 1.8.\n",
      "Processing frames:  48%|████▊     | 288/599 [01:13<01:19,  3.93it/s]"
     ]
    },
    {
     "name": "stdout",
     "output_type": "stream",
     "text": [
      "\n",
      "0: 1280x1280 21 players, 3 referees, 68.6ms\n",
      "Speed: 8.4ms preprocess, 68.6ms inference, 1.0ms postprocess per image at shape (1, 3, 1280, 1280)\n"
     ]
    },
    {
     "name": "stderr",
     "output_type": "stream",
     "text": [
      "Embedding extraction: 1it [00:00,  7.60it/s]\n",
      "FutureWarning: 'force_all_finite' was renamed to 'ensure_all_finite' in 1.6 and will be removed in 1.8.\n",
      "Processing frames:  48%|████▊     | 289/599 [01:13<01:18,  3.94it/s]"
     ]
    },
    {
     "name": "stdout",
     "output_type": "stream",
     "text": [
      "\n",
      "0: 1280x1280 21 players, 3 referees, 68.5ms\n",
      "Speed: 6.3ms preprocess, 68.5ms inference, 1.0ms postprocess per image at shape (1, 3, 1280, 1280)\n"
     ]
    },
    {
     "name": "stderr",
     "output_type": "stream",
     "text": [
      "Embedding extraction: 1it [00:00,  7.60it/s]\n",
      "FutureWarning: 'force_all_finite' was renamed to 'ensure_all_finite' in 1.6 and will be removed in 1.8.\n",
      "Processing frames:  48%|████▊     | 290/599 [01:14<01:18,  3.96it/s]"
     ]
    },
    {
     "name": "stdout",
     "output_type": "stream",
     "text": [
      "\n",
      "0: 1280x1280 21 players, 3 referees, 68.8ms\n",
      "Speed: 6.1ms preprocess, 68.8ms inference, 1.0ms postprocess per image at shape (1, 3, 1280, 1280)\n"
     ]
    },
    {
     "name": "stderr",
     "output_type": "stream",
     "text": [
      "Embedding extraction: 1it [00:00,  7.62it/s]\n",
      "FutureWarning: 'force_all_finite' was renamed to 'ensure_all_finite' in 1.6 and will be removed in 1.8.\n",
      "Processing frames:  49%|████▊     | 291/599 [01:14<01:17,  3.98it/s]"
     ]
    },
    {
     "name": "stdout",
     "output_type": "stream",
     "text": [
      "\n",
      "0: 1280x1280 21 players, 3 referees, 69.0ms\n",
      "Speed: 6.2ms preprocess, 69.0ms inference, 1.1ms postprocess per image at shape (1, 3, 1280, 1280)\n"
     ]
    },
    {
     "name": "stderr",
     "output_type": "stream",
     "text": [
      "Embedding extraction: 1it [00:00,  7.61it/s]\n",
      "FutureWarning: 'force_all_finite' was renamed to 'ensure_all_finite' in 1.6 and will be removed in 1.8.\n",
      "Processing frames:  49%|████▊     | 292/599 [01:14<01:17,  3.98it/s]"
     ]
    },
    {
     "name": "stdout",
     "output_type": "stream",
     "text": [
      "\n",
      "0: 1280x1280 21 players, 3 referees, 68.9ms\n",
      "Speed: 6.0ms preprocess, 68.9ms inference, 0.9ms postprocess per image at shape (1, 3, 1280, 1280)\n"
     ]
    },
    {
     "name": "stderr",
     "output_type": "stream",
     "text": [
      "Embedding extraction: 1it [00:00,  7.62it/s]\n",
      "FutureWarning: 'force_all_finite' was renamed to 'ensure_all_finite' in 1.6 and will be removed in 1.8.\n",
      "Processing frames:  49%|████▉     | 293/599 [01:14<01:16,  3.99it/s]"
     ]
    },
    {
     "name": "stdout",
     "output_type": "stream",
     "text": [
      "\n",
      "0: 1280x1280 1 ball, 21 players, 3 referees, 68.6ms\n",
      "Speed: 6.1ms preprocess, 68.6ms inference, 0.9ms postprocess per image at shape (1, 3, 1280, 1280)\n"
     ]
    },
    {
     "name": "stderr",
     "output_type": "stream",
     "text": [
      "Embedding extraction: 1it [00:00,  7.63it/s]\n",
      "FutureWarning: 'force_all_finite' was renamed to 'ensure_all_finite' in 1.6 and will be removed in 1.8.\n",
      "Processing frames:  49%|████▉     | 294/599 [01:15<01:16,  4.00it/s]"
     ]
    },
    {
     "name": "stdout",
     "output_type": "stream",
     "text": [
      "\n",
      "0: 1280x1280 1 ball, 1 goalkeeper, 21 players, 3 referees, 68.8ms\n",
      "Speed: 6.0ms preprocess, 68.8ms inference, 1.0ms postprocess per image at shape (1, 3, 1280, 1280)\n"
     ]
    },
    {
     "name": "stderr",
     "output_type": "stream",
     "text": [
      "Embedding extraction: 1it [00:00,  7.61it/s]\n",
      "FutureWarning: 'force_all_finite' was renamed to 'ensure_all_finite' in 1.6 and will be removed in 1.8.\n",
      "Processing frames:  49%|████▉     | 295/599 [01:15<01:15,  4.00it/s]"
     ]
    },
    {
     "name": "stdout",
     "output_type": "stream",
     "text": [
      "\n",
      "0: 1280x1280 1 ball, 22 players, 3 referees, 68.7ms\n",
      "Speed: 6.1ms preprocess, 68.7ms inference, 1.0ms postprocess per image at shape (1, 3, 1280, 1280)\n"
     ]
    },
    {
     "name": "stderr",
     "output_type": "stream",
     "text": [
      "Embedding extraction: 1it [00:00,  7.61it/s]\n",
      "FutureWarning: 'force_all_finite' was renamed to 'ensure_all_finite' in 1.6 and will be removed in 1.8.\n",
      "Processing frames:  49%|████▉     | 296/599 [01:15<01:15,  4.00it/s]"
     ]
    },
    {
     "name": "stdout",
     "output_type": "stream",
     "text": [
      "\n",
      "0: 1280x1280 1 ball, 22 players, 3 referees, 68.9ms\n",
      "Speed: 8.4ms preprocess, 68.9ms inference, 1.0ms postprocess per image at shape (1, 3, 1280, 1280)\n"
     ]
    },
    {
     "name": "stderr",
     "output_type": "stream",
     "text": [
      "Embedding extraction: 1it [00:00,  7.58it/s]\n",
      "FutureWarning: 'force_all_finite' was renamed to 'ensure_all_finite' in 1.6 and will be removed in 1.8.\n",
      "Processing frames:  50%|████▉     | 297/599 [01:15<01:15,  3.98it/s]"
     ]
    },
    {
     "name": "stdout",
     "output_type": "stream",
     "text": [
      "\n",
      "0: 1280x1280 1 ball, 22 players, 3 referees, 68.3ms\n",
      "Speed: 6.6ms preprocess, 68.3ms inference, 1.0ms postprocess per image at shape (1, 3, 1280, 1280)\n"
     ]
    },
    {
     "name": "stderr",
     "output_type": "stream",
     "text": [
      "Embedding extraction: 1it [00:00,  7.67it/s]\n",
      "FutureWarning: 'force_all_finite' was renamed to 'ensure_all_finite' in 1.6 and will be removed in 1.8.\n",
      "Processing frames:  50%|████▉     | 298/599 [01:16<01:15,  3.99it/s]"
     ]
    },
    {
     "name": "stdout",
     "output_type": "stream",
     "text": [
      "\n",
      "0: 1280x1280 1 ball, 21 players, 3 referees, 69.0ms\n",
      "Speed: 6.2ms preprocess, 69.0ms inference, 1.0ms postprocess per image at shape (1, 3, 1280, 1280)\n"
     ]
    },
    {
     "name": "stderr",
     "output_type": "stream",
     "text": [
      "Embedding extraction: 1it [00:00,  7.58it/s]\n",
      "FutureWarning: 'force_all_finite' was renamed to 'ensure_all_finite' in 1.6 and will be removed in 1.8.\n",
      "Processing frames:  50%|████▉     | 299/599 [01:16<01:15,  3.99it/s]"
     ]
    },
    {
     "name": "stdout",
     "output_type": "stream",
     "text": [
      "\n",
      "0: 1280x1280 1 ball, 21 players, 3 referees, 68.4ms\n",
      "Speed: 6.1ms preprocess, 68.4ms inference, 1.0ms postprocess per image at shape (1, 3, 1280, 1280)\n"
     ]
    },
    {
     "name": "stderr",
     "output_type": "stream",
     "text": [
      "Embedding extraction: 1it [00:00,  7.64it/s]\n",
      "FutureWarning: 'force_all_finite' was renamed to 'ensure_all_finite' in 1.6 and will be removed in 1.8.\n",
      "Processing frames:  50%|█████     | 300/599 [01:16<01:14,  4.00it/s]"
     ]
    },
    {
     "name": "stdout",
     "output_type": "stream",
     "text": [
      "\n",
      "0: 1280x1280 1 ball, 21 players, 3 referees, 69.0ms\n",
      "Speed: 6.2ms preprocess, 69.0ms inference, 1.0ms postprocess per image at shape (1, 3, 1280, 1280)\n"
     ]
    },
    {
     "name": "stderr",
     "output_type": "stream",
     "text": [
      "Embedding extraction: 1it [00:00,  7.56it/s]\n",
      "FutureWarning: 'force_all_finite' was renamed to 'ensure_all_finite' in 1.6 and will be removed in 1.8.\n",
      "Processing frames:  50%|█████     | 301/599 [01:16<01:14,  3.99it/s]"
     ]
    },
    {
     "name": "stdout",
     "output_type": "stream",
     "text": [
      "\n",
      "0: 1280x1280 1 ball, 22 players, 3 referees, 68.5ms\n",
      "Speed: 6.4ms preprocess, 68.5ms inference, 1.1ms postprocess per image at shape (1, 3, 1280, 1280)\n"
     ]
    },
    {
     "name": "stderr",
     "output_type": "stream",
     "text": [
      "Embedding extraction: 1it [00:00,  7.62it/s]\n",
      "FutureWarning: 'force_all_finite' was renamed to 'ensure_all_finite' in 1.6 and will be removed in 1.8.\n",
      "Processing frames:  50%|█████     | 302/599 [01:17<01:14,  4.00it/s]"
     ]
    },
    {
     "name": "stdout",
     "output_type": "stream",
     "text": [
      "\n",
      "0: 1280x1280 1 ball, 20 players, 3 referees, 68.3ms\n",
      "Speed: 9.3ms preprocess, 68.3ms inference, 1.0ms postprocess per image at shape (1, 3, 1280, 1280)\n"
     ]
    },
    {
     "name": "stderr",
     "output_type": "stream",
     "text": [
      "Embedding extraction: 1it [00:00,  8.29it/s]\n",
      "FutureWarning: 'force_all_finite' was renamed to 'ensure_all_finite' in 1.6 and will be removed in 1.8.\n",
      "Processing frames:  51%|█████     | 303/599 [01:17<01:13,  4.04it/s]"
     ]
    },
    {
     "name": "stdout",
     "output_type": "stream",
     "text": [
      "\n",
      "0: 1280x1280 20 players, 3 referees, 68.6ms\n",
      "Speed: 9.1ms preprocess, 68.6ms inference, 0.9ms postprocess per image at shape (1, 3, 1280, 1280)\n"
     ]
    },
    {
     "name": "stderr",
     "output_type": "stream",
     "text": [
      "Embedding extraction: 1it [00:00,  7.93it/s]\n",
      "FutureWarning: 'force_all_finite' was renamed to 'ensure_all_finite' in 1.6 and will be removed in 1.8.\n",
      "Processing frames:  51%|█████     | 304/599 [01:17<01:12,  4.05it/s]"
     ]
    },
    {
     "name": "stdout",
     "output_type": "stream",
     "text": [
      "\n",
      "0: 1280x1280 21 players, 3 referees, 68.3ms\n",
      "Speed: 8.2ms preprocess, 68.3ms inference, 1.0ms postprocess per image at shape (1, 3, 1280, 1280)\n"
     ]
    },
    {
     "name": "stderr",
     "output_type": "stream",
     "text": [
      "Embedding extraction: 1it [00:00,  8.32it/s]\n",
      "FutureWarning: 'force_all_finite' was renamed to 'ensure_all_finite' in 1.6 and will be removed in 1.8.\n",
      "Processing frames:  51%|█████     | 305/599 [01:17<01:12,  4.06it/s]"
     ]
    },
    {
     "name": "stdout",
     "output_type": "stream",
     "text": [
      "\n",
      "0: 1280x1280 21 players, 3 referees, 68.0ms\n",
      "Speed: 6.2ms preprocess, 68.0ms inference, 1.0ms postprocess per image at shape (1, 3, 1280, 1280)\n"
     ]
    },
    {
     "name": "stderr",
     "output_type": "stream",
     "text": [
      "Embedding extraction: 1it [00:00,  7.62it/s]\n",
      "FutureWarning: 'force_all_finite' was renamed to 'ensure_all_finite' in 1.6 and will be removed in 1.8.\n",
      "Processing frames:  51%|█████     | 306/599 [01:18<01:12,  4.05it/s]"
     ]
    },
    {
     "name": "stdout",
     "output_type": "stream",
     "text": [
      "\n",
      "0: 1280x1280 1 ball, 21 players, 3 referees, 67.8ms\n",
      "Speed: 9.3ms preprocess, 67.8ms inference, 1.1ms postprocess per image at shape (1, 3, 1280, 1280)\n"
     ]
    },
    {
     "name": "stderr",
     "output_type": "stream",
     "text": [
      "Embedding extraction: 1it [00:00,  7.51it/s]\n",
      "FutureWarning: 'force_all_finite' was renamed to 'ensure_all_finite' in 1.6 and will be removed in 1.8.\n",
      "Processing frames:  51%|█████▏    | 307/599 [01:18<01:12,  4.01it/s]"
     ]
    },
    {
     "name": "stdout",
     "output_type": "stream",
     "text": [
      "\n",
      "0: 1280x1280 1 ball, 21 players, 3 referees, 68.6ms\n",
      "Speed: 6.4ms preprocess, 68.6ms inference, 1.0ms postprocess per image at shape (1, 3, 1280, 1280)\n"
     ]
    },
    {
     "name": "stderr",
     "output_type": "stream",
     "text": [
      "Embedding extraction: 1it [00:00,  7.55it/s]\n",
      "FutureWarning: 'force_all_finite' was renamed to 'ensure_all_finite' in 1.6 and will be removed in 1.8.\n",
      "Processing frames:  51%|█████▏    | 308/599 [01:18<01:12,  4.00it/s]"
     ]
    },
    {
     "name": "stdout",
     "output_type": "stream",
     "text": [
      "\n",
      "0: 1280x1280 1 ball, 21 players, 2 referees, 68.6ms\n",
      "Speed: 8.4ms preprocess, 68.6ms inference, 1.0ms postprocess per image at shape (1, 3, 1280, 1280)\n"
     ]
    },
    {
     "name": "stderr",
     "output_type": "stream",
     "text": [
      "Embedding extraction: 1it [00:00,  7.61it/s]\n",
      "FutureWarning: 'force_all_finite' was renamed to 'ensure_all_finite' in 1.6 and will be removed in 1.8.\n",
      "Processing frames:  52%|█████▏    | 309/599 [01:18<01:12,  3.99it/s]"
     ]
    },
    {
     "name": "stdout",
     "output_type": "stream",
     "text": [
      "\n",
      "0: 1280x1280 1 ball, 21 players, 3 referees, 68.5ms\n",
      "Speed: 10.8ms preprocess, 68.5ms inference, 1.0ms postprocess per image at shape (1, 3, 1280, 1280)\n"
     ]
    },
    {
     "name": "stderr",
     "output_type": "stream",
     "text": [
      "Embedding extraction: 1it [00:00,  7.51it/s]\n",
      "FutureWarning: 'force_all_finite' was renamed to 'ensure_all_finite' in 1.6 and will be removed in 1.8.\n",
      "Processing frames:  52%|█████▏    | 310/599 [01:19<01:12,  3.96it/s]"
     ]
    },
    {
     "name": "stdout",
     "output_type": "stream",
     "text": [
      "\n",
      "0: 1280x1280 1 ball, 21 players, 3 referees, 68.6ms\n",
      "Speed: 8.9ms preprocess, 68.6ms inference, 1.0ms postprocess per image at shape (1, 3, 1280, 1280)\n"
     ]
    },
    {
     "name": "stderr",
     "output_type": "stream",
     "text": [
      "Embedding extraction: 1it [00:00,  7.63it/s]\n",
      "FutureWarning: 'force_all_finite' was renamed to 'ensure_all_finite' in 1.6 and will be removed in 1.8.\n",
      "Processing frames:  52%|█████▏    | 311/599 [01:19<01:12,  3.95it/s]"
     ]
    },
    {
     "name": "stdout",
     "output_type": "stream",
     "text": [
      "\n",
      "0: 1280x1280 1 ball, 21 players, 3 referees, 68.3ms\n",
      "Speed: 6.1ms preprocess, 68.3ms inference, 1.0ms postprocess per image at shape (1, 3, 1280, 1280)\n"
     ]
    },
    {
     "name": "stderr",
     "output_type": "stream",
     "text": [
      "Embedding extraction: 1it [00:00,  7.61it/s]\n",
      "FutureWarning: 'force_all_finite' was renamed to 'ensure_all_finite' in 1.6 and will be removed in 1.8.\n",
      "Processing frames:  52%|█████▏    | 312/599 [01:19<01:12,  3.97it/s]"
     ]
    },
    {
     "name": "stdout",
     "output_type": "stream",
     "text": [
      "\n",
      "0: 1280x1280 21 players, 3 referees, 68.4ms\n",
      "Speed: 8.3ms preprocess, 68.4ms inference, 1.0ms postprocess per image at shape (1, 3, 1280, 1280)\n"
     ]
    },
    {
     "name": "stderr",
     "output_type": "stream",
     "text": [
      "Embedding extraction: 1it [00:00,  7.60it/s]\n",
      "FutureWarning: 'force_all_finite' was renamed to 'ensure_all_finite' in 1.6 and will be removed in 1.8.\n",
      "Processing frames:  52%|█████▏    | 313/599 [01:19<01:12,  3.96it/s]"
     ]
    },
    {
     "name": "stdout",
     "output_type": "stream",
     "text": [
      "\n",
      "0: 1280x1280 21 players, 3 referees, 68.1ms\n",
      "Speed: 6.1ms preprocess, 68.1ms inference, 1.0ms postprocess per image at shape (1, 3, 1280, 1280)\n"
     ]
    },
    {
     "name": "stderr",
     "output_type": "stream",
     "text": [
      "Embedding extraction: 1it [00:00,  7.57it/s]\n",
      "FutureWarning: 'force_all_finite' was renamed to 'ensure_all_finite' in 1.6 and will be removed in 1.8.\n",
      "Processing frames:  52%|█████▏    | 314/599 [01:20<01:11,  3.97it/s]"
     ]
    },
    {
     "name": "stdout",
     "output_type": "stream",
     "text": [
      "\n",
      "0: 1280x1280 21 players, 3 referees, 68.7ms\n",
      "Speed: 6.0ms preprocess, 68.7ms inference, 1.1ms postprocess per image at shape (1, 3, 1280, 1280)\n"
     ]
    },
    {
     "name": "stderr",
     "output_type": "stream",
     "text": [
      "Embedding extraction: 1it [00:00,  7.60it/s]\n",
      "FutureWarning: 'force_all_finite' was renamed to 'ensure_all_finite' in 1.6 and will be removed in 1.8.\n",
      "Processing frames:  53%|█████▎    | 315/599 [01:20<01:11,  3.97it/s]"
     ]
    },
    {
     "name": "stdout",
     "output_type": "stream",
     "text": [
      "\n",
      "0: 1280x1280 22 players, 3 referees, 69.0ms\n",
      "Speed: 6.0ms preprocess, 69.0ms inference, 1.0ms postprocess per image at shape (1, 3, 1280, 1280)\n"
     ]
    },
    {
     "name": "stderr",
     "output_type": "stream",
     "text": [
      "Embedding extraction: 1it [00:00,  7.56it/s]\n",
      "FutureWarning: 'force_all_finite' was renamed to 'ensure_all_finite' in 1.6 and will be removed in 1.8.\n",
      "Processing frames:  53%|█████▎    | 316/599 [01:20<01:11,  3.98it/s]"
     ]
    },
    {
     "name": "stdout",
     "output_type": "stream",
     "text": [
      "\n",
      "0: 1280x1280 21 players, 3 referees, 68.5ms\n",
      "Speed: 6.3ms preprocess, 68.5ms inference, 1.0ms postprocess per image at shape (1, 3, 1280, 1280)\n"
     ]
    },
    {
     "name": "stderr",
     "output_type": "stream",
     "text": [
      "Embedding extraction: 1it [00:00,  7.59it/s]\n",
      "FutureWarning: 'force_all_finite' was renamed to 'ensure_all_finite' in 1.6 and will be removed in 1.8.\n",
      "Processing frames:  53%|█████▎    | 317/599 [01:20<01:11,  3.97it/s]"
     ]
    },
    {
     "name": "stdout",
     "output_type": "stream",
     "text": [
      "\n",
      "0: 1280x1280 21 players, 3 referees, 68.2ms\n",
      "Speed: 10.8ms preprocess, 68.2ms inference, 1.0ms postprocess per image at shape (1, 3, 1280, 1280)\n"
     ]
    },
    {
     "name": "stderr",
     "output_type": "stream",
     "text": [
      "Embedding extraction: 1it [00:00,  7.58it/s]\n",
      "FutureWarning: 'force_all_finite' was renamed to 'ensure_all_finite' in 1.6 and will be removed in 1.8.\n",
      "Processing frames:  53%|█████▎    | 318/599 [01:21<01:11,  3.95it/s]"
     ]
    },
    {
     "name": "stdout",
     "output_type": "stream",
     "text": [
      "\n",
      "0: 1280x1280 21 players, 3 referees, 68.3ms\n",
      "Speed: 6.3ms preprocess, 68.3ms inference, 1.0ms postprocess per image at shape (1, 3, 1280, 1280)\n"
     ]
    },
    {
     "name": "stderr",
     "output_type": "stream",
     "text": [
      "Embedding extraction: 1it [00:00,  7.55it/s]\n",
      "FutureWarning: 'force_all_finite' was renamed to 'ensure_all_finite' in 1.6 and will be removed in 1.8.\n",
      "Processing frames:  53%|█████▎    | 319/599 [01:21<01:10,  3.96it/s]"
     ]
    },
    {
     "name": "stdout",
     "output_type": "stream",
     "text": [
      "\n",
      "0: 1280x1280 1 ball, 21 players, 3 referees, 68.7ms\n",
      "Speed: 7.6ms preprocess, 68.7ms inference, 1.0ms postprocess per image at shape (1, 3, 1280, 1280)\n"
     ]
    },
    {
     "name": "stderr",
     "output_type": "stream",
     "text": [
      "Embedding extraction: 1it [00:00,  7.62it/s]\n",
      "FutureWarning: 'force_all_finite' was renamed to 'ensure_all_finite' in 1.6 and will be removed in 1.8.\n",
      "Processing frames:  53%|█████▎    | 320/599 [01:21<01:10,  3.97it/s]"
     ]
    },
    {
     "name": "stdout",
     "output_type": "stream",
     "text": [
      "\n",
      "0: 1280x1280 21 players, 3 referees, 69.0ms\n",
      "Speed: 6.1ms preprocess, 69.0ms inference, 1.0ms postprocess per image at shape (1, 3, 1280, 1280)\n"
     ]
    },
    {
     "name": "stderr",
     "output_type": "stream",
     "text": [
      "Embedding extraction: 1it [00:00,  7.60it/s]\n",
      "FutureWarning: 'force_all_finite' was renamed to 'ensure_all_finite' in 1.6 and will be removed in 1.8.\n",
      "Processing frames:  54%|█████▎    | 321/599 [01:21<01:09,  3.98it/s]"
     ]
    },
    {
     "name": "stdout",
     "output_type": "stream",
     "text": [
      "\n",
      "0: 1280x1280 21 players, 3 referees, 68.1ms\n",
      "Speed: 10.7ms preprocess, 68.1ms inference, 1.0ms postprocess per image at shape (1, 3, 1280, 1280)\n"
     ]
    },
    {
     "name": "stderr",
     "output_type": "stream",
     "text": [
      "Embedding extraction: 1it [00:00,  7.67it/s]\n",
      "FutureWarning: 'force_all_finite' was renamed to 'ensure_all_finite' in 1.6 and will be removed in 1.8.\n",
      "Processing frames:  54%|█████▍    | 322/599 [01:22<01:09,  3.97it/s]"
     ]
    },
    {
     "name": "stdout",
     "output_type": "stream",
     "text": [
      "\n",
      "0: 1280x1280 1 ball, 21 players, 3 referees, 68.7ms\n",
      "Speed: 7.9ms preprocess, 68.7ms inference, 1.0ms postprocess per image at shape (1, 3, 1280, 1280)\n"
     ]
    },
    {
     "name": "stderr",
     "output_type": "stream",
     "text": [
      "Embedding extraction: 1it [00:00,  7.56it/s]\n",
      "FutureWarning: 'force_all_finite' was renamed to 'ensure_all_finite' in 1.6 and will be removed in 1.8.\n",
      "Processing frames:  54%|█████▍    | 323/599 [01:22<01:09,  3.95it/s]"
     ]
    },
    {
     "name": "stdout",
     "output_type": "stream",
     "text": [
      "\n",
      "0: 1280x1280 1 ball, 23 players, 3 referees, 68.9ms\n",
      "Speed: 7.5ms preprocess, 68.9ms inference, 1.0ms postprocess per image at shape (1, 3, 1280, 1280)\n"
     ]
    },
    {
     "name": "stderr",
     "output_type": "stream",
     "text": [
      "Embedding extraction: 1it [00:00,  7.56it/s]\n",
      "FutureWarning: 'force_all_finite' was renamed to 'ensure_all_finite' in 1.6 and will be removed in 1.8.\n",
      "Processing frames:  54%|█████▍    | 324/599 [01:22<01:09,  3.94it/s]"
     ]
    },
    {
     "name": "stdout",
     "output_type": "stream",
     "text": [
      "\n",
      "0: 1280x1280 1 ball, 23 players, 3 referees, 68.5ms\n",
      "Speed: 6.1ms preprocess, 68.5ms inference, 1.0ms postprocess per image at shape (1, 3, 1280, 1280)\n"
     ]
    },
    {
     "name": "stderr",
     "output_type": "stream",
     "text": [
      "Embedding extraction: 1it [00:00,  7.64it/s]\n",
      "FutureWarning: 'force_all_finite' was renamed to 'ensure_all_finite' in 1.6 and will be removed in 1.8.\n",
      "Processing frames:  54%|█████▍    | 325/599 [01:22<01:09,  3.96it/s]"
     ]
    },
    {
     "name": "stdout",
     "output_type": "stream",
     "text": [
      "\n",
      "0: 1280x1280 22 players, 3 referees, 68.0ms\n",
      "Speed: 6.1ms preprocess, 68.0ms inference, 1.0ms postprocess per image at shape (1, 3, 1280, 1280)\n"
     ]
    },
    {
     "name": "stderr",
     "output_type": "stream",
     "text": [
      "Embedding extraction: 1it [00:00,  7.09it/s]\n",
      "FutureWarning: 'force_all_finite' was renamed to 'ensure_all_finite' in 1.6 and will be removed in 1.8.\n",
      "Processing frames:  54%|█████▍    | 326/599 [01:23<01:09,  3.93it/s]"
     ]
    },
    {
     "name": "stdout",
     "output_type": "stream",
     "text": [
      "\n",
      "0: 1280x1280 22 players, 3 referees, 68.5ms\n",
      "Speed: 7.5ms preprocess, 68.5ms inference, 1.1ms postprocess per image at shape (1, 3, 1280, 1280)\n"
     ]
    },
    {
     "name": "stderr",
     "output_type": "stream",
     "text": [
      "Embedding extraction: 1it [00:00,  7.12it/s]\n",
      "FutureWarning: 'force_all_finite' was renamed to 'ensure_all_finite' in 1.6 and will be removed in 1.8.\n",
      "Processing frames:  55%|█████▍    | 327/599 [01:23<01:09,  3.90it/s]"
     ]
    },
    {
     "name": "stdout",
     "output_type": "stream",
     "text": [
      "\n",
      "0: 1280x1280 22 players, 3 referees, 68.5ms\n",
      "Speed: 6.1ms preprocess, 68.5ms inference, 1.0ms postprocess per image at shape (1, 3, 1280, 1280)\n"
     ]
    },
    {
     "name": "stderr",
     "output_type": "stream",
     "text": [
      "Embedding extraction: 1it [00:00,  7.09it/s]\n",
      "FutureWarning: 'force_all_finite' was renamed to 'ensure_all_finite' in 1.6 and will be removed in 1.8.\n",
      "Processing frames:  55%|█████▍    | 328/599 [01:23<01:09,  3.89it/s]"
     ]
    },
    {
     "name": "stdout",
     "output_type": "stream",
     "text": [
      "\n",
      "0: 1280x1280 22 players, 2 referees, 68.1ms\n",
      "Speed: 7.2ms preprocess, 68.1ms inference, 1.0ms postprocess per image at shape (1, 3, 1280, 1280)\n"
     ]
    },
    {
     "name": "stderr",
     "output_type": "stream",
     "text": [
      "Embedding extraction: 1it [00:00,  7.11it/s]\n",
      "FutureWarning: 'force_all_finite' was renamed to 'ensure_all_finite' in 1.6 and will be removed in 1.8.\n",
      "Processing frames:  55%|█████▍    | 329/599 [01:23<01:09,  3.88it/s]"
     ]
    },
    {
     "name": "stdout",
     "output_type": "stream",
     "text": [
      "\n",
      "0: 1280x1280 22 players, 3 referees, 68.5ms\n",
      "Speed: 6.0ms preprocess, 68.5ms inference, 0.9ms postprocess per image at shape (1, 3, 1280, 1280)\n"
     ]
    },
    {
     "name": "stderr",
     "output_type": "stream",
     "text": [
      "Embedding extraction: 1it [00:00,  7.45it/s]\n",
      "FutureWarning: 'force_all_finite' was renamed to 'ensure_all_finite' in 1.6 and will be removed in 1.8.\n",
      "Processing frames:  55%|█████▌    | 330/599 [01:24<01:08,  3.91it/s]"
     ]
    },
    {
     "name": "stdout",
     "output_type": "stream",
     "text": [
      "\n",
      "0: 1280x1280 21 players, 3 referees, 68.5ms\n",
      "Speed: 6.1ms preprocess, 68.5ms inference, 1.0ms postprocess per image at shape (1, 3, 1280, 1280)\n"
     ]
    },
    {
     "name": "stderr",
     "output_type": "stream",
     "text": [
      "Embedding extraction: 1it [00:00,  7.63it/s]\n",
      "FutureWarning: 'force_all_finite' was renamed to 'ensure_all_finite' in 1.6 and will be removed in 1.8.\n",
      "Processing frames:  55%|█████▌    | 331/599 [01:24<01:07,  3.94it/s]"
     ]
    },
    {
     "name": "stdout",
     "output_type": "stream",
     "text": [
      "\n",
      "0: 1280x1280 1 ball, 21 players, 3 referees, 68.5ms\n",
      "Speed: 6.1ms preprocess, 68.5ms inference, 1.0ms postprocess per image at shape (1, 3, 1280, 1280)\n"
     ]
    },
    {
     "name": "stderr",
     "output_type": "stream",
     "text": [
      "Embedding extraction: 1it [00:00,  7.56it/s]\n",
      "FutureWarning: 'force_all_finite' was renamed to 'ensure_all_finite' in 1.6 and will be removed in 1.8.\n",
      "Processing frames:  55%|█████▌    | 332/599 [01:24<01:07,  3.94it/s]"
     ]
    },
    {
     "name": "stdout",
     "output_type": "stream",
     "text": [
      "\n",
      "0: 1280x1280 21 players, 3 referees, 68.7ms\n",
      "Speed: 6.7ms preprocess, 68.7ms inference, 1.0ms postprocess per image at shape (1, 3, 1280, 1280)\n"
     ]
    },
    {
     "name": "stderr",
     "output_type": "stream",
     "text": [
      "Embedding extraction: 1it [00:00,  7.59it/s]\n",
      "FutureWarning: 'force_all_finite' was renamed to 'ensure_all_finite' in 1.6 and will be removed in 1.8.\n",
      "Processing frames:  56%|█████▌    | 333/599 [01:25<01:07,  3.94it/s]"
     ]
    },
    {
     "name": "stdout",
     "output_type": "stream",
     "text": [
      "\n",
      "0: 1280x1280 21 players, 3 referees, 68.6ms\n",
      "Speed: 6.0ms preprocess, 68.6ms inference, 1.0ms postprocess per image at shape (1, 3, 1280, 1280)\n"
     ]
    },
    {
     "name": "stderr",
     "output_type": "stream",
     "text": [
      "Embedding extraction: 1it [00:00,  7.62it/s]\n",
      "FutureWarning: 'force_all_finite' was renamed to 'ensure_all_finite' in 1.6 and will be removed in 1.8.\n",
      "Processing frames:  56%|█████▌    | 334/599 [01:25<01:06,  3.97it/s]"
     ]
    },
    {
     "name": "stdout",
     "output_type": "stream",
     "text": [
      "\n",
      "0: 1280x1280 21 players, 3 referees, 69.1ms\n",
      "Speed: 6.1ms preprocess, 69.1ms inference, 1.1ms postprocess per image at shape (1, 3, 1280, 1280)\n"
     ]
    },
    {
     "name": "stderr",
     "output_type": "stream",
     "text": [
      "Embedding extraction: 1it [00:00,  7.55it/s]\n",
      "FutureWarning: 'force_all_finite' was renamed to 'ensure_all_finite' in 1.6 and will be removed in 1.8.\n",
      "Processing frames:  56%|█████▌    | 335/599 [01:25<01:06,  3.97it/s]"
     ]
    },
    {
     "name": "stdout",
     "output_type": "stream",
     "text": [
      "\n",
      "0: 1280x1280 21 players, 3 referees, 68.2ms\n",
      "Speed: 8.2ms preprocess, 68.2ms inference, 1.0ms postprocess per image at shape (1, 3, 1280, 1280)\n"
     ]
    },
    {
     "name": "stderr",
     "output_type": "stream",
     "text": [
      "Embedding extraction: 1it [00:00,  7.58it/s]\n",
      "FutureWarning: 'force_all_finite' was renamed to 'ensure_all_finite' in 1.6 and will be removed in 1.8.\n",
      "Processing frames:  56%|█████▌    | 336/599 [01:25<01:06,  3.96it/s]"
     ]
    },
    {
     "name": "stdout",
     "output_type": "stream",
     "text": [
      "\n",
      "0: 1280x1280 21 players, 3 referees, 67.9ms\n",
      "Speed: 6.4ms preprocess, 67.9ms inference, 1.0ms postprocess per image at shape (1, 3, 1280, 1280)\n"
     ]
    },
    {
     "name": "stderr",
     "output_type": "stream",
     "text": [
      "Embedding extraction: 1it [00:00,  7.53it/s]\n",
      "FutureWarning: 'force_all_finite' was renamed to 'ensure_all_finite' in 1.6 and will be removed in 1.8.\n",
      "Processing frames:  56%|█████▋    | 337/599 [01:26<01:05,  3.98it/s]"
     ]
    },
    {
     "name": "stdout",
     "output_type": "stream",
     "text": [
      "\n",
      "0: 1280x1280 21 players, 3 referees, 68.7ms\n",
      "Speed: 9.9ms preprocess, 68.7ms inference, 1.0ms postprocess per image at shape (1, 3, 1280, 1280)\n"
     ]
    },
    {
     "name": "stderr",
     "output_type": "stream",
     "text": [
      "Embedding extraction: 1it [00:00,  7.54it/s]\n",
      "FutureWarning: 'force_all_finite' was renamed to 'ensure_all_finite' in 1.6 and will be removed in 1.8.\n",
      "Processing frames:  56%|█████▋    | 338/599 [01:26<01:05,  3.97it/s]"
     ]
    },
    {
     "name": "stdout",
     "output_type": "stream",
     "text": [
      "\n",
      "0: 1280x1280 1 ball, 21 players, 3 referees, 68.7ms\n",
      "Speed: 7.8ms preprocess, 68.7ms inference, 1.0ms postprocess per image at shape (1, 3, 1280, 1280)\n"
     ]
    },
    {
     "name": "stderr",
     "output_type": "stream",
     "text": [
      "Embedding extraction: 1it [00:00,  7.63it/s]\n",
      "FutureWarning: 'force_all_finite' was renamed to 'ensure_all_finite' in 1.6 and will be removed in 1.8.\n",
      "Processing frames:  57%|█████▋    | 339/599 [01:26<01:05,  3.96it/s]"
     ]
    },
    {
     "name": "stdout",
     "output_type": "stream",
     "text": [
      "\n",
      "0: 1280x1280 21 players, 3 referees, 68.9ms\n",
      "Speed: 6.0ms preprocess, 68.9ms inference, 1.0ms postprocess per image at shape (1, 3, 1280, 1280)\n"
     ]
    },
    {
     "name": "stderr",
     "output_type": "stream",
     "text": [
      "Embedding extraction: 1it [00:00,  7.49it/s]\n",
      "FutureWarning: 'force_all_finite' was renamed to 'ensure_all_finite' in 1.6 and will be removed in 1.8.\n",
      "Processing frames:  57%|█████▋    | 340/599 [01:26<01:05,  3.97it/s]"
     ]
    },
    {
     "name": "stdout",
     "output_type": "stream",
     "text": [
      "\n",
      "0: 1280x1280 1 ball, 22 players, 3 referees, 68.6ms\n",
      "Speed: 6.0ms preprocess, 68.6ms inference, 1.0ms postprocess per image at shape (1, 3, 1280, 1280)\n"
     ]
    },
    {
     "name": "stderr",
     "output_type": "stream",
     "text": [
      "Embedding extraction: 1it [00:00,  7.58it/s]\n",
      "FutureWarning: 'force_all_finite' was renamed to 'ensure_all_finite' in 1.6 and will be removed in 1.8.\n",
      "Processing frames:  57%|█████▋    | 341/599 [01:27<01:05,  3.97it/s]"
     ]
    },
    {
     "name": "stdout",
     "output_type": "stream",
     "text": [
      "\n",
      "0: 1280x1280 22 players, 2 referees, 68.6ms\n",
      "Speed: 6.4ms preprocess, 68.6ms inference, 1.0ms postprocess per image at shape (1, 3, 1280, 1280)\n"
     ]
    },
    {
     "name": "stderr",
     "output_type": "stream",
     "text": [
      "Embedding extraction: 1it [00:00,  7.47it/s]\n",
      "FutureWarning: 'force_all_finite' was renamed to 'ensure_all_finite' in 1.6 and will be removed in 1.8.\n",
      "Processing frames:  57%|█████▋    | 342/599 [01:27<01:04,  3.96it/s]"
     ]
    },
    {
     "name": "stdout",
     "output_type": "stream",
     "text": [
      "\n",
      "0: 1280x1280 22 players, 2 referees, 68.4ms\n",
      "Speed: 9.2ms preprocess, 68.4ms inference, 1.0ms postprocess per image at shape (1, 3, 1280, 1280)\n"
     ]
    },
    {
     "name": "stderr",
     "output_type": "stream",
     "text": [
      "Embedding extraction: 1it [00:00,  7.59it/s]\n",
      "FutureWarning: 'force_all_finite' was renamed to 'ensure_all_finite' in 1.6 and will be removed in 1.8.\n",
      "Processing frames:  57%|█████▋    | 343/599 [01:27<01:04,  3.95it/s]"
     ]
    },
    {
     "name": "stdout",
     "output_type": "stream",
     "text": [
      "\n",
      "0: 1280x1280 22 players, 2 referees, 68.3ms\n",
      "Speed: 6.2ms preprocess, 68.3ms inference, 1.0ms postprocess per image at shape (1, 3, 1280, 1280)\n"
     ]
    },
    {
     "name": "stderr",
     "output_type": "stream",
     "text": [
      "Embedding extraction: 1it [00:00,  7.59it/s]\n",
      "FutureWarning: 'force_all_finite' was renamed to 'ensure_all_finite' in 1.6 and will be removed in 1.8.\n",
      "Processing frames:  57%|█████▋    | 344/599 [01:27<01:04,  3.98it/s]"
     ]
    },
    {
     "name": "stdout",
     "output_type": "stream",
     "text": [
      "\n",
      "0: 1280x1280 1 ball, 21 players, 2 referees, 69.0ms\n",
      "Speed: 6.1ms preprocess, 69.0ms inference, 1.0ms postprocess per image at shape (1, 3, 1280, 1280)\n"
     ]
    },
    {
     "name": "stderr",
     "output_type": "stream",
     "text": [
      "Embedding extraction: 1it [00:00,  7.57it/s]\n",
      "FutureWarning: 'force_all_finite' was renamed to 'ensure_all_finite' in 1.6 and will be removed in 1.8.\n",
      "Processing frames:  58%|█████▊    | 345/599 [01:28<01:03,  3.97it/s]"
     ]
    },
    {
     "name": "stdout",
     "output_type": "stream",
     "text": [
      "\n",
      "0: 1280x1280 1 ball, 21 players, 3 referees, 68.6ms\n",
      "Speed: 10.5ms preprocess, 68.6ms inference, 1.0ms postprocess per image at shape (1, 3, 1280, 1280)\n"
     ]
    },
    {
     "name": "stderr",
     "output_type": "stream",
     "text": [
      "Embedding extraction: 1it [00:00,  7.50it/s]\n",
      "FutureWarning: 'force_all_finite' was renamed to 'ensure_all_finite' in 1.6 and will be removed in 1.8.\n",
      "Processing frames:  58%|█████▊    | 346/599 [01:28<01:04,  3.95it/s]"
     ]
    },
    {
     "name": "stdout",
     "output_type": "stream",
     "text": [
      "\n",
      "0: 1280x1280 1 ball, 21 players, 3 referees, 69.0ms\n",
      "Speed: 6.0ms preprocess, 69.0ms inference, 1.0ms postprocess per image at shape (1, 3, 1280, 1280)\n"
     ]
    },
    {
     "name": "stderr",
     "output_type": "stream",
     "text": [
      "Embedding extraction: 1it [00:00,  7.64it/s]\n",
      "FutureWarning: 'force_all_finite' was renamed to 'ensure_all_finite' in 1.6 and will be removed in 1.8.\n",
      "Processing frames:  58%|█████▊    | 347/599 [01:28<01:03,  3.97it/s]"
     ]
    },
    {
     "name": "stdout",
     "output_type": "stream",
     "text": [
      "\n",
      "0: 1280x1280 1 ball, 21 players, 3 referees, 68.8ms\n",
      "Speed: 6.0ms preprocess, 68.8ms inference, 1.0ms postprocess per image at shape (1, 3, 1280, 1280)\n"
     ]
    },
    {
     "name": "stderr",
     "output_type": "stream",
     "text": [
      "Embedding extraction: 1it [00:00,  7.55it/s]\n",
      "FutureWarning: 'force_all_finite' was renamed to 'ensure_all_finite' in 1.6 and will be removed in 1.8.\n",
      "Processing frames:  58%|█████▊    | 348/599 [01:28<01:03,  3.97it/s]"
     ]
    },
    {
     "name": "stdout",
     "output_type": "stream",
     "text": [
      "\n",
      "0: 1280x1280 1 ball, 21 players, 3 referees, 68.1ms\n",
      "Speed: 6.1ms preprocess, 68.1ms inference, 1.0ms postprocess per image at shape (1, 3, 1280, 1280)\n"
     ]
    },
    {
     "name": "stderr",
     "output_type": "stream",
     "text": [
      "Embedding extraction: 1it [00:00,  7.54it/s]\n",
      "FutureWarning: 'force_all_finite' was renamed to 'ensure_all_finite' in 1.6 and will be removed in 1.8.\n",
      "Processing frames:  58%|█████▊    | 349/599 [01:29<01:02,  3.97it/s]"
     ]
    },
    {
     "name": "stdout",
     "output_type": "stream",
     "text": [
      "\n",
      "0: 1280x1280 1 ball, 22 players, 3 referees, 69.0ms\n",
      "Speed: 5.9ms preprocess, 69.0ms inference, 0.9ms postprocess per image at shape (1, 3, 1280, 1280)\n"
     ]
    },
    {
     "name": "stderr",
     "output_type": "stream",
     "text": [
      "Embedding extraction: 1it [00:00,  7.42it/s]\n",
      "FutureWarning: 'force_all_finite' was renamed to 'ensure_all_finite' in 1.6 and will be removed in 1.8.\n",
      "Processing frames:  58%|█████▊    | 350/599 [01:29<01:02,  3.96it/s]"
     ]
    },
    {
     "name": "stdout",
     "output_type": "stream",
     "text": [
      "\n",
      "0: 1280x1280 1 ball, 21 players, 3 referees, 68.4ms\n",
      "Speed: 6.0ms preprocess, 68.4ms inference, 1.0ms postprocess per image at shape (1, 3, 1280, 1280)\n"
     ]
    },
    {
     "name": "stderr",
     "output_type": "stream",
     "text": [
      "Embedding extraction: 1it [00:00,  7.48it/s]\n",
      "FutureWarning: 'force_all_finite' was renamed to 'ensure_all_finite' in 1.6 and will be removed in 1.8.\n",
      "Processing frames:  59%|█████▊    | 351/599 [01:29<01:02,  3.96it/s]"
     ]
    },
    {
     "name": "stdout",
     "output_type": "stream",
     "text": [
      "\n",
      "0: 1280x1280 21 players, 3 referees, 68.9ms\n",
      "Speed: 6.5ms preprocess, 68.9ms inference, 1.0ms postprocess per image at shape (1, 3, 1280, 1280)\n"
     ]
    },
    {
     "name": "stderr",
     "output_type": "stream",
     "text": [
      "Embedding extraction: 1it [00:00,  7.54it/s]\n",
      "FutureWarning: 'force_all_finite' was renamed to 'ensure_all_finite' in 1.6 and will be removed in 1.8.\n",
      "Processing frames:  59%|█████▉    | 352/599 [01:30<02:25,  1.70it/s]"
     ]
    },
    {
     "name": "stdout",
     "output_type": "stream",
     "text": [
      "Saved mini clip: app/test_data/predicted/actions/clip_004.mp4\n",
      "\n",
      "0: 1280x1280 1 ball, 22 players, 3 referees, 67.8ms\n",
      "Speed: 6.0ms preprocess, 67.8ms inference, 1.0ms postprocess per image at shape (1, 3, 1280, 1280)\n"
     ]
    },
    {
     "name": "stderr",
     "output_type": "stream",
     "text": [
      "Embedding extraction: 1it [00:00,  7.61it/s]\n",
      "FutureWarning: 'force_all_finite' was renamed to 'ensure_all_finite' in 1.6 and will be removed in 1.8.\n",
      "Processing frames:  59%|█████▉    | 353/599 [01:31<01:59,  2.05it/s]"
     ]
    },
    {
     "name": "stdout",
     "output_type": "stream",
     "text": [
      "\n",
      "0: 1280x1280 1 ball, 21 players, 3 referees, 68.6ms\n",
      "Speed: 10.8ms preprocess, 68.6ms inference, 1.0ms postprocess per image at shape (1, 3, 1280, 1280)\n"
     ]
    },
    {
     "name": "stderr",
     "output_type": "stream",
     "text": [
      "Embedding extraction: 1it [00:00,  7.60it/s]\n",
      "FutureWarning: 'force_all_finite' was renamed to 'ensure_all_finite' in 1.6 and will be removed in 1.8.\n",
      "Processing frames:  59%|█████▉    | 354/599 [01:31<01:42,  2.40it/s]"
     ]
    },
    {
     "name": "stdout",
     "output_type": "stream",
     "text": [
      "\n",
      "0: 1280x1280 1 ball, 21 players, 3 referees, 68.9ms\n",
      "Speed: 6.1ms preprocess, 68.9ms inference, 1.2ms postprocess per image at shape (1, 3, 1280, 1280)\n"
     ]
    },
    {
     "name": "stderr",
     "output_type": "stream",
     "text": [
      "Embedding extraction: 1it [00:00,  7.58it/s]\n",
      "FutureWarning: 'force_all_finite' was renamed to 'ensure_all_finite' in 1.6 and will be removed in 1.8.\n",
      "Processing frames:  59%|█████▉    | 355/599 [01:31<01:29,  2.72it/s]"
     ]
    },
    {
     "name": "stdout",
     "output_type": "stream",
     "text": [
      "\n",
      "0: 1280x1280 1 ball, 21 players, 3 referees, 68.7ms\n",
      "Speed: 8.6ms preprocess, 68.7ms inference, 1.3ms postprocess per image at shape (1, 3, 1280, 1280)\n"
     ]
    },
    {
     "name": "stderr",
     "output_type": "stream",
     "text": [
      "Embedding extraction: 1it [00:00,  7.56it/s]\n",
      "FutureWarning: 'force_all_finite' was renamed to 'ensure_all_finite' in 1.6 and will be removed in 1.8.\n",
      "Processing frames:  59%|█████▉    | 356/599 [01:31<01:21,  3.00it/s]"
     ]
    },
    {
     "name": "stdout",
     "output_type": "stream",
     "text": [
      "\n",
      "0: 1280x1280 21 players, 3 referees, 68.7ms\n",
      "Speed: 10.2ms preprocess, 68.7ms inference, 1.0ms postprocess per image at shape (1, 3, 1280, 1280)\n"
     ]
    },
    {
     "name": "stderr",
     "output_type": "stream",
     "text": [
      "Embedding extraction: 1it [00:00,  7.57it/s]\n",
      "FutureWarning: 'force_all_finite' was renamed to 'ensure_all_finite' in 1.6 and will be removed in 1.8.\n",
      "Processing frames:  60%|█████▉    | 357/599 [01:32<01:14,  3.23it/s]"
     ]
    },
    {
     "name": "stdout",
     "output_type": "stream",
     "text": [
      "\n",
      "0: 1280x1280 21 players, 3 referees, 68.2ms\n",
      "Speed: 10.7ms preprocess, 68.2ms inference, 1.0ms postprocess per image at shape (1, 3, 1280, 1280)\n"
     ]
    },
    {
     "name": "stderr",
     "output_type": "stream",
     "text": [
      "Embedding extraction: 1it [00:00,  8.32it/s]\n",
      "FutureWarning: 'force_all_finite' was renamed to 'ensure_all_finite' in 1.6 and will be removed in 1.8.\n",
      "Processing frames:  60%|█████▉    | 358/599 [01:32<01:09,  3.45it/s]"
     ]
    },
    {
     "name": "stdout",
     "output_type": "stream",
     "text": [
      "\n",
      "0: 1280x1280 21 players, 3 referees, 68.7ms\n",
      "Speed: 6.0ms preprocess, 68.7ms inference, 1.0ms postprocess per image at shape (1, 3, 1280, 1280)\n"
     ]
    },
    {
     "name": "stderr",
     "output_type": "stream",
     "text": [
      "Embedding extraction: 1it [00:00,  7.57it/s]\n",
      "FutureWarning: 'force_all_finite' was renamed to 'ensure_all_finite' in 1.6 and will be removed in 1.8.\n",
      "Processing frames:  60%|█████▉    | 359/599 [01:32<01:06,  3.59it/s]"
     ]
    },
    {
     "name": "stdout",
     "output_type": "stream",
     "text": [
      "\n",
      "0: 1280x1280 21 players, 3 referees, 68.4ms\n",
      "Speed: 9.2ms preprocess, 68.4ms inference, 1.1ms postprocess per image at shape (1, 3, 1280, 1280)\n"
     ]
    },
    {
     "name": "stderr",
     "output_type": "stream",
     "text": [
      "Embedding extraction: 1it [00:00,  7.62it/s]\n",
      "FutureWarning: 'force_all_finite' was renamed to 'ensure_all_finite' in 1.6 and will be removed in 1.8.\n",
      "Processing frames:  60%|██████    | 360/599 [01:32<01:04,  3.69it/s]"
     ]
    },
    {
     "name": "stdout",
     "output_type": "stream",
     "text": [
      "\n",
      "0: 1280x1280 21 players, 3 referees, 68.7ms\n",
      "Speed: 9.2ms preprocess, 68.7ms inference, 1.0ms postprocess per image at shape (1, 3, 1280, 1280)\n"
     ]
    },
    {
     "name": "stderr",
     "output_type": "stream",
     "text": [
      "Embedding extraction: 1it [00:00,  7.56it/s]\n",
      "FutureWarning: 'force_all_finite' was renamed to 'ensure_all_finite' in 1.6 and will be removed in 1.8.\n",
      "Processing frames:  60%|██████    | 361/599 [01:33<01:03,  3.76it/s]"
     ]
    },
    {
     "name": "stdout",
     "output_type": "stream",
     "text": [
      "\n",
      "0: 1280x1280 21 players, 3 referees, 68.8ms\n",
      "Speed: 10.9ms preprocess, 68.8ms inference, 1.0ms postprocess per image at shape (1, 3, 1280, 1280)\n"
     ]
    },
    {
     "name": "stderr",
     "output_type": "stream",
     "text": [
      "Embedding extraction: 1it [00:00,  7.59it/s]\n",
      "FutureWarning: 'force_all_finite' was renamed to 'ensure_all_finite' in 1.6 and will be removed in 1.8.\n",
      "Processing frames:  60%|██████    | 362/599 [01:33<01:02,  3.80it/s]"
     ]
    },
    {
     "name": "stdout",
     "output_type": "stream",
     "text": [
      "\n",
      "0: 1280x1280 21 players, 3 referees, 69.0ms\n",
      "Speed: 6.2ms preprocess, 69.0ms inference, 1.0ms postprocess per image at shape (1, 3, 1280, 1280)\n"
     ]
    },
    {
     "name": "stderr",
     "output_type": "stream",
     "text": [
      "Embedding extraction: 1it [00:00,  7.52it/s]\n",
      "FutureWarning: 'force_all_finite' was renamed to 'ensure_all_finite' in 1.6 and will be removed in 1.8.\n",
      "Processing frames:  61%|██████    | 363/599 [01:33<01:01,  3.85it/s]"
     ]
    },
    {
     "name": "stdout",
     "output_type": "stream",
     "text": [
      "\n",
      "0: 1280x1280 21 players, 3 referees, 68.4ms\n",
      "Speed: 9.0ms preprocess, 68.4ms inference, 1.0ms postprocess per image at shape (1, 3, 1280, 1280)\n"
     ]
    },
    {
     "name": "stderr",
     "output_type": "stream",
     "text": [
      "Embedding extraction: 1it [00:00,  7.53it/s]\n",
      "FutureWarning: 'force_all_finite' was renamed to 'ensure_all_finite' in 1.6 and will be removed in 1.8.\n",
      "Processing frames:  61%|██████    | 364/599 [01:33<01:00,  3.87it/s]"
     ]
    },
    {
     "name": "stdout",
     "output_type": "stream",
     "text": [
      "\n",
      "0: 1280x1280 21 players, 2 referees, 68.3ms\n",
      "Speed: 6.1ms preprocess, 68.3ms inference, 1.0ms postprocess per image at shape (1, 3, 1280, 1280)\n"
     ]
    },
    {
     "name": "stderr",
     "output_type": "stream",
     "text": [
      "Embedding extraction: 1it [00:00,  7.53it/s]\n",
      "FutureWarning: 'force_all_finite' was renamed to 'ensure_all_finite' in 1.6 and will be removed in 1.8.\n",
      "Processing frames:  61%|██████    | 365/599 [01:34<00:59,  3.90it/s]"
     ]
    },
    {
     "name": "stdout",
     "output_type": "stream",
     "text": [
      "\n",
      "0: 1280x1280 21 players, 3 referees, 68.3ms\n",
      "Speed: 10.8ms preprocess, 68.3ms inference, 1.0ms postprocess per image at shape (1, 3, 1280, 1280)\n"
     ]
    },
    {
     "name": "stderr",
     "output_type": "stream",
     "text": [
      "Embedding extraction: 1it [00:00,  7.57it/s]\n",
      "FutureWarning: 'force_all_finite' was renamed to 'ensure_all_finite' in 1.6 and will be removed in 1.8.\n",
      "Processing frames:  61%|██████    | 366/599 [01:34<00:59,  3.91it/s]"
     ]
    },
    {
     "name": "stdout",
     "output_type": "stream",
     "text": [
      "\n",
      "0: 1280x1280 21 players, 3 referees, 68.4ms\n",
      "Speed: 10.6ms preprocess, 68.4ms inference, 0.9ms postprocess per image at shape (1, 3, 1280, 1280)\n"
     ]
    },
    {
     "name": "stderr",
     "output_type": "stream",
     "text": [
      "Embedding extraction: 1it [00:00,  7.50it/s]\n",
      "FutureWarning: 'force_all_finite' was renamed to 'ensure_all_finite' in 1.6 and will be removed in 1.8.\n",
      "Processing frames:  61%|██████▏   | 367/599 [01:34<00:59,  3.91it/s]"
     ]
    },
    {
     "name": "stdout",
     "output_type": "stream",
     "text": [
      "\n",
      "0: 1280x1280 21 players, 3 referees, 68.7ms\n",
      "Speed: 8.8ms preprocess, 68.7ms inference, 1.0ms postprocess per image at shape (1, 3, 1280, 1280)\n"
     ]
    },
    {
     "name": "stderr",
     "output_type": "stream",
     "text": [
      "Embedding extraction: 1it [00:00,  7.41it/s]\n",
      "FutureWarning: 'force_all_finite' was renamed to 'ensure_all_finite' in 1.6 and will be removed in 1.8.\n",
      "Processing frames:  61%|██████▏   | 368/599 [01:34<00:59,  3.90it/s]"
     ]
    },
    {
     "name": "stdout",
     "output_type": "stream",
     "text": [
      "\n",
      "0: 1280x1280 20 players, 3 referees, 68.7ms\n",
      "Speed: 6.2ms preprocess, 68.7ms inference, 1.0ms postprocess per image at shape (1, 3, 1280, 1280)\n"
     ]
    },
    {
     "name": "stderr",
     "output_type": "stream",
     "text": [
      "Embedding extraction: 1it [00:00,  8.28it/s]\n",
      "FutureWarning: 'force_all_finite' was renamed to 'ensure_all_finite' in 1.6 and will be removed in 1.8.\n",
      "Processing frames:  62%|██████▏   | 369/599 [01:35<00:57,  3.97it/s]"
     ]
    },
    {
     "name": "stdout",
     "output_type": "stream",
     "text": [
      "\n",
      "0: 1280x1280 20 players, 4 referees, 68.8ms\n",
      "Speed: 10.9ms preprocess, 68.8ms inference, 1.0ms postprocess per image at shape (1, 3, 1280, 1280)\n"
     ]
    },
    {
     "name": "stderr",
     "output_type": "stream",
     "text": [
      "Embedding extraction: 1it [00:00,  8.22it/s]\n",
      "FutureWarning: 'force_all_finite' was renamed to 'ensure_all_finite' in 1.6 and will be removed in 1.8.\n",
      "Processing frames:  62%|██████▏   | 370/599 [01:35<00:57,  4.00it/s]"
     ]
    },
    {
     "name": "stdout",
     "output_type": "stream",
     "text": [
      "\n",
      "0: 1280x1280 20 players, 3 referees, 68.4ms\n",
      "Speed: 6.1ms preprocess, 68.4ms inference, 1.0ms postprocess per image at shape (1, 3, 1280, 1280)\n"
     ]
    },
    {
     "name": "stderr",
     "output_type": "stream",
     "text": [
      "Embedding extraction: 1it [00:00,  8.20it/s]\n",
      "FutureWarning: 'force_all_finite' was renamed to 'ensure_all_finite' in 1.6 and will be removed in 1.8.\n",
      "Processing frames:  62%|██████▏   | 371/599 [01:35<00:56,  4.04it/s]"
     ]
    },
    {
     "name": "stdout",
     "output_type": "stream",
     "text": [
      "\n",
      "0: 1280x1280 20 players, 3 referees, 68.7ms\n",
      "Speed: 6.1ms preprocess, 68.7ms inference, 1.0ms postprocess per image at shape (1, 3, 1280, 1280)\n"
     ]
    },
    {
     "name": "stderr",
     "output_type": "stream",
     "text": [
      "Embedding extraction: 1it [00:00,  8.26it/s]\n",
      "FutureWarning: 'force_all_finite' was renamed to 'ensure_all_finite' in 1.6 and will be removed in 1.8.\n",
      "Processing frames:  62%|██████▏   | 372/599 [01:35<00:55,  4.08it/s]"
     ]
    },
    {
     "name": "stdout",
     "output_type": "stream",
     "text": [
      "\n",
      "0: 1280x1280 20 players, 2 referees, 69.0ms\n",
      "Speed: 9.1ms preprocess, 69.0ms inference, 1.0ms postprocess per image at shape (1, 3, 1280, 1280)\n"
     ]
    },
    {
     "name": "stderr",
     "output_type": "stream",
     "text": [
      "Embedding extraction: 1it [00:00,  8.24it/s]\n",
      "FutureWarning: 'force_all_finite' was renamed to 'ensure_all_finite' in 1.6 and will be removed in 1.8.\n",
      "Processing frames:  62%|██████▏   | 373/599 [01:36<00:55,  4.09it/s]"
     ]
    },
    {
     "name": "stdout",
     "output_type": "stream",
     "text": [
      "\n",
      "0: 1280x1280 20 players, 2 referees, 68.6ms\n",
      "Speed: 6.4ms preprocess, 68.6ms inference, 1.0ms postprocess per image at shape (1, 3, 1280, 1280)\n"
     ]
    },
    {
     "name": "stderr",
     "output_type": "stream",
     "text": [
      "Embedding extraction: 1it [00:00,  8.16it/s]\n",
      "FutureWarning: 'force_all_finite' was renamed to 'ensure_all_finite' in 1.6 and will be removed in 1.8.\n",
      "Processing frames:  62%|██████▏   | 374/599 [01:36<00:55,  4.09it/s]"
     ]
    },
    {
     "name": "stdout",
     "output_type": "stream",
     "text": [
      "\n",
      "0: 1280x1280 20 players, 2 referees, 68.7ms\n",
      "Speed: 10.3ms preprocess, 68.7ms inference, 1.0ms postprocess per image at shape (1, 3, 1280, 1280)\n"
     ]
    },
    {
     "name": "stderr",
     "output_type": "stream",
     "text": [
      "Embedding extraction: 1it [00:00,  8.23it/s]\n",
      "FutureWarning: 'force_all_finite' was renamed to 'ensure_all_finite' in 1.6 and will be removed in 1.8.\n",
      "Processing frames:  63%|██████▎   | 375/599 [01:36<00:54,  4.09it/s]"
     ]
    },
    {
     "name": "stdout",
     "output_type": "stream",
     "text": [
      "\n",
      "0: 1280x1280 20 players, 3 referees, 68.7ms\n",
      "Speed: 6.1ms preprocess, 68.7ms inference, 1.0ms postprocess per image at shape (1, 3, 1280, 1280)\n"
     ]
    },
    {
     "name": "stderr",
     "output_type": "stream",
     "text": [
      "Embedding extraction: 1it [00:00,  8.27it/s]\n",
      "FutureWarning: 'force_all_finite' was renamed to 'ensure_all_finite' in 1.6 and will be removed in 1.8.\n",
      "Processing frames:  63%|██████▎   | 376/599 [01:36<00:54,  4.11it/s]"
     ]
    },
    {
     "name": "stdout",
     "output_type": "stream",
     "text": [
      "\n",
      "0: 1280x1280 20 players, 3 referees, 69.0ms\n",
      "Speed: 6.1ms preprocess, 69.0ms inference, 1.0ms postprocess per image at shape (1, 3, 1280, 1280)\n"
     ]
    },
    {
     "name": "stderr",
     "output_type": "stream",
     "text": [
      "Embedding extraction: 1it [00:00,  8.22it/s]\n",
      "FutureWarning: 'force_all_finite' was renamed to 'ensure_all_finite' in 1.6 and will be removed in 1.8.\n",
      "Processing frames:  63%|██████▎   | 377/599 [01:37<00:53,  4.13it/s]"
     ]
    },
    {
     "name": "stdout",
     "output_type": "stream",
     "text": [
      "\n",
      "0: 1280x1280 20 players, 3 referees, 68.3ms\n",
      "Speed: 10.8ms preprocess, 68.3ms inference, 0.9ms postprocess per image at shape (1, 3, 1280, 1280)\n"
     ]
    },
    {
     "name": "stderr",
     "output_type": "stream",
     "text": [
      "Embedding extraction: 1it [00:00,  8.24it/s]\n",
      "FutureWarning: 'force_all_finite' was renamed to 'ensure_all_finite' in 1.6 and will be removed in 1.8.\n",
      "Processing frames:  63%|██████▎   | 378/599 [01:37<00:53,  4.12it/s]"
     ]
    },
    {
     "name": "stdout",
     "output_type": "stream",
     "text": [
      "\n",
      "0: 1280x1280 20 players, 3 referees, 68.9ms\n",
      "Speed: 6.1ms preprocess, 68.9ms inference, 1.0ms postprocess per image at shape (1, 3, 1280, 1280)\n"
     ]
    },
    {
     "name": "stderr",
     "output_type": "stream",
     "text": [
      "Embedding extraction: 1it [00:00,  8.18it/s]\n",
      "FutureWarning: 'force_all_finite' was renamed to 'ensure_all_finite' in 1.6 and will be removed in 1.8.\n",
      "Processing frames:  63%|██████▎   | 379/599 [01:37<00:53,  4.12it/s]"
     ]
    },
    {
     "name": "stdout",
     "output_type": "stream",
     "text": [
      "\n",
      "0: 1280x1280 20 players, 3 referees, 68.8ms\n",
      "Speed: 9.0ms preprocess, 68.8ms inference, 1.0ms postprocess per image at shape (1, 3, 1280, 1280)\n"
     ]
    },
    {
     "name": "stderr",
     "output_type": "stream",
     "text": [
      "Embedding extraction: 1it [00:00,  8.16it/s]\n",
      "FutureWarning: 'force_all_finite' was renamed to 'ensure_all_finite' in 1.6 and will be removed in 1.8.\n",
      "Processing frames:  63%|██████▎   | 380/599 [01:37<00:53,  4.11it/s]"
     ]
    },
    {
     "name": "stdout",
     "output_type": "stream",
     "text": [
      "\n",
      "0: 1280x1280 20 players, 3 referees, 69.0ms\n",
      "Speed: 6.1ms preprocess, 69.0ms inference, 1.0ms postprocess per image at shape (1, 3, 1280, 1280)\n"
     ]
    },
    {
     "name": "stderr",
     "output_type": "stream",
     "text": [
      "Embedding extraction: 1it [00:00,  8.21it/s]\n",
      "FutureWarning: 'force_all_finite' was renamed to 'ensure_all_finite' in 1.6 and will be removed in 1.8.\n",
      "Processing frames:  64%|██████▎   | 381/599 [01:38<00:53,  4.09it/s]"
     ]
    },
    {
     "name": "stdout",
     "output_type": "stream",
     "text": [
      "\n",
      "0: 1280x1280 20 players, 3 referees, 68.6ms\n",
      "Speed: 6.3ms preprocess, 68.6ms inference, 1.0ms postprocess per image at shape (1, 3, 1280, 1280)\n"
     ]
    },
    {
     "name": "stderr",
     "output_type": "stream",
     "text": [
      "Embedding extraction: 1it [00:00,  8.22it/s]\n",
      "FutureWarning: 'force_all_finite' was renamed to 'ensure_all_finite' in 1.6 and will be removed in 1.8.\n",
      "Processing frames:  64%|██████▍   | 382/599 [01:38<00:52,  4.10it/s]"
     ]
    },
    {
     "name": "stdout",
     "output_type": "stream",
     "text": [
      "\n",
      "0: 1280x1280 20 players, 3 referees, 68.5ms\n",
      "Speed: 9.8ms preprocess, 68.5ms inference, 1.0ms postprocess per image at shape (1, 3, 1280, 1280)\n"
     ]
    },
    {
     "name": "stderr",
     "output_type": "stream",
     "text": [
      "Embedding extraction: 1it [00:00,  8.21it/s]\n",
      "FutureWarning: 'force_all_finite' was renamed to 'ensure_all_finite' in 1.6 and will be removed in 1.8.\n",
      "Processing frames:  64%|██████▍   | 383/599 [01:38<00:52,  4.09it/s]"
     ]
    },
    {
     "name": "stdout",
     "output_type": "stream",
     "text": [
      "\n",
      "0: 1280x1280 20 players, 3 referees, 68.6ms\n",
      "Speed: 6.2ms preprocess, 68.6ms inference, 1.0ms postprocess per image at shape (1, 3, 1280, 1280)\n"
     ]
    },
    {
     "name": "stderr",
     "output_type": "stream",
     "text": [
      "Embedding extraction: 1it [00:00,  8.16it/s]\n",
      "FutureWarning: 'force_all_finite' was renamed to 'ensure_all_finite' in 1.6 and will be removed in 1.8.\n",
      "Processing frames:  64%|██████▍   | 384/599 [01:38<00:52,  4.11it/s]"
     ]
    },
    {
     "name": "stdout",
     "output_type": "stream",
     "text": [
      "\n",
      "0: 1280x1280 20 players, 3 referees, 68.7ms\n",
      "Speed: 9.4ms preprocess, 68.7ms inference, 1.0ms postprocess per image at shape (1, 3, 1280, 1280)\n"
     ]
    },
    {
     "name": "stderr",
     "output_type": "stream",
     "text": [
      "Embedding extraction: 1it [00:00,  8.27it/s]\n",
      "FutureWarning: 'force_all_finite' was renamed to 'ensure_all_finite' in 1.6 and will be removed in 1.8.\n",
      "Processing frames:  64%|██████▍   | 385/599 [01:39<00:51,  4.12it/s]"
     ]
    },
    {
     "name": "stdout",
     "output_type": "stream",
     "text": [
      "\n",
      "0: 1280x1280 20 players, 3 referees, 68.6ms\n",
      "Speed: 10.8ms preprocess, 68.6ms inference, 1.0ms postprocess per image at shape (1, 3, 1280, 1280)\n"
     ]
    },
    {
     "name": "stderr",
     "output_type": "stream",
     "text": [
      "Embedding extraction: 1it [00:00,  8.29it/s]\n",
      "FutureWarning: 'force_all_finite' was renamed to 'ensure_all_finite' in 1.6 and will be removed in 1.8.\n",
      "Processing frames:  64%|██████▍   | 386/599 [01:39<00:51,  4.10it/s]"
     ]
    },
    {
     "name": "stdout",
     "output_type": "stream",
     "text": [
      "\n",
      "0: 1280x1280 20 players, 3 referees, 68.7ms\n",
      "Speed: 10.0ms preprocess, 68.7ms inference, 1.0ms postprocess per image at shape (1, 3, 1280, 1280)\n"
     ]
    },
    {
     "name": "stderr",
     "output_type": "stream",
     "text": [
      "Embedding extraction: 1it [00:00,  8.22it/s]\n",
      "FutureWarning: 'force_all_finite' was renamed to 'ensure_all_finite' in 1.6 and will be removed in 1.8.\n",
      "Processing frames:  65%|██████▍   | 387/599 [01:39<00:52,  4.07it/s]"
     ]
    },
    {
     "name": "stdout",
     "output_type": "stream",
     "text": [
      "\n",
      "0: 1280x1280 20 players, 3 referees, 68.7ms\n",
      "Speed: 6.1ms preprocess, 68.7ms inference, 1.0ms postprocess per image at shape (1, 3, 1280, 1280)\n"
     ]
    },
    {
     "name": "stderr",
     "output_type": "stream",
     "text": [
      "Embedding extraction: 1it [00:00,  8.16it/s]\n",
      "FutureWarning: 'force_all_finite' was renamed to 'ensure_all_finite' in 1.6 and will be removed in 1.8.\n",
      "Processing frames:  65%|██████▍   | 388/599 [01:39<00:51,  4.10it/s]"
     ]
    },
    {
     "name": "stdout",
     "output_type": "stream",
     "text": [
      "\n",
      "0: 1280x1280 20 players, 3 referees, 68.5ms\n",
      "Speed: 9.1ms preprocess, 68.5ms inference, 1.0ms postprocess per image at shape (1, 3, 1280, 1280)\n"
     ]
    },
    {
     "name": "stderr",
     "output_type": "stream",
     "text": [
      "Embedding extraction: 1it [00:00,  8.15it/s]\n",
      "FutureWarning: 'force_all_finite' was renamed to 'ensure_all_finite' in 1.6 and will be removed in 1.8.\n",
      "Processing frames:  65%|██████▍   | 389/599 [01:40<00:51,  4.09it/s]"
     ]
    },
    {
     "name": "stdout",
     "output_type": "stream",
     "text": [
      "\n",
      "0: 1280x1280 20 players, 3 referees, 68.2ms\n",
      "Speed: 11.0ms preprocess, 68.2ms inference, 1.0ms postprocess per image at shape (1, 3, 1280, 1280)\n"
     ]
    },
    {
     "name": "stderr",
     "output_type": "stream",
     "text": [
      "Embedding extraction: 1it [00:00,  8.31it/s]\n",
      "FutureWarning: 'force_all_finite' was renamed to 'ensure_all_finite' in 1.6 and will be removed in 1.8.\n",
      "Processing frames:  65%|██████▌   | 390/599 [01:40<00:50,  4.10it/s]"
     ]
    },
    {
     "name": "stdout",
     "output_type": "stream",
     "text": [
      "\n",
      "0: 1280x1280 20 players, 3 referees, 68.6ms\n",
      "Speed: 7.8ms preprocess, 68.6ms inference, 1.0ms postprocess per image at shape (1, 3, 1280, 1280)\n"
     ]
    },
    {
     "name": "stderr",
     "output_type": "stream",
     "text": [
      "Embedding extraction: 1it [00:00,  8.26it/s]\n",
      "FutureWarning: 'force_all_finite' was renamed to 'ensure_all_finite' in 1.6 and will be removed in 1.8.\n",
      "Processing frames:  65%|██████▌   | 391/599 [01:40<00:50,  4.11it/s]"
     ]
    },
    {
     "name": "stdout",
     "output_type": "stream",
     "text": [
      "\n",
      "0: 1280x1280 20 players, 3 referees, 67.9ms\n",
      "Speed: 7.2ms preprocess, 67.9ms inference, 1.0ms postprocess per image at shape (1, 3, 1280, 1280)\n"
     ]
    },
    {
     "name": "stderr",
     "output_type": "stream",
     "text": [
      "Embedding extraction: 1it [00:00,  8.25it/s]\n",
      "FutureWarning: 'force_all_finite' was renamed to 'ensure_all_finite' in 1.6 and will be removed in 1.8.\n",
      "Processing frames:  65%|██████▌   | 392/599 [01:40<00:50,  4.13it/s]"
     ]
    },
    {
     "name": "stdout",
     "output_type": "stream",
     "text": [
      "\n",
      "0: 1280x1280 20 players, 2 referees, 68.6ms\n",
      "Speed: 7.3ms preprocess, 68.6ms inference, 1.5ms postprocess per image at shape (1, 3, 1280, 1280)\n"
     ]
    },
    {
     "name": "stderr",
     "output_type": "stream",
     "text": [
      "Embedding extraction: 1it [00:00,  8.13it/s]\n",
      "FutureWarning: 'force_all_finite' was renamed to 'ensure_all_finite' in 1.6 and will be removed in 1.8.\n",
      "Processing frames:  66%|██████▌   | 393/599 [01:41<00:50,  4.10it/s]"
     ]
    },
    {
     "name": "stdout",
     "output_type": "stream",
     "text": [
      "\n",
      "0: 1280x1280 20 players, 3 referees, 69.0ms\n",
      "Speed: 6.1ms preprocess, 69.0ms inference, 1.0ms postprocess per image at shape (1, 3, 1280, 1280)\n"
     ]
    },
    {
     "name": "stderr",
     "output_type": "stream",
     "text": [
      "Embedding extraction: 1it [00:00,  8.25it/s]\n",
      "FutureWarning: 'force_all_finite' was renamed to 'ensure_all_finite' in 1.6 and will be removed in 1.8.\n",
      "Processing frames:  66%|██████▌   | 394/599 [01:41<00:49,  4.12it/s]"
     ]
    },
    {
     "name": "stdout",
     "output_type": "stream",
     "text": [
      "\n",
      "0: 1280x1280 20 players, 3 referees, 69.1ms\n",
      "Speed: 6.2ms preprocess, 69.1ms inference, 1.1ms postprocess per image at shape (1, 3, 1280, 1280)\n"
     ]
    },
    {
     "name": "stderr",
     "output_type": "stream",
     "text": [
      "Embedding extraction: 1it [00:00,  8.26it/s]\n",
      "FutureWarning: 'force_all_finite' was renamed to 'ensure_all_finite' in 1.6 and will be removed in 1.8.\n",
      "Processing frames:  66%|██████▌   | 395/599 [01:41<00:49,  4.13it/s]"
     ]
    },
    {
     "name": "stdout",
     "output_type": "stream",
     "text": [
      "\n",
      "0: 1280x1280 20 players, 3 referees, 68.9ms\n",
      "Speed: 7.9ms preprocess, 68.9ms inference, 1.0ms postprocess per image at shape (1, 3, 1280, 1280)\n"
     ]
    },
    {
     "name": "stderr",
     "output_type": "stream",
     "text": [
      "Embedding extraction: 1it [00:00,  8.18it/s]\n",
      "FutureWarning: 'force_all_finite' was renamed to 'ensure_all_finite' in 1.6 and will be removed in 1.8.\n",
      "Processing frames:  66%|██████▌   | 396/599 [01:41<00:49,  4.13it/s]"
     ]
    },
    {
     "name": "stdout",
     "output_type": "stream",
     "text": [
      "\n",
      "0: 1280x1280 20 players, 3 referees, 68.6ms\n",
      "Speed: 6.3ms preprocess, 68.6ms inference, 1.0ms postprocess per image at shape (1, 3, 1280, 1280)\n"
     ]
    },
    {
     "name": "stderr",
     "output_type": "stream",
     "text": [
      "Embedding extraction: 1it [00:00,  8.16it/s]\n",
      "FutureWarning: 'force_all_finite' was renamed to 'ensure_all_finite' in 1.6 and will be removed in 1.8.\n",
      "Processing frames:  66%|██████▋   | 397/599 [01:42<00:48,  4.14it/s]"
     ]
    },
    {
     "name": "stdout",
     "output_type": "stream",
     "text": [
      "\n",
      "0: 1280x1280 20 players, 3 referees, 68.5ms\n",
      "Speed: 7.6ms preprocess, 68.5ms inference, 1.0ms postprocess per image at shape (1, 3, 1280, 1280)\n"
     ]
    },
    {
     "name": "stderr",
     "output_type": "stream",
     "text": [
      "Embedding extraction: 1it [00:00,  8.14it/s]\n",
      "FutureWarning: 'force_all_finite' was renamed to 'ensure_all_finite' in 1.6 and will be removed in 1.8.\n",
      "Processing frames:  66%|██████▋   | 398/599 [01:42<00:48,  4.15it/s]"
     ]
    },
    {
     "name": "stdout",
     "output_type": "stream",
     "text": [
      "\n",
      "0: 1280x1280 20 players, 3 referees, 68.7ms\n",
      "Speed: 6.2ms preprocess, 68.7ms inference, 0.9ms postprocess per image at shape (1, 3, 1280, 1280)\n"
     ]
    },
    {
     "name": "stderr",
     "output_type": "stream",
     "text": [
      "Embedding extraction: 1it [00:00,  8.19it/s]\n",
      "FutureWarning: 'force_all_finite' was renamed to 'ensure_all_finite' in 1.6 and will be removed in 1.8.\n",
      "Processing frames:  67%|██████▋   | 399/599 [01:42<00:48,  4.17it/s]"
     ]
    },
    {
     "name": "stdout",
     "output_type": "stream",
     "text": [
      "\n",
      "0: 1280x1280 1 ball, 20 players, 3 referees, 68.6ms\n",
      "Speed: 8.2ms preprocess, 68.6ms inference, 1.0ms postprocess per image at shape (1, 3, 1280, 1280)\n"
     ]
    },
    {
     "name": "stderr",
     "output_type": "stream",
     "text": [
      "Embedding extraction: 1it [00:00,  8.16it/s]\n",
      "FutureWarning: 'force_all_finite' was renamed to 'ensure_all_finite' in 1.6 and will be removed in 1.8.\n",
      "Processing frames:  67%|██████▋   | 400/599 [01:42<00:48,  4.14it/s]"
     ]
    },
    {
     "name": "stdout",
     "output_type": "stream",
     "text": [
      "\n",
      "0: 1280x1280 20 players, 3 referees, 68.8ms\n",
      "Speed: 6.2ms preprocess, 68.8ms inference, 1.0ms postprocess per image at shape (1, 3, 1280, 1280)\n"
     ]
    },
    {
     "name": "stderr",
     "output_type": "stream",
     "text": [
      "Embedding extraction: 1it [00:00,  8.19it/s]\n",
      "FutureWarning: 'force_all_finite' was renamed to 'ensure_all_finite' in 1.6 and will be removed in 1.8.\n",
      "Processing frames:  67%|██████▋   | 401/599 [01:42<00:47,  4.14it/s]"
     ]
    },
    {
     "name": "stdout",
     "output_type": "stream",
     "text": [
      "\n",
      "0: 1280x1280 20 players, 3 referees, 68.7ms\n",
      "Speed: 11.0ms preprocess, 68.7ms inference, 1.0ms postprocess per image at shape (1, 3, 1280, 1280)\n"
     ]
    },
    {
     "name": "stderr",
     "output_type": "stream",
     "text": [
      "Embedding extraction: 1it [00:00,  8.23it/s]\n",
      "FutureWarning: 'force_all_finite' was renamed to 'ensure_all_finite' in 1.6 and will be removed in 1.8.\n",
      "Processing frames:  67%|██████▋   | 402/599 [01:43<00:47,  4.13it/s]"
     ]
    },
    {
     "name": "stdout",
     "output_type": "stream",
     "text": [
      "\n",
      "0: 1280x1280 20 players, 3 referees, 69.0ms\n",
      "Speed: 6.2ms preprocess, 69.0ms inference, 1.0ms postprocess per image at shape (1, 3, 1280, 1280)\n"
     ]
    },
    {
     "name": "stderr",
     "output_type": "stream",
     "text": [
      "Embedding extraction: 1it [00:00,  8.25it/s]\n",
      "FutureWarning: 'force_all_finite' was renamed to 'ensure_all_finite' in 1.6 and will be removed in 1.8.\n",
      "Processing frames:  67%|██████▋   | 403/599 [01:43<00:47,  4.14it/s]"
     ]
    },
    {
     "name": "stdout",
     "output_type": "stream",
     "text": [
      "\n",
      "0: 1280x1280 20 players, 3 referees, 68.3ms\n",
      "Speed: 9.0ms preprocess, 68.3ms inference, 1.0ms postprocess per image at shape (1, 3, 1280, 1280)\n"
     ]
    },
    {
     "name": "stderr",
     "output_type": "stream",
     "text": [
      "Embedding extraction: 1it [00:00,  8.30it/s]\n",
      "FutureWarning: 'force_all_finite' was renamed to 'ensure_all_finite' in 1.6 and will be removed in 1.8.\n",
      "Processing frames:  67%|██████▋   | 404/599 [01:43<00:47,  4.14it/s]"
     ]
    },
    {
     "name": "stdout",
     "output_type": "stream",
     "text": [
      "\n",
      "0: 1280x1280 20 players, 4 referees, 68.4ms\n",
      "Speed: 6.1ms preprocess, 68.4ms inference, 1.0ms postprocess per image at shape (1, 3, 1280, 1280)\n"
     ]
    },
    {
     "name": "stderr",
     "output_type": "stream",
     "text": [
      "Embedding extraction: 1it [00:00,  8.23it/s]\n",
      "FutureWarning: 'force_all_finite' was renamed to 'ensure_all_finite' in 1.6 and will be removed in 1.8.\n",
      "Processing frames:  68%|██████▊   | 405/599 [01:43<00:46,  4.15it/s]"
     ]
    },
    {
     "name": "stdout",
     "output_type": "stream",
     "text": [
      "\n",
      "0: 1280x1280 20 players, 3 referees, 68.9ms\n",
      "Speed: 11.0ms preprocess, 68.9ms inference, 1.0ms postprocess per image at shape (1, 3, 1280, 1280)\n"
     ]
    },
    {
     "name": "stderr",
     "output_type": "stream",
     "text": [
      "Embedding extraction: 1it [00:00,  8.19it/s]\n",
      "FutureWarning: 'force_all_finite' was renamed to 'ensure_all_finite' in 1.6 and will be removed in 1.8.\n",
      "Processing frames:  68%|██████▊   | 406/599 [01:44<00:46,  4.12it/s]"
     ]
    },
    {
     "name": "stdout",
     "output_type": "stream",
     "text": [
      "\n",
      "0: 1280x1280 1 ball, 20 players, 3 referees, 69.0ms\n",
      "Speed: 6.2ms preprocess, 69.0ms inference, 1.0ms postprocess per image at shape (1, 3, 1280, 1280)\n"
     ]
    },
    {
     "name": "stderr",
     "output_type": "stream",
     "text": [
      "Embedding extraction: 1it [00:00,  7.99it/s]\n",
      "FutureWarning: 'force_all_finite' was renamed to 'ensure_all_finite' in 1.6 and will be removed in 1.8.\n",
      "Processing frames:  68%|██████▊   | 407/599 [01:44<00:46,  4.10it/s]"
     ]
    },
    {
     "name": "stdout",
     "output_type": "stream",
     "text": [
      "\n",
      "0: 1280x1280 20 players, 3 referees, 68.4ms\n",
      "Speed: 6.4ms preprocess, 68.4ms inference, 1.1ms postprocess per image at shape (1, 3, 1280, 1280)\n"
     ]
    },
    {
     "name": "stderr",
     "output_type": "stream",
     "text": [
      "Embedding extraction: 1it [00:00,  8.16it/s]\n",
      "FutureWarning: 'force_all_finite' was renamed to 'ensure_all_finite' in 1.6 and will be removed in 1.8.\n",
      "Processing frames:  68%|██████▊   | 408/599 [01:44<00:46,  4.09it/s]"
     ]
    },
    {
     "name": "stdout",
     "output_type": "stream",
     "text": [
      "\n",
      "0: 1280x1280 20 players, 3 referees, 68.7ms\n",
      "Speed: 6.2ms preprocess, 68.7ms inference, 1.0ms postprocess per image at shape (1, 3, 1280, 1280)\n"
     ]
    },
    {
     "name": "stderr",
     "output_type": "stream",
     "text": [
      "Embedding extraction: 1it [00:00,  8.22it/s]\n",
      "FutureWarning: 'force_all_finite' was renamed to 'ensure_all_finite' in 1.6 and will be removed in 1.8.\n",
      "Processing frames:  68%|██████▊   | 409/599 [01:44<00:46,  4.11it/s]"
     ]
    },
    {
     "name": "stdout",
     "output_type": "stream",
     "text": [
      "\n",
      "0: 1280x1280 1 ball, 20 players, 3 referees, 68.9ms\n",
      "Speed: 10.0ms preprocess, 68.9ms inference, 1.0ms postprocess per image at shape (1, 3, 1280, 1280)\n"
     ]
    },
    {
     "name": "stderr",
     "output_type": "stream",
     "text": [
      "Embedding extraction: 1it [00:00,  8.14it/s]\n",
      "FutureWarning: 'force_all_finite' was renamed to 'ensure_all_finite' in 1.6 and will be removed in 1.8.\n",
      "Processing frames:  68%|██████▊   | 410/599 [01:45<00:46,  4.11it/s]"
     ]
    },
    {
     "name": "stdout",
     "output_type": "stream",
     "text": [
      "\n",
      "0: 1280x1280 20 players, 3 referees, 69.0ms\n",
      "Speed: 8.1ms preprocess, 69.0ms inference, 1.0ms postprocess per image at shape (1, 3, 1280, 1280)\n"
     ]
    },
    {
     "name": "stderr",
     "output_type": "stream",
     "text": [
      "Embedding extraction: 1it [00:00,  8.20it/s]\n",
      "FutureWarning: 'force_all_finite' was renamed to 'ensure_all_finite' in 1.6 and will be removed in 1.8.\n",
      "Processing frames:  69%|██████▊   | 411/599 [01:45<00:45,  4.12it/s]"
     ]
    },
    {
     "name": "stdout",
     "output_type": "stream",
     "text": [
      "\n",
      "0: 1280x1280 1 ball, 20 players, 3 referees, 69.3ms\n",
      "Speed: 7.1ms preprocess, 69.3ms inference, 1.0ms postprocess per image at shape (1, 3, 1280, 1280)\n"
     ]
    },
    {
     "name": "stderr",
     "output_type": "stream",
     "text": [
      "Embedding extraction: 1it [00:00,  8.24it/s]\n",
      "FutureWarning: 'force_all_finite' was renamed to 'ensure_all_finite' in 1.6 and will be removed in 1.8.\n",
      "Processing frames:  69%|██████▉   | 412/599 [01:45<00:45,  4.13it/s]"
     ]
    },
    {
     "name": "stdout",
     "output_type": "stream",
     "text": [
      "\n",
      "0: 1280x1280 1 ball, 20 players, 2 referees, 68.6ms\n",
      "Speed: 10.0ms preprocess, 68.6ms inference, 1.0ms postprocess per image at shape (1, 3, 1280, 1280)\n"
     ]
    },
    {
     "name": "stderr",
     "output_type": "stream",
     "text": [
      "Embedding extraction: 1it [00:00,  8.14it/s]\n",
      "FutureWarning: 'force_all_finite' was renamed to 'ensure_all_finite' in 1.6 and will be removed in 1.8.\n",
      "Processing frames:  69%|██████▉   | 413/599 [01:45<00:45,  4.12it/s]"
     ]
    },
    {
     "name": "stdout",
     "output_type": "stream",
     "text": [
      "\n",
      "0: 1280x1280 20 players, 2 referees, 68.9ms\n",
      "Speed: 10.8ms preprocess, 68.9ms inference, 1.0ms postprocess per image at shape (1, 3, 1280, 1280)\n"
     ]
    },
    {
     "name": "stderr",
     "output_type": "stream",
     "text": [
      "Embedding extraction: 1it [00:00,  8.16it/s]\n",
      "FutureWarning: 'force_all_finite' was renamed to 'ensure_all_finite' in 1.6 and will be removed in 1.8.\n",
      "Processing frames:  69%|██████▉   | 414/599 [01:47<01:47,  1.73it/s]"
     ]
    },
    {
     "name": "stdout",
     "output_type": "stream",
     "text": [
      "Saved mini clip: app/test_data/predicted/actions/clip_005.mp4\n",
      "\n",
      "0: 1280x1280 1 ball, 20 players, 2 referees, 68.5ms\n",
      "Speed: 6.0ms preprocess, 68.5ms inference, 1.0ms postprocess per image at shape (1, 3, 1280, 1280)\n"
     ]
    },
    {
     "name": "stderr",
     "output_type": "stream",
     "text": [
      "Embedding extraction: 1it [00:00,  8.28it/s]\n",
      "FutureWarning: 'force_all_finite' was renamed to 'ensure_all_finite' in 1.6 and will be removed in 1.8.\n",
      "Processing frames:  69%|██████▉   | 415/599 [01:47<01:27,  2.09it/s]"
     ]
    },
    {
     "name": "stdout",
     "output_type": "stream",
     "text": [
      "\n",
      "0: 1280x1280 20 players, 2 referees, 68.8ms\n",
      "Speed: 6.4ms preprocess, 68.8ms inference, 2.3ms postprocess per image at shape (1, 3, 1280, 1280)\n"
     ]
    },
    {
     "name": "stderr",
     "output_type": "stream",
     "text": [
      "Embedding extraction: 1it [00:00,  8.25it/s]\n",
      "FutureWarning: 'force_all_finite' was renamed to 'ensure_all_finite' in 1.6 and will be removed in 1.8.\n",
      "Processing frames:  69%|██████▉   | 416/599 [01:47<01:14,  2.47it/s]"
     ]
    },
    {
     "name": "stdout",
     "output_type": "stream",
     "text": [
      "\n",
      "0: 1280x1280 1 ball, 20 players, 2 referees, 68.9ms\n",
      "Speed: 9.3ms preprocess, 68.9ms inference, 1.1ms postprocess per image at shape (1, 3, 1280, 1280)\n"
     ]
    },
    {
     "name": "stderr",
     "output_type": "stream",
     "text": [
      "Embedding extraction: 1it [00:00,  8.21it/s]\n",
      "FutureWarning: 'force_all_finite' was renamed to 'ensure_all_finite' in 1.6 and will be removed in 1.8.\n",
      "Processing frames:  70%|██████▉   | 417/599 [01:47<01:05,  2.80it/s]"
     ]
    },
    {
     "name": "stdout",
     "output_type": "stream",
     "text": [
      "\n",
      "0: 1280x1280 1 ball, 20 players, 2 referees, 68.5ms\n",
      "Speed: 6.2ms preprocess, 68.5ms inference, 1.0ms postprocess per image at shape (1, 3, 1280, 1280)\n"
     ]
    },
    {
     "name": "stderr",
     "output_type": "stream",
     "text": [
      "Embedding extraction: 1it [00:00,  8.22it/s]\n",
      "FutureWarning: 'force_all_finite' was renamed to 'ensure_all_finite' in 1.6 and will be removed in 1.8.\n",
      "Processing frames:  70%|██████▉   | 418/599 [01:48<00:58,  3.11it/s]"
     ]
    },
    {
     "name": "stdout",
     "output_type": "stream",
     "text": [
      "\n",
      "0: 1280x1280 20 players, 2 referees, 69.1ms\n",
      "Speed: 6.8ms preprocess, 69.1ms inference, 0.9ms postprocess per image at shape (1, 3, 1280, 1280)\n"
     ]
    },
    {
     "name": "stderr",
     "output_type": "stream",
     "text": [
      "Embedding extraction: 1it [00:00,  8.17it/s]\n",
      "FutureWarning: 'force_all_finite' was renamed to 'ensure_all_finite' in 1.6 and will be removed in 1.8.\n",
      "Processing frames:  70%|██████▉   | 419/599 [01:48<00:53,  3.36it/s]"
     ]
    },
    {
     "name": "stdout",
     "output_type": "stream",
     "text": [
      "\n",
      "0: 1280x1280 1 ball, 20 players, 3 referees, 68.5ms\n",
      "Speed: 6.0ms preprocess, 68.5ms inference, 1.0ms postprocess per image at shape (1, 3, 1280, 1280)\n"
     ]
    },
    {
     "name": "stderr",
     "output_type": "stream",
     "text": [
      "Embedding extraction: 1it [00:00,  8.24it/s]\n",
      "FutureWarning: 'force_all_finite' was renamed to 'ensure_all_finite' in 1.6 and will be removed in 1.8.\n",
      "Processing frames:  70%|███████   | 420/599 [01:48<00:50,  3.57it/s]"
     ]
    },
    {
     "name": "stdout",
     "output_type": "stream",
     "text": [
      "\n",
      "0: 1280x1280 20 players, 2 referees, 68.4ms\n",
      "Speed: 7.8ms preprocess, 68.4ms inference, 1.0ms postprocess per image at shape (1, 3, 1280, 1280)\n"
     ]
    },
    {
     "name": "stderr",
     "output_type": "stream",
     "text": [
      "Embedding extraction: 1it [00:00,  8.23it/s]\n",
      "FutureWarning: 'force_all_finite' was renamed to 'ensure_all_finite' in 1.6 and will be removed in 1.8.\n",
      "Processing frames:  70%|███████   | 421/599 [01:48<00:47,  3.72it/s]"
     ]
    },
    {
     "name": "stdout",
     "output_type": "stream",
     "text": [
      "\n",
      "0: 1280x1280 1 ball, 20 players, 2 referees, 68.9ms\n",
      "Speed: 10.9ms preprocess, 68.9ms inference, 1.0ms postprocess per image at shape (1, 3, 1280, 1280)\n"
     ]
    },
    {
     "name": "stderr",
     "output_type": "stream",
     "text": [
      "Embedding extraction: 1it [00:00,  8.25it/s]\n",
      "FutureWarning: 'force_all_finite' was renamed to 'ensure_all_finite' in 1.6 and will be removed in 1.8.\n",
      "Processing frames:  70%|███████   | 422/599 [01:49<00:46,  3.81it/s]"
     ]
    },
    {
     "name": "stdout",
     "output_type": "stream",
     "text": [
      "\n",
      "0: 1280x1280 20 players, 2 referees, 68.5ms\n",
      "Speed: 9.2ms preprocess, 68.5ms inference, 1.0ms postprocess per image at shape (1, 3, 1280, 1280)\n"
     ]
    },
    {
     "name": "stderr",
     "output_type": "stream",
     "text": [
      "Embedding extraction: 1it [00:00,  8.13it/s]\n",
      "FutureWarning: 'force_all_finite' was renamed to 'ensure_all_finite' in 1.6 and will be removed in 1.8.\n",
      "Processing frames:  71%|███████   | 423/599 [01:49<00:45,  3.86it/s]"
     ]
    },
    {
     "name": "stdout",
     "output_type": "stream",
     "text": [
      "\n",
      "0: 1280x1280 1 ball, 20 players, 2 referees, 68.0ms\n",
      "Speed: 7.4ms preprocess, 68.0ms inference, 1.0ms postprocess per image at shape (1, 3, 1280, 1280)\n"
     ]
    },
    {
     "name": "stderr",
     "output_type": "stream",
     "text": [
      "Embedding extraction: 1it [00:00,  8.16it/s]\n",
      "FutureWarning: 'force_all_finite' was renamed to 'ensure_all_finite' in 1.6 and will be removed in 1.8.\n",
      "Processing frames:  71%|███████   | 424/599 [01:49<00:44,  3.94it/s]"
     ]
    },
    {
     "name": "stdout",
     "output_type": "stream",
     "text": [
      "\n",
      "0: 1280x1280 20 players, 2 referees, 68.1ms\n",
      "Speed: 6.2ms preprocess, 68.1ms inference, 1.1ms postprocess per image at shape (1, 3, 1280, 1280)\n"
     ]
    },
    {
     "name": "stderr",
     "output_type": "stream",
     "text": [
      "Embedding extraction: 1it [00:00,  8.28it/s]\n",
      "FutureWarning: 'force_all_finite' was renamed to 'ensure_all_finite' in 1.6 and will be removed in 1.8.\n",
      "Processing frames:  71%|███████   | 425/599 [01:49<00:43,  4.02it/s]"
     ]
    },
    {
     "name": "stdout",
     "output_type": "stream",
     "text": [
      "\n",
      "0: 1280x1280 1 ball, 20 players, 3 referees, 68.5ms\n",
      "Speed: 6.4ms preprocess, 68.5ms inference, 1.0ms postprocess per image at shape (1, 3, 1280, 1280)\n"
     ]
    },
    {
     "name": "stderr",
     "output_type": "stream",
     "text": [
      "Embedding extraction: 1it [00:00,  8.14it/s]\n",
      "FutureWarning: 'force_all_finite' was renamed to 'ensure_all_finite' in 1.6 and will be removed in 1.8.\n",
      "Processing frames:  71%|███████   | 426/599 [01:50<00:42,  4.04it/s]"
     ]
    },
    {
     "name": "stdout",
     "output_type": "stream",
     "text": [
      "\n",
      "0: 1280x1280 1 ball, 20 players, 3 referees, 68.8ms\n",
      "Speed: 6.5ms preprocess, 68.8ms inference, 1.3ms postprocess per image at shape (1, 3, 1280, 1280)\n"
     ]
    },
    {
     "name": "stderr",
     "output_type": "stream",
     "text": [
      "Embedding extraction: 1it [00:00,  8.23it/s]\n",
      "FutureWarning: 'force_all_finite' was renamed to 'ensure_all_finite' in 1.6 and will be removed in 1.8.\n",
      "Processing frames:  71%|███████▏  | 427/599 [01:50<00:42,  4.07it/s]"
     ]
    },
    {
     "name": "stdout",
     "output_type": "stream",
     "text": [
      "\n",
      "0: 1280x1280 1 ball, 21 players, 3 referees, 69.4ms\n",
      "Speed: 8.2ms preprocess, 69.4ms inference, 1.0ms postprocess per image at shape (1, 3, 1280, 1280)\n"
     ]
    },
    {
     "name": "stderr",
     "output_type": "stream",
     "text": [
      "Embedding extraction: 1it [00:00,  8.22it/s]\n",
      "FutureWarning: 'force_all_finite' was renamed to 'ensure_all_finite' in 1.6 and will be removed in 1.8.\n",
      "Processing frames:  71%|███████▏  | 428/599 [01:50<00:41,  4.09it/s]"
     ]
    },
    {
     "name": "stdout",
     "output_type": "stream",
     "text": [
      "\n",
      "0: 1280x1280 1 ball, 20 players, 3 referees, 69.3ms\n",
      "Speed: 6.1ms preprocess, 69.3ms inference, 1.0ms postprocess per image at shape (1, 3, 1280, 1280)\n"
     ]
    },
    {
     "name": "stderr",
     "output_type": "stream",
     "text": [
      "Embedding extraction: 1it [00:00,  8.13it/s]\n",
      "FutureWarning: 'force_all_finite' was renamed to 'ensure_all_finite' in 1.6 and will be removed in 1.8.\n",
      "Processing frames:  72%|███████▏  | 429/599 [01:50<00:41,  4.11it/s]"
     ]
    },
    {
     "name": "stdout",
     "output_type": "stream",
     "text": [
      "\n",
      "0: 1280x1280 1 ball, 20 players, 3 referees, 68.6ms\n",
      "Speed: 11.1ms preprocess, 68.6ms inference, 1.1ms postprocess per image at shape (1, 3, 1280, 1280)\n"
     ]
    },
    {
     "name": "stderr",
     "output_type": "stream",
     "text": [
      "Embedding extraction: 1it [00:00,  8.16it/s]\n",
      "FutureWarning: 'force_all_finite' was renamed to 'ensure_all_finite' in 1.6 and will be removed in 1.8.\n",
      "Processing frames:  72%|███████▏  | 430/599 [01:51<00:41,  4.09it/s]"
     ]
    },
    {
     "name": "stdout",
     "output_type": "stream",
     "text": [
      "\n",
      "0: 1280x1280 1 ball, 20 players, 3 referees, 68.6ms\n",
      "Speed: 9.5ms preprocess, 68.6ms inference, 1.0ms postprocess per image at shape (1, 3, 1280, 1280)\n"
     ]
    },
    {
     "name": "stderr",
     "output_type": "stream",
     "text": [
      "Embedding extraction: 1it [00:00,  8.17it/s]\n",
      "FutureWarning: 'force_all_finite' was renamed to 'ensure_all_finite' in 1.6 and will be removed in 1.8.\n",
      "Processing frames:  72%|███████▏  | 431/599 [01:51<00:41,  4.09it/s]"
     ]
    },
    {
     "name": "stdout",
     "output_type": "stream",
     "text": [
      "\n",
      "0: 1280x1280 1 ball, 20 players, 3 referees, 68.7ms\n",
      "Speed: 6.0ms preprocess, 68.7ms inference, 1.0ms postprocess per image at shape (1, 3, 1280, 1280)\n"
     ]
    },
    {
     "name": "stderr",
     "output_type": "stream",
     "text": [
      "Embedding extraction: 1it [00:00,  8.26it/s]\n",
      "FutureWarning: 'force_all_finite' was renamed to 'ensure_all_finite' in 1.6 and will be removed in 1.8.\n",
      "Processing frames:  72%|███████▏  | 432/599 [01:51<00:40,  4.12it/s]"
     ]
    },
    {
     "name": "stdout",
     "output_type": "stream",
     "text": [
      "\n",
      "0: 1280x1280 20 players, 3 referees, 68.7ms\n",
      "Speed: 6.1ms preprocess, 68.7ms inference, 1.0ms postprocess per image at shape (1, 3, 1280, 1280)\n"
     ]
    },
    {
     "name": "stderr",
     "output_type": "stream",
     "text": [
      "Embedding extraction: 1it [00:00,  8.07it/s]\n",
      "FutureWarning: 'force_all_finite' was renamed to 'ensure_all_finite' in 1.6 and will be removed in 1.8.\n",
      "Processing frames:  72%|███████▏  | 433/599 [01:51<00:40,  4.13it/s]"
     ]
    },
    {
     "name": "stdout",
     "output_type": "stream",
     "text": [
      "\n",
      "0: 1280x1280 1 ball, 20 players, 3 referees, 69.1ms\n",
      "Speed: 10.9ms preprocess, 69.1ms inference, 1.0ms postprocess per image at shape (1, 3, 1280, 1280)\n"
     ]
    },
    {
     "name": "stderr",
     "output_type": "stream",
     "text": [
      "Embedding extraction: 1it [00:00,  8.25it/s]\n",
      "FutureWarning: 'force_all_finite' was renamed to 'ensure_all_finite' in 1.6 and will be removed in 1.8.\n",
      "Processing frames:  72%|███████▏  | 434/599 [01:52<00:40,  4.10it/s]"
     ]
    },
    {
     "name": "stdout",
     "output_type": "stream",
     "text": [
      "\n",
      "0: 1280x1280 1 ball, 20 players, 3 referees, 68.7ms\n",
      "Speed: 8.5ms preprocess, 68.7ms inference, 1.0ms postprocess per image at shape (1, 3, 1280, 1280)\n"
     ]
    },
    {
     "name": "stderr",
     "output_type": "stream",
     "text": [
      "Embedding extraction: 1it [00:00,  8.16it/s]\n",
      "FutureWarning: 'force_all_finite' was renamed to 'ensure_all_finite' in 1.6 and will be removed in 1.8.\n",
      "Processing frames:  73%|███████▎  | 435/599 [01:52<00:40,  4.10it/s]"
     ]
    },
    {
     "name": "stdout",
     "output_type": "stream",
     "text": [
      "\n",
      "0: 1280x1280 1 ball, 20 players, 3 referees, 69.0ms\n",
      "Speed: 8.3ms preprocess, 69.0ms inference, 1.0ms postprocess per image at shape (1, 3, 1280, 1280)\n"
     ]
    },
    {
     "name": "stderr",
     "output_type": "stream",
     "text": [
      "Embedding extraction: 1it [00:00,  8.16it/s]\n",
      "FutureWarning: 'force_all_finite' was renamed to 'ensure_all_finite' in 1.6 and will be removed in 1.8.\n",
      "Processing frames:  73%|███████▎  | 436/599 [01:52<00:39,  4.09it/s]"
     ]
    },
    {
     "name": "stdout",
     "output_type": "stream",
     "text": [
      "\n",
      "0: 1280x1280 20 players, 3 referees, 69.3ms\n",
      "Speed: 6.0ms preprocess, 69.3ms inference, 1.0ms postprocess per image at shape (1, 3, 1280, 1280)\n"
     ]
    },
    {
     "name": "stderr",
     "output_type": "stream",
     "text": [
      "Embedding extraction: 1it [00:00,  8.09it/s]\n",
      "FutureWarning: 'force_all_finite' was renamed to 'ensure_all_finite' in 1.6 and will be removed in 1.8.\n",
      "Processing frames:  73%|███████▎  | 437/599 [01:52<00:39,  4.10it/s]"
     ]
    },
    {
     "name": "stdout",
     "output_type": "stream",
     "text": [
      "\n",
      "0: 1280x1280 1 ball, 20 players, 3 referees, 68.6ms\n",
      "Speed: 11.0ms preprocess, 68.6ms inference, 1.0ms postprocess per image at shape (1, 3, 1280, 1280)\n"
     ]
    },
    {
     "name": "stderr",
     "output_type": "stream",
     "text": [
      "Embedding extraction: 1it [00:00,  8.01it/s]\n",
      "FutureWarning: 'force_all_finite' was renamed to 'ensure_all_finite' in 1.6 and will be removed in 1.8.\n",
      "Processing frames:  73%|███████▎  | 438/599 [01:53<00:39,  4.07it/s]"
     ]
    },
    {
     "name": "stdout",
     "output_type": "stream",
     "text": [
      "\n",
      "0: 1280x1280 1 ball, 20 players, 3 referees, 68.8ms\n",
      "Speed: 9.3ms preprocess, 68.8ms inference, 1.0ms postprocess per image at shape (1, 3, 1280, 1280)\n"
     ]
    },
    {
     "name": "stderr",
     "output_type": "stream",
     "text": [
      "Embedding extraction: 1it [00:00,  8.16it/s]\n",
      "FutureWarning: 'force_all_finite' was renamed to 'ensure_all_finite' in 1.6 and will be removed in 1.8.\n",
      "Processing frames:  73%|███████▎  | 439/599 [01:53<00:39,  4.08it/s]"
     ]
    },
    {
     "name": "stdout",
     "output_type": "stream",
     "text": [
      "\n",
      "0: 1280x1280 1 ball, 20 players, 3 referees, 69.1ms\n",
      "Speed: 7.9ms preprocess, 69.1ms inference, 1.0ms postprocess per image at shape (1, 3, 1280, 1280)\n"
     ]
    },
    {
     "name": "stderr",
     "output_type": "stream",
     "text": [
      "Embedding extraction: 1it [00:00,  8.18it/s]\n",
      "FutureWarning: 'force_all_finite' was renamed to 'ensure_all_finite' in 1.6 and will be removed in 1.8.\n",
      "Processing frames:  73%|███████▎  | 440/599 [01:53<00:38,  4.09it/s]"
     ]
    },
    {
     "name": "stdout",
     "output_type": "stream",
     "text": [
      "\n",
      "0: 1280x1280 1 ball, 21 players, 3 referees, 69.0ms\n",
      "Speed: 6.1ms preprocess, 69.0ms inference, 1.0ms postprocess per image at shape (1, 3, 1280, 1280)\n"
     ]
    },
    {
     "name": "stderr",
     "output_type": "stream",
     "text": [
      "Embedding extraction: 1it [00:00,  8.23it/s]\n",
      "FutureWarning: 'force_all_finite' was renamed to 'ensure_all_finite' in 1.6 and will be removed in 1.8.\n",
      "Processing frames:  74%|███████▎  | 441/599 [01:53<00:38,  4.09it/s]"
     ]
    },
    {
     "name": "stdout",
     "output_type": "stream",
     "text": [
      "\n",
      "0: 1280x1280 1 ball, 20 players, 3 referees, 68.3ms\n",
      "Speed: 6.1ms preprocess, 68.3ms inference, 1.0ms postprocess per image at shape (1, 3, 1280, 1280)\n"
     ]
    },
    {
     "name": "stderr",
     "output_type": "stream",
     "text": [
      "Embedding extraction: 1it [00:00,  8.19it/s]\n",
      "FutureWarning: 'force_all_finite' was renamed to 'ensure_all_finite' in 1.6 and will be removed in 1.8.\n",
      "Processing frames:  74%|███████▍  | 442/599 [01:54<00:38,  4.11it/s]"
     ]
    },
    {
     "name": "stdout",
     "output_type": "stream",
     "text": [
      "\n",
      "0: 1280x1280 1 ball, 20 players, 3 referees, 68.3ms\n",
      "Speed: 6.1ms preprocess, 68.3ms inference, 1.0ms postprocess per image at shape (1, 3, 1280, 1280)\n"
     ]
    },
    {
     "name": "stderr",
     "output_type": "stream",
     "text": [
      "Embedding extraction: 1it [00:00,  8.24it/s]\n",
      "FutureWarning: 'force_all_finite' was renamed to 'ensure_all_finite' in 1.6 and will be removed in 1.8.\n",
      "Processing frames:  74%|███████▍  | 443/599 [01:54<00:37,  4.14it/s]"
     ]
    },
    {
     "name": "stdout",
     "output_type": "stream",
     "text": [
      "\n",
      "0: 1280x1280 1 ball, 20 players, 3 referees, 68.5ms\n",
      "Speed: 8.2ms preprocess, 68.5ms inference, 1.0ms postprocess per image at shape (1, 3, 1280, 1280)\n"
     ]
    },
    {
     "name": "stderr",
     "output_type": "stream",
     "text": [
      "Embedding extraction: 1it [00:00,  8.20it/s]\n",
      "FutureWarning: 'force_all_finite' was renamed to 'ensure_all_finite' in 1.6 and will be removed in 1.8.\n",
      "Processing frames:  74%|███████▍  | 444/599 [01:54<00:37,  4.12it/s]"
     ]
    },
    {
     "name": "stdout",
     "output_type": "stream",
     "text": [
      "\n",
      "0: 1280x1280 1 ball, 20 players, 3 referees, 69.2ms\n",
      "Speed: 6.1ms preprocess, 69.2ms inference, 1.3ms postprocess per image at shape (1, 3, 1280, 1280)\n"
     ]
    },
    {
     "name": "stderr",
     "output_type": "stream",
     "text": [
      "Embedding extraction: 1it [00:00,  8.19it/s]\n",
      "FutureWarning: 'force_all_finite' was renamed to 'ensure_all_finite' in 1.6 and will be removed in 1.8.\n",
      "Processing frames:  74%|███████▍  | 445/599 [01:54<00:37,  4.12it/s]"
     ]
    },
    {
     "name": "stdout",
     "output_type": "stream",
     "text": [
      "\n",
      "0: 1280x1280 1 ball, 20 players, 3 referees, 68.9ms\n",
      "Speed: 6.3ms preprocess, 68.9ms inference, 1.0ms postprocess per image at shape (1, 3, 1280, 1280)\n"
     ]
    },
    {
     "name": "stderr",
     "output_type": "stream",
     "text": [
      "Embedding extraction: 1it [00:00,  8.09it/s]\n",
      "FutureWarning: 'force_all_finite' was renamed to 'ensure_all_finite' in 1.6 and will be removed in 1.8.\n",
      "Processing frames:  74%|███████▍  | 446/599 [01:55<00:37,  4.12it/s]"
     ]
    },
    {
     "name": "stdout",
     "output_type": "stream",
     "text": [
      "\n",
      "0: 1280x1280 1 ball, 20 players, 3 referees, 69.0ms\n",
      "Speed: 6.2ms preprocess, 69.0ms inference, 1.0ms postprocess per image at shape (1, 3, 1280, 1280)\n"
     ]
    },
    {
     "name": "stderr",
     "output_type": "stream",
     "text": [
      "Embedding extraction: 1it [00:00,  8.12it/s]\n",
      "FutureWarning: 'force_all_finite' was renamed to 'ensure_all_finite' in 1.6 and will be removed in 1.8.\n",
      "Processing frames:  75%|███████▍  | 447/599 [01:55<00:36,  4.12it/s]"
     ]
    },
    {
     "name": "stdout",
     "output_type": "stream",
     "text": [
      "\n",
      "0: 1280x1280 20 players, 3 referees, 69.0ms\n",
      "Speed: 8.1ms preprocess, 69.0ms inference, 1.0ms postprocess per image at shape (1, 3, 1280, 1280)\n"
     ]
    },
    {
     "name": "stderr",
     "output_type": "stream",
     "text": [
      "Embedding extraction: 1it [00:00,  8.14it/s]\n",
      "FutureWarning: 'force_all_finite' was renamed to 'ensure_all_finite' in 1.6 and will be removed in 1.8.\n",
      "Processing frames:  75%|███████▍  | 448/599 [01:55<00:36,  4.12it/s]"
     ]
    },
    {
     "name": "stdout",
     "output_type": "stream",
     "text": [
      "\n",
      "0: 1280x1280 20 players, 3 referees, 69.1ms\n",
      "Speed: 6.2ms preprocess, 69.1ms inference, 1.0ms postprocess per image at shape (1, 3, 1280, 1280)\n"
     ]
    },
    {
     "name": "stderr",
     "output_type": "stream",
     "text": [
      "Embedding extraction: 1it [00:00,  8.13it/s]\n",
      "FutureWarning: 'force_all_finite' was renamed to 'ensure_all_finite' in 1.6 and will be removed in 1.8.\n",
      "Processing frames:  75%|███████▍  | 449/599 [01:55<00:36,  4.11it/s]"
     ]
    },
    {
     "name": "stdout",
     "output_type": "stream",
     "text": [
      "\n",
      "0: 1280x1280 20 players, 3 referees, 68.6ms\n",
      "Speed: 8.6ms preprocess, 68.6ms inference, 1.0ms postprocess per image at shape (1, 3, 1280, 1280)\n"
     ]
    },
    {
     "name": "stderr",
     "output_type": "stream",
     "text": [
      "Embedding extraction: 1it [00:00,  8.20it/s]\n",
      "FutureWarning: 'force_all_finite' was renamed to 'ensure_all_finite' in 1.6 and will be removed in 1.8.\n",
      "Processing frames:  75%|███████▌  | 450/599 [01:55<00:36,  4.13it/s]"
     ]
    },
    {
     "name": "stdout",
     "output_type": "stream",
     "text": [
      "\n",
      "0: 1280x1280 1 ball, 20 players, 3 referees, 69.1ms\n",
      "Speed: 9.4ms preprocess, 69.1ms inference, 1.0ms postprocess per image at shape (1, 3, 1280, 1280)\n"
     ]
    },
    {
     "name": "stderr",
     "output_type": "stream",
     "text": [
      "Embedding extraction: 1it [00:00,  8.21it/s]\n",
      "FutureWarning: 'force_all_finite' was renamed to 'ensure_all_finite' in 1.6 and will be removed in 1.8.\n",
      "Processing frames:  75%|███████▌  | 451/599 [01:56<00:35,  4.12it/s]"
     ]
    },
    {
     "name": "stdout",
     "output_type": "stream",
     "text": [
      "\n",
      "0: 1280x1280 1 ball, 20 players, 3 referees, 69.5ms\n",
      "Speed: 6.3ms preprocess, 69.5ms inference, 1.0ms postprocess per image at shape (1, 3, 1280, 1280)\n"
     ]
    },
    {
     "name": "stderr",
     "output_type": "stream",
     "text": [
      "Embedding extraction: 1it [00:00,  8.19it/s]\n",
      "FutureWarning: 'force_all_finite' was renamed to 'ensure_all_finite' in 1.6 and will be removed in 1.8.\n",
      "Processing frames:  75%|███████▌  | 452/599 [01:56<00:35,  4.12it/s]"
     ]
    },
    {
     "name": "stdout",
     "output_type": "stream",
     "text": [
      "\n",
      "0: 1280x1280 1 ball, 20 players, 3 referees, 69.3ms\n",
      "Speed: 6.3ms preprocess, 69.3ms inference, 1.0ms postprocess per image at shape (1, 3, 1280, 1280)\n"
     ]
    },
    {
     "name": "stderr",
     "output_type": "stream",
     "text": [
      "Embedding extraction: 1it [00:00,  8.06it/s]\n",
      "FutureWarning: 'force_all_finite' was renamed to 'ensure_all_finite' in 1.6 and will be removed in 1.8.\n",
      "Processing frames:  76%|███████▌  | 453/599 [01:56<00:35,  4.11it/s]"
     ]
    },
    {
     "name": "stdout",
     "output_type": "stream",
     "text": [
      "\n",
      "0: 1280x1280 1 ball, 20 players, 3 referees, 68.9ms\n",
      "Speed: 10.7ms preprocess, 68.9ms inference, 1.0ms postprocess per image at shape (1, 3, 1280, 1280)\n"
     ]
    },
    {
     "name": "stderr",
     "output_type": "stream",
     "text": [
      "Embedding extraction: 1it [00:00,  8.15it/s]\n",
      "FutureWarning: 'force_all_finite' was renamed to 'ensure_all_finite' in 1.6 and will be removed in 1.8.\n",
      "Processing frames:  76%|███████▌  | 454/599 [01:56<00:35,  4.10it/s]"
     ]
    },
    {
     "name": "stdout",
     "output_type": "stream",
     "text": [
      "\n",
      "0: 1280x1280 20 players, 3 referees, 68.8ms\n",
      "Speed: 6.0ms preprocess, 68.8ms inference, 1.0ms postprocess per image at shape (1, 3, 1280, 1280)\n"
     ]
    },
    {
     "name": "stderr",
     "output_type": "stream",
     "text": [
      "Embedding extraction: 1it [00:00,  8.21it/s]\n",
      "FutureWarning: 'force_all_finite' was renamed to 'ensure_all_finite' in 1.6 and will be removed in 1.8.\n",
      "Processing frames:  76%|███████▌  | 455/599 [01:57<00:34,  4.12it/s]"
     ]
    },
    {
     "name": "stdout",
     "output_type": "stream",
     "text": [
      "\n",
      "0: 1280x1280 1 ball, 20 players, 3 referees, 69.1ms\n",
      "Speed: 6.3ms preprocess, 69.1ms inference, 1.0ms postprocess per image at shape (1, 3, 1280, 1280)\n"
     ]
    },
    {
     "name": "stderr",
     "output_type": "stream",
     "text": [
      "Embedding extraction: 1it [00:00,  8.24it/s]\n",
      "FutureWarning: 'force_all_finite' was renamed to 'ensure_all_finite' in 1.6 and will be removed in 1.8.\n",
      "Processing frames:  76%|███████▌  | 456/599 [01:57<00:34,  4.13it/s]"
     ]
    },
    {
     "name": "stdout",
     "output_type": "stream",
     "text": [
      "\n",
      "0: 1280x1280 1 ball, 21 players, 3 referees, 69.2ms\n",
      "Speed: 6.1ms preprocess, 69.2ms inference, 1.1ms postprocess per image at shape (1, 3, 1280, 1280)\n"
     ]
    },
    {
     "name": "stderr",
     "output_type": "stream",
     "text": [
      "Embedding extraction: 1it [00:00,  8.22it/s]\n",
      "FutureWarning: 'force_all_finite' was renamed to 'ensure_all_finite' in 1.6 and will be removed in 1.8.\n",
      "Processing frames:  76%|███████▋  | 457/599 [01:57<00:34,  4.15it/s]"
     ]
    },
    {
     "name": "stdout",
     "output_type": "stream",
     "text": [
      "\n",
      "0: 1280x1280 1 ball, 20 players, 3 referees, 68.5ms\n",
      "Speed: 9.4ms preprocess, 68.5ms inference, 1.0ms postprocess per image at shape (1, 3, 1280, 1280)\n"
     ]
    },
    {
     "name": "stderr",
     "output_type": "stream",
     "text": [
      "Embedding extraction: 1it [00:00,  8.22it/s]\n",
      "FutureWarning: 'force_all_finite' was renamed to 'ensure_all_finite' in 1.6 and will be removed in 1.8.\n",
      "Processing frames:  76%|███████▋  | 458/599 [01:57<00:34,  4.13it/s]"
     ]
    },
    {
     "name": "stdout",
     "output_type": "stream",
     "text": [
      "\n",
      "0: 1280x1280 1 ball, 22 players, 3 referees, 69.3ms\n",
      "Speed: 9.0ms preprocess, 69.3ms inference, 1.0ms postprocess per image at shape (1, 3, 1280, 1280)\n"
     ]
    },
    {
     "name": "stderr",
     "output_type": "stream",
     "text": [
      "Embedding extraction: 1it [00:00,  8.13it/s]\n",
      "FutureWarning: 'force_all_finite' was renamed to 'ensure_all_finite' in 1.6 and will be removed in 1.8.\n",
      "Processing frames:  77%|███████▋  | 459/599 [01:58<00:34,  4.12it/s]"
     ]
    },
    {
     "name": "stdout",
     "output_type": "stream",
     "text": [
      "\n",
      "0: 1280x1280 1 ball, 21 players, 3 referees, 69.3ms\n",
      "Speed: 6.2ms preprocess, 69.3ms inference, 1.0ms postprocess per image at shape (1, 3, 1280, 1280)\n"
     ]
    },
    {
     "name": "stderr",
     "output_type": "stream",
     "text": [
      "Embedding extraction: 1it [00:00,  7.91it/s]\n",
      "FutureWarning: 'force_all_finite' was renamed to 'ensure_all_finite' in 1.6 and will be removed in 1.8.\n",
      "Processing frames:  77%|███████▋  | 460/599 [01:58<00:33,  4.09it/s]"
     ]
    },
    {
     "name": "stdout",
     "output_type": "stream",
     "text": [
      "\n",
      "0: 1280x1280 1 ball, 20 players, 3 referees, 68.9ms\n",
      "Speed: 6.1ms preprocess, 68.9ms inference, 1.0ms postprocess per image at shape (1, 3, 1280, 1280)\n"
     ]
    },
    {
     "name": "stderr",
     "output_type": "stream",
     "text": [
      "Embedding extraction: 1it [00:00,  8.13it/s]\n",
      "FutureWarning: 'force_all_finite' was renamed to 'ensure_all_finite' in 1.6 and will be removed in 1.8.\n",
      "Processing frames:  77%|███████▋  | 461/599 [01:58<00:33,  4.11it/s]"
     ]
    },
    {
     "name": "stdout",
     "output_type": "stream",
     "text": [
      "\n",
      "0: 1280x1280 2 balls, 20 players, 3 referees, 69.1ms\n",
      "Speed: 6.2ms preprocess, 69.1ms inference, 1.0ms postprocess per image at shape (1, 3, 1280, 1280)\n"
     ]
    },
    {
     "name": "stderr",
     "output_type": "stream",
     "text": [
      "Embedding extraction: 1it [00:00,  8.19it/s]\n",
      "FutureWarning: 'force_all_finite' was renamed to 'ensure_all_finite' in 1.6 and will be removed in 1.8.\n",
      "Processing frames:  77%|███████▋  | 462/599 [01:58<00:33,  4.12it/s]"
     ]
    },
    {
     "name": "stdout",
     "output_type": "stream",
     "text": [
      "\n",
      "0: 1280x1280 1 ball, 20 players, 3 referees, 68.7ms\n",
      "Speed: 8.7ms preprocess, 68.7ms inference, 1.2ms postprocess per image at shape (1, 3, 1280, 1280)\n"
     ]
    },
    {
     "name": "stderr",
     "output_type": "stream",
     "text": [
      "Embedding extraction: 1it [00:00,  8.19it/s]\n",
      "FutureWarning: 'force_all_finite' was renamed to 'ensure_all_finite' in 1.6 and will be removed in 1.8.\n",
      "Processing frames:  77%|███████▋  | 463/599 [01:59<00:33,  4.12it/s]"
     ]
    },
    {
     "name": "stdout",
     "output_type": "stream",
     "text": [
      "\n",
      "0: 1280x1280 1 ball, 20 players, 3 referees, 68.4ms\n",
      "Speed: 8.7ms preprocess, 68.4ms inference, 1.0ms postprocess per image at shape (1, 3, 1280, 1280)\n"
     ]
    },
    {
     "name": "stderr",
     "output_type": "stream",
     "text": [
      "Embedding extraction: 1it [00:00,  8.29it/s]\n",
      "FutureWarning: 'force_all_finite' was renamed to 'ensure_all_finite' in 1.6 and will be removed in 1.8.\n",
      "Processing frames:  77%|███████▋  | 464/599 [01:59<00:32,  4.13it/s]"
     ]
    },
    {
     "name": "stdout",
     "output_type": "stream",
     "text": [
      "\n",
      "0: 1280x1280 20 players, 3 referees, 69.1ms\n",
      "Speed: 6.0ms preprocess, 69.1ms inference, 1.0ms postprocess per image at shape (1, 3, 1280, 1280)\n"
     ]
    },
    {
     "name": "stderr",
     "output_type": "stream",
     "text": [
      "Embedding extraction: 1it [00:00,  8.26it/s]\n",
      "FutureWarning: 'force_all_finite' was renamed to 'ensure_all_finite' in 1.6 and will be removed in 1.8.\n",
      "Processing frames:  78%|███████▊  | 465/599 [01:59<00:32,  4.16it/s]"
     ]
    },
    {
     "name": "stdout",
     "output_type": "stream",
     "text": [
      "\n",
      "0: 1280x1280 21 players, 3 referees, 69.3ms\n",
      "Speed: 6.1ms preprocess, 69.3ms inference, 1.0ms postprocess per image at shape (1, 3, 1280, 1280)\n"
     ]
    },
    {
     "name": "stderr",
     "output_type": "stream",
     "text": [
      "Embedding extraction: 1it [00:00,  8.16it/s]\n",
      "FutureWarning: 'force_all_finite' was renamed to 'ensure_all_finite' in 1.6 and will be removed in 1.8.\n",
      "Processing frames:  78%|███████▊  | 466/599 [01:59<00:31,  4.16it/s]"
     ]
    },
    {
     "name": "stdout",
     "output_type": "stream",
     "text": [
      "\n",
      "0: 1280x1280 1 ball, 21 players, 3 referees, 69.0ms\n",
      "Speed: 6.0ms preprocess, 69.0ms inference, 1.0ms postprocess per image at shape (1, 3, 1280, 1280)\n"
     ]
    },
    {
     "name": "stderr",
     "output_type": "stream",
     "text": [
      "Embedding extraction: 1it [00:00,  8.07it/s]\n",
      "FutureWarning: 'force_all_finite' was renamed to 'ensure_all_finite' in 1.6 and will be removed in 1.8.\n",
      "Processing frames:  78%|███████▊  | 467/599 [02:00<00:31,  4.15it/s]"
     ]
    },
    {
     "name": "stdout",
     "output_type": "stream",
     "text": [
      "\n",
      "0: 1280x1280 1 ball, 21 players, 3 referees, 68.5ms\n",
      "Speed: 7.2ms preprocess, 68.5ms inference, 1.0ms postprocess per image at shape (1, 3, 1280, 1280)\n"
     ]
    },
    {
     "name": "stderr",
     "output_type": "stream",
     "text": [
      "Embedding extraction: 1it [00:00,  8.22it/s]\n",
      "FutureWarning: 'force_all_finite' was renamed to 'ensure_all_finite' in 1.6 and will be removed in 1.8.\n",
      "Processing frames:  78%|███████▊  | 468/599 [02:00<00:31,  4.15it/s]"
     ]
    },
    {
     "name": "stdout",
     "output_type": "stream",
     "text": [
      "\n",
      "0: 1280x1280 1 ball, 21 players, 3 referees, 68.6ms\n",
      "Speed: 6.1ms preprocess, 68.6ms inference, 1.0ms postprocess per image at shape (1, 3, 1280, 1280)\n"
     ]
    },
    {
     "name": "stderr",
     "output_type": "stream",
     "text": [
      "Embedding extraction: 1it [00:00,  8.22it/s]\n",
      "FutureWarning: 'force_all_finite' was renamed to 'ensure_all_finite' in 1.6 and will be removed in 1.8.\n",
      "Processing frames:  78%|███████▊  | 469/599 [02:00<00:31,  4.16it/s]"
     ]
    },
    {
     "name": "stdout",
     "output_type": "stream",
     "text": [
      "\n",
      "0: 1280x1280 1 ball, 21 players, 3 referees, 68.8ms\n",
      "Speed: 6.1ms preprocess, 68.8ms inference, 1.0ms postprocess per image at shape (1, 3, 1280, 1280)\n"
     ]
    },
    {
     "name": "stderr",
     "output_type": "stream",
     "text": [
      "Embedding extraction: 1it [00:00,  8.22it/s]\n",
      "FutureWarning: 'force_all_finite' was renamed to 'ensure_all_finite' in 1.6 and will be removed in 1.8.\n",
      "Processing frames:  78%|███████▊  | 470/599 [02:00<00:30,  4.17it/s]"
     ]
    },
    {
     "name": "stdout",
     "output_type": "stream",
     "text": [
      "\n",
      "0: 1280x1280 1 ball, 21 players, 3 referees, 69.1ms\n",
      "Speed: 6.0ms preprocess, 69.1ms inference, 1.0ms postprocess per image at shape (1, 3, 1280, 1280)\n"
     ]
    },
    {
     "name": "stderr",
     "output_type": "stream",
     "text": [
      "Embedding extraction: 1it [00:00,  8.14it/s]\n",
      "FutureWarning: 'force_all_finite' was renamed to 'ensure_all_finite' in 1.6 and will be removed in 1.8.\n",
      "Processing frames:  79%|███████▊  | 471/599 [02:01<00:30,  4.17it/s]"
     ]
    },
    {
     "name": "stdout",
     "output_type": "stream",
     "text": [
      "\n",
      "0: 1280x1280 21 players, 3 referees, 69.0ms\n",
      "Speed: 6.0ms preprocess, 69.0ms inference, 1.0ms postprocess per image at shape (1, 3, 1280, 1280)\n"
     ]
    },
    {
     "name": "stderr",
     "output_type": "stream",
     "text": [
      "Embedding extraction: 1it [00:00,  8.15it/s]\n",
      "FutureWarning: 'force_all_finite' was renamed to 'ensure_all_finite' in 1.6 and will be removed in 1.8.\n",
      "Processing frames:  79%|███████▉  | 472/599 [02:01<00:30,  4.18it/s]"
     ]
    },
    {
     "name": "stdout",
     "output_type": "stream",
     "text": [
      "\n",
      "0: 1280x1280 21 players, 3 referees, 68.6ms\n",
      "Speed: 8.0ms preprocess, 68.6ms inference, 1.0ms postprocess per image at shape (1, 3, 1280, 1280)\n"
     ]
    },
    {
     "name": "stderr",
     "output_type": "stream",
     "text": [
      "Embedding extraction: 1it [00:00,  8.16it/s]\n",
      "FutureWarning: 'force_all_finite' was renamed to 'ensure_all_finite' in 1.6 and will be removed in 1.8.\n",
      "Processing frames:  79%|███████▉  | 473/599 [02:01<00:30,  4.17it/s]"
     ]
    },
    {
     "name": "stdout",
     "output_type": "stream",
     "text": [
      "\n",
      "0: 1280x1280 21 players, 3 referees, 68.5ms\n",
      "Speed: 10.7ms preprocess, 68.5ms inference, 1.0ms postprocess per image at shape (1, 3, 1280, 1280)\n"
     ]
    },
    {
     "name": "stderr",
     "output_type": "stream",
     "text": [
      "Embedding extraction: 1it [00:00,  8.26it/s]\n",
      "FutureWarning: 'force_all_finite' was renamed to 'ensure_all_finite' in 1.6 and will be removed in 1.8.\n",
      "Processing frames:  79%|███████▉  | 474/599 [02:01<00:30,  4.16it/s]"
     ]
    },
    {
     "name": "stdout",
     "output_type": "stream",
     "text": [
      "\n",
      "0: 1280x1280 21 players, 3 referees, 68.7ms\n",
      "Speed: 8.9ms preprocess, 68.7ms inference, 0.9ms postprocess per image at shape (1, 3, 1280, 1280)\n"
     ]
    },
    {
     "name": "stderr",
     "output_type": "stream",
     "text": [
      "Embedding extraction: 1it [00:00,  8.23it/s]\n",
      "FutureWarning: 'force_all_finite' was renamed to 'ensure_all_finite' in 1.6 and will be removed in 1.8.\n",
      "Processing frames:  79%|███████▉  | 475/599 [02:02<00:29,  4.15it/s]"
     ]
    },
    {
     "name": "stdout",
     "output_type": "stream",
     "text": [
      "\n",
      "0: 1280x1280 22 players, 3 referees, 68.9ms\n",
      "Speed: 8.0ms preprocess, 68.9ms inference, 1.0ms postprocess per image at shape (1, 3, 1280, 1280)\n"
     ]
    },
    {
     "name": "stderr",
     "output_type": "stream",
     "text": [
      "Embedding extraction: 1it [00:00,  8.24it/s]\n",
      "FutureWarning: 'force_all_finite' was renamed to 'ensure_all_finite' in 1.6 and will be removed in 1.8.\n",
      "Processing frames:  79%|███████▉  | 476/599 [02:02<00:29,  4.15it/s]"
     ]
    },
    {
     "name": "stdout",
     "output_type": "stream",
     "text": [
      "\n",
      "0: 1280x1280 22 players, 3 referees, 68.6ms\n",
      "Speed: 6.0ms preprocess, 68.6ms inference, 1.0ms postprocess per image at shape (1, 3, 1280, 1280)\n"
     ]
    },
    {
     "name": "stderr",
     "output_type": "stream",
     "text": [
      "Embedding extraction: 1it [00:00,  8.23it/s]\n",
      "FutureWarning: 'force_all_finite' was renamed to 'ensure_all_finite' in 1.6 and will be removed in 1.8.\n",
      "Processing frames:  80%|███████▉  | 477/599 [02:02<00:29,  4.16it/s]"
     ]
    },
    {
     "name": "stdout",
     "output_type": "stream",
     "text": [
      "\n",
      "0: 1280x1280 23 players, 3 referees, 69.1ms\n",
      "Speed: 10.9ms preprocess, 69.1ms inference, 1.0ms postprocess per image at shape (1, 3, 1280, 1280)\n"
     ]
    },
    {
     "name": "stderr",
     "output_type": "stream",
     "text": [
      "Embedding extraction: 1it [00:00,  8.16it/s]\n",
      "FutureWarning: 'force_all_finite' was renamed to 'ensure_all_finite' in 1.6 and will be removed in 1.8.\n",
      "Processing frames:  80%|███████▉  | 478/599 [02:02<00:29,  4.13it/s]"
     ]
    },
    {
     "name": "stdout",
     "output_type": "stream",
     "text": [
      "\n",
      "0: 1280x1280 21 players, 3 referees, 69.3ms\n",
      "Speed: 6.2ms preprocess, 69.3ms inference, 1.0ms postprocess per image at shape (1, 3, 1280, 1280)\n"
     ]
    },
    {
     "name": "stderr",
     "output_type": "stream",
     "text": [
      "Embedding extraction: 1it [00:00,  8.15it/s]\n",
      "FutureWarning: 'force_all_finite' was renamed to 'ensure_all_finite' in 1.6 and will be removed in 1.8.\n",
      "Processing frames:  80%|███████▉  | 479/599 [02:03<00:29,  4.13it/s]"
     ]
    },
    {
     "name": "stdout",
     "output_type": "stream",
     "text": [
      "\n",
      "0: 1280x1280 20 players, 3 referees, 69.2ms\n",
      "Speed: 6.2ms preprocess, 69.2ms inference, 1.0ms postprocess per image at shape (1, 3, 1280, 1280)\n"
     ]
    },
    {
     "name": "stderr",
     "output_type": "stream",
     "text": [
      "Embedding extraction: 1it [00:00,  7.94it/s]\n",
      "FutureWarning: 'force_all_finite' was renamed to 'ensure_all_finite' in 1.6 and will be removed in 1.8.\n",
      "Processing frames:  80%|████████  | 480/599 [02:03<00:28,  4.12it/s]"
     ]
    },
    {
     "name": "stdout",
     "output_type": "stream",
     "text": [
      "\n",
      "0: 1280x1280 1 ball, 21 players, 3 referees, 69.1ms\n",
      "Speed: 6.1ms preprocess, 69.1ms inference, 1.0ms postprocess per image at shape (1, 3, 1280, 1280)\n"
     ]
    },
    {
     "name": "stderr",
     "output_type": "stream",
     "text": [
      "Embedding extraction: 1it [00:00,  8.11it/s]\n",
      "FutureWarning: 'force_all_finite' was renamed to 'ensure_all_finite' in 1.6 and will be removed in 1.8.\n",
      "Processing frames:  80%|████████  | 481/599 [02:03<00:28,  4.13it/s]"
     ]
    },
    {
     "name": "stdout",
     "output_type": "stream",
     "text": [
      "\n",
      "0: 1280x1280 20 players, 3 referees, 69.1ms\n",
      "Speed: 6.0ms preprocess, 69.1ms inference, 1.0ms postprocess per image at shape (1, 3, 1280, 1280)\n"
     ]
    },
    {
     "name": "stderr",
     "output_type": "stream",
     "text": [
      "Embedding extraction: 1it [00:00,  8.11it/s]\n",
      "FutureWarning: 'force_all_finite' was renamed to 'ensure_all_finite' in 1.6 and will be removed in 1.8.\n",
      "Processing frames:  80%|████████  | 482/599 [02:03<00:28,  4.11it/s]"
     ]
    },
    {
     "name": "stdout",
     "output_type": "stream",
     "text": [
      "\n",
      "0: 1280x1280 20 players, 3 referees, 68.6ms\n",
      "Speed: 9.1ms preprocess, 68.6ms inference, 1.0ms postprocess per image at shape (1, 3, 1280, 1280)\n"
     ]
    },
    {
     "name": "stderr",
     "output_type": "stream",
     "text": [
      "Embedding extraction: 1it [00:00,  8.19it/s]\n",
      "FutureWarning: 'force_all_finite' was renamed to 'ensure_all_finite' in 1.6 and will be removed in 1.8.\n",
      "Processing frames:  81%|████████  | 483/599 [02:03<00:28,  4.12it/s]"
     ]
    },
    {
     "name": "stdout",
     "output_type": "stream",
     "text": [
      "\n",
      "0: 1280x1280 20 players, 3 referees, 68.6ms\n",
      "Speed: 6.1ms preprocess, 68.6ms inference, 1.0ms postprocess per image at shape (1, 3, 1280, 1280)\n"
     ]
    },
    {
     "name": "stderr",
     "output_type": "stream",
     "text": [
      "Embedding extraction: 1it [00:00,  8.20it/s]\n",
      "FutureWarning: 'force_all_finite' was renamed to 'ensure_all_finite' in 1.6 and will be removed in 1.8.\n",
      "Processing frames:  81%|████████  | 484/599 [02:04<00:27,  4.14it/s]"
     ]
    },
    {
     "name": "stdout",
     "output_type": "stream",
     "text": [
      "\n",
      "0: 1280x1280 20 players, 3 referees, 68.5ms\n",
      "Speed: 6.1ms preprocess, 68.5ms inference, 1.0ms postprocess per image at shape (1, 3, 1280, 1280)\n"
     ]
    },
    {
     "name": "stderr",
     "output_type": "stream",
     "text": [
      "Embedding extraction: 1it [00:00,  8.25it/s]\n",
      "FutureWarning: 'force_all_finite' was renamed to 'ensure_all_finite' in 1.6 and will be removed in 1.8.\n",
      "Processing frames:  81%|████████  | 485/599 [02:04<00:27,  4.15it/s]"
     ]
    },
    {
     "name": "stdout",
     "output_type": "stream",
     "text": [
      "\n",
      "0: 1280x1280 20 players, 3 referees, 68.4ms\n",
      "Speed: 6.1ms preprocess, 68.4ms inference, 1.0ms postprocess per image at shape (1, 3, 1280, 1280)\n"
     ]
    },
    {
     "name": "stderr",
     "output_type": "stream",
     "text": [
      "Embedding extraction: 1it [00:00,  8.18it/s]\n",
      "FutureWarning: 'force_all_finite' was renamed to 'ensure_all_finite' in 1.6 and will be removed in 1.8.\n",
      "Processing frames:  81%|████████  | 486/599 [02:04<00:27,  4.16it/s]"
     ]
    },
    {
     "name": "stdout",
     "output_type": "stream",
     "text": [
      "\n",
      "0: 1280x1280 1 ball, 20 players, 3 referees, 68.7ms\n",
      "Speed: 9.4ms preprocess, 68.7ms inference, 1.0ms postprocess per image at shape (1, 3, 1280, 1280)\n"
     ]
    },
    {
     "name": "stderr",
     "output_type": "stream",
     "text": [
      "Embedding extraction: 1it [00:00,  8.19it/s]\n",
      "FutureWarning: 'force_all_finite' was renamed to 'ensure_all_finite' in 1.6 and will be removed in 1.8.\n",
      "Processing frames:  81%|████████▏ | 487/599 [02:04<00:27,  4.12it/s]"
     ]
    },
    {
     "name": "stdout",
     "output_type": "stream",
     "text": [
      "\n",
      "0: 1280x1280 20 players, 3 referees, 68.9ms\n",
      "Speed: 6.1ms preprocess, 68.9ms inference, 1.0ms postprocess per image at shape (1, 3, 1280, 1280)\n"
     ]
    },
    {
     "name": "stderr",
     "output_type": "stream",
     "text": [
      "Embedding extraction: 1it [00:00,  8.02it/s]\n",
      "FutureWarning: 'force_all_finite' was renamed to 'ensure_all_finite' in 1.6 and will be removed in 1.8.\n",
      "Processing frames:  81%|████████▏ | 488/599 [02:05<00:26,  4.12it/s]"
     ]
    },
    {
     "name": "stdout",
     "output_type": "stream",
     "text": [
      "\n",
      "0: 1280x1280 20 players, 3 referees, 68.9ms\n",
      "Speed: 8.0ms preprocess, 68.9ms inference, 1.0ms postprocess per image at shape (1, 3, 1280, 1280)\n"
     ]
    },
    {
     "name": "stderr",
     "output_type": "stream",
     "text": [
      "Embedding extraction: 1it [00:00,  8.05it/s]\n",
      "FutureWarning: 'force_all_finite' was renamed to 'ensure_all_finite' in 1.6 and will be removed in 1.8.\n",
      "Processing frames:  82%|████████▏ | 489/599 [02:05<00:26,  4.12it/s]"
     ]
    },
    {
     "name": "stdout",
     "output_type": "stream",
     "text": [
      "\n",
      "0: 1280x1280 20 players, 3 referees, 69.0ms\n",
      "Speed: 6.0ms preprocess, 69.0ms inference, 1.2ms postprocess per image at shape (1, 3, 1280, 1280)\n"
     ]
    },
    {
     "name": "stderr",
     "output_type": "stream",
     "text": [
      "Embedding extraction: 1it [00:00,  7.74it/s]\n",
      "FutureWarning: 'force_all_finite' was renamed to 'ensure_all_finite' in 1.6 and will be removed in 1.8.\n",
      "Processing frames:  82%|████████▏ | 490/599 [02:05<00:26,  4.09it/s]"
     ]
    },
    {
     "name": "stdout",
     "output_type": "stream",
     "text": [
      "\n",
      "0: 1280x1280 20 players, 3 referees, 68.9ms\n",
      "Speed: 6.3ms preprocess, 68.9ms inference, 1.0ms postprocess per image at shape (1, 3, 1280, 1280)\n"
     ]
    },
    {
     "name": "stderr",
     "output_type": "stream",
     "text": [
      "Embedding extraction: 1it [00:00,  8.12it/s]\n",
      "FutureWarning: 'force_all_finite' was renamed to 'ensure_all_finite' in 1.6 and will be removed in 1.8.\n",
      "Processing frames:  82%|████████▏ | 491/599 [02:05<00:26,  4.11it/s]"
     ]
    },
    {
     "name": "stdout",
     "output_type": "stream",
     "text": [
      "\n",
      "0: 1280x1280 20 players, 3 referees, 69.3ms\n",
      "Speed: 6.1ms preprocess, 69.3ms inference, 1.0ms postprocess per image at shape (1, 3, 1280, 1280)\n"
     ]
    },
    {
     "name": "stderr",
     "output_type": "stream",
     "text": [
      "Embedding extraction: 1it [00:00,  8.97it/s]\n",
      "FutureWarning: 'force_all_finite' was renamed to 'ensure_all_finite' in 1.6 and will be removed in 1.8.\n",
      "Processing frames:  82%|████████▏ | 492/599 [02:07<01:01,  1.73it/s]"
     ]
    },
    {
     "name": "stdout",
     "output_type": "stream",
     "text": [
      "Saved mini clip: app/test_data/predicted/actions/clip_006.mp4\n",
      "\n",
      "0: 1280x1280 1 ball, 20 players, 3 referees, 68.3ms\n",
      "Speed: 6.2ms preprocess, 68.3ms inference, 1.1ms postprocess per image at shape (1, 3, 1280, 1280)\n"
     ]
    },
    {
     "name": "stderr",
     "output_type": "stream",
     "text": [
      "Embedding extraction: 1it [00:00,  8.21it/s]\n",
      "FutureWarning: 'force_all_finite' was renamed to 'ensure_all_finite' in 1.6 and will be removed in 1.8.\n",
      "Processing frames:  82%|████████▏ | 493/599 [02:07<00:50,  2.10it/s]"
     ]
    },
    {
     "name": "stdout",
     "output_type": "stream",
     "text": [
      "\n",
      "0: 1280x1280 20 players, 3 referees, 69.1ms\n",
      "Speed: 6.0ms preprocess, 69.1ms inference, 0.9ms postprocess per image at shape (1, 3, 1280, 1280)\n"
     ]
    },
    {
     "name": "stderr",
     "output_type": "stream",
     "text": [
      "Embedding extraction: 1it [00:00,  8.16it/s]\n",
      "FutureWarning: 'force_all_finite' was renamed to 'ensure_all_finite' in 1.6 and will be removed in 1.8.\n",
      "Processing frames:  82%|████████▏ | 494/599 [02:07<00:42,  2.46it/s]"
     ]
    },
    {
     "name": "stdout",
     "output_type": "stream",
     "text": [
      "\n",
      "0: 1280x1280 1 ball, 20 players, 3 referees, 68.8ms\n",
      "Speed: 10.7ms preprocess, 68.8ms inference, 1.0ms postprocess per image at shape (1, 3, 1280, 1280)\n"
     ]
    },
    {
     "name": "stderr",
     "output_type": "stream",
     "text": [
      "Embedding extraction: 1it [00:00,  8.16it/s]\n",
      "FutureWarning: 'force_all_finite' was renamed to 'ensure_all_finite' in 1.6 and will be removed in 1.8.\n",
      "Processing frames:  83%|████████▎ | 495/599 [02:08<00:37,  2.79it/s]"
     ]
    },
    {
     "name": "stdout",
     "output_type": "stream",
     "text": [
      "\n",
      "0: 1280x1280 1 ball, 21 players, 3 referees, 69.0ms\n",
      "Speed: 10.8ms preprocess, 69.0ms inference, 1.0ms postprocess per image at shape (1, 3, 1280, 1280)\n"
     ]
    },
    {
     "name": "stderr",
     "output_type": "stream",
     "text": [
      "Embedding extraction: 1it [00:00,  8.13it/s]\n",
      "FutureWarning: 'force_all_finite' was renamed to 'ensure_all_finite' in 1.6 and will be removed in 1.8.\n",
      "Processing frames:  83%|████████▎ | 496/599 [02:08<00:33,  3.08it/s]"
     ]
    },
    {
     "name": "stdout",
     "output_type": "stream",
     "text": [
      "\n",
      "0: 1280x1280 22 players, 3 referees, 69.2ms\n",
      "Speed: 6.3ms preprocess, 69.2ms inference, 1.0ms postprocess per image at shape (1, 3, 1280, 1280)\n"
     ]
    },
    {
     "name": "stderr",
     "output_type": "stream",
     "text": [
      "Embedding extraction: 1it [00:00,  8.05it/s]\n",
      "FutureWarning: 'force_all_finite' was renamed to 'ensure_all_finite' in 1.6 and will be removed in 1.8.\n",
      "Processing frames:  83%|████████▎ | 497/599 [02:08<00:30,  3.33it/s]"
     ]
    },
    {
     "name": "stdout",
     "output_type": "stream",
     "text": [
      "\n",
      "0: 1280x1280 1 ball, 20 players, 3 referees, 68.9ms\n",
      "Speed: 8.2ms preprocess, 68.9ms inference, 1.0ms postprocess per image at shape (1, 3, 1280, 1280)\n"
     ]
    },
    {
     "name": "stderr",
     "output_type": "stream",
     "text": [
      "Embedding extraction: 1it [00:00,  8.17it/s]\n",
      "FutureWarning: 'force_all_finite' was renamed to 'ensure_all_finite' in 1.6 and will be removed in 1.8.\n",
      "Processing frames:  83%|████████▎ | 498/599 [02:08<00:28,  3.52it/s]"
     ]
    },
    {
     "name": "stdout",
     "output_type": "stream",
     "text": [
      "\n",
      "0: 1280x1280 1 ball, 20 players, 3 referees, 69.1ms\n",
      "Speed: 7.3ms preprocess, 69.1ms inference, 1.1ms postprocess per image at shape (1, 3, 1280, 1280)\n"
     ]
    },
    {
     "name": "stderr",
     "output_type": "stream",
     "text": [
      "Embedding extraction: 1it [00:00,  8.06it/s]\n",
      "FutureWarning: 'force_all_finite' was renamed to 'ensure_all_finite' in 1.6 and will be removed in 1.8.\n",
      "Processing frames:  83%|████████▎ | 499/599 [02:08<00:27,  3.68it/s]"
     ]
    },
    {
     "name": "stdout",
     "output_type": "stream",
     "text": [
      "\n",
      "0: 1280x1280 1 ball, 19 players, 3 referees, 68.8ms\n",
      "Speed: 6.8ms preprocess, 68.8ms inference, 1.0ms postprocess per image at shape (1, 3, 1280, 1280)\n"
     ]
    },
    {
     "name": "stderr",
     "output_type": "stream",
     "text": [
      "Embedding extraction: 1it [00:00,  8.30it/s]\n",
      "FutureWarning: 'force_all_finite' was renamed to 'ensure_all_finite' in 1.6 and will be removed in 1.8.\n",
      "Processing frames:  83%|████████▎ | 500/599 [02:09<00:25,  3.81it/s]"
     ]
    },
    {
     "name": "stdout",
     "output_type": "stream",
     "text": [
      "\n",
      "0: 1280x1280 1 ball, 20 players, 3 referees, 69.4ms\n",
      "Speed: 6.0ms preprocess, 69.4ms inference, 1.0ms postprocess per image at shape (1, 3, 1280, 1280)\n"
     ]
    },
    {
     "name": "stderr",
     "output_type": "stream",
     "text": [
      "Embedding extraction: 1it [00:00,  8.08it/s]\n",
      "FutureWarning: 'force_all_finite' was renamed to 'ensure_all_finite' in 1.6 and will be removed in 1.8.\n",
      "Processing frames:  84%|████████▎ | 501/599 [02:09<00:25,  3.90it/s]"
     ]
    },
    {
     "name": "stdout",
     "output_type": "stream",
     "text": [
      "\n",
      "0: 1280x1280 1 ball, 20 players, 3 referees, 69.0ms\n",
      "Speed: 6.2ms preprocess, 69.0ms inference, 1.0ms postprocess per image at shape (1, 3, 1280, 1280)\n"
     ]
    },
    {
     "name": "stderr",
     "output_type": "stream",
     "text": [
      "Embedding extraction: 1it [00:00,  8.11it/s]\n",
      "FutureWarning: 'force_all_finite' was renamed to 'ensure_all_finite' in 1.6 and will be removed in 1.8.\n",
      "Processing frames:  84%|████████▍ | 502/599 [02:09<00:24,  3.96it/s]"
     ]
    },
    {
     "name": "stdout",
     "output_type": "stream",
     "text": [
      "\n",
      "0: 1280x1280 1 ball, 20 players, 3 referees, 69.3ms\n",
      "Speed: 6.1ms preprocess, 69.3ms inference, 1.0ms postprocess per image at shape (1, 3, 1280, 1280)\n"
     ]
    },
    {
     "name": "stderr",
     "output_type": "stream",
     "text": [
      "Embedding extraction: 1it [00:00,  8.13it/s]\n",
      "FutureWarning: 'force_all_finite' was renamed to 'ensure_all_finite' in 1.6 and will be removed in 1.8.\n",
      "Processing frames:  84%|████████▍ | 503/599 [02:09<00:23,  4.00it/s]"
     ]
    },
    {
     "name": "stdout",
     "output_type": "stream",
     "text": [
      "\n",
      "0: 1280x1280 1 ball, 20 players, 3 referees, 68.6ms\n",
      "Speed: 6.3ms preprocess, 68.6ms inference, 1.0ms postprocess per image at shape (1, 3, 1280, 1280)\n"
     ]
    },
    {
     "name": "stderr",
     "output_type": "stream",
     "text": [
      "Embedding extraction: 1it [00:00,  8.14it/s]\n",
      "FutureWarning: 'force_all_finite' was renamed to 'ensure_all_finite' in 1.6 and will be removed in 1.8.\n",
      "Processing frames:  84%|████████▍ | 504/599 [02:10<00:23,  4.05it/s]"
     ]
    },
    {
     "name": "stdout",
     "output_type": "stream",
     "text": [
      "\n",
      "0: 1280x1280 21 players, 3 referees, 69.0ms\n",
      "Speed: 6.1ms preprocess, 69.0ms inference, 1.0ms postprocess per image at shape (1, 3, 1280, 1280)\n"
     ]
    },
    {
     "name": "stderr",
     "output_type": "stream",
     "text": [
      "Embedding extraction: 1it [00:00,  8.21it/s]\n",
      "FutureWarning: 'force_all_finite' was renamed to 'ensure_all_finite' in 1.6 and will be removed in 1.8.\n",
      "Processing frames:  84%|████████▍ | 505/599 [02:10<00:22,  4.09it/s]"
     ]
    },
    {
     "name": "stdout",
     "output_type": "stream",
     "text": [
      "\n",
      "0: 1280x1280 1 ball, 20 players, 3 referees, 68.5ms\n",
      "Speed: 7.7ms preprocess, 68.5ms inference, 1.0ms postprocess per image at shape (1, 3, 1280, 1280)\n"
     ]
    },
    {
     "name": "stderr",
     "output_type": "stream",
     "text": [
      "Embedding extraction: 1it [00:00,  8.21it/s]\n",
      "FutureWarning: 'force_all_finite' was renamed to 'ensure_all_finite' in 1.6 and will be removed in 1.8.\n",
      "Processing frames:  84%|████████▍ | 506/599 [02:10<00:22,  4.11it/s]"
     ]
    },
    {
     "name": "stdout",
     "output_type": "stream",
     "text": [
      "\n",
      "0: 1280x1280 21 players, 3 referees, 68.8ms\n",
      "Speed: 8.6ms preprocess, 68.8ms inference, 1.0ms postprocess per image at shape (1, 3, 1280, 1280)\n"
     ]
    },
    {
     "name": "stderr",
     "output_type": "stream",
     "text": [
      "Embedding extraction: 1it [00:00,  9.02it/s]\n",
      "FutureWarning: 'force_all_finite' was renamed to 'ensure_all_finite' in 1.6 and will be removed in 1.8.\n",
      "Processing frames:  85%|████████▍ | 507/599 [02:10<00:22,  4.17it/s]"
     ]
    },
    {
     "name": "stdout",
     "output_type": "stream",
     "text": [
      "\n",
      "0: 1280x1280 22 players, 3 referees, 69.3ms\n",
      "Speed: 6.2ms preprocess, 69.3ms inference, 1.0ms postprocess per image at shape (1, 3, 1280, 1280)\n"
     ]
    },
    {
     "name": "stderr",
     "output_type": "stream",
     "text": [
      "Embedding extraction: 1it [00:00,  8.12it/s]\n",
      "FutureWarning: 'force_all_finite' was renamed to 'ensure_all_finite' in 1.6 and will be removed in 1.8.\n",
      "Processing frames:  85%|████████▍ | 508/599 [02:11<00:21,  4.16it/s]"
     ]
    },
    {
     "name": "stdout",
     "output_type": "stream",
     "text": [
      "\n",
      "0: 1280x1280 20 players, 3 referees, 68.9ms\n",
      "Speed: 9.4ms preprocess, 68.9ms inference, 1.0ms postprocess per image at shape (1, 3, 1280, 1280)\n"
     ]
    },
    {
     "name": "stderr",
     "output_type": "stream",
     "text": [
      "Embedding extraction: 1it [00:00,  8.15it/s]\n",
      "FutureWarning: 'force_all_finite' was renamed to 'ensure_all_finite' in 1.6 and will be removed in 1.8.\n",
      "Processing frames:  85%|████████▍ | 509/599 [02:11<00:21,  4.14it/s]"
     ]
    },
    {
     "name": "stdout",
     "output_type": "stream",
     "text": [
      "\n",
      "0: 1280x1280 20 players, 3 referees, 69.1ms\n",
      "Speed: 6.0ms preprocess, 69.1ms inference, 1.0ms postprocess per image at shape (1, 3, 1280, 1280)\n"
     ]
    },
    {
     "name": "stderr",
     "output_type": "stream",
     "text": [
      "Embedding extraction: 1it [00:00,  8.16it/s]\n",
      "FutureWarning: 'force_all_finite' was renamed to 'ensure_all_finite' in 1.6 and will be removed in 1.8.\n",
      "Processing frames:  85%|████████▌ | 510/599 [02:11<00:21,  4.15it/s]"
     ]
    },
    {
     "name": "stdout",
     "output_type": "stream",
     "text": [
      "\n",
      "0: 1280x1280 20 players, 3 referees, 69.0ms\n",
      "Speed: 6.0ms preprocess, 69.0ms inference, 1.0ms postprocess per image at shape (1, 3, 1280, 1280)\n"
     ]
    },
    {
     "name": "stderr",
     "output_type": "stream",
     "text": [
      "Embedding extraction: 1it [00:00,  8.13it/s]\n",
      "FutureWarning: 'force_all_finite' was renamed to 'ensure_all_finite' in 1.6 and will be removed in 1.8.\n",
      "Processing frames:  85%|████████▌ | 511/599 [02:11<00:21,  4.15it/s]"
     ]
    },
    {
     "name": "stdout",
     "output_type": "stream",
     "text": [
      "\n",
      "0: 1280x1280 20 players, 3 referees, 69.3ms\n",
      "Speed: 10.9ms preprocess, 69.3ms inference, 1.0ms postprocess per image at shape (1, 3, 1280, 1280)\n"
     ]
    },
    {
     "name": "stderr",
     "output_type": "stream",
     "text": [
      "Embedding extraction: 1it [00:00,  8.13it/s]\n",
      "FutureWarning: 'force_all_finite' was renamed to 'ensure_all_finite' in 1.6 and will be removed in 1.8.\n",
      "Processing frames:  85%|████████▌ | 512/599 [02:12<00:21,  4.11it/s]"
     ]
    },
    {
     "name": "stdout",
     "output_type": "stream",
     "text": [
      "\n",
      "0: 1280x1280 21 players, 3 referees, 69.3ms\n",
      "Speed: 6.1ms preprocess, 69.3ms inference, 1.0ms postprocess per image at shape (1, 3, 1280, 1280)\n"
     ]
    },
    {
     "name": "stderr",
     "output_type": "stream",
     "text": [
      "Embedding extraction: 1it [00:00,  8.11it/s]\n",
      "FutureWarning: 'force_all_finite' was renamed to 'ensure_all_finite' in 1.6 and will be removed in 1.8.\n",
      "Processing frames:  86%|████████▌ | 513/599 [02:12<00:20,  4.12it/s]"
     ]
    },
    {
     "name": "stdout",
     "output_type": "stream",
     "text": [
      "\n",
      "0: 1280x1280 20 players, 3 referees, 68.8ms\n",
      "Speed: 6.1ms preprocess, 68.8ms inference, 0.9ms postprocess per image at shape (1, 3, 1280, 1280)\n"
     ]
    },
    {
     "name": "stderr",
     "output_type": "stream",
     "text": [
      "Embedding extraction: 1it [00:00,  8.09it/s]\n",
      "FutureWarning: 'force_all_finite' was renamed to 'ensure_all_finite' in 1.6 and will be removed in 1.8.\n",
      "Processing frames:  86%|████████▌ | 514/599 [02:12<00:20,  4.12it/s]"
     ]
    },
    {
     "name": "stdout",
     "output_type": "stream",
     "text": [
      "\n",
      "0: 1280x1280 20 players, 3 referees, 69.2ms\n",
      "Speed: 8.6ms preprocess, 69.2ms inference, 1.0ms postprocess per image at shape (1, 3, 1280, 1280)\n"
     ]
    },
    {
     "name": "stderr",
     "output_type": "stream",
     "text": [
      "Embedding extraction: 1it [00:00,  8.03it/s]\n",
      "FutureWarning: 'force_all_finite' was renamed to 'ensure_all_finite' in 1.6 and will be removed in 1.8.\n",
      "Processing frames:  86%|████████▌ | 515/599 [02:12<00:20,  4.11it/s]"
     ]
    },
    {
     "name": "stdout",
     "output_type": "stream",
     "text": [
      "\n",
      "0: 1280x1280 20 players, 3 referees, 68.4ms\n",
      "Speed: 10.4ms preprocess, 68.4ms inference, 1.0ms postprocess per image at shape (1, 3, 1280, 1280)\n"
     ]
    },
    {
     "name": "stderr",
     "output_type": "stream",
     "text": [
      "Embedding extraction: 1it [00:00,  8.26it/s]\n",
      "FutureWarning: 'force_all_finite' was renamed to 'ensure_all_finite' in 1.6 and will be removed in 1.8.\n",
      "Processing frames:  86%|████████▌ | 516/599 [02:13<00:20,  4.11it/s]"
     ]
    },
    {
     "name": "stdout",
     "output_type": "stream",
     "text": [
      "\n",
      "0: 1280x1280 20 players, 3 referees, 68.7ms\n",
      "Speed: 6.3ms preprocess, 68.7ms inference, 1.0ms postprocess per image at shape (1, 3, 1280, 1280)\n"
     ]
    },
    {
     "name": "stderr",
     "output_type": "stream",
     "text": [
      "Embedding extraction: 1it [00:00,  8.17it/s]\n",
      "FutureWarning: 'force_all_finite' was renamed to 'ensure_all_finite' in 1.6 and will be removed in 1.8.\n",
      "Processing frames:  86%|████████▋ | 517/599 [02:13<00:19,  4.12it/s]"
     ]
    },
    {
     "name": "stdout",
     "output_type": "stream",
     "text": [
      "\n",
      "0: 1280x1280 20 players, 3 referees, 68.4ms\n",
      "Speed: 6.2ms preprocess, 68.4ms inference, 1.0ms postprocess per image at shape (1, 3, 1280, 1280)\n"
     ]
    },
    {
     "name": "stderr",
     "output_type": "stream",
     "text": [
      "Embedding extraction: 1it [00:00,  8.18it/s]\n",
      "FutureWarning: 'force_all_finite' was renamed to 'ensure_all_finite' in 1.6 and will be removed in 1.8.\n",
      "Processing frames:  86%|████████▋ | 518/599 [02:13<00:19,  4.14it/s]"
     ]
    },
    {
     "name": "stdout",
     "output_type": "stream",
     "text": [
      "\n",
      "0: 1280x1280 20 players, 3 referees, 69.1ms\n",
      "Speed: 9.1ms preprocess, 69.1ms inference, 1.0ms postprocess per image at shape (1, 3, 1280, 1280)\n"
     ]
    },
    {
     "name": "stderr",
     "output_type": "stream",
     "text": [
      "Embedding extraction: 1it [00:00,  8.22it/s]\n",
      "FutureWarning: 'force_all_finite' was renamed to 'ensure_all_finite' in 1.6 and will be removed in 1.8.\n",
      "Processing frames:  87%|████████▋ | 519/599 [02:13<00:19,  4.13it/s]"
     ]
    },
    {
     "name": "stdout",
     "output_type": "stream",
     "text": [
      "\n",
      "0: 1280x1280 20 players, 3 referees, 69.5ms\n",
      "Speed: 6.1ms preprocess, 69.5ms inference, 1.0ms postprocess per image at shape (1, 3, 1280, 1280)\n"
     ]
    },
    {
     "name": "stderr",
     "output_type": "stream",
     "text": [
      "Embedding extraction: 1it [00:00,  8.17it/s]\n",
      "FutureWarning: 'force_all_finite' was renamed to 'ensure_all_finite' in 1.6 and will be removed in 1.8.\n",
      "Processing frames:  87%|████████▋ | 520/599 [02:14<00:19,  4.10it/s]"
     ]
    },
    {
     "name": "stdout",
     "output_type": "stream",
     "text": [
      "\n",
      "0: 1280x1280 20 players, 3 referees, 68.7ms\n",
      "Speed: 10.0ms preprocess, 68.7ms inference, 1.0ms postprocess per image at shape (1, 3, 1280, 1280)\n"
     ]
    },
    {
     "name": "stderr",
     "output_type": "stream",
     "text": [
      "Embedding extraction: 1it [00:00,  8.13it/s]\n",
      "FutureWarning: 'force_all_finite' was renamed to 'ensure_all_finite' in 1.6 and will be removed in 1.8.\n",
      "Processing frames:  87%|████████▋ | 521/599 [02:14<00:19,  4.09it/s]"
     ]
    },
    {
     "name": "stdout",
     "output_type": "stream",
     "text": [
      "\n",
      "0: 1280x1280 20 players, 3 referees, 69.0ms\n",
      "Speed: 6.2ms preprocess, 69.0ms inference, 1.0ms postprocess per image at shape (1, 3, 1280, 1280)\n"
     ]
    },
    {
     "name": "stderr",
     "output_type": "stream",
     "text": [
      "Embedding extraction: 1it [00:00,  8.22it/s]\n",
      "FutureWarning: 'force_all_finite' was renamed to 'ensure_all_finite' in 1.6 and will be removed in 1.8.\n",
      "Processing frames:  87%|████████▋ | 522/599 [02:14<00:18,  4.11it/s]"
     ]
    },
    {
     "name": "stdout",
     "output_type": "stream",
     "text": [
      "\n",
      "0: 1280x1280 20 players, 3 referees, 69.0ms\n",
      "Speed: 6.1ms preprocess, 69.0ms inference, 1.0ms postprocess per image at shape (1, 3, 1280, 1280)\n"
     ]
    },
    {
     "name": "stderr",
     "output_type": "stream",
     "text": [
      "Embedding extraction: 1it [00:00,  8.21it/s]\n",
      "FutureWarning: 'force_all_finite' was renamed to 'ensure_all_finite' in 1.6 and will be removed in 1.8.\n",
      "Processing frames:  87%|████████▋ | 523/599 [02:14<00:18,  4.13it/s]"
     ]
    },
    {
     "name": "stdout",
     "output_type": "stream",
     "text": [
      "\n",
      "0: 1280x1280 21 players, 3 referees, 68.5ms\n",
      "Speed: 6.2ms preprocess, 68.5ms inference, 1.0ms postprocess per image at shape (1, 3, 1280, 1280)\n"
     ]
    },
    {
     "name": "stderr",
     "output_type": "stream",
     "text": [
      "Embedding extraction: 1it [00:00,  8.09it/s]\n",
      "FutureWarning: 'force_all_finite' was renamed to 'ensure_all_finite' in 1.6 and will be removed in 1.8.\n",
      "Processing frames:  87%|████████▋ | 524/599 [02:15<00:18,  4.10it/s]"
     ]
    },
    {
     "name": "stdout",
     "output_type": "stream",
     "text": [
      "\n",
      "0: 1280x1280 21 players, 3 referees, 69.1ms\n",
      "Speed: 6.1ms preprocess, 69.1ms inference, 1.0ms postprocess per image at shape (1, 3, 1280, 1280)\n"
     ]
    },
    {
     "name": "stderr",
     "output_type": "stream",
     "text": [
      "Embedding extraction: 1it [00:00,  8.19it/s]\n",
      "FutureWarning: 'force_all_finite' was renamed to 'ensure_all_finite' in 1.6 and will be removed in 1.8.\n",
      "Processing frames:  88%|████████▊ | 525/599 [02:15<00:17,  4.12it/s]"
     ]
    },
    {
     "name": "stdout",
     "output_type": "stream",
     "text": [
      "\n",
      "0: 1280x1280 21 players, 4 referees, 69.3ms\n",
      "Speed: 6.2ms preprocess, 69.3ms inference, 1.0ms postprocess per image at shape (1, 3, 1280, 1280)\n"
     ]
    },
    {
     "name": "stderr",
     "output_type": "stream",
     "text": [
      "Embedding extraction: 1it [00:00,  8.13it/s]\n",
      "FutureWarning: 'force_all_finite' was renamed to 'ensure_all_finite' in 1.6 and will be removed in 1.8.\n",
      "Processing frames:  88%|████████▊ | 526/599 [02:15<00:17,  4.12it/s]"
     ]
    },
    {
     "name": "stdout",
     "output_type": "stream",
     "text": [
      "\n",
      "0: 1280x1280 20 players, 3 referees, 69.0ms\n",
      "Speed: 6.2ms preprocess, 69.0ms inference, 1.0ms postprocess per image at shape (1, 3, 1280, 1280)\n"
     ]
    },
    {
     "name": "stderr",
     "output_type": "stream",
     "text": [
      "Embedding extraction: 1it [00:00,  8.15it/s]\n",
      "FutureWarning: 'force_all_finite' was renamed to 'ensure_all_finite' in 1.6 and will be removed in 1.8.\n",
      "Processing frames:  88%|████████▊ | 527/599 [02:15<00:17,  4.13it/s]"
     ]
    },
    {
     "name": "stdout",
     "output_type": "stream",
     "text": [
      "\n",
      "0: 1280x1280 20 players, 3 referees, 68.8ms\n",
      "Speed: 10.8ms preprocess, 68.8ms inference, 1.4ms postprocess per image at shape (1, 3, 1280, 1280)\n"
     ]
    },
    {
     "name": "stderr",
     "output_type": "stream",
     "text": [
      "Embedding extraction: 1it [00:00,  8.04it/s]\n",
      "FutureWarning: 'force_all_finite' was renamed to 'ensure_all_finite' in 1.6 and will be removed in 1.8.\n",
      "Processing frames:  88%|████████▊ | 528/599 [02:16<00:17,  4.10it/s]"
     ]
    },
    {
     "name": "stdout",
     "output_type": "stream",
     "text": [
      "\n",
      "0: 1280x1280 20 players, 3 referees, 68.3ms\n",
      "Speed: 9.5ms preprocess, 68.3ms inference, 1.0ms postprocess per image at shape (1, 3, 1280, 1280)\n"
     ]
    },
    {
     "name": "stderr",
     "output_type": "stream",
     "text": [
      "Embedding extraction: 1it [00:00,  8.16it/s]\n",
      "FutureWarning: 'force_all_finite' was renamed to 'ensure_all_finite' in 1.6 and will be removed in 1.8.\n",
      "Processing frames:  88%|████████▊ | 529/599 [02:16<00:17,  4.10it/s]"
     ]
    },
    {
     "name": "stdout",
     "output_type": "stream",
     "text": [
      "\n",
      "0: 1280x1280 20 players, 3 referees, 68.5ms\n",
      "Speed: 6.0ms preprocess, 68.5ms inference, 1.0ms postprocess per image at shape (1, 3, 1280, 1280)\n"
     ]
    },
    {
     "name": "stderr",
     "output_type": "stream",
     "text": [
      "Embedding extraction: 1it [00:00,  8.19it/s]\n",
      "FutureWarning: 'force_all_finite' was renamed to 'ensure_all_finite' in 1.6 and will be removed in 1.8.\n",
      "Processing frames:  88%|████████▊ | 530/599 [02:16<00:16,  4.10it/s]"
     ]
    },
    {
     "name": "stdout",
     "output_type": "stream",
     "text": [
      "\n",
      "0: 1280x1280 20 players, 3 referees, 69.2ms\n",
      "Speed: 6.2ms preprocess, 69.2ms inference, 1.0ms postprocess per image at shape (1, 3, 1280, 1280)\n"
     ]
    },
    {
     "name": "stderr",
     "output_type": "stream",
     "text": [
      "Embedding extraction: 1it [00:00,  7.85it/s]\n",
      "FutureWarning: 'force_all_finite' was renamed to 'ensure_all_finite' in 1.6 and will be removed in 1.8.\n",
      "Processing frames:  89%|████████▊ | 531/599 [02:16<00:16,  4.09it/s]"
     ]
    },
    {
     "name": "stdout",
     "output_type": "stream",
     "text": [
      "\n",
      "0: 1280x1280 20 players, 3 referees, 68.7ms\n",
      "Speed: 6.2ms preprocess, 68.7ms inference, 1.0ms postprocess per image at shape (1, 3, 1280, 1280)\n"
     ]
    },
    {
     "name": "stderr",
     "output_type": "stream",
     "text": [
      "Embedding extraction: 1it [00:00,  8.04it/s]\n",
      "FutureWarning: 'force_all_finite' was renamed to 'ensure_all_finite' in 1.6 and will be removed in 1.8.\n",
      "Processing frames:  89%|████████▉ | 532/599 [02:16<00:16,  4.10it/s]"
     ]
    },
    {
     "name": "stdout",
     "output_type": "stream",
     "text": [
      "\n",
      "0: 1280x1280 20 players, 3 referees, 69.3ms\n",
      "Speed: 6.1ms preprocess, 69.3ms inference, 1.1ms postprocess per image at shape (1, 3, 1280, 1280)\n"
     ]
    },
    {
     "name": "stderr",
     "output_type": "stream",
     "text": [
      "Embedding extraction: 1it [00:00,  8.06it/s]\n",
      "FutureWarning: 'force_all_finite' was renamed to 'ensure_all_finite' in 1.6 and will be removed in 1.8.\n",
      "Processing frames:  89%|████████▉ | 533/599 [02:17<00:16,  4.11it/s]"
     ]
    },
    {
     "name": "stdout",
     "output_type": "stream",
     "text": [
      "\n",
      "0: 1280x1280 21 players, 3 referees, 69.7ms\n",
      "Speed: 6.2ms preprocess, 69.7ms inference, 1.0ms postprocess per image at shape (1, 3, 1280, 1280)\n"
     ]
    },
    {
     "name": "stderr",
     "output_type": "stream",
     "text": [
      "Embedding extraction: 1it [00:00,  8.09it/s]\n",
      "FutureWarning: 'force_all_finite' was renamed to 'ensure_all_finite' in 1.6 and will be removed in 1.8.\n",
      "Processing frames:  89%|████████▉ | 534/599 [02:17<00:15,  4.12it/s]"
     ]
    },
    {
     "name": "stdout",
     "output_type": "stream",
     "text": [
      "\n",
      "0: 1280x1280 1 ball, 20 players, 3 referees, 68.9ms\n",
      "Speed: 6.1ms preprocess, 68.9ms inference, 1.0ms postprocess per image at shape (1, 3, 1280, 1280)\n"
     ]
    },
    {
     "name": "stderr",
     "output_type": "stream",
     "text": [
      "Embedding extraction: 1it [00:00,  8.21it/s]\n",
      "FutureWarning: 'force_all_finite' was renamed to 'ensure_all_finite' in 1.6 and will be removed in 1.8.\n",
      "Processing frames:  89%|████████▉ | 535/599 [02:17<00:15,  4.14it/s]"
     ]
    },
    {
     "name": "stdout",
     "output_type": "stream",
     "text": [
      "\n",
      "0: 1280x1280 20 players, 3 referees, 68.9ms\n",
      "Speed: 6.0ms preprocess, 68.9ms inference, 1.0ms postprocess per image at shape (1, 3, 1280, 1280)\n"
     ]
    },
    {
     "name": "stderr",
     "output_type": "stream",
     "text": [
      "Embedding extraction: 1it [00:00,  7.98it/s]\n",
      "FutureWarning: 'force_all_finite' was renamed to 'ensure_all_finite' in 1.6 and will be removed in 1.8.\n",
      "Processing frames:  89%|████████▉ | 536/599 [02:17<00:15,  4.13it/s]"
     ]
    },
    {
     "name": "stdout",
     "output_type": "stream",
     "text": [
      "\n",
      "0: 1280x1280 20 players, 3 referees, 68.5ms\n",
      "Speed: 6.0ms preprocess, 68.5ms inference, 1.0ms postprocess per image at shape (1, 3, 1280, 1280)\n"
     ]
    },
    {
     "name": "stderr",
     "output_type": "stream",
     "text": [
      "Embedding extraction: 1it [00:00,  9.08it/s]\n",
      "FutureWarning: 'force_all_finite' was renamed to 'ensure_all_finite' in 1.6 and will be removed in 1.8.\n",
      "Processing frames:  90%|████████▉ | 537/599 [02:18<00:14,  4.20it/s]"
     ]
    },
    {
     "name": "stdout",
     "output_type": "stream",
     "text": [
      "\n",
      "0: 1280x1280 20 players, 3 referees, 69.0ms\n",
      "Speed: 9.2ms preprocess, 69.0ms inference, 1.0ms postprocess per image at shape (1, 3, 1280, 1280)\n"
     ]
    },
    {
     "name": "stderr",
     "output_type": "stream",
     "text": [
      "Embedding extraction: 1it [00:00,  8.08it/s]\n",
      "FutureWarning: 'force_all_finite' was renamed to 'ensure_all_finite' in 1.6 and will be removed in 1.8.\n",
      "Processing frames:  90%|████████▉ | 538/599 [02:18<00:14,  4.17it/s]"
     ]
    },
    {
     "name": "stdout",
     "output_type": "stream",
     "text": [
      "\n",
      "0: 1280x1280 20 players, 3 referees, 69.1ms\n",
      "Speed: 6.4ms preprocess, 69.1ms inference, 1.0ms postprocess per image at shape (1, 3, 1280, 1280)\n"
     ]
    },
    {
     "name": "stderr",
     "output_type": "stream",
     "text": [
      "Embedding extraction: 1it [00:00,  8.09it/s]\n",
      "FutureWarning: 'force_all_finite' was renamed to 'ensure_all_finite' in 1.6 and will be removed in 1.8.\n",
      "Processing frames:  90%|████████▉ | 539/599 [02:18<00:14,  4.15it/s]"
     ]
    },
    {
     "name": "stdout",
     "output_type": "stream",
     "text": [
      "\n",
      "0: 1280x1280 21 players, 2 referees, 68.9ms\n",
      "Speed: 6.1ms preprocess, 68.9ms inference, 1.0ms postprocess per image at shape (1, 3, 1280, 1280)\n"
     ]
    },
    {
     "name": "stderr",
     "output_type": "stream",
     "text": [
      "Embedding extraction: 1it [00:00,  8.19it/s]\n",
      "FutureWarning: 'force_all_finite' was renamed to 'ensure_all_finite' in 1.6 and will be removed in 1.8.\n",
      "Processing frames:  90%|█████████ | 540/599 [02:18<00:14,  4.15it/s]"
     ]
    },
    {
     "name": "stdout",
     "output_type": "stream",
     "text": [
      "\n",
      "0: 1280x1280 20 players, 2 referees, 68.6ms\n",
      "Speed: 10.4ms preprocess, 68.6ms inference, 1.1ms postprocess per image at shape (1, 3, 1280, 1280)\n"
     ]
    },
    {
     "name": "stderr",
     "output_type": "stream",
     "text": [
      "Embedding extraction: 1it [00:00,  8.15it/s]\n",
      "FutureWarning: 'force_all_finite' was renamed to 'ensure_all_finite' in 1.6 and will be removed in 1.8.\n",
      "Processing frames:  90%|█████████ | 541/599 [02:19<00:14,  4.13it/s]"
     ]
    },
    {
     "name": "stdout",
     "output_type": "stream",
     "text": [
      "\n",
      "0: 1280x1280 20 players, 3 referees, 69.0ms\n",
      "Speed: 6.1ms preprocess, 69.0ms inference, 1.0ms postprocess per image at shape (1, 3, 1280, 1280)\n"
     ]
    },
    {
     "name": "stderr",
     "output_type": "stream",
     "text": [
      "Embedding extraction: 1it [00:00,  8.17it/s]\n",
      "FutureWarning: 'force_all_finite' was renamed to 'ensure_all_finite' in 1.6 and will be removed in 1.8.\n",
      "Processing frames:  90%|█████████ | 542/599 [02:19<00:13,  4.14it/s]"
     ]
    },
    {
     "name": "stdout",
     "output_type": "stream",
     "text": [
      "\n",
      "0: 1280x1280 20 players, 3 referees, 69.0ms\n",
      "Speed: 6.2ms preprocess, 69.0ms inference, 1.0ms postprocess per image at shape (1, 3, 1280, 1280)\n"
     ]
    },
    {
     "name": "stderr",
     "output_type": "stream",
     "text": [
      "Embedding extraction: 1it [00:00,  8.18it/s]\n",
      "FutureWarning: 'force_all_finite' was renamed to 'ensure_all_finite' in 1.6 and will be removed in 1.8.\n",
      "Processing frames:  91%|█████████ | 543/599 [02:19<00:13,  4.15it/s]"
     ]
    },
    {
     "name": "stdout",
     "output_type": "stream",
     "text": [
      "\n",
      "0: 1280x1280 21 players, 3 referees, 68.8ms\n",
      "Speed: 6.1ms preprocess, 68.8ms inference, 1.0ms postprocess per image at shape (1, 3, 1280, 1280)\n"
     ]
    },
    {
     "name": "stderr",
     "output_type": "stream",
     "text": [
      "Embedding extraction: 1it [00:00,  7.46it/s]\n",
      "FutureWarning: 'force_all_finite' was renamed to 'ensure_all_finite' in 1.6 and will be removed in 1.8.\n",
      "Processing frames:  91%|█████████ | 544/599 [02:19<00:13,  4.09it/s]"
     ]
    },
    {
     "name": "stdout",
     "output_type": "stream",
     "text": [
      "\n",
      "0: 1280x1280 20 players, 3 referees, 69.0ms\n",
      "Speed: 9.7ms preprocess, 69.0ms inference, 1.1ms postprocess per image at shape (1, 3, 1280, 1280)\n"
     ]
    },
    {
     "name": "stderr",
     "output_type": "stream",
     "text": [
      "Embedding extraction: 1it [00:00,  8.20it/s]\n",
      "FutureWarning: 'force_all_finite' was renamed to 'ensure_all_finite' in 1.6 and will be removed in 1.8.\n",
      "Processing frames:  91%|█████████ | 545/599 [02:20<00:13,  4.09it/s]"
     ]
    },
    {
     "name": "stdout",
     "output_type": "stream",
     "text": [
      "\n",
      "0: 1280x1280 20 players, 3 referees, 68.9ms\n",
      "Speed: 6.0ms preprocess, 68.9ms inference, 1.0ms postprocess per image at shape (1, 3, 1280, 1280)\n"
     ]
    },
    {
     "name": "stderr",
     "output_type": "stream",
     "text": [
      "Embedding extraction: 1it [00:00,  8.16it/s]\n",
      "FutureWarning: 'force_all_finite' was renamed to 'ensure_all_finite' in 1.6 and will be removed in 1.8.\n",
      "Processing frames:  91%|█████████ | 546/599 [02:20<00:12,  4.11it/s]"
     ]
    },
    {
     "name": "stdout",
     "output_type": "stream",
     "text": [
      "\n",
      "0: 1280x1280 21 players, 3 referees, 69.0ms\n",
      "Speed: 6.1ms preprocess, 69.0ms inference, 1.0ms postprocess per image at shape (1, 3, 1280, 1280)\n"
     ]
    },
    {
     "name": "stderr",
     "output_type": "stream",
     "text": [
      "Embedding extraction: 1it [00:00,  8.20it/s]\n",
      "FutureWarning: 'force_all_finite' was renamed to 'ensure_all_finite' in 1.6 and will be removed in 1.8.\n",
      "Processing frames:  91%|█████████▏| 547/599 [02:20<00:12,  4.13it/s]"
     ]
    },
    {
     "name": "stdout",
     "output_type": "stream",
     "text": [
      "\n",
      "0: 1280x1280 21 players, 2 referees, 68.9ms\n",
      "Speed: 6.1ms preprocess, 68.9ms inference, 1.0ms postprocess per image at shape (1, 3, 1280, 1280)\n"
     ]
    },
    {
     "name": "stderr",
     "output_type": "stream",
     "text": [
      "Embedding extraction: 1it [00:00,  8.22it/s]\n",
      "FutureWarning: 'force_all_finite' was renamed to 'ensure_all_finite' in 1.6 and will be removed in 1.8.\n",
      "Processing frames:  91%|█████████▏| 548/599 [02:20<00:12,  4.14it/s]"
     ]
    },
    {
     "name": "stdout",
     "output_type": "stream",
     "text": [
      "\n",
      "0: 1280x1280 20 players, 4 referees, 68.7ms\n",
      "Speed: 6.2ms preprocess, 68.7ms inference, 1.0ms postprocess per image at shape (1, 3, 1280, 1280)\n"
     ]
    },
    {
     "name": "stderr",
     "output_type": "stream",
     "text": [
      "Embedding extraction: 1it [00:00,  8.20it/s]\n",
      "FutureWarning: 'force_all_finite' was renamed to 'ensure_all_finite' in 1.6 and will be removed in 1.8.\n",
      "Processing frames:  92%|█████████▏| 549/599 [02:21<00:12,  4.15it/s]"
     ]
    },
    {
     "name": "stdout",
     "output_type": "stream",
     "text": [
      "\n",
      "0: 1280x1280 20 players, 4 referees, 68.7ms\n",
      "Speed: 6.1ms preprocess, 68.7ms inference, 1.0ms postprocess per image at shape (1, 3, 1280, 1280)\n"
     ]
    },
    {
     "name": "stderr",
     "output_type": "stream",
     "text": [
      "Embedding extraction: 1it [00:00,  8.13it/s]\n",
      "FutureWarning: 'force_all_finite' was renamed to 'ensure_all_finite' in 1.6 and will be removed in 1.8.\n",
      "Processing frames:  92%|█████████▏| 550/599 [02:21<00:11,  4.15it/s]"
     ]
    },
    {
     "name": "stdout",
     "output_type": "stream",
     "text": [
      "\n",
      "0: 1280x1280 20 players, 3 referees, 68.9ms\n",
      "Speed: 6.1ms preprocess, 68.9ms inference, 0.9ms postprocess per image at shape (1, 3, 1280, 1280)\n"
     ]
    },
    {
     "name": "stderr",
     "output_type": "stream",
     "text": [
      "Embedding extraction: 1it [00:00,  8.17it/s]\n",
      "FutureWarning: 'force_all_finite' was renamed to 'ensure_all_finite' in 1.6 and will be removed in 1.8.\n",
      "Processing frames:  92%|█████████▏| 551/599 [02:21<00:11,  4.16it/s]"
     ]
    },
    {
     "name": "stdout",
     "output_type": "stream",
     "text": [
      "\n",
      "0: 1280x1280 20 players, 3 referees, 68.6ms\n",
      "Speed: 6.1ms preprocess, 68.6ms inference, 1.0ms postprocess per image at shape (1, 3, 1280, 1280)\n"
     ]
    },
    {
     "name": "stderr",
     "output_type": "stream",
     "text": [
      "Embedding extraction: 1it [00:00,  8.12it/s]\n",
      "FutureWarning: 'force_all_finite' was renamed to 'ensure_all_finite' in 1.6 and will be removed in 1.8.\n",
      "Processing frames:  92%|█████████▏| 552/599 [02:21<00:11,  4.16it/s]"
     ]
    },
    {
     "name": "stdout",
     "output_type": "stream",
     "text": [
      "\n",
      "0: 1280x1280 21 players, 4 referees, 68.6ms\n",
      "Speed: 6.1ms preprocess, 68.6ms inference, 1.0ms postprocess per image at shape (1, 3, 1280, 1280)\n"
     ]
    },
    {
     "name": "stderr",
     "output_type": "stream",
     "text": [
      "Embedding extraction: 1it [00:00,  8.14it/s]\n",
      "FutureWarning: 'force_all_finite' was renamed to 'ensure_all_finite' in 1.6 and will be removed in 1.8.\n",
      "Processing frames:  92%|█████████▏| 553/599 [02:22<00:11,  4.13it/s]"
     ]
    },
    {
     "name": "stdout",
     "output_type": "stream",
     "text": [
      "\n",
      "0: 1280x1280 20 players, 3 referees, 69.1ms\n",
      "Speed: 8.7ms preprocess, 69.1ms inference, 1.0ms postprocess per image at shape (1, 3, 1280, 1280)\n"
     ]
    },
    {
     "name": "stderr",
     "output_type": "stream",
     "text": [
      "Embedding extraction: 1it [00:00,  8.19it/s]\n",
      "FutureWarning: 'force_all_finite' was renamed to 'ensure_all_finite' in 1.6 and will be removed in 1.8.\n",
      "Processing frames:  92%|█████████▏| 554/599 [02:22<00:10,  4.13it/s]"
     ]
    },
    {
     "name": "stdout",
     "output_type": "stream",
     "text": [
      "\n",
      "0: 1280x1280 20 players, 3 referees, 68.9ms\n",
      "Speed: 8.4ms preprocess, 68.9ms inference, 1.0ms postprocess per image at shape (1, 3, 1280, 1280)\n"
     ]
    },
    {
     "name": "stderr",
     "output_type": "stream",
     "text": [
      "Embedding extraction: 1it [00:00,  8.07it/s]\n",
      "FutureWarning: 'force_all_finite' was renamed to 'ensure_all_finite' in 1.6 and will be removed in 1.8.\n",
      "Processing frames:  93%|█████████▎| 555/599 [02:22<00:10,  4.12it/s]"
     ]
    },
    {
     "name": "stdout",
     "output_type": "stream",
     "text": [
      "\n",
      "0: 1280x1280 20 players, 4 referees, 68.8ms\n",
      "Speed: 9.7ms preprocess, 68.8ms inference, 1.0ms postprocess per image at shape (1, 3, 1280, 1280)\n"
     ]
    },
    {
     "name": "stderr",
     "output_type": "stream",
     "text": [
      "Embedding extraction: 1it [00:00,  8.15it/s]\n",
      "FutureWarning: 'force_all_finite' was renamed to 'ensure_all_finite' in 1.6 and will be removed in 1.8.\n",
      "Processing frames:  93%|█████████▎| 556/599 [02:22<00:10,  4.10it/s]"
     ]
    },
    {
     "name": "stdout",
     "output_type": "stream",
     "text": [
      "\n",
      "0: 1280x1280 20 players, 3 referees, 69.0ms\n",
      "Speed: 6.1ms preprocess, 69.0ms inference, 0.9ms postprocess per image at shape (1, 3, 1280, 1280)\n"
     ]
    },
    {
     "name": "stderr",
     "output_type": "stream",
     "text": [
      "Embedding extraction: 1it [00:00,  8.21it/s]\n",
      "FutureWarning: 'force_all_finite' was renamed to 'ensure_all_finite' in 1.6 and will be removed in 1.8.\n",
      "Processing frames:  93%|█████████▎| 557/599 [02:23<00:10,  4.11it/s]"
     ]
    },
    {
     "name": "stdout",
     "output_type": "stream",
     "text": [
      "\n",
      "0: 1280x1280 20 players, 3 referees, 68.7ms\n",
      "Speed: 6.1ms preprocess, 68.7ms inference, 1.0ms postprocess per image at shape (1, 3, 1280, 1280)\n"
     ]
    },
    {
     "name": "stderr",
     "output_type": "stream",
     "text": [
      "Embedding extraction: 1it [00:00,  8.18it/s]\n",
      "FutureWarning: 'force_all_finite' was renamed to 'ensure_all_finite' in 1.6 and will be removed in 1.8.\n",
      "Processing frames:  93%|█████████▎| 558/599 [02:23<00:09,  4.13it/s]"
     ]
    },
    {
     "name": "stdout",
     "output_type": "stream",
     "text": [
      "\n",
      "0: 1280x1280 20 players, 2 referees, 68.7ms\n",
      "Speed: 6.2ms preprocess, 68.7ms inference, 1.0ms postprocess per image at shape (1, 3, 1280, 1280)\n"
     ]
    },
    {
     "name": "stderr",
     "output_type": "stream",
     "text": [
      "Embedding extraction: 1it [00:00,  8.16it/s]\n",
      "FutureWarning: 'force_all_finite' was renamed to 'ensure_all_finite' in 1.6 and will be removed in 1.8.\n",
      "Processing frames:  93%|█████████▎| 559/599 [02:23<00:09,  4.12it/s]"
     ]
    },
    {
     "name": "stdout",
     "output_type": "stream",
     "text": [
      "\n",
      "0: 1280x1280 20 players, 2 referees, 68.8ms\n",
      "Speed: 10.9ms preprocess, 68.8ms inference, 1.0ms postprocess per image at shape (1, 3, 1280, 1280)\n"
     ]
    },
    {
     "name": "stderr",
     "output_type": "stream",
     "text": [
      "Embedding extraction: 1it [00:00,  8.05it/s]\n",
      "FutureWarning: 'force_all_finite' was renamed to 'ensure_all_finite' in 1.6 and will be removed in 1.8.\n",
      "Processing frames:  93%|█████████▎| 560/599 [02:23<00:09,  4.10it/s]"
     ]
    },
    {
     "name": "stdout",
     "output_type": "stream",
     "text": [
      "\n",
      "0: 1280x1280 20 players, 3 referees, 68.8ms\n",
      "Speed: 6.1ms preprocess, 68.8ms inference, 1.0ms postprocess per image at shape (1, 3, 1280, 1280)\n"
     ]
    },
    {
     "name": "stderr",
     "output_type": "stream",
     "text": [
      "Embedding extraction: 1it [00:00,  8.00it/s]\n",
      "FutureWarning: 'force_all_finite' was renamed to 'ensure_all_finite' in 1.6 and will be removed in 1.8.\n",
      "Processing frames:  94%|█████████▎| 561/599 [02:24<00:09,  4.09it/s]"
     ]
    },
    {
     "name": "stdout",
     "output_type": "stream",
     "text": [
      "\n",
      "0: 1280x1280 20 players, 3 referees, 68.9ms\n",
      "Speed: 6.1ms preprocess, 68.9ms inference, 1.0ms postprocess per image at shape (1, 3, 1280, 1280)\n"
     ]
    },
    {
     "name": "stderr",
     "output_type": "stream",
     "text": [
      "Embedding extraction: 1it [00:00,  7.90it/s]\n",
      "FutureWarning: 'force_all_finite' was renamed to 'ensure_all_finite' in 1.6 and will be removed in 1.8.\n",
      "Processing frames:  94%|█████████▍| 562/599 [02:24<00:09,  4.09it/s]"
     ]
    },
    {
     "name": "stdout",
     "output_type": "stream",
     "text": [
      "\n",
      "0: 1280x1280 20 players, 3 referees, 69.3ms\n",
      "Speed: 6.2ms preprocess, 69.3ms inference, 1.1ms postprocess per image at shape (1, 3, 1280, 1280)\n"
     ]
    },
    {
     "name": "stderr",
     "output_type": "stream",
     "text": [
      "Embedding extraction: 1it [00:00,  8.15it/s]\n",
      "FutureWarning: 'force_all_finite' was renamed to 'ensure_all_finite' in 1.6 and will be removed in 1.8.\n",
      "Processing frames:  94%|█████████▍| 563/599 [02:24<00:08,  4.10it/s]"
     ]
    },
    {
     "name": "stdout",
     "output_type": "stream",
     "text": [
      "\n",
      "0: 1280x1280 20 players, 4 referees, 69.1ms\n",
      "Speed: 9.9ms preprocess, 69.1ms inference, 1.0ms postprocess per image at shape (1, 3, 1280, 1280)\n"
     ]
    },
    {
     "name": "stderr",
     "output_type": "stream",
     "text": [
      "Embedding extraction: 1it [00:00,  8.08it/s]\n",
      "FutureWarning: 'force_all_finite' was renamed to 'ensure_all_finite' in 1.6 and will be removed in 1.8.\n",
      "Processing frames:  94%|█████████▍| 564/599 [02:24<00:08,  4.09it/s]"
     ]
    },
    {
     "name": "stdout",
     "output_type": "stream",
     "text": [
      "\n",
      "0: 1280x1280 1 ball, 21 players, 4 referees, 69.0ms\n",
      "Speed: 6.1ms preprocess, 69.0ms inference, 1.0ms postprocess per image at shape (1, 3, 1280, 1280)\n"
     ]
    },
    {
     "name": "stderr",
     "output_type": "stream",
     "text": [
      "Embedding extraction: 1it [00:00,  8.10it/s]\n",
      "FutureWarning: 'force_all_finite' was renamed to 'ensure_all_finite' in 1.6 and will be removed in 1.8.\n",
      "Processing frames:  94%|█████████▍| 565/599 [02:24<00:08,  4.11it/s]"
     ]
    },
    {
     "name": "stdout",
     "output_type": "stream",
     "text": [
      "\n",
      "0: 1280x1280 22 players, 3 referees, 69.0ms\n",
      "Speed: 6.2ms preprocess, 69.0ms inference, 1.0ms postprocess per image at shape (1, 3, 1280, 1280)\n"
     ]
    },
    {
     "name": "stderr",
     "output_type": "stream",
     "text": [
      "Embedding extraction: 1it [00:00,  8.09it/s]\n",
      "FutureWarning: 'force_all_finite' was renamed to 'ensure_all_finite' in 1.6 and will be removed in 1.8.\n",
      "Processing frames:  94%|█████████▍| 566/599 [02:25<00:08,  4.12it/s]"
     ]
    },
    {
     "name": "stdout",
     "output_type": "stream",
     "text": [
      "\n",
      "0: 1280x1280 21 players, 3 referees, 69.2ms\n",
      "Speed: 6.6ms preprocess, 69.2ms inference, 1.0ms postprocess per image at shape (1, 3, 1280, 1280)\n"
     ]
    },
    {
     "name": "stderr",
     "output_type": "stream",
     "text": [
      "Embedding extraction: 1it [00:00,  8.12it/s]\n",
      "FutureWarning: 'force_all_finite' was renamed to 'ensure_all_finite' in 1.6 and will be removed in 1.8.\n",
      "Processing frames:  95%|█████████▍| 567/599 [02:25<00:07,  4.13it/s]"
     ]
    },
    {
     "name": "stdout",
     "output_type": "stream",
     "text": [
      "\n",
      "0: 1280x1280 20 players, 3 referees, 68.6ms\n",
      "Speed: 10.9ms preprocess, 68.6ms inference, 1.3ms postprocess per image at shape (1, 3, 1280, 1280)\n"
     ]
    },
    {
     "name": "stderr",
     "output_type": "stream",
     "text": [
      "Embedding extraction: 1it [00:00,  8.16it/s]\n",
      "FutureWarning: 'force_all_finite' was renamed to 'ensure_all_finite' in 1.6 and will be removed in 1.8.\n",
      "Processing frames:  95%|█████████▍| 568/599 [02:25<00:07,  4.12it/s]"
     ]
    },
    {
     "name": "stdout",
     "output_type": "stream",
     "text": [
      "\n",
      "0: 1280x1280 20 players, 3 referees, 69.0ms\n",
      "Speed: 6.3ms preprocess, 69.0ms inference, 1.0ms postprocess per image at shape (1, 3, 1280, 1280)\n"
     ]
    },
    {
     "name": "stderr",
     "output_type": "stream",
     "text": [
      "Embedding extraction: 1it [00:00,  8.08it/s]\n",
      "FutureWarning: 'force_all_finite' was renamed to 'ensure_all_finite' in 1.6 and will be removed in 1.8.\n",
      "Processing frames:  95%|█████████▍| 569/599 [02:25<00:07,  4.13it/s]"
     ]
    },
    {
     "name": "stdout",
     "output_type": "stream",
     "text": [
      "\n",
      "0: 1280x1280 21 players, 2 referees, 68.5ms\n",
      "Speed: 6.4ms preprocess, 68.5ms inference, 1.1ms postprocess per image at shape (1, 3, 1280, 1280)\n"
     ]
    },
    {
     "name": "stderr",
     "output_type": "stream",
     "text": [
      "Embedding extraction: 1it [00:00,  7.42it/s]\n",
      "FutureWarning: 'force_all_finite' was renamed to 'ensure_all_finite' in 1.6 and will be removed in 1.8.\n",
      "Processing frames:  95%|█████████▌| 570/599 [02:26<00:07,  4.08it/s]"
     ]
    },
    {
     "name": "stdout",
     "output_type": "stream",
     "text": [
      "\n",
      "0: 1280x1280 21 players, 3 referees, 69.3ms\n",
      "Speed: 7.2ms preprocess, 69.3ms inference, 1.0ms postprocess per image at shape (1, 3, 1280, 1280)\n"
     ]
    },
    {
     "name": "stderr",
     "output_type": "stream",
     "text": [
      "Embedding extraction: 1it [00:00,  7.33it/s]\n",
      "FutureWarning: 'force_all_finite' was renamed to 'ensure_all_finite' in 1.6 and will be removed in 1.8.\n",
      "Processing frames:  95%|█████████▌| 571/599 [02:26<00:06,  4.03it/s]"
     ]
    },
    {
     "name": "stdout",
     "output_type": "stream",
     "text": [
      "\n",
      "0: 1280x1280 20 players, 3 referees, 69.6ms\n",
      "Speed: 6.2ms preprocess, 69.6ms inference, 1.0ms postprocess per image at shape (1, 3, 1280, 1280)\n"
     ]
    },
    {
     "name": "stderr",
     "output_type": "stream",
     "text": [
      "Embedding extraction: 1it [00:00,  8.11it/s]\n",
      "FutureWarning: 'force_all_finite' was renamed to 'ensure_all_finite' in 1.6 and will be removed in 1.8.\n",
      "Processing frames:  95%|█████████▌| 572/599 [02:26<00:06,  4.06it/s]"
     ]
    },
    {
     "name": "stdout",
     "output_type": "stream",
     "text": [
      "\n",
      "0: 1280x1280 20 players, 3 referees, 68.9ms\n",
      "Speed: 8.8ms preprocess, 68.9ms inference, 1.0ms postprocess per image at shape (1, 3, 1280, 1280)\n"
     ]
    },
    {
     "name": "stderr",
     "output_type": "stream",
     "text": [
      "Embedding extraction: 1it [00:00,  8.05it/s]\n",
      "FutureWarning: 'force_all_finite' was renamed to 'ensure_all_finite' in 1.6 and will be removed in 1.8.\n",
      "Processing frames:  96%|█████████▌| 573/599 [02:26<00:06,  4.07it/s]"
     ]
    },
    {
     "name": "stdout",
     "output_type": "stream",
     "text": [
      "\n",
      "0: 1280x1280 20 players, 3 referees, 69.5ms\n",
      "Speed: 6.2ms preprocess, 69.5ms inference, 1.0ms postprocess per image at shape (1, 3, 1280, 1280)\n"
     ]
    },
    {
     "name": "stderr",
     "output_type": "stream",
     "text": [
      "Embedding extraction: 1it [00:00,  8.09it/s]\n",
      "FutureWarning: 'force_all_finite' was renamed to 'ensure_all_finite' in 1.6 and will be removed in 1.8.\n",
      "Processing frames:  96%|█████████▌| 574/599 [02:27<00:06,  4.09it/s]"
     ]
    },
    {
     "name": "stdout",
     "output_type": "stream",
     "text": [
      "\n",
      "0: 1280x1280 20 players, 4 referees, 69.8ms\n",
      "Speed: 6.2ms preprocess, 69.8ms inference, 1.4ms postprocess per image at shape (1, 3, 1280, 1280)\n"
     ]
    },
    {
     "name": "stderr",
     "output_type": "stream",
     "text": [
      "Embedding extraction: 1it [00:00,  8.15it/s]\n",
      "FutureWarning: 'force_all_finite' was renamed to 'ensure_all_finite' in 1.6 and will be removed in 1.8.\n",
      "Processing frames:  96%|█████████▌| 575/599 [02:27<00:05,  4.09it/s]"
     ]
    },
    {
     "name": "stdout",
     "output_type": "stream",
     "text": [
      "\n",
      "0: 1280x1280 20 players, 5 referees, 69.7ms\n",
      "Speed: 11.0ms preprocess, 69.7ms inference, 1.0ms postprocess per image at shape (1, 3, 1280, 1280)\n"
     ]
    },
    {
     "name": "stderr",
     "output_type": "stream",
     "text": [
      "Embedding extraction: 1it [00:00,  8.04it/s]\n",
      "FutureWarning: 'force_all_finite' was renamed to 'ensure_all_finite' in 1.6 and will be removed in 1.8.\n",
      "Processing frames:  96%|█████████▌| 576/599 [02:27<00:05,  4.07it/s]"
     ]
    },
    {
     "name": "stdout",
     "output_type": "stream",
     "text": [
      "\n",
      "0: 1280x1280 20 players, 3 referees, 69.4ms\n",
      "Speed: 6.1ms preprocess, 69.4ms inference, 1.0ms postprocess per image at shape (1, 3, 1280, 1280)\n"
     ]
    },
    {
     "name": "stderr",
     "output_type": "stream",
     "text": [
      "Embedding extraction: 1it [00:00,  8.07it/s]\n",
      "FutureWarning: 'force_all_finite' was renamed to 'ensure_all_finite' in 1.6 and will be removed in 1.8.\n",
      "Processing frames:  96%|█████████▋| 577/599 [02:27<00:05,  4.09it/s]"
     ]
    },
    {
     "name": "stdout",
     "output_type": "stream",
     "text": [
      "\n",
      "0: 1280x1280 21 players, 3 referees, 69.1ms\n",
      "Speed: 6.0ms preprocess, 69.1ms inference, 1.0ms postprocess per image at shape (1, 3, 1280, 1280)\n"
     ]
    },
    {
     "name": "stderr",
     "output_type": "stream",
     "text": [
      "Embedding extraction: 1it [00:00,  8.04it/s]\n",
      "FutureWarning: 'force_all_finite' was renamed to 'ensure_all_finite' in 1.6 and will be removed in 1.8.\n",
      "Processing frames:  96%|█████████▋| 578/599 [02:28<00:05,  4.10it/s]"
     ]
    },
    {
     "name": "stdout",
     "output_type": "stream",
     "text": [
      "\n",
      "0: 1280x1280 20 players, 3 referees, 69.0ms\n",
      "Speed: 6.9ms preprocess, 69.0ms inference, 1.0ms postprocess per image at shape (1, 3, 1280, 1280)\n"
     ]
    },
    {
     "name": "stderr",
     "output_type": "stream",
     "text": [
      "Embedding extraction: 1it [00:00,  8.01it/s]\n",
      "FutureWarning: 'force_all_finite' was renamed to 'ensure_all_finite' in 1.6 and will be removed in 1.8.\n",
      "Processing frames:  97%|█████████▋| 579/599 [02:28<00:04,  4.11it/s]"
     ]
    },
    {
     "name": "stdout",
     "output_type": "stream",
     "text": [
      "\n",
      "0: 1280x1280 20 players, 3 referees, 68.7ms\n",
      "Speed: 10.8ms preprocess, 68.7ms inference, 1.3ms postprocess per image at shape (1, 3, 1280, 1280)\n"
     ]
    },
    {
     "name": "stderr",
     "output_type": "stream",
     "text": [
      "Embedding extraction: 1it [00:00,  8.22it/s]\n",
      "FutureWarning: 'force_all_finite' was renamed to 'ensure_all_finite' in 1.6 and will be removed in 1.8.\n",
      "Processing frames:  97%|█████████▋| 580/599 [02:28<00:04,  4.10it/s]"
     ]
    },
    {
     "name": "stdout",
     "output_type": "stream",
     "text": [
      "\n",
      "0: 1280x1280 20 players, 3 referees, 68.8ms\n",
      "Speed: 6.2ms preprocess, 68.8ms inference, 1.0ms postprocess per image at shape (1, 3, 1280, 1280)\n"
     ]
    },
    {
     "name": "stderr",
     "output_type": "stream",
     "text": [
      "Embedding extraction: 1it [00:00,  8.22it/s]\n",
      "FutureWarning: 'force_all_finite' was renamed to 'ensure_all_finite' in 1.6 and will be removed in 1.8.\n",
      "Processing frames:  97%|█████████▋| 581/599 [02:28<00:04,  4.12it/s]"
     ]
    },
    {
     "name": "stdout",
     "output_type": "stream",
     "text": [
      "\n",
      "0: 1280x1280 20 players, 3 referees, 68.6ms\n",
      "Speed: 6.1ms preprocess, 68.6ms inference, 1.0ms postprocess per image at shape (1, 3, 1280, 1280)\n"
     ]
    },
    {
     "name": "stderr",
     "output_type": "stream",
     "text": [
      "Embedding extraction: 1it [00:00,  8.12it/s]\n",
      "FutureWarning: 'force_all_finite' was renamed to 'ensure_all_finite' in 1.6 and will be removed in 1.8.\n",
      "Processing frames:  97%|█████████▋| 582/599 [02:29<00:04,  4.13it/s]"
     ]
    },
    {
     "name": "stdout",
     "output_type": "stream",
     "text": [
      "\n",
      "0: 1280x1280 1 ball, 20 players, 3 referees, 68.8ms\n",
      "Speed: 6.0ms preprocess, 68.8ms inference, 1.0ms postprocess per image at shape (1, 3, 1280, 1280)\n"
     ]
    },
    {
     "name": "stderr",
     "output_type": "stream",
     "text": [
      "Embedding extraction: 1it [00:00,  8.14it/s]\n",
      "FutureWarning: 'force_all_finite' was renamed to 'ensure_all_finite' in 1.6 and will be removed in 1.8.\n",
      "Processing frames:  97%|█████████▋| 583/599 [02:29<00:03,  4.14it/s]"
     ]
    },
    {
     "name": "stdout",
     "output_type": "stream",
     "text": [
      "\n",
      "0: 1280x1280 20 players, 3 referees, 69.5ms\n",
      "Speed: 10.7ms preprocess, 69.5ms inference, 1.1ms postprocess per image at shape (1, 3, 1280, 1280)\n"
     ]
    },
    {
     "name": "stderr",
     "output_type": "stream",
     "text": [
      "Embedding extraction: 1it [00:00,  8.11it/s]\n",
      "FutureWarning: 'force_all_finite' was renamed to 'ensure_all_finite' in 1.6 and will be removed in 1.8.\n",
      "Processing frames:  97%|█████████▋| 584/599 [02:29<00:03,  4.09it/s]"
     ]
    },
    {
     "name": "stdout",
     "output_type": "stream",
     "text": [
      "\n",
      "0: 1280x1280 1 ball, 20 players, 3 referees, 69.2ms\n",
      "Speed: 9.0ms preprocess, 69.2ms inference, 1.0ms postprocess per image at shape (1, 3, 1280, 1280)\n"
     ]
    },
    {
     "name": "stderr",
     "output_type": "stream",
     "text": [
      "Embedding extraction: 1it [00:00,  8.06it/s]\n",
      "FutureWarning: 'force_all_finite' was renamed to 'ensure_all_finite' in 1.6 and will be removed in 1.8.\n",
      "Processing frames:  98%|█████████▊| 585/599 [02:29<00:03,  4.06it/s]"
     ]
    },
    {
     "name": "stdout",
     "output_type": "stream",
     "text": [
      "\n",
      "0: 1280x1280 20 players, 3 referees, 68.9ms\n",
      "Speed: 6.2ms preprocess, 68.9ms inference, 1.2ms postprocess per image at shape (1, 3, 1280, 1280)\n"
     ]
    },
    {
     "name": "stderr",
     "output_type": "stream",
     "text": [
      "Embedding extraction: 1it [00:00,  8.15it/s]\n",
      "FutureWarning: 'force_all_finite' was renamed to 'ensure_all_finite' in 1.6 and will be removed in 1.8.\n",
      "Processing frames:  98%|█████████▊| 586/599 [02:30<00:03,  4.08it/s]"
     ]
    },
    {
     "name": "stdout",
     "output_type": "stream",
     "text": [
      "\n",
      "0: 1280x1280 1 ball, 20 players, 3 referees, 69.7ms\n",
      "Speed: 6.0ms preprocess, 69.7ms inference, 1.0ms postprocess per image at shape (1, 3, 1280, 1280)\n"
     ]
    },
    {
     "name": "stderr",
     "output_type": "stream",
     "text": [
      "Embedding extraction: 1it [00:00,  8.11it/s]\n",
      "FutureWarning: 'force_all_finite' was renamed to 'ensure_all_finite' in 1.6 and will be removed in 1.8.\n",
      "Processing frames:  98%|█████████▊| 587/599 [02:30<00:02,  4.10it/s]"
     ]
    },
    {
     "name": "stdout",
     "output_type": "stream",
     "text": [
      "\n",
      "0: 1280x1280 20 players, 3 referees, 69.6ms\n",
      "Speed: 6.1ms preprocess, 69.6ms inference, 1.2ms postprocess per image at shape (1, 3, 1280, 1280)\n"
     ]
    },
    {
     "name": "stderr",
     "output_type": "stream",
     "text": [
      "Embedding extraction: 1it [00:00,  8.12it/s]\n",
      "FutureWarning: 'force_all_finite' was renamed to 'ensure_all_finite' in 1.6 and will be removed in 1.8.\n",
      "Processing frames:  98%|█████████▊| 588/599 [02:30<00:02,  4.11it/s]"
     ]
    },
    {
     "name": "stdout",
     "output_type": "stream",
     "text": [
      "\n",
      "0: 1280x1280 20 players, 3 referees, 69.0ms\n",
      "Speed: 9.6ms preprocess, 69.0ms inference, 1.0ms postprocess per image at shape (1, 3, 1280, 1280)\n"
     ]
    },
    {
     "name": "stderr",
     "output_type": "stream",
     "text": [
      "Embedding extraction: 1it [00:00,  7.92it/s]\n",
      "FutureWarning: 'force_all_finite' was renamed to 'ensure_all_finite' in 1.6 and will be removed in 1.8.\n",
      "Processing frames:  98%|█████████▊| 589/599 [02:30<00:02,  4.09it/s]"
     ]
    },
    {
     "name": "stdout",
     "output_type": "stream",
     "text": [
      "\n",
      "0: 1280x1280 20 players, 3 referees, 69.0ms\n",
      "Speed: 8.1ms preprocess, 69.0ms inference, 1.0ms postprocess per image at shape (1, 3, 1280, 1280)\n"
     ]
    },
    {
     "name": "stderr",
     "output_type": "stream",
     "text": [
      "Embedding extraction: 1it [00:00,  8.22it/s]\n",
      "FutureWarning: 'force_all_finite' was renamed to 'ensure_all_finite' in 1.6 and will be removed in 1.8.\n",
      "Processing frames:  98%|█████████▊| 590/599 [02:31<00:02,  4.11it/s]"
     ]
    },
    {
     "name": "stdout",
     "output_type": "stream",
     "text": [
      "\n",
      "0: 1280x1280 20 players, 3 referees, 68.8ms\n",
      "Speed: 10.1ms preprocess, 68.8ms inference, 1.0ms postprocess per image at shape (1, 3, 1280, 1280)\n"
     ]
    },
    {
     "name": "stderr",
     "output_type": "stream",
     "text": [
      "Embedding extraction: 1it [00:00,  8.13it/s]\n",
      "FutureWarning: 'force_all_finite' was renamed to 'ensure_all_finite' in 1.6 and will be removed in 1.8.\n",
      "Processing frames:  99%|█████████▊| 591/599 [02:31<00:01,  4.10it/s]"
     ]
    },
    {
     "name": "stdout",
     "output_type": "stream",
     "text": [
      "\n",
      "0: 1280x1280 20 players, 3 referees, 68.9ms\n",
      "Speed: 6.1ms preprocess, 68.9ms inference, 1.0ms postprocess per image at shape (1, 3, 1280, 1280)\n"
     ]
    },
    {
     "name": "stderr",
     "output_type": "stream",
     "text": [
      "Embedding extraction: 1it [00:00,  8.15it/s]\n",
      "FutureWarning: 'force_all_finite' was renamed to 'ensure_all_finite' in 1.6 and will be removed in 1.8.\n",
      "Processing frames:  99%|█████████▉| 592/599 [02:31<00:01,  4.11it/s]"
     ]
    },
    {
     "name": "stdout",
     "output_type": "stream",
     "text": [
      "\n",
      "0: 1280x1280 20 players, 3 referees, 69.3ms\n",
      "Speed: 9.1ms preprocess, 69.3ms inference, 1.0ms postprocess per image at shape (1, 3, 1280, 1280)\n"
     ]
    },
    {
     "name": "stderr",
     "output_type": "stream",
     "text": [
      "Embedding extraction: 1it [00:00,  8.06it/s]\n",
      "FutureWarning: 'force_all_finite' was renamed to 'ensure_all_finite' in 1.6 and will be removed in 1.8.\n",
      "Processing frames:  99%|█████████▉| 593/599 [02:32<00:03,  1.74it/s]"
     ]
    },
    {
     "name": "stdout",
     "output_type": "stream",
     "text": [
      "Saved mini clip: app/test_data/predicted/actions/clip_007.mp4\n",
      "\n",
      "0: 1280x1280 1 ball, 20 players, 3 referees, 68.9ms\n",
      "Speed: 6.0ms preprocess, 68.9ms inference, 1.0ms postprocess per image at shape (1, 3, 1280, 1280)\n"
     ]
    },
    {
     "name": "stderr",
     "output_type": "stream",
     "text": [
      "Embedding extraction: 1it [00:00,  8.11it/s]\n",
      "FutureWarning: 'force_all_finite' was renamed to 'ensure_all_finite' in 1.6 and will be removed in 1.8.\n",
      "Processing frames:  99%|█████████▉| 594/599 [02:33<00:02,  2.10it/s]"
     ]
    },
    {
     "name": "stdout",
     "output_type": "stream",
     "text": [
      "\n",
      "0: 1280x1280 20 players, 3 referees, 68.9ms\n",
      "Speed: 6.4ms preprocess, 68.9ms inference, 2.4ms postprocess per image at shape (1, 3, 1280, 1280)\n"
     ]
    },
    {
     "name": "stderr",
     "output_type": "stream",
     "text": [
      "Embedding extraction: 1it [00:00,  8.20it/s]\n",
      "FutureWarning: 'force_all_finite' was renamed to 'ensure_all_finite' in 1.6 and will be removed in 1.8.\n",
      "Processing frames:  99%|█████████▉| 595/599 [02:33<00:01,  2.46it/s]"
     ]
    },
    {
     "name": "stdout",
     "output_type": "stream",
     "text": [
      "\n",
      "0: 1280x1280 1 ball, 20 players, 3 referees, 69.7ms\n",
      "Speed: 6.2ms preprocess, 69.7ms inference, 1.0ms postprocess per image at shape (1, 3, 1280, 1280)\n"
     ]
    },
    {
     "name": "stderr",
     "output_type": "stream",
     "text": [
      "Embedding extraction: 1it [00:00,  8.07it/s]\n",
      "FutureWarning: 'force_all_finite' was renamed to 'ensure_all_finite' in 1.6 and will be removed in 1.8.\n",
      "Processing frames:  99%|█████████▉| 596/599 [02:33<00:01,  2.79it/s]"
     ]
    },
    {
     "name": "stdout",
     "output_type": "stream",
     "text": [
      "\n",
      "0: 1280x1280 1 ball, 20 players, 3 referees, 68.9ms\n",
      "Speed: 9.3ms preprocess, 68.9ms inference, 1.0ms postprocess per image at shape (1, 3, 1280, 1280)\n"
     ]
    },
    {
     "name": "stderr",
     "output_type": "stream",
     "text": [
      "Embedding extraction: 1it [00:00,  8.05it/s]\n",
      "FutureWarning: 'force_all_finite' was renamed to 'ensure_all_finite' in 1.6 and will be removed in 1.8.\n",
      "Processing frames: 100%|█████████▉| 597/599 [02:33<00:00,  3.08it/s]"
     ]
    },
    {
     "name": "stdout",
     "output_type": "stream",
     "text": [
      "\n",
      "0: 1280x1280 1 ball, 20 players, 3 referees, 69.0ms\n",
      "Speed: 8.4ms preprocess, 69.0ms inference, 1.0ms postprocess per image at shape (1, 3, 1280, 1280)\n"
     ]
    },
    {
     "name": "stderr",
     "output_type": "stream",
     "text": [
      "Embedding extraction: 1it [00:00,  8.12it/s]\n",
      "FutureWarning: 'force_all_finite' was renamed to 'ensure_all_finite' in 1.6 and will be removed in 1.8.\n",
      "Processing frames: 100%|█████████▉| 598/599 [02:34<00:00,  3.33it/s]"
     ]
    },
    {
     "name": "stdout",
     "output_type": "stream",
     "text": [
      "\n",
      "0: 1280x1280 1 ball, 20 players, 3 referees, 68.8ms\n",
      "Speed: 8.4ms preprocess, 68.8ms inference, 1.0ms postprocess per image at shape (1, 3, 1280, 1280)\n"
     ]
    },
    {
     "name": "stderr",
     "output_type": "stream",
     "text": [
      "Embedding extraction: 1it [00:00,  8.14it/s]\n",
      "FutureWarning: 'force_all_finite' was renamed to 'ensure_all_finite' in 1.6 and will be removed in 1.8.\n",
      "Processing frames: 100%|██████████| 599/599 [02:34<00:00,  3.88it/s]\n"
     ]
    }
   ],
   "source": [
    "import os\n",
    "import supervision as sv\n",
    "from tqdm import tqdm\n",
    "import numpy as np\n",
    "import cv2\n",
    "from collections import deque\n",
    "import umap\n",
    "from sklearn.cluster import KMeans\n",
    "from sports.common.team import TeamClassifier\n",
    "\n",
    "# ----- Configuration and Annotators -----\n",
    "SOURCE_VIDEO_PATH = \"app/test_data/raw/0bfacc_0.mp4\"\n",
    "OUTPUT_VIDEO_PATH = \"0bfacc_0-result2.mp4\"\n",
    "MINI_CLIP_DIR = \"app/test_data/predicted/actions\"\n",
    "\n",
    "# Ensure the mini clip directory exists.\n",
    "os.makedirs(MINI_CLIP_DIR, exist_ok=True)\n",
    "\n",
    "# Class IDs (as used in your training)\n",
    "BALL_ID = 0\n",
    "GOALKEEPER_ID = 1\n",
    "PLAYER_ID = 2\n",
    "REFEREE_ID = 3\n",
    "\n",
    "ellipse_annotator = sv.EllipseAnnotator(\n",
    "    color=sv.ColorPalette.from_hex(['#00BFFF', '#FF1493', '#FFD700']),\n",
    "    thickness=2\n",
    ")\n",
    "label_annotator = sv.LabelAnnotator(\n",
    "    color=sv.ColorPalette.from_hex(['#00BFFF', '#FF1493', '#FFD700']),\n",
    "    text_color=sv.Color.from_hex('#000000'),\n",
    "    text_position=sv.Position.BOTTOM_CENTER\n",
    ")\n",
    "triangle_annotator = sv.TriangleAnnotator(\n",
    "    color=sv.Color.from_hex('#FFD700'),\n",
    "    base=25,\n",
    "    height=21,\n",
    "    outline_thickness=1\n",
    ")\n",
    "# (Assuming that sv.ByteTrack is available and provides an update_with_detections() method.)\n",
    "# team_classifier = TeamClassifier(device=\"cuda\")\n",
    "tracker = sv.ByteTrack()\n",
    "tracker.reset()\n",
    "\n",
    "# ----- INITIAL DETECTION AND CLASS ASSIGNMENT ON FIRST FRAME -----\n",
    "# Create a generator for frames (stride=1 for the first frame)\n",
    "frame_generator = sv.get_video_frames_generator(source_path=SOURCE_VIDEO_PATH, stride=1)\n",
    "first_frame = next(frame_generator)\n",
    "height, width = first_frame.shape[:2]\n",
    "fps = 30  # Set this to the desired frames per second\n",
    "\n",
    "# Initialize the OpenCV video writer for saving the annotated full video\n",
    "fourcc = cv2.VideoWriter_fourcc(*'mp4v')\n",
    "video_writer = cv2.VideoWriter(OUTPUT_VIDEO_PATH, fourcc, fps, (width, height))\n",
    "\n",
    "# ----- HELPER FUNCTIONS -----\n",
    "def boxes_intersect(box1, box2):\n",
    "    \"\"\"Check if two boxes in [x1, y1, x2, y2] format intersect.\"\"\"\n",
    "    x1, y1, x2, y2 = box1\n",
    "    a1, b1, a2, b2 = box2\n",
    "    return not (x2 < a1 or a2 < x1 or y2 < b1 or b2 < y1)\n",
    "\n",
    "def check_interaction(players_boxes, ball_boxes):\n",
    "    \"\"\"Return True if any player's box intersects with any ball box.\"\"\"\n",
    "    for pbox in players_boxes:\n",
    "        for bbox in ball_boxes:\n",
    "            if boxes_intersect(pbox, bbox):\n",
    "                return True\n",
    "    return False\n",
    "\n",
    "def process_frame(frame):\n",
    "    \"\"\"\n",
    "    Process the frame with detection, classification, and annotation.\n",
    "    Returns the annotated frame and a flag indicating if an interaction is detected.\n",
    "    \"\"\"\n",
    "    # Run the detection model on the frame using your pretrained weights.\n",
    "    result = PLAYER_DETECTION_MODEL.predict(frame, conf=0.3)[0]\n",
    "    detections = sv.Detections.from_ultralytics(result)\n",
    "\n",
    "    # Separate ball detections and pad their boxes.\n",
    "    ball_detections = detections[detections.class_id == BALL_ID]\n",
    "    ball_detections.xyxy = sv.pad_boxes(xyxy=ball_detections.xyxy, px=10)\n",
    "\n",
    "    # For all other detections, apply non-maximum suppression.\n",
    "    all_detections = detections[detections.class_id != BALL_ID]\n",
    "    all_detections = all_detections.with_nms(threshold=0.5, class_agnostic=True)\n",
    "\n",
    "    # Process player detections with your team classifier.\n",
    "    players_detections = all_detections[all_detections.class_id == PLAYER_ID]\n",
    "    players_crops = [sv.crop_image(frame, xyxy) for xyxy in players_detections.xyxy]\n",
    "    players_detections.class_id = team_classifier.predict(players_crops)\n",
    "\n",
    "    # Process goalkeeper detections using the helper function.\n",
    "    goalkeepers_detections = all_detections[all_detections.class_id == GOALKEEPER_ID]\n",
    "    if len(goalkeepers_detections) > 0:\n",
    "        goalkeepers_detections.class_id = resolve_goalkeepers_team_id(players_detections, goalkeepers_detections)\n",
    "\n",
    "    # Adjust referee detections.\n",
    "    referees_detections = all_detections[all_detections.class_id == REFEREE_ID]\n",
    "    referees_detections.class_id -= 1\n",
    "\n",
    "    # Merge the detections (players, goalkeepers, referees) for tracker initialization.\n",
    "    initial_detections = sv.Detections.merge([\n",
    "        players_detections, goalkeepers_detections, referees_detections\n",
    "    ])\n",
    "\n",
    "    # ----- INITIALIZE THE TRACKER -----\n",
    "    initial_detections = tracker.update_with_detections(detections=initial_detections)\n",
    "\n",
    "    # Annotate the frame.\n",
    "    labels = [f\"#{tid}\" for tid in initial_detections.tracker_id]\n",
    "    annotated_frame = frame.copy()\n",
    "    annotated_frame = ellipse_annotator.annotate(scene=annotated_frame, detections=initial_detections)\n",
    "    annotated_frame = label_annotator.annotate(scene=annotated_frame, detections=initial_detections, labels=labels)\n",
    "    annotated_frame = triangle_annotator.annotate(scene=annotated_frame, detections=ball_detections)\n",
    "\n",
    "    # Check for an interaction between any player and the ball.\n",
    "    interaction_flag = check_interaction(players_detections.xyxy, ball_detections.xyxy)\n",
    "    return annotated_frame, interaction_flag\n",
    "\n",
    "# ----- MINI CLIP RECORDING SETUP -----\n",
    "# A deque to store the previous 2 seconds (2*fps frames) of annotated frames.\n",
    "frame_buffer = deque(maxlen=2 * fps)\n",
    "\n",
    "# Variables to manage mini clip recording\n",
    "recording = False\n",
    "recorded_frames = []  # List to accumulate annotated frames for the current clip\n",
    "recording_frame_count = 0  # Count of frames recorded after interaction trigger\n",
    "clip_index = 1  # For naming mini clip files\n",
    "\n",
    "# ----- PROCESS THE VIDEO -----\n",
    "total_frames = fps * 20  # Process 20 seconds of video (adjust as needed)\n",
    "\n",
    "# Process the first frame, write it and add its annotated version to the buffer.\n",
    "annotated_first_frame, interaction = process_frame(first_frame)\n",
    "video_writer.write(annotated_first_frame)\n",
    "frame_buffer.append(annotated_first_frame)\n",
    "\n",
    "with tqdm(total=total_frames - 1, desc=\"Processing frames\") as pbar:\n",
    "    for frame_num in range(1, total_frames):\n",
    "        try:\n",
    "            frame = next(frame_generator)\n",
    "        except StopIteration:\n",
    "            break  # End of video\n",
    "\n",
    "        # Process frame (obtain annotated frame and interaction flag)\n",
    "        annotated_frame, interaction = process_frame(frame)\n",
    "        video_writer.write(annotated_frame)\n",
    "        # Append the annotated frame to our rolling buffer.\n",
    "        frame_buffer.append(annotated_frame)\n",
    "        \n",
    "        # If we detect an interaction and we're not already recording, start a new mini clip.\n",
    "        if interaction and not recording:\n",
    "            # Only start if we have enough pre-interaction history.\n",
    "            if len(frame_buffer) == frame_buffer.maxlen:\n",
    "                # Initialize the mini clip with the buffered annotated frames.\n",
    "                recorded_frames = list(frame_buffer)\n",
    "                # Also add the current annotated frame (which triggered the interaction).\n",
    "                recorded_frames.append(annotated_frame)\n",
    "                recording = True\n",
    "                recording_frame_count = 1  # Already added current frame\n",
    "\n",
    "        # If currently recording, continue appending annotated frames.\n",
    "        if recording:\n",
    "            # Avoid adding the current frame twice if it was already added at the start of recording.\n",
    "            if recording_frame_count > 1:\n",
    "                recorded_frames.append(annotated_frame)\n",
    "            recording_frame_count += 1\n",
    "\n",
    "            # Once we have recorded 2 seconds of annotated frames after the interaction, we have a 4-second clip.\n",
    "            if recording_frame_count >= 2 * fps:\n",
    "                clip_name = os.path.join(MINI_CLIP_DIR, f\"clip_{clip_index:03d}.mp4\")\n",
    "                clip_writer = cv2.VideoWriter(clip_name, fourcc, fps, (width, height))\n",
    "                for clip_frame in recorded_frames:\n",
    "                    clip_writer.write(clip_frame)\n",
    "                clip_writer.release()\n",
    "                print(f\"Saved mini clip: {clip_name}\")\n",
    "                clip_index += 1\n",
    "                recording = False\n",
    "                recording_frame_count = 0\n",
    "                recorded_frames = []\n",
    "\n",
    "        pbar.update(1)\n",
    "\n",
    "# Finalize the annotated video file.\n",
    "video_writer.release()\n"
   ]
  },
  {
   "cell_type": "code",
   "execution_count": 53,
   "id": "28a2efef",
   "metadata": {},
   "outputs": [],
   "source": [
    "# !pip install qwen-vl-utils[decord]\n",
    "# !pip install 'accelerate>=0.26.0'"
   ]
  },
  {
   "cell_type": "code",
   "execution_count": 8,
   "id": "4b71c91b",
   "metadata": {},
   "outputs": [
    {
     "data": {
      "application/vnd.jupyter.widget-view+json": {
       "model_id": "7101efae017c48249533d54113f91c82",
       "version_major": 2,
       "version_minor": 0
      },
      "text/plain": [
       "Loading checkpoint shards:   0%|          | 0/5 [00:00<?, ?it/s]"
      ]
     },
     "metadata": {},
     "output_type": "display_data"
    },
    {
     "name": "stderr",
     "output_type": "stream",
     "text": [
      "Using a slow image processor as `use_fast` is unset and a slow processor was saved with this model. `use_fast=True` will be the default behavior in v4.48, even if the model was saved with a slow processor. This will result in minor differences in outputs. You'll still be able to use a slow processor with `use_fast=False`.\n"
     ]
    }
   ],
   "source": [
    "from transformers import Qwen2_5_VLForConditionalGeneration, AutoProcessor\n",
    "from qwen_vl_utils import process_vision_info\n",
    "import glob\n",
    "import os\n",
    "\n",
    "MINI_CLIP_DIR = \"app/test_data/predicted/actions\"\n",
    "\n",
    "# Load Qwen2.5-VL model and processor\n",
    "model = Qwen2_5_VLForConditionalGeneration.from_pretrained(\n",
    "    \"Qwen/Qwen2.5-VL-7B-Instruct\", torch_dtype=\"auto\", device_map=\"auto\"\n",
    ")\n",
    "processor = AutoProcessor.from_pretrained(\"Qwen/Qwen2.5-VL-7B-Instruct\")\n",
    "\n",
    "# Loop through each saved mini clip and generate a description\n",
    "clip_files = sorted(glob.glob(os.path.join(MINI_CLIP_DIR, \"clip_*.mp4\")))"
   ]
  },
  {
   "cell_type": "code",
   "execution_count": 10,
   "id": "0d438915",
   "metadata": {},
   "outputs": [
    {
     "name": "stdout",
     "output_type": "stream",
     "text": [
      "\n",
      "Clip: app/test_data/predicted/actions/clip_001.mp4\n",
      "Action Description: ```json\n",
      "{\n",
      "  \"action\": \"pass\",\n",
      "  \"players\": [\"#10\", \"#23\"]\n",
      "}\n",
      "```\n",
      "\n",
      "Clip: app/test_data/predicted/actions/clip_002.mp4\n",
      "Action Description: ```json\n",
      "{\n",
      "  \"action\": \"pass\",\n",
      "  \"players\": [\"17\", \"25\"]\n",
      "}\n",
      "```\n",
      "\n",
      "Clip: app/test_data/predicted/actions/clip_003.mp4\n",
      "Action Description: ```json\n",
      "{\n",
      "  \"action\": \"pass\",\n",
      "  \"players\": [\"16\", \"20\"]\n",
      "}\n",
      "```\n",
      "\n",
      "Clip: app/test_data/predicted/actions/clip_004.mp4\n",
      "Action Description: ```json\n",
      "{\n",
      "  \"action\": \"pass\",\n",
      "  \"players\": [\"17\", \"20\"]\n",
      "}\n",
      "```\n",
      "\n",
      "Clip: app/test_data/predicted/actions/clip_005.mp4\n",
      "Action Description: ```json\n",
      "{\n",
      "  \"action\": \"pass\",\n",
      "  \"players\": [\"#17\", \"#29\"]\n",
      "}\n",
      "```\n",
      "\n",
      "Clip: app/test_data/predicted/actions/clip_006.mp4\n",
      "Action Description: ```json\n",
      "{\n",
      "  \"action\": \"pass\",\n",
      "  \"players\": [\"#17\", \"#20\"]\n",
      "}\n",
      "```\n",
      "\n",
      "Clip: app/test_data/predicted/actions/clip_007.mp4\n",
      "Action Description: ```json\n",
      "{\n",
      "  \"action\": \"pass\",\n",
      "  \"players\": [\"10\", \"17\"]\n",
      "}\n",
      "```\n"
     ]
    }
   ],
   "source": [
    "# List to store results for each clip\n",
    "results = []\n",
    "\n",
    "for clip_file in clip_files:\n",
    "    # Use the absolute path for local file access\n",
    "    abs_clip_file = os.path.abspath(clip_file)\n",
    "    video_url = f\"file://{abs_clip_file}\"\n",
    "    \n",
    "    # Create a message for the Qwen2.5-VL model to describe the video.\n",
    "    messages = [\n",
    "        {\n",
    "            \"role\": \"user\",\n",
    "            \"content\": [\n",
    "                {\n",
    "                    \"type\": \"video\",\n",
    "                    \"video\": video_url,\n",
    "                    \"max_pixels\": 720 * 560,\n",
    "                    \"fps\": 1.0,\n",
    "                },\n",
    "                {\n",
    "                    \"type\": \"text\",\n",
    "                    \"text\": (\n",
    "                        \"Your task is to recognize the action that happened in this clip and indicate by which player. \\n\"\n",
    "                        \"Output format: ```JSON {\\\"action\\\": \\\"action description (dribbling, shot, pass, cross, tackle, save, goal, ...)\\\", \"\n",
    "                        \"\\\"players\\\": [\\\"only players annotated id involved in this action\\\"]}```\"\n",
    "                    ),\n",
    "                },\n",
    "            ],\n",
    "        }\n",
    "    ]\n",
    "    \n",
    "    # Prepare the prompt and inputs.\n",
    "    text = processor.apply_chat_template(\n",
    "        messages, tokenize=False, add_generation_prompt=True\n",
    "    )\n",
    "    image_inputs, video_inputs, video_kwargs = process_vision_info(messages, return_video_kwargs=True)\n",
    "    inputs = processor(\n",
    "        text=[text],\n",
    "        images=image_inputs,\n",
    "        videos=video_inputs,\n",
    "        padding=True,\n",
    "        return_tensors=\"pt\",\n",
    "        **video_kwargs,\n",
    "    )\n",
    "    inputs = inputs.to(model.device)\n",
    "    \n",
    "    # Run inference.\n",
    "    generated_ids = model.generate(**inputs, max_new_tokens=256)\n",
    "    generated_ids_trimmed = [\n",
    "        out_ids[len(in_ids):] for in_ids, out_ids in zip(inputs.input_ids, generated_ids)\n",
    "    ]\n",
    "    output_text = processor.batch_decode(\n",
    "        generated_ids_trimmed, skip_special_tokens=True, clean_up_tokenization_spaces=False\n",
    "    )\n",
    "    \n",
    "    print(f\"\\nClip: {clip_file}\")\n",
    "    print(\"Action Description:\", output_text[0])"
   ]
  },
  {
   "cell_type": "code",
   "execution_count": 2,
   "id": "6f17244e",
   "metadata": {},
   "outputs": [
    {
     "name": "stdout",
     "output_type": "stream",
     "text": [
      "GPU Memory before clearing cache:\n",
      "Allocated: 0.00 MB\n",
      "Cached: 0.00 MB\n",
      "\n",
      "GPU Memory after clearing cache:\n",
      "Allocated: 0.00 MB\n",
      "Cached: 0.00 MB\n"
     ]
    }
   ],
   "source": [
    "import torch\n",
    "# Clear CUDA cache memory\n",
    "if torch.cuda.is_available():\n",
    "    # Print GPU memory usage before clearing cache\n",
    "    print(\"GPU Memory before clearing cache:\")\n",
    "    print(f\"Allocated: {torch.cuda.memory_allocated() / 1024**2:.2f} MB\")\n",
    "    print(f\"Cached: {torch.cuda.memory_reserved() / 1024**2:.2f} MB\")\n",
    "    \n",
    "    # Clear CUDA cache\n",
    "    torch.cuda.empty_cache()\n",
    "    \n",
    "    # Print GPU memory usage after clearing cache\n",
    "    print(\"\\nGPU Memory after clearing cache:\")\n",
    "    print(f\"Allocated: {torch.cuda.memory_allocated() / 1024**2:.2f} MB\")\n",
    "    print(f\"Cached: {torch.cuda.memory_reserved() / 1024**2:.2f} MB\")\n",
    "else:\n",
    "    print(\"CUDA is not available\")"
   ]
  }
 ],
 "metadata": {
  "kernelspec": {
   "display_name": "football",
   "language": "python",
   "name": "python3"
  },
  "language_info": {
   "codemirror_mode": {
    "name": "ipython",
    "version": 3
   },
   "file_extension": ".py",
   "mimetype": "text/x-python",
   "name": "python",
   "nbconvert_exporter": "python",
   "pygments_lexer": "ipython3",
   "version": "3.11.11"
  }
 },
 "nbformat": 4,
 "nbformat_minor": 5
}
