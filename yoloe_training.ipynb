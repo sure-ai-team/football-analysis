{
 "cells": [
  {
   "cell_type": "code",
   "execution_count": 1,
   "id": "2867396b",
   "metadata": {},
   "outputs": [
    {
     "name": "stdout",
     "output_type": "stream",
     "text": [
      "Thu Mar 20 13:32:56 2025       \n",
      "+-----------------------------------------------------------------------------------------+\n",
      "| NVIDIA-SMI 550.120                Driver Version: 550.120        CUDA Version: 12.4     |\n",
      "|-----------------------------------------+------------------------+----------------------+\n",
      "| GPU  Name                 Persistence-M | Bus-Id          Disp.A | Volatile Uncorr. ECC |\n",
      "| Fan  Temp   Perf          Pwr:Usage/Cap |           Memory-Usage | GPU-Util  Compute M. |\n",
      "|                                         |                        |               MIG M. |\n",
      "|=========================================+========================+======================|\n",
      "|   0  NVIDIA L4                      Off |   00000000:38:00.0 Off |                    0 |\n",
      "| N/A   30C    P8             16W /   72W |       1MiB /  23034MiB |      0%      Default |\n",
      "|                                         |                        |                  N/A |\n",
      "+-----------------------------------------+------------------------+----------------------+\n",
      "|   1  NVIDIA L4                      Off |   00000000:3A:00.0 Off |                    0 |\n",
      "| N/A   22C    P8             11W /   72W |       1MiB /  23034MiB |      0%      Default |\n",
      "|                                         |                        |                  N/A |\n",
      "+-----------------------------------------+------------------------+----------------------+\n",
      "|   2  NVIDIA L4                      Off |   00000000:3C:00.0 Off |                    0 |\n",
      "| N/A   25C    P8             11W /   72W |       1MiB /  23034MiB |      0%      Default |\n",
      "|                                         |                        |                  N/A |\n",
      "+-----------------------------------------+------------------------+----------------------+\n",
      "|   3  NVIDIA L4                      Off |   00000000:3E:00.0 Off |                    0 |\n",
      "| N/A   25C    P8             11W /   72W |       1MiB /  23034MiB |      0%      Default |\n",
      "|                                         |                        |                  N/A |\n",
      "+-----------------------------------------+------------------------+----------------------+\n",
      "                                                                                         \n",
      "+-----------------------------------------------------------------------------------------+\n",
      "| Processes:                                                                              |\n",
      "|  GPU   GI   CI        PID   Type   Process name                              GPU Memory |\n",
      "|        ID   ID                                                               Usage      |\n",
      "|=========================================================================================|\n",
      "|  No running processes found                                                             |\n",
      "+-----------------------------------------------------------------------------------------+\n"
     ]
    }
   ],
   "source": [
    "!nvidia-smi"
   ]
  },
  {
   "cell_type": "code",
   "execution_count": 2,
   "id": "e9672903",
   "metadata": {},
   "outputs": [
    {
     "name": "stdout",
     "output_type": "stream",
     "text": [
      "/home/ubuntu/projects/football\n"
     ]
    }
   ],
   "source": [
    "import os\n",
    "HOME = os.getcwd()\n",
    "print(HOME)"
   ]
  },
  {
   "cell_type": "code",
   "execution_count": 3,
   "id": "d15a9ec6",
   "metadata": {},
   "outputs": [],
   "source": [
    "from roboflow import Roboflow\n",
    "# from google.colab import userdata\n",
    "from IPython.display import Image"
   ]
  },
  {
   "cell_type": "code",
   "execution_count": 4,
   "id": "551a5a2b",
   "metadata": {},
   "outputs": [],
   "source": [
    "from dotenv import load_dotenv\n",
    "\n",
    "env_path = f\"{HOME}/.env\"\n",
    "load_dotenv(dotenv_path=env_path)\n",
    "ROBOFLOW_API_KEY = os.environ.get(\"ROBOFLOW_API_KEY\")\n"
   ]
  },
  {
   "cell_type": "code",
   "execution_count": 5,
   "id": "0e50ac1d",
   "metadata": {},
   "outputs": [
    {
     "name": "stdout",
     "output_type": "stream",
     "text": [
      "loading Roboflow workspace...\n"
     ]
    },
    {
     "name": "stdout",
     "output_type": "stream",
     "text": [
      "loading Roboflow project...\n"
     ]
    }
   ],
   "source": [
    "rf = Roboflow(api_key=ROBOFLOW_API_KEY)\n",
    "project = rf.workspace(\"roboflow-jvuqo\").project(\"football-players-detection-3zvbc\")\n",
    "version = project.version(12)\n",
    "dataset = version.download(\"yolov11\")"
   ]
  },
  {
   "cell_type": "code",
   "execution_count": 6,
   "id": "4c2c5afa",
   "metadata": {},
   "outputs": [],
   "source": [
    "!sed -i 's|\\(train: \\).*|\\1../train/images|' {dataset.location}/data.yaml\n",
    "!sed -i 's|\\(val: \\).*|\\1../valid/images|' {dataset.location}/data.yaml"
   ]
  },
  {
   "cell_type": "code",
   "execution_count": 8,
   "id": "6f9fedc6",
   "metadata": {},
   "outputs": [
    {
     "name": "stdout",
     "output_type": "stream",
     "text": [
      "CUDA available: True\n",
      "CUDA device count: 4\n",
      "CUDA device name: NVIDIA L4\n",
      "CUDA version: 12.4\n",
      "Total GPU memory: 23.57 GB\n",
      "Allocated GPU memory: 0.00 GB\n",
      "Reserved GPU memory: 0.00 GB\n"
     ]
    }
   ],
   "source": [
    "import torch\n",
    "\n",
    "# Check CUDA availability\n",
    "print(f\"CUDA available: {torch.cuda.is_available()}\")\n",
    "if torch.cuda.is_available():\n",
    "    print(f\"CUDA device count: {torch.cuda.device_count()}\")\n",
    "    print(f\"CUDA device name: {torch.cuda.get_device_name(0)}\")\n",
    "    print(f\"CUDA version: {torch.version.cuda}\")\n",
    "    # Set default CUDA device\n",
    "    torch.cuda.set_device(0)\n",
    "    # Display memory information\n",
    "    print(f\"Total GPU memory: {torch.cuda.get_device_properties().total_memory / 1e9:.2f} GB\")\n",
    "    print(f\"Allocated GPU memory: {torch.cuda.memory_allocated() / 1e9:.2f} GB\")\n",
    "    print(f\"Reserved GPU memory: {torch.cuda.memory_reserved() / 1e9:.2f} GB\")\n",
    "else:\n",
    "    print(\"CUDA is not available. Training will use CPU only.\")"
   ]
  },
  {
   "cell_type": "code",
   "execution_count": 9,
   "id": "4e7f0484",
   "metadata": {},
   "outputs": [],
   "source": [
    "project_name = \"app/runs/yoloe-finetune\"\n",
    "lr0 = 1e-3"
   ]
  },
  {
   "cell_type": "code",
   "execution_count": 7,
   "id": "5504352d",
   "metadata": {},
   "outputs": [
    {
     "name": "stdout",
     "output_type": "stream",
     "text": [
      "/home/ubuntu/projects/football\n"
     ]
    },
    {
     "ename": "ImportError",
     "evalue": "cannot import name 'YOLOE' from 'ultralytics' (/home/ubuntu/miniconda3/envs/football/lib/python3.11/site-packages/ultralytics/__init__.py)",
     "output_type": "error",
     "traceback": [
      "\u001b[31m---------------------------------------------------------------------------\u001b[39m",
      "\u001b[31mImportError\u001b[39m                               Traceback (most recent call last)",
      "\u001b[36mCell\u001b[39m\u001b[36m \u001b[39m\u001b[32mIn[7]\u001b[39m\u001b[32m, line 3\u001b[39m\n\u001b[32m      1\u001b[39m get_ipython().run_line_magic(\u001b[33m'\u001b[39m\u001b[33mcd\u001b[39m\u001b[33m'\u001b[39m, \u001b[33m'\u001b[39m\u001b[38;5;132;01m{HOME}\u001b[39;00m\u001b[33m'\u001b[39m)\n\u001b[32m----> \u001b[39m\u001b[32m3\u001b[39m \u001b[38;5;28;01mfrom\u001b[39;00m\u001b[38;5;250m \u001b[39m\u001b[34;01multralytics\u001b[39;00m\u001b[38;5;250m \u001b[39m\u001b[38;5;28;01mimport\u001b[39;00m YOLOE\n\u001b[32m      4\u001b[39m \u001b[38;5;28;01mfrom\u001b[39;00m\u001b[38;5;250m \u001b[39m\u001b[34;01multralytics\u001b[39;00m\u001b[34;01m.\u001b[39;00m\u001b[34;01mmodels\u001b[39;00m\u001b[34;01m.\u001b[39;00m\u001b[34;01myolo\u001b[39;00m\u001b[34;01m.\u001b[39;00m\u001b[34;01myoloe\u001b[39;00m\u001b[34;01m.\u001b[39;00m\u001b[34;01mtrain_pe\u001b[39;00m\u001b[38;5;250m \u001b[39m\u001b[38;5;28;01mimport\u001b[39;00m YOLOEPETrainer, YOLOEPESegTrainer\n\u001b[32m      5\u001b[39m \u001b[38;5;28;01mimport\u001b[39;00m\u001b[38;5;250m \u001b[39m\u001b[34;01mos\u001b[39;00m\n",
      "\u001b[31mImportError\u001b[39m: cannot import name 'YOLOE' from 'ultralytics' (/home/ubuntu/miniconda3/envs/football/lib/python3.11/site-packages/ultralytics/__init__.py)"
     ]
    }
   ],
   "source": [
    "%cd {HOME}\n",
    "\n",
    "from ultralytics import YOLOE\n",
    "from ultralytics.models.yolo.yoloe.train_pe import YOLOEPETrainer, YOLOEPESegTrainer\n",
    "import os\n",
    "from ultralytics.nn.tasks import guess_model_scale\n",
    "from ultralytics.utils import yaml_load, LOGGER\n",
    "import torch\n",
    "\n",
    "os.environ[\"PYTHONHASHSEED\"] = \"0\"  # Disable hash randomization\n",
    "\n",
    "data = \"football-players-detection-12/data.yaml\""
   ]
  },
  {
   "cell_type": "code",
   "execution_count": null,
   "id": "9854b0d6",
   "metadata": {},
   "outputs": [],
   "source": []
  }
 ],
 "metadata": {
  "kernelspec": {
   "display_name": "football",
   "language": "python",
   "name": "python3"
  },
  "language_info": {
   "codemirror_mode": {
    "name": "ipython",
    "version": 3
   },
   "file_extension": ".py",
   "mimetype": "text/x-python",
   "name": "python",
   "nbconvert_exporter": "python",
   "pygments_lexer": "ipython3",
   "version": "3.11.11"
  }
 },
 "nbformat": 4,
 "nbformat_minor": 5
}
